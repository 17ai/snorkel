{
 "cells": [
  {
   "cell_type": "markdown",
   "metadata": {},
   "source": [
    "## Part VI: Natural Language Supervision\n",
    "\n",
    "We will compare the performance of:\n",
    "\n",
    "(a) traditional supervision - positive and negative labels on examples\n",
    "\n",
    "(b) natural language supervision - explanations converted into LFs, which are then denoised and applied to unlabeled data to create a much larger but noisy training set"
   ]
  },
  {
   "cell_type": "code",
   "execution_count": 1,
   "metadata": {
    "collapsed": false
   },
   "outputs": [],
   "source": [
    "%load_ext autoreload\n",
    "%autoreload 2\n",
    "%matplotlib inline\n",
    "import os\n",
    "\n",
    "# TO USE A DATABASE OTHER THAN SQLITE, USE THIS LINE\n",
    "# Note that this is necessary for parallel execution amongst other things...\n",
    "os.environ['SNORKELDB'] = 'postgres:///semparse'\n",
    "\n",
    "import numpy as np\n",
    "from snorkel import SnorkelSession\n",
    "session = SnorkelSession()"
   ]
  },
  {
   "cell_type": "markdown",
   "metadata": {},
   "source": [
    "We repeat our definition of the `Spouse` `Candidate` subclass from Parts II and III."
   ]
  },
  {
   "cell_type": "code",
   "execution_count": 2,
   "metadata": {
    "collapsed": false
   },
   "outputs": [],
   "source": [
    "from snorkel.models import candidate_subclass\n",
    "Spouse = candidate_subclass('Spouse', ['person1', 'person2'])"
   ]
  },
  {
   "cell_type": "code",
   "execution_count": 3,
   "metadata": {
    "collapsed": false
   },
   "outputs": [],
   "source": [
    "from snorkel.annotations import FeatureAnnotator\n",
    "featurizer = FeatureAnnotator()"
   ]
  },
  {
   "cell_type": "code",
   "execution_count": 4,
   "metadata": {
    "collapsed": true
   },
   "outputs": [],
   "source": [
    "F_train = featurizer.load_matrix(session, split=0)\n",
    "F_dev   = featurizer.load_matrix(session, split=1)\n",
    "F_unlabeled   = featurizer.load_matrix(session, split=3)"
   ]
  },
  {
   "cell_type": "code",
   "execution_count": 5,
   "metadata": {
    "collapsed": true
   },
   "outputs": [],
   "source": [
    "from snorkel.annotations import load_gold_labels\n",
    "L_gold_train = load_gold_labels(session, annotator_name='gold', split=0)\n",
    "L_gold_dev = load_gold_labels(session, annotator_name='gold', split=1)"
   ]
  },
  {
   "cell_type": "markdown",
   "metadata": {},
   "source": [
    "## (b) Natural Language Supervision"
   ]
  },
  {
   "cell_type": "code",
   "execution_count": 6,
   "metadata": {
    "collapsed": false
   },
   "outputs": [
    {
     "name": "stdout",
     "output_type": "stream",
     "text": [
      "[<function LF_distant_supervision at 0x127819500>,\n",
      " <function LF_distant_supervision_last_names at 0x127819578>,\n",
      " <function LF_husband_wife at 0x127819050>,\n",
      " <function LF_husband_wife_left_window at 0x1278190c8>,\n",
      " <function LF_same_last_name at 0x127819140>,\n",
      " <function LF_no_spouse_in_sentence at 0x1278191b8>,\n",
      " <function LF_and_married at 0x127819230>,\n",
      " <function LF_familial_relationship at 0x1278192a8>,\n",
      " <function LF_family_left_window at 0x127819320>,\n",
      " <function LF_other_relationship at 0x127819398>]\n"
     ]
    }
   ],
   "source": [
    "# PYTHON LFs\n",
    "# from pprint import pprint\n",
    "# from python_lfs import get_python_lfs\n",
    "\n",
    "# python_lfs = get_python_lfs()\n",
    "# pprint(python_lfs)\n",
    "# LFs = python_lfs"
   ]
  },
  {
   "cell_type": "code",
   "execution_count": 22,
   "metadata": {
    "collapsed": false
   },
   "outputs": [],
   "source": [
    "# NL LFs\n",
    "spouse = ['wife', 'husband', 'ex-wife', 'ex-husband']\n",
    "family = ['father', 'mother', 'sister', 'brother', 'son', 'daughter',\n",
    "          'grandfather', 'grandmother', 'uncle', 'aunt', 'cousin']\n",
    "family = family + [f + '-in-law' for f in family]\n",
    "coworker = ['boss', 'employee', 'secretary', 'co-worker']\n",
    "\n",
    "user_lists = {'spouse': spouse,\n",
    "              'family': family,\n",
    "              'coworker': coworker}\n",
    "\n",
    "explanations = [\n",
    "    \"Label false because the number of words between arg 1 and arg 2 is larger than 10\",\n",
    "    \"Label false because there is a person between arg 1 and arg 2\",\n",
    "    \"Label true because there is at least one spouse word in the words between arg 1 and arg 2\",\n",
    "    \"Label true because there is at least one spouse word within two words to the left of arg 1 or arg 2\",\n",
    "    \"Label false because there are no spouse words in the sentence\",\n",
    "    \"Label true because the word 'and' is between arg 1 and arg 2 and 'married' is to the right of arg 2\",\n",
    "    \"Label false because there is at least one family word between arg 1 and arg 2\",\n",
    "    \"Label false because there is at least one family word within two words to the left of arg 1 or arg 2\",\n",
    "    \"Label false because there is at least one coworker word between arg 1 and arg 2\",\n",
    "    \"Label false because arg 1 is identical to arg 2\",\n",
    "    \"Label true because there is a spouse word in the sentence\"\n",
    "]"
   ]
  },
  {
   "cell_type": "code",
   "execution_count": 23,
   "metadata": {
    "collapsed": true
   },
   "outputs": [],
   "source": [
    "import sys\n",
    "sys.path.insert(0, '/Users/bradenhancock/sippycup')"
   ]
  },
  {
   "cell_type": "code",
   "execution_count": 24,
   "metadata": {
    "collapsed": false,
    "scrolled": true
   },
   "outputs": [
    {
     "name": "stdout",
     "output_type": "stream",
     "text": [
      "Created grammar with 148 rules\n",
      "15 LFs created from 10 explanations\n"
     ]
    }
   ],
   "source": [
    "from sippy_snorkel_interface import SemanticParser\n",
    "\n",
    "sp = SemanticParser()\n",
    "LFs = sp.parse(explanations, user_lists=user_lists, verbose=True)"
   ]
  },
  {
   "cell_type": "code",
   "execution_count": 25,
   "metadata": {
    "collapsed": false
   },
   "outputs": [
    {
     "name": "stdout",
     "output_type": "stream",
     "text": [
      "<function exp0_parse0 at 0x1284c2050>\n",
      "<function exp1_parse0 at 0x1284c2668>\n",
      "<function exp2_parse0 at 0x12d6b6c80>\n",
      "<function exp3_parse0 at 0x12d6cec80>\n",
      "<function exp3_parse1 at 0x12d6d3b18>\n",
      "<function exp4_parse0 at 0x12d6d55f0>\n",
      "<function exp5_parse0 at 0x12d6e9488>\n",
      "<function exp5_parse1 at 0x12d6e9cf8>\n",
      "<function exp6_parse0 at 0x12d701938>\n",
      "<function exp6_parse1 at 0x12d70e230>\n",
      "<function exp7_parse0 at 0x12d720c80>\n",
      "<function exp7_parse1 at 0x12d735578>\n",
      "<function exp8_parse0 at 0x12d6ebb90>\n",
      "<function exp8_parse1 at 0x12d73be60>\n",
      "<function exp9_parse0 at 0x12d6c5320>\n"
     ]
    }
   ],
   "source": [
    "from pprint import pprint\n",
    "pprint(LFs)"
   ]
  },
  {
   "cell_type": "markdown",
   "metadata": {},
   "source": [
    "### Investigate one LF"
   ]
  },
  {
   "cell_type": "code",
   "execution_count": 26,
   "metadata": {
    "collapsed": false
   },
   "outputs": [
    {
     "name": "stdout",
     "output_type": "stream",
     "text": [
      "<function exp3_parse1 at 0x12d6d3b18>\n"
     ]
    }
   ],
   "source": [
    "lf = LFs[5]\n",
    "print lf"
   ]
  },
  {
   "cell_type": "code",
   "execution_count": 27,
   "metadata": {
    "collapsed": false
   },
   "outputs": [
    {
     "name": "stdout",
     "output_type": "stream",
     "text": [
      "Number labeled: 99\n"
     ]
    }
   ],
   "source": []
  },
  {
   "cell_type": "code",
   "execution_count": 28,
   "metadata": {
    "collapsed": false
   },
   "outputs": [
    {
     "data": {
      "application/javascript": [
       "require.undef('viewer');\n",
       "\n",
       "// NOTE: all elements should be selected using this.$el.find to avoid collisions with other Viewers\n",
       "\n",
       "define('viewer', [\"jupyter-js-widgets\"], function(widgets) {\n",
       "    var ViewerView = widgets.DOMWidgetView.extend({\n",
       "        render: function() {\n",
       "            this.cids   = this.model.get('cids');\n",
       "            this.nPages = this.cids.length;\n",
       "            this.pid  = 0;\n",
       "            this.cxid = 0;\n",
       "            this.cid  = 0;\n",
       "\n",
       "            // Insert the html payload\n",
       "            this.$el.append(this.model.get('html'));\n",
       "\n",
       "            // Initialize all labels from previous sessions\n",
       "            this.labels = this.deserializeDict(this.model.get('_labels_serialized'));\n",
       "            for (var i=0; i < this.nPages; i++) {\n",
       "                this.pid = i;\n",
       "                for (var j=0; j < this.cids[i].length; j++) {\n",
       "                    this.cxid = j;\n",
       "                    for (var k=0; k < this.cids[i][j].length; k++) {\n",
       "                        this.cid = k;\n",
       "                        if (this.cids[i][j][k] in this.labels) {\n",
       "                            this.markCurrentCandidate(false);\n",
       "                        }\n",
       "                    }\n",
       "                }\n",
       "            }\n",
       "            this.pid  = 0;\n",
       "            this.cxid = 0;\n",
       "            this.cid  = 0;\n",
       "\n",
       "            // Enable button functionality for navigation\n",
       "            var that = this;\n",
       "            this.$el.find(\"#next-cand\").click(function() {\n",
       "                that.switchCandidate(1);\n",
       "            });\n",
       "            this.$el.find(\"#prev-cand\").click(function() {\n",
       "                that.switchCandidate(-1);\n",
       "            });\n",
       "            this.$el.find(\"#next-context\").click(function() {\n",
       "                that.switchContext(1);\n",
       "            });\n",
       "            this.$el.find(\"#prev-context\").click(function() {\n",
       "                that.switchContext(-1);\n",
       "            });\n",
       "            this.$el.find(\"#next-page\").click(function() {\n",
       "                that.switchPage(1);\n",
       "            });\n",
       "            this.$el.find(\"#prev-page\").click(function() {\n",
       "                that.switchPage(-1);\n",
       "            });\n",
       "            this.$el.find(\"#label-true\").click(function() {\n",
       "                that.labelCandidate(true, true);\n",
       "            });\n",
       "            this.$el.find(\"#label-false\").click(function() {\n",
       "                that.labelCandidate(false, true);\n",
       "            });\n",
       "\n",
       "            // Arrow key functionality\n",
       "            this.$el.keydown(function(e) {\n",
       "                switch(e.which) {\n",
       "                    case 74: // j\n",
       "                    that.switchCandidate(-1);\n",
       "                    break;\n",
       "\n",
       "                    case 73: // i\n",
       "                    that.switchPage(-1);\n",
       "                    break;\n",
       "\n",
       "                    case 76: // l\n",
       "                    that.switchCandidate(1);\n",
       "                    break;\n",
       "\n",
       "                    case 75: // k\n",
       "                    that.switchPage(1);\n",
       "                    break;\n",
       "\n",
       "                    case 84: // t\n",
       "                    that.labelCandidate(true, true);\n",
       "                    break;\n",
       "\n",
       "                    case 70: // f\n",
       "                    that.labelCandidate(false, true);\n",
       "                    break;\n",
       "                }\n",
       "            });\n",
       "\n",
       "            // Show the first page and highlight the first candidate\n",
       "            this.$el.find(\"#viewer-page-0\").show();\n",
       "            this.switchCandidate(0);\n",
       "        },\n",
       "\n",
       "        // Get candidate selector for currently selected candidate, escaping id properly\n",
       "        getCandidate: function() {\n",
       "            return this.$el.find(\".\"+this.cids[this.pid][this.cxid][this.cid]);\n",
       "        },  \n",
       "\n",
       "        // Color the candidate correctly according to registered label, as well as set highlighting\n",
       "        markCurrentCandidate: function(highlight) {\n",
       "            var cid  = this.cids[this.pid][this.cxid][this.cid];\n",
       "            var tags = this.$el.find(\".\"+cid);\n",
       "\n",
       "            // Clear color classes\n",
       "            tags.removeClass(\"candidate-h\");\n",
       "            tags.removeClass(\"true-candidate\");\n",
       "            tags.removeClass(\"true-candidate-h\");\n",
       "            tags.removeClass(\"false-candidate\");\n",
       "            tags.removeClass(\"false-candidate-h\");\n",
       "            tags.removeClass(\"highlighted\");\n",
       "\n",
       "            if (highlight) {\n",
       "                if (cid in this.labels) {\n",
       "                    tags.addClass(String(this.labels[cid]) + \"-candidate-h\");\n",
       "                } else {\n",
       "                    tags.addClass(\"candidate-h\");\n",
       "                }\n",
       "            \n",
       "            // If un-highlighting, leave with first non-null coloring\n",
       "            } else {\n",
       "                var that = this;\n",
       "                tags.each(function() {\n",
       "                    var cids = $(this).attr('class').split(/\\s+/).map(function(item) {\n",
       "                        return parseInt(item);\n",
       "                    });\n",
       "                    cids.sort();\n",
       "                    for (var i in cids) {\n",
       "                        if (cids[i] in that.labels) {\n",
       "                            var label = that.labels[cids[i]];\n",
       "                            $(this).addClass(String(label) + \"-candidate\");\n",
       "                            $(this).removeClass(String(!label) + \"-candidate\");\n",
       "                            break;\n",
       "                        }\n",
       "                    }\n",
       "                });\n",
       "            }\n",
       "\n",
       "            // Extra highlighting css\n",
       "            if (highlight) {\n",
       "                tags.addClass(\"highlighted\");\n",
       "            }\n",
       "\n",
       "            // Classes for showing direction of relation\n",
       "            if (highlight) {\n",
       "                this.$el.find(\".\"+cid+\"-0\").addClass(\"left-candidate\");\n",
       "                this.$el.find(\".\"+cid+\"-1\").addClass(\"right-candidate\");\n",
       "            } else {\n",
       "                this.$el.find(\".\"+cid+\"-0\").removeClass(\"left-candidate\");\n",
       "                this.$el.find(\".\"+cid+\"-1\").removeClass(\"right-candidate\");\n",
       "            }\n",
       "        },\n",
       "\n",
       "        // Cycle through candidates and highlight, by increment inc\n",
       "        switchCandidate: function(inc) {\n",
       "            var N = this.cids[this.pid].length\n",
       "            var M = this.cids[this.pid][this.cxid].length;\n",
       "            if (N == 0 || M == 0) { return false; }\n",
       "\n",
       "            // Clear highlighting from previous candidate\n",
       "            if (inc != 0) {\n",
       "                this.markCurrentCandidate(false);\n",
       "\n",
       "                // Increment the cid counter\n",
       "\n",
       "                // Move to next context\n",
       "                if (this.cid + inc >= M) {\n",
       "                    while (this.cid + inc >= M) {\n",
       "                        \n",
       "                        // At last context on page, halt\n",
       "                        if (this.cxid == N - 1) {\n",
       "                            this.cid = M - 1;\n",
       "                            inc = 0;\n",
       "                            break;\n",
       "                        \n",
       "                        // Increment to next context\n",
       "                        } else {\n",
       "                            inc -= M - this.cid;\n",
       "                            this.cxid += 1;\n",
       "                            M = this.cids[this.pid][this.cxid].length;\n",
       "                            this.cid = 0;\n",
       "                        }\n",
       "                    }\n",
       "\n",
       "                // Move to previous context\n",
       "                } else if (this.cid + inc < 0) {\n",
       "                    while (this.cid + inc < 0) {\n",
       "                        \n",
       "                        // At first context on page, halt\n",
       "                        if (this.cxid == 0) {\n",
       "                            this.cid = 0;\n",
       "                            inc = 0;\n",
       "                            break;\n",
       "                        \n",
       "                        // Increment to previous context\n",
       "                        } else {\n",
       "                            inc += this.cid + 1;\n",
       "                            this.cxid -= 1;\n",
       "                            M = this.cids[this.pid][this.cxid].length;\n",
       "                            this.cid = M - 1;\n",
       "                        }\n",
       "                    }\n",
       "                }\n",
       "\n",
       "                // Move within current context\n",
       "                this.cid += inc;\n",
       "            }\n",
       "            this.markCurrentCandidate(true);\n",
       "\n",
       "            // Push this new cid to the model\n",
       "            this.model.set('_selected_cid', this.cids[this.pid][this.cxid][this.cid]);\n",
       "            this.touch();\n",
       "        },\n",
       "\n",
       "        // Switch through contexts\n",
       "        switchContext: function(inc) {\n",
       "            this.markCurrentCandidate(false);\n",
       "\n",
       "            // Iterate context on this page\n",
       "            var M = this.cids[this.pid].length;\n",
       "            if (this.cxid + inc < 0) {\n",
       "                this.cxid = 0;\n",
       "            } else if (this.cxid + inc >= M) {\n",
       "                this.cxid = M - 1;\n",
       "            } else {\n",
       "                this.cxid += inc;\n",
       "            }\n",
       "\n",
       "            // Reset cid and set to first candidate\n",
       "            this.cid = 0;\n",
       "            this.switchCandidate(0);\n",
       "        },\n",
       "\n",
       "        // Switch through pages\n",
       "        switchPage: function(inc) {\n",
       "            this.markCurrentCandidate(false);\n",
       "            this.$el.find(\".viewer-page\").hide();\n",
       "            if (this.pid + inc < 0) {\n",
       "                this.pid = 0;\n",
       "            } else if (this.pid + inc > this.nPages - 1) {\n",
       "                this.pid = this.nPages - 1;\n",
       "            } else {\n",
       "                this.pid += inc;\n",
       "            }\n",
       "            this.$el.find(\"#viewer-page-\"+this.pid).show();\n",
       "\n",
       "            // Show pagination\n",
       "            this.$el.find(\"#page\").html(this.pid);\n",
       "\n",
       "            // Reset cid and set to first candidate\n",
       "            this.cid = 0;\n",
       "            this.cxid = 0;\n",
       "            this.switchCandidate(0);\n",
       "        },\n",
       "\n",
       "        // Label currently-selected candidate\n",
       "        labelCandidate: function(label, highlighted) {\n",
       "            var c    = this.getCandidate();\n",
       "            var cid  = this.cids[this.pid][this.cxid][this.cid];\n",
       "            var cl   = String(label) + \"-candidate\";\n",
       "            var clh  = String(label) + \"-candidate-h\";\n",
       "            var cln  = String(!label) + \"-candidate\";\n",
       "            var clnh = String(!label) + \"-candidate-h\";\n",
       "\n",
       "            // Toggle label highlighting\n",
       "            if (c.hasClass(cl) || c.hasClass(clh)) {\n",
       "                c.removeClass(cl);\n",
       "                c.removeClass(clh);\n",
       "                if (highlighted) {\n",
       "                    c.addClass(\"candidate-h\");\n",
       "                }\n",
       "                this.labels[cid] = null;\n",
       "                this.send({event: 'delete_label', cid: cid});\n",
       "            } else {\n",
       "                c.removeClass(cln);\n",
       "                c.removeClass(clnh);\n",
       "                if (highlighted) {\n",
       "                    c.addClass(clh);\n",
       "                } else {\n",
       "                    c.addClass(cl);\n",
       "                }\n",
       "                this.labels[cid] = label;\n",
       "                this.send({event: 'set_label', cid: cid, value: label});\n",
       "            }\n",
       "\n",
       "            // Set the label and pass back to the model\n",
       "            this.model.set('_labels_serialized', this.serializeDict(this.labels));\n",
       "            this.touch();\n",
       "        },\n",
       "\n",
       "        // Serialization of hash maps, because traitlets Dict doesn't seem to work...\n",
       "        serializeDict: function(d) {\n",
       "            var s = [];\n",
       "            for (var key in d) {\n",
       "                s.push(key+\"~~\"+d[key]);\n",
       "            }\n",
       "            return s.join();\n",
       "        },\n",
       "\n",
       "        // Deserialization of hash maps\n",
       "        deserializeDict: function(s) {\n",
       "            var d = {};\n",
       "            var entries = s.split(/,/);\n",
       "            var kv;\n",
       "            for (var i in entries) {\n",
       "                kv = entries[i].split(/~~/);\n",
       "                if (kv[1] == \"true\") {\n",
       "                    d[kv[0]] = true;\n",
       "                } else if (kv[1] == \"false\") {\n",
       "                    d[kv[0]] = false;\n",
       "                }\n",
       "            }\n",
       "            return d;\n",
       "        },\n",
       "    });\n",
       "\n",
       "    return {\n",
       "        ViewerView: ViewerView\n",
       "    };\n",
       "});\n"
      ],
      "text/plain": [
       "<IPython.core.display.Javascript object>"
      ]
     },
     "metadata": {},
     "output_type": "display_data"
    }
   ],
   "source": [
    "from snorkel.viewer import SentenceNgramViewer\n",
    "\n",
    "labeled = []\n",
    "for c in session.query(Spouse).filter(Spouse.split == 3).all():\n",
    "    try:\n",
    "        if lf(c) != 0:\n",
    "            labeled.append(c)\n",
    "    except:\n",
    "        pass\n",
    "print \"Number labeled:\", len(labeled)\n",
    "\n",
    "sv = SentenceNgramViewer(labeled[:300], session)\n",
    "sv"
   ]
  },
  {
   "cell_type": "code",
   "execution_count": 30,
   "metadata": {
    "collapsed": false
   },
   "outputs": [
    {
     "name": "stdout",
     "output_type": "stream",
     "text": [
      "========================================\n",
      "Scores (Un-adjusted)\n",
      "========================================\n",
      "Pos. class accuracy: 1.0\n",
      "Neg. class accuracy: 0.0\n",
      "Precision            0.5\n",
      "Recall               1.0\n",
      "F1                   0.667\n",
      "----------------------------------------\n",
      "TP: 6 | FP: 6 | TN: 0 | FN: 0\n",
      "========================================\n",
      "\n"
     ]
    }
   ],
   "source": [
    "from snorkel.lf_helpers import test_LF\n",
    "tp, fp, tn, fn = test_LF(session, lf, split=1, annotator_name='gold')"
   ]
  },
  {
   "cell_type": "markdown",
   "metadata": {},
   "source": [
    "### Apply all LFs"
   ]
  },
  {
   "cell_type": "code",
   "execution_count": 31,
   "metadata": {
    "collapsed": true
   },
   "outputs": [],
   "source": [
    "from snorkel.annotations import LabelAnnotator\n",
    "labeler = LabelAnnotator(f=LFs)"
   ]
  },
  {
   "cell_type": "code",
   "execution_count": null,
   "metadata": {
    "collapsed": false,
    "scrolled": true
   },
   "outputs": [],
   "source": [
    "np.random.seed(1701)\n",
    "%time L_unlabeled = labeler.apply(split=3, parallelism=3)\n",
    "L_unlabeled"
   ]
  },
  {
   "cell_type": "code",
   "execution_count": 35,
   "metadata": {
    "collapsed": false,
    "scrolled": false
   },
   "outputs": [
    {
     "data": {
      "text/html": [
       "<div>\n",
       "<table border=\"1\" class=\"dataframe\">\n",
       "  <thead>\n",
       "    <tr style=\"text-align: right;\">\n",
       "      <th></th>\n",
       "      <th>j</th>\n",
       "      <th>Coverage</th>\n",
       "      <th>Overlaps</th>\n",
       "      <th>Conflicts</th>\n",
       "    </tr>\n",
       "  </thead>\n",
       "  <tbody>\n",
       "    <tr>\n",
       "      <th>exp0_parse0</th>\n",
       "      <td>0</td>\n",
       "      <td>0.258996</td>\n",
       "      <td>0.258159</td>\n",
       "      <td>0.122803</td>\n",
       "    </tr>\n",
       "    <tr>\n",
       "      <th>exp1_parse0</th>\n",
       "      <td>1</td>\n",
       "      <td>0.168201</td>\n",
       "      <td>0.166946</td>\n",
       "      <td>0.071548</td>\n",
       "    </tr>\n",
       "    <tr>\n",
       "      <th>exp2_parse0</th>\n",
       "      <td>2</td>\n",
       "      <td>0.025941</td>\n",
       "      <td>0.024268</td>\n",
       "      <td>0.023849</td>\n",
       "    </tr>\n",
       "    <tr>\n",
       "      <th>exp3_parse0</th>\n",
       "      <td>3</td>\n",
       "      <td>0.257741</td>\n",
       "      <td>0.257741</td>\n",
       "      <td>0.257741</td>\n",
       "    </tr>\n",
       "    <tr>\n",
       "      <th>exp3_parse1</th>\n",
       "      <td>4</td>\n",
       "      <td>0.015272</td>\n",
       "      <td>0.014017</td>\n",
       "      <td>0.013598</td>\n",
       "    </tr>\n",
       "    <tr>\n",
       "      <th>exp4_parse0</th>\n",
       "      <td>5</td>\n",
       "      <td>0.608577</td>\n",
       "      <td>0.432845</td>\n",
       "      <td>0.231172</td>\n",
       "    </tr>\n",
       "    <tr>\n",
       "      <th>exp5_parse0</th>\n",
       "      <td>6</td>\n",
       "      <td>0.000628</td>\n",
       "      <td>0.000628</td>\n",
       "      <td>0.000628</td>\n",
       "    </tr>\n",
       "    <tr>\n",
       "      <th>exp5_parse1</th>\n",
       "      <td>7</td>\n",
       "      <td>0.000628</td>\n",
       "      <td>0.000628</td>\n",
       "      <td>0.000628</td>\n",
       "    </tr>\n",
       "    <tr>\n",
       "      <th>exp6_parse0</th>\n",
       "      <td>8</td>\n",
       "      <td>0.040167</td>\n",
       "      <td>0.040167</td>\n",
       "      <td>0.025105</td>\n",
       "    </tr>\n",
       "    <tr>\n",
       "      <th>exp6_parse1</th>\n",
       "      <td>9</td>\n",
       "      <td>0.040167</td>\n",
       "      <td>0.040167</td>\n",
       "      <td>0.025105</td>\n",
       "    </tr>\n",
       "    <tr>\n",
       "      <th>exp7_parse0</th>\n",
       "      <td>10</td>\n",
       "      <td>0.310669</td>\n",
       "      <td>0.310042</td>\n",
       "      <td>0.260042</td>\n",
       "    </tr>\n",
       "    <tr>\n",
       "      <th>exp7_parse1</th>\n",
       "      <td>11</td>\n",
       "      <td>0.019874</td>\n",
       "      <td>0.019874</td>\n",
       "      <td>0.015481</td>\n",
       "    </tr>\n",
       "    <tr>\n",
       "      <th>exp8_parse0</th>\n",
       "      <td>12</td>\n",
       "      <td>0.000628</td>\n",
       "      <td>0.000628</td>\n",
       "      <td>0.000418</td>\n",
       "    </tr>\n",
       "    <tr>\n",
       "      <th>exp8_parse1</th>\n",
       "      <td>13</td>\n",
       "      <td>0.000628</td>\n",
       "      <td>0.000628</td>\n",
       "      <td>0.000418</td>\n",
       "    </tr>\n",
       "    <tr>\n",
       "      <th>exp9_parse0</th>\n",
       "      <td>14</td>\n",
       "      <td>0.033054</td>\n",
       "      <td>0.033054</td>\n",
       "      <td>0.018201</td>\n",
       "    </tr>\n",
       "  </tbody>\n",
       "</table>\n",
       "</div>"
      ],
      "text/plain": [
       "              j  Coverage  Overlaps  Conflicts\n",
       "exp0_parse0   0  0.258996  0.258159   0.122803\n",
       "exp1_parse0   1  0.168201  0.166946   0.071548\n",
       "exp2_parse0   2  0.025941  0.024268   0.023849\n",
       "exp3_parse0   3  0.257741  0.257741   0.257741\n",
       "exp3_parse1   4  0.015272  0.014017   0.013598\n",
       "exp4_parse0   5  0.608577  0.432845   0.231172\n",
       "exp5_parse0   6  0.000628  0.000628   0.000628\n",
       "exp5_parse1   7  0.000628  0.000628   0.000628\n",
       "exp6_parse0   8  0.040167  0.040167   0.025105\n",
       "exp6_parse1   9  0.040167  0.040167   0.025105\n",
       "exp7_parse0  10  0.310669  0.310042   0.260042\n",
       "exp7_parse1  11  0.019874  0.019874   0.015481\n",
       "exp8_parse0  12  0.000628  0.000628   0.000418\n",
       "exp8_parse1  13  0.000628  0.000628   0.000418\n",
       "exp9_parse0  14  0.033054  0.033054   0.018201"
      ]
     },
     "execution_count": 35,
     "metadata": {},
     "output_type": "execute_result"
    }
   ],
   "source": [
    "L_unlabeled.lf_stats(session, )"
   ]
  },
  {
   "cell_type": "markdown",
   "metadata": {},
   "source": [
    "### Generative Model"
   ]
  },
  {
   "cell_type": "code",
   "execution_count": 36,
   "metadata": {
    "collapsed": false
   },
   "outputs": [],
   "source": [
    "from snorkel.learning import GenerativeModel\n",
    "\n",
    "gen_model = GenerativeModel()\n",
    "gen_model.train(L_unlabeled, epochs=500, decay=0.95, step_size=0.1/L_unlabeled.shape[0], reg_param=1e-6)"
   ]
  },
  {
   "cell_type": "code",
   "execution_count": 37,
   "metadata": {
    "collapsed": false
   },
   "outputs": [],
   "source": [
    "train_marginals = gen_model.marginals(L_unlabeled)\n",
    "print max(train_marginals)"
   ]
  },
  {
   "cell_type": "code",
   "execution_count": 38,
   "metadata": {
    "collapsed": false
   },
   "outputs": [
    {
     "data": {
      "image/png": "[encoded data removed]",
      "text/plain": [
       "<matplotlib.figure.Figure at 0x127bf5b50>"
      ]
     },
     "metadata": {},
     "output_type": "display_data"
    }
   ],
   "source": [
    "import matplotlib.pyplot as plt\n",
    "plt.hist(train_marginals, bins=20)\n",
    "plt.show()"
   ]
  },
  {
   "cell_type": "code",
   "execution_count": 39,
   "metadata": {
    "collapsed": false,
    "scrolled": true
   },
   "outputs": [
    {
     "name": "stdout",
     "output_type": "stream",
     "text": [
      "Clearing existing...\n",
      "Running UDF...\n"
     ]
    },
    {
     "name": "stderr",
     "output_type": "stream",
     "text": [
      "Traceback (most recent call last):\n",
      "  File \"/Users/bradenhancock/anaconda/lib/python2.7/multiprocessing/queues.py\", line 268, in _feed\n",
      "    send(obj)\n",
      "IOError: [Errno 32] Broken pipe\n",
      "Process AnnotatorUDF-13:\n",
      "Traceback (most recent call last):\n",
      "  File \"/Users/bradenhancock/anaconda/lib/python2.7/multiprocessing/process.py\", line 258, in _bootstrap\n",
      "    self.run()\n",
      "  File \"/Users/bradenhancock/snorkel/snorkel/udf.py\", line 153, in run\n",
      "    for y in self.apply(x, **self.apply_kwargs):\n",
      "  File \"/Users/bradenhancock/snorkel/snorkel/annotations.py\", line 175, in apply\n",
      "    for key_name, value in self.anno_generator(c):\n",
      "  File \"/Users/bradenhancock/snorkel/snorkel/annotations.py\", line 341, in fn_gen\n",
      "    yield f.__name__, f(c)\n",
      "  File \"/Users/bradenhancock/sippycup/spouses.py\", line 203, in <lambda>\n",
      "    '.root': lambda x: lambda c: x({'lf_helpers': lf_helpers(), 'candidate': c}),\n",
      "  File \"/Users/bradenhancock/sippycup/spouses.py\", line 204, in <lambda>\n",
      "    '.label': lambda x, y: lambda c: (-1 if not x(c) else 1) if y(c) else 0,\n",
      "  File \"/Users/bradenhancock/sippycup/spouses.py\", line 222, in <lambda>\n",
      "    '.atleast': lambda x, y: lambda c: y(c) >= x(c),\n",
      "  File \"/Users/bradenhancock/sippycup/spouses.py\", line 235, in <lambda>\n",
      "    '.sum': lambda x: lambda c: sum(x(c)),\n",
      "  File \"/Users/bradenhancock/sippycup/spouses.py\", line 209, in <lambda>\n",
      "    '.list': lambda *x: lambda c: [z(c) for z in x],\n",
      "  File \"/Users/bradenhancock/sippycup/spouses.py\", line 220, in <lambda>\n",
      "    '.atmost': lambda x, y: lambda c: y(c) <= x(c),\n",
      "  File \"/Users/bradenhancock/sippycup/spouses.py\", line 230, in <lambda>\n",
      "    '.index': lambda x, y: lambda c: x(c)[max(0, y(c) - 1)], # account for 0-indexing\n",
      "IndexError: list index out of range\n"
     ]
    }
   ],
   "source": [
    "L_dev = labeler.apply_existing(split=1, parallelism=3)"
   ]
  },
  {
   "cell_type": "code",
   "execution_count": 40,
   "metadata": {
    "collapsed": false,
    "scrolled": true
   },
   "outputs": [
    {
     "name": "stdout",
     "output_type": "stream",
     "text": [
      "========================================\n",
      "Scores (Un-adjusted)\n",
      "========================================\n",
      "Pos. class accuracy: 0.0\n",
      "Neg. class accuracy: 0.997\n",
      "Precision            0.0\n",
      "Recall               0.0\n",
      "F1                   0.0\n",
      "----------------------------------------\n",
      "TP: 0 | FP: 1 | TN: 321 | FN: 12\n",
      "========================================\n",
      "\n"
     ]
    }
   ],
   "source": [
    "tp, fp, tn, fn = gen_model.score(session, L_dev, L_gold_dev)"
   ]
  },
  {
   "cell_type": "code",
   "execution_count": 41,
   "metadata": {
    "collapsed": false,
    "scrolled": false
   },
   "outputs": [
    {
     "data": {
      "text/html": [
       "<div>\n",
       "<table border=\"1\" class=\"dataframe\">\n",
       "  <thead>\n",
       "    <tr style=\"text-align: right;\">\n",
       "      <th></th>\n",
       "      <th>j</th>\n",
       "      <th>Coverage</th>\n",
       "      <th>Overlaps</th>\n",
       "      <th>Conflicts</th>\n",
       "      <th>TP</th>\n",
       "      <th>FP</th>\n",
       "      <th>FN</th>\n",
       "      <th>TN</th>\n",
       "      <th>Empirical Acc.</th>\n",
       "      <th>Learned Acc.</th>\n",
       "    </tr>\n",
       "  </thead>\n",
       "  <tbody>\n",
       "    <tr>\n",
       "      <th>exp0_parse0</th>\n",
       "      <td>0</td>\n",
       "      <td>0.398204</td>\n",
       "      <td>0.398204</td>\n",
       "      <td>0.200599</td>\n",
       "      <td>0</td>\n",
       "      <td>0</td>\n",
       "      <td>3</td>\n",
       "      <td>127</td>\n",
       "      <td>0.976923</td>\n",
       "      <td>0.603249</td>\n",
       "    </tr>\n",
       "    <tr>\n",
       "      <th>exp1_parse0</th>\n",
       "      <td>1</td>\n",
       "      <td>0.281437</td>\n",
       "      <td>0.281437</td>\n",
       "      <td>0.149701</td>\n",
       "      <td>0</td>\n",
       "      <td>0</td>\n",
       "      <td>3</td>\n",
       "      <td>90</td>\n",
       "      <td>0.967742</td>\n",
       "      <td>0.570949</td>\n",
       "    </tr>\n",
       "    <tr>\n",
       "      <th>exp2_parse0</th>\n",
       "      <td>2</td>\n",
       "      <td>0.068862</td>\n",
       "      <td>0.065868</td>\n",
       "      <td>0.065868</td>\n",
       "      <td>10</td>\n",
       "      <td>13</td>\n",
       "      <td>0</td>\n",
       "      <td>0</td>\n",
       "      <td>0.434783</td>\n",
       "      <td>0.512161</td>\n",
       "    </tr>\n",
       "    <tr>\n",
       "      <th>exp3_parse0</th>\n",
       "      <td>3</td>\n",
       "      <td>0.431138</td>\n",
       "      <td>0.431138</td>\n",
       "      <td>0.431138</td>\n",
       "      <td>9</td>\n",
       "      <td>131</td>\n",
       "      <td>0</td>\n",
       "      <td>0</td>\n",
       "      <td>0.064286</td>\n",
       "      <td>0.435226</td>\n",
       "    </tr>\n",
       "    <tr>\n",
       "      <th>exp3_parse1</th>\n",
       "      <td>4</td>\n",
       "      <td>0.035928</td>\n",
       "      <td>0.035928</td>\n",
       "      <td>0.035928</td>\n",
       "      <td>6</td>\n",
       "      <td>6</td>\n",
       "      <td>0</td>\n",
       "      <td>0</td>\n",
       "      <td>0.500000</td>\n",
       "      <td>0.513578</td>\n",
       "    </tr>\n",
       "    <tr>\n",
       "      <th>exp4_parse0</th>\n",
       "      <td>5</td>\n",
       "      <td>0.883234</td>\n",
       "      <td>0.631737</td>\n",
       "      <td>0.347305</td>\n",
       "      <td>0</td>\n",
       "      <td>0</td>\n",
       "      <td>2</td>\n",
       "      <td>288</td>\n",
       "      <td>0.993103</td>\n",
       "      <td>0.712463</td>\n",
       "    </tr>\n",
       "    <tr>\n",
       "      <th>exp5_parse0</th>\n",
       "      <td>6</td>\n",
       "      <td>0.008982</td>\n",
       "      <td>0.008982</td>\n",
       "      <td>0.008982</td>\n",
       "      <td>1</td>\n",
       "      <td>2</td>\n",
       "      <td>0</td>\n",
       "      <td>0</td>\n",
       "      <td>0.333333</td>\n",
       "      <td>0.516759</td>\n",
       "    </tr>\n",
       "    <tr>\n",
       "      <th>exp5_parse1</th>\n",
       "      <td>7</td>\n",
       "      <td>0.008982</td>\n",
       "      <td>0.008982</td>\n",
       "      <td>0.008982</td>\n",
       "      <td>1</td>\n",
       "      <td>2</td>\n",
       "      <td>0</td>\n",
       "      <td>0</td>\n",
       "      <td>0.333333</td>\n",
       "      <td>0.520190</td>\n",
       "    </tr>\n",
       "    <tr>\n",
       "      <th>exp6_parse0</th>\n",
       "      <td>8</td>\n",
       "      <td>0.029940</td>\n",
       "      <td>0.029940</td>\n",
       "      <td>0.017964</td>\n",
       "      <td>0</td>\n",
       "      <td>0</td>\n",
       "      <td>0</td>\n",
       "      <td>10</td>\n",
       "      <td>1.000000</td>\n",
       "      <td>0.533515</td>\n",
       "    </tr>\n",
       "    <tr>\n",
       "      <th>exp6_parse1</th>\n",
       "      <td>9</td>\n",
       "      <td>0.029940</td>\n",
       "      <td>0.029940</td>\n",
       "      <td>0.017964</td>\n",
       "      <td>0</td>\n",
       "      <td>0</td>\n",
       "      <td>0</td>\n",
       "      <td>10</td>\n",
       "      <td>1.000000</td>\n",
       "      <td>0.532799</td>\n",
       "    </tr>\n",
       "    <tr>\n",
       "      <th>exp7_parse0</th>\n",
       "      <td>10</td>\n",
       "      <td>0.494012</td>\n",
       "      <td>0.494012</td>\n",
       "      <td>0.431138</td>\n",
       "      <td>0</td>\n",
       "      <td>0</td>\n",
       "      <td>9</td>\n",
       "      <td>152</td>\n",
       "      <td>0.944099</td>\n",
       "      <td>0.622201</td>\n",
       "    </tr>\n",
       "    <tr>\n",
       "      <th>exp7_parse1</th>\n",
       "      <td>11</td>\n",
       "      <td>0.029940</td>\n",
       "      <td>0.023952</td>\n",
       "      <td>0.014970</td>\n",
       "      <td>0</td>\n",
       "      <td>0</td>\n",
       "      <td>1</td>\n",
       "      <td>9</td>\n",
       "      <td>0.900000</td>\n",
       "      <td>0.524016</td>\n",
       "    </tr>\n",
       "    <tr>\n",
       "      <th>exp8_parse0</th>\n",
       "      <td>12</td>\n",
       "      <td>0.005988</td>\n",
       "      <td>0.005988</td>\n",
       "      <td>0.005988</td>\n",
       "      <td>0</td>\n",
       "      <td>0</td>\n",
       "      <td>0</td>\n",
       "      <td>2</td>\n",
       "      <td>1.000000</td>\n",
       "      <td>0.517896</td>\n",
       "    </tr>\n",
       "    <tr>\n",
       "      <th>exp8_parse1</th>\n",
       "      <td>13</td>\n",
       "      <td>0.005988</td>\n",
       "      <td>0.005988</td>\n",
       "      <td>0.005988</td>\n",
       "      <td>0</td>\n",
       "      <td>0</td>\n",
       "      <td>0</td>\n",
       "      <td>2</td>\n",
       "      <td>1.000000</td>\n",
       "      <td>0.517174</td>\n",
       "    </tr>\n",
       "    <tr>\n",
       "      <th>exp9_parse0</th>\n",
       "      <td>14</td>\n",
       "      <td>0.038922</td>\n",
       "      <td>0.038922</td>\n",
       "      <td>0.014970</td>\n",
       "      <td>0</td>\n",
       "      <td>0</td>\n",
       "      <td>0</td>\n",
       "      <td>13</td>\n",
       "      <td>1.000000</td>\n",
       "      <td>0.529265</td>\n",
       "    </tr>\n",
       "  </tbody>\n",
       "</table>\n",
       "</div>"
      ],
      "text/plain": [
       "              j  Coverage  Overlaps  Conflicts  TP   FP  FN   TN  \\\n",
       "exp0_parse0   0  0.398204  0.398204   0.200599   0    0   3  127   \n",
       "exp1_parse0   1  0.281437  0.281437   0.149701   0    0   3   90   \n",
       "exp2_parse0   2  0.068862  0.065868   0.065868  10   13   0    0   \n",
       "exp3_parse0   3  0.431138  0.431138   0.431138   9  131   0    0   \n",
       "exp3_parse1   4  0.035928  0.035928   0.035928   6    6   0    0   \n",
       "exp4_parse0   5  0.883234  0.631737   0.347305   0    0   2  288   \n",
       "exp5_parse0   6  0.008982  0.008982   0.008982   1    2   0    0   \n",
       "exp5_parse1   7  0.008982  0.008982   0.008982   1    2   0    0   \n",
       "exp6_parse0   8  0.029940  0.029940   0.017964   0    0   0   10   \n",
       "exp6_parse1   9  0.029940  0.029940   0.017964   0    0   0   10   \n",
       "exp7_parse0  10  0.494012  0.494012   0.431138   0    0   9  152   \n",
       "exp7_parse1  11  0.029940  0.023952   0.014970   0    0   1    9   \n",
       "exp8_parse0  12  0.005988  0.005988   0.005988   0    0   0    2   \n",
       "exp8_parse1  13  0.005988  0.005988   0.005988   0    0   0    2   \n",
       "exp9_parse0  14  0.038922  0.038922   0.014970   0    0   0   13   \n",
       "\n",
       "             Empirical Acc.  Learned Acc.  \n",
       "exp0_parse0        0.976923      0.603249  \n",
       "exp1_parse0        0.967742      0.570949  \n",
       "exp2_parse0        0.434783      0.512161  \n",
       "exp3_parse0        0.064286      0.435226  \n",
       "exp3_parse1        0.500000      0.513578  \n",
       "exp4_parse0        0.993103      0.712463  \n",
       "exp5_parse0        0.333333      0.516759  \n",
       "exp5_parse1        0.333333      0.520190  \n",
       "exp6_parse0        1.000000      0.533515  \n",
       "exp6_parse1        1.000000      0.532799  \n",
       "exp7_parse0        0.944099      0.622201  \n",
       "exp7_parse1        0.900000      0.524016  \n",
       "exp8_parse0        1.000000      0.517896  \n",
       "exp8_parse1        1.000000      0.517174  \n",
       "exp9_parse0        1.000000      0.529265  "
      ]
     },
     "execution_count": 41,
     "metadata": {},
     "output_type": "execute_result"
    }
   ],
   "source": [
    "L_dev.lf_stats(session, L_gold_dev, gen_model.weights.lf_accuracy())"
   ]
  },
  {
   "cell_type": "markdown",
   "metadata": {},
   "source": [
    "### Discriminative Model"
   ]
  },
  {
   "cell_type": "code",
   "execution_count": 16,
   "metadata": {
    "collapsed": false,
    "scrolled": false
   },
   "outputs": [],
   "source": [
    "from snorkel.learning import SparseLogisticRegression\n",
    "disc_model = SparseLogisticRegression()"
   ]
  },
  {
   "cell_type": "code",
   "execution_count": 17,
   "metadata": {
    "collapsed": false,
    "scrolled": true
   },
   "outputs": [
    {
     "name": "stdout",
     "output_type": "stream",
     "text": [
      "Initialized RandomSearch search of size 20. Search space size = 125.\n"
     ]
    }
   ],
   "source": [
    "from snorkel.learning.utils import MentionScorer\n",
    "from snorkel.learning import RandomSearch, ListParameter, RangeParameter\n",
    "\n",
    "# Searching over learning rate\n",
    "rate_param = RangeParameter('lr', 1e-6, 1e-2, step=1, log_base=10)\n",
    "l1_param  = RangeParameter('l1_penalty', 1e-6, 1e-2, step=1, log_base=10)\n",
    "l2_param  = RangeParameter('l2_penalty', 1e-6, 1e-2, step=1, log_base=10)\n",
    "\n",
    "searcher = RandomSearch(session, disc_model, F_unlabeled, train_marginals, [rate_param, l1_param, l2_param], n=20)"
   ]
  },
  {
   "cell_type": "code",
   "execution_count": null,
   "metadata": {
    "collapsed": false,
    "scrolled": true
   },
   "outputs": [],
   "source": [
    "np.random.seed(1701)\n",
    "searcher.fit(F_dev, L_gold_dev, n_epochs=50, rebalance=True, print_freq=25)"
   ]
  },
  {
   "cell_type": "code",
   "execution_count": null,
   "metadata": {
    "collapsed": false,
    "scrolled": true
   },
   "outputs": [],
   "source": [
    "disc_model.train(F_unlabeled, train_marginals, n_epochs=20, lr=0.001)"
   ]
  },
  {
   "cell_type": "code",
   "execution_count": null,
   "metadata": {
    "collapsed": false,
    "scrolled": true
   },
   "outputs": [],
   "source": [
    "_, _, _, _ = disc_model.score(session, F_dev, L_gold_dev)"
   ]
  },
  {
   "cell_type": "code",
   "execution_count": null,
   "metadata": {
    "collapsed": true
   },
   "outputs": [],
   "source": []
  }
 ],
 "metadata": {
  "anaconda-butt": {},
  "anaconda-cloud": {},
  "kernelspec": {
   "display_name": "Python [default]",
   "language": "python",
   "name": "python2"
  },
  "language_info": {
   "codemirror_mode": {
    "name": "ipython",
    "version": 2
   },
   "file_extension": ".py",
   "mimetype": "text/x-python",
   "name": "python",
   "nbconvert_exporter": "python",
   "pygments_lexer": "ipython2",
   "version": "2.7.13"
  }
 },
 "nbformat": 4,
 "nbformat_minor": 0
}
