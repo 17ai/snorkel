{
 "cells": [
  {
   "cell_type": "code",
   "execution_count": 1,
   "metadata": {
    "collapsed": false
   },
   "outputs": [],
   "source": [
    "import sys\n",
    "import os\n",
    "os.environ['SNORKELHOME'] = '/Users/bradenhancock/snorkel'\n",
    "sys.path.append(os.environ['SNORKELHOME'])\n",
    "\n",
    "from snorkel import SnorkelSession\n",
    "session = SnorkelSession()\n",
    "\n",
    "from snorkel.models import candidate_subclass\n",
    "Spouse = candidate_subclass('Spouse', ['person1', 'person2'])"
   ]
  },
  {
   "cell_type": "code",
   "execution_count": 2,
   "metadata": {
    "collapsed": false
   },
   "outputs": [],
   "source": [
    "train_candidates = session.query(Spouse).filter(Spouse.split == 0).all()\n",
    "candidate = train_candidates[54]"
   ]
  },
  {
   "cell_type": "code",
   "execution_count": 3,
   "metadata": {
    "collapsed": false,
    "scrolled": false
   },
   "outputs": [
    {
     "name": "stdout",
     "output_type": "stream",
     "text": [
      "(u'Terry McAuliffe', u'Dorothy')\n",
      "\\n \\nAnd, when our current governor, Terry McAuliffe, was elected, his wife, Dorothy, really took up the mantle of childhood hunger and food insecurity as her push.\n"
     ]
    }
   ],
   "source": [
    "print (candidate[0].get_span(), candidate[1].get_span())\n",
    "print candidate[0].get_parent().text"
   ]
  },
  {
   "cell_type": "code",
   "execution_count": 4,
   "metadata": {
    "collapsed": false
   },
   "outputs": [],
   "source": [
    "from semparse_examples import get_examples\n",
    "\n",
    "examples = get_examples(candidate)\n",
    "user_lists = {'spouse':['wife','husband','spouse'],\n",
    "              'family':['brother', 'sister']}"
   ]
  },
  {
   "cell_type": "code",
   "execution_count": 5,
   "metadata": {
    "collapsed": false,
    "scrolled": false
   },
   "outputs": [
    {
     "name": "stdout",
     "output_type": "stream",
     "text": [
      "Created grammar with 148 rules\n"
     ]
    }
   ],
   "source": [
    "from snorkel.semantic import SemanticParser\n",
    "\n",
    "sp = SemanticParser()"
   ]
  },
  {
   "cell_type": "code",
   "execution_count": 6,
   "metadata": {
    "collapsed": false,
    "scrolled": false
   },
   "outputs": [
    {
     "name": "stdout",
     "output_type": "stream",
     "text": [
      "Example 0: 1/1\n",
      "Example 1: 1/1\n",
      "Example 2: 1/1\n",
      "Example 3: 1/1\n",
      "Example 4: 1/1\n",
      "Example 5: 1/1\n",
      "Example 6: 1/1\n",
      "Example 7: 1/1\n",
      "Example 8: 1/1\n",
      "Example 9: 1/1\n",
      "Example 10: 1/1\n",
      "Example 11: 1/1\n",
      "Example 12: 1/1\n",
      "Example 13: 1/1\n",
      "Example 14: 1/1\n",
      "Example 15: 1/1\n",
      "Example 16: 1/1\n",
      "Example 17: 1/1\n",
      "Example 18: 1/1\n",
      "Example 19: 1/1\n",
      "Example 20: 1/1\n",
      "Example 21: 1/1\n",
      "Example 22: 2/2\n",
      "Example 23: 1/1\n",
      "Example 24: 1/1\n",
      "Example 25: 1/1\n",
      "Example 26: 1/1\n",
      "Example 27: 1/1\n",
      "Example 28: 1/1\n",
      "Example 29: 1/1\n",
      "Example 30: 1/1\n",
      "Example 31: 1/1\n",
      "Example 32: 1/1\n",
      "Example 33: 1/1\n",
      "Example 34: 1/1\n",
      "Example 35: 2/2\n",
      "Example 36: 1/1\n",
      "Example 37: 2/2\n"
     ]
    }
   ],
   "source": [
    "for i, example in enumerate(examples):\n",
    "    correct = 0\n",
    "    parses = sp.parse(example.explanation, \n",
    "                      example.candidate, \n",
    "                      user_lists=user_lists, \n",
    "                      verbose=False, \n",
    "                      return_parses=True)\n",
    "    for parse in parses:\n",
    "        if parse.function(example.candidate)==example.denotation:\n",
    "            correct += 1\n",
    "        else:\n",
    "            print parse.semantics\n",
    "    print \"Example %d: %d/%d\" % (i, correct, len(parses))"
   ]
  },
  {
   "cell_type": "code",
   "execution_count": null,
   "metadata": {
    "collapsed": false,
    "scrolled": true
   },
   "outputs": [],
   "source": [
    "# sp.grammar.print_grammar()\n",
    "# sp.grammar.print_chart()"
   ]
  },
  {
   "cell_type": "code",
   "execution_count": null,
   "metadata": {
    "collapsed": true
   },
   "outputs": [],
   "source": []
  }
 ],
 "metadata": {
  "kernelspec": {
   "display_name": "Python [default]",
   "language": "python",
   "name": "python2"
  },
  "language_info": {
   "codemirror_mode": {
    "name": "ipython",
    "version": 2
   },
   "file_extension": ".py",
   "mimetype": "text/x-python",
   "name": "python",
   "nbconvert_exporter": "python",
   "pygments_lexer": "ipython2",
   "version": "2.7.13"
  }
 },
 "nbformat": 4,
 "nbformat_minor": 1
}
