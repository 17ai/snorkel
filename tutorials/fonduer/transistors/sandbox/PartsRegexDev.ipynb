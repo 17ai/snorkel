{
 "cells": [
  {
   "cell_type": "code",
   "execution_count": 1,
   "metadata": {
    "collapsed": false,
    "scrolled": false
   },
   "outputs": [
    {
     "name": "stdout",
     "output_type": "stream",
     "text": [
      "True\n"
     ]
    }
   ],
   "source": [
    "%load_ext autoreload\n",
    "%autoreload 2\n",
    "%matplotlib inline\n",
    "\n",
    "import os\n",
    "import sys\n",
    "sys.path.append(os.environ['SNORKELHOME'] + '/tutorials/tables/')\n",
    "snorkel_postgres = os.environ.get('SNORKELDB','').startswith('postgres')\n",
    "print snorkel_postgres\n",
    "\n",
    "PARALLEL = 50\n",
    "PARALLEL_EXTRACTION = 8"
   ]
  },
  {
   "cell_type": "markdown",
   "metadata": {},
   "source": [
    "### Parse"
   ]
  },
  {
   "cell_type": "code",
   "execution_count": 2,
   "metadata": {
    "collapsed": false
   },
   "outputs": [],
   "source": [
    "# If necessary:\n",
    "import os\n",
    "if snorkel_postgres:\n",
    "    os.environ['SNORKELDBNAME'] = 'parts_regex_dev'\n",
    "    os.system(\"dropdb \" + os.environ['SNORKELDBNAME'])\n",
    "    os.system(\"createdb \" + os.environ['SNORKELDBNAME'])\n",
    "else:\n",
    "    try:\n",
    "        os.remove('snorkel.db')\n",
    "    except:\n",
    "        pass\n",
    "\n",
    "from snorkel import SnorkelSession\n",
    "session = SnorkelSession()"
   ]
  },
  {
   "cell_type": "code",
   "execution_count": 3,
   "metadata": {
    "collapsed": false
   },
   "outputs": [
    {
     "name": "stdout",
     "output_type": "stream",
     "text": [
      "Starting async parse...\n",
      "[========================================] 100%\n",
      "CPU times: user 356 ms, sys: 412 ms, total: 768 ms\n",
      "Wall time: 51.1 s\n",
      "Corpus (Hardware Dev) contains 122 documents\n"
     ]
    }
   ],
   "source": [
    "import os\n",
    "\n",
    "docs_path = os.environ['SNORKELHOME'] + '/tutorials/tables/data/hardware/dev/html/'\n",
    "pdf_path = os.environ['SNORKELHOME'] + '/tutorials/tables/data/hardware/dev/pdf/'\n",
    "\n",
    "if snorkel_postgres:\n",
    "    from snorkel.async_parser import parse_corpus, HTMLParser, AsyncOmniParser\n",
    "   \n",
    "    # PARSE DEV\n",
    "    print \"Starting async parse...\"\n",
    "    doc_parser = HTMLParser()\n",
    "    context_parser = AsyncOmniParser(blacklist=['style'], flatten=['span','br'], \n",
    "                                     tabular=True, lingual=True,\n",
    "                                     visual=True, pdf_path=pdf_path)\n",
    "    %time corpus = parse_corpus(session, 'Hardware Dev', docs_path,\\\n",
    "                                doc_parser, context_parser,\\\n",
    "                                max_docs=125, parallel=PARALLEL)\n",
    "    \n",
    "else:\n",
    "    from snorkel.parser import CorpusParser, HTMLParser, OmniParser\n",
    "    from snorkel.utils import get_ORM_instance\n",
    "\n",
    "    # PARSE DEV\n",
    "    print \"Starting sync parse...\"\n",
    "    doc_parser = HTMLParser(path=docs_path)\n",
    "    context_parser = OmniParser(blacklist=['style'], flatten=['span','br'], \n",
    "                                tabular=True, lingual=True,\n",
    "                                visual=True, pdf_path=pdf_path)\n",
    "    cp = CorpusParser(doc_parser, context_parser, max_docs=125)\n",
    "    %time corpus = cp.parse_corpus(name='Hardware Dev', session=session)\n",
    "\n",
    "    session.add(corpus)\n",
    "    session.commit()\n",
    "\n",
    "print \"%s contains %d documents\" % (corpus, len(corpus))"
   ]
  },
  {
   "cell_type": "code",
   "execution_count": 4,
   "metadata": {
    "collapsed": true
   },
   "outputs": [],
   "source": [
    "# If necessary:\n",
    "if not snorkel_postgres:\n",
    "    import os\n",
    "    os.system('cp snorkel.db snorkel.db\\ corpus');"
   ]
  },
  {
   "cell_type": "markdown",
   "metadata": {},
   "source": [
    "### Load"
   ]
  },
  {
   "cell_type": "code",
   "execution_count": 5,
   "metadata": {
    "collapsed": false,
    "scrolled": false
   },
   "outputs": [],
   "source": [
    "# from snorkel.models import Corpus\n",
    "# import os\n",
    "\n",
    "# os.system('cp snorkel.db\\ corpus snorkel.db');\n",
    "# from snorkel import SnorkelSession\n",
    "# session = SnorkelSession()\n",
    "\n",
    "# corpus = session.query(Corpus).filter(Corpus.name == 'Hardware Dev').one()\n",
    "# print \"%s contains %d Documents\" % (corpus, len(corpus))"
   ]
  },
  {
   "cell_type": "markdown",
   "metadata": {},
   "source": [
    "### Extraction"
   ]
  },
  {
   "cell_type": "code",
   "execution_count": 6,
   "metadata": {
    "collapsed": false,
    "scrolled": true
   },
   "outputs": [
    {
     "name": "stdout",
     "output_type": "stream",
     "text": [
      "Using combined matcher.\n"
     ]
    }
   ],
   "source": [
    "from snorkel.models import candidate_subclass\n",
    "from hardware_spaces import get_space\n",
    "from hardware_matchers import get_matcher\n",
    "\n",
    "Part = candidate_subclass('Part', ['part'])\n",
    "part_ngrams = get_space('part')\n",
    "dict_path = os.environ['SNORKELHOME'] +\\\n",
    "    '/tutorials/tables/data/hardware/gold_raw/digikey_part_dictionary.csv'\n",
    "part_matcher = get_matcher('part', dict_path=dict_path)"
   ]
  },
  {
   "cell_type": "code",
   "execution_count": 7,
   "metadata": {
    "collapsed": true
   },
   "outputs": [],
   "source": [
    "# Attempt at alternative regex:\n",
    "# from snorkel.matchers import RegexMatchSpan, Inverse, Intersect\n",
    "# long_enough = RegexMatchSpan(rgx='[A-Z2][A-Z0-9\\-]{4,}(?:\\/(?:DG|HF))?', ignore_case=False)\n",
    "# at_least_one_number = RegexMatchSpan(rgx='[A-Z0-9\\-\\/]*[0-9][A-Z0-9\\-\\/]*', ignore_case=False)\n",
    "# at_least_one_letter = RegexMatchSpan(rgx='[A-Z0-9\\-\\/]*[A-Z][A-Z0-9\\-\\/]*', ignore_case=False) \n",
    "# bad_form = Inverse(RegexMatchSpan(rgx='(?:[A-Z]+\\d)|(?:[A-Z0-9\\-\\/]{0,2}\\-[A-Z0-9\\-\\/]*)'))\n",
    "# bad_start = Inverse(RegexMatchSpan(rgx='(?:T[O0]|SOT|BRD|FIGURE|EHP)[A-Z0-9\\-\\/]*'))\n",
    "# bad_end = Inverse(RegexMatchSpan(rgx='[A-Z0-9\\-\\/]*(TYP|MAX|MIN|BASE|HZ|MM|VDC|VDF)'))\n",
    "# part_matcher = Intersect(long_enough, at_least_one_number, at_least_one_letter, \n",
    "#                          bad_form, bad_start, bad_end)"
   ]
  },
  {
   "cell_type": "markdown",
   "metadata": {},
   "source": [
    "### Throttlers"
   ]
  },
  {
   "cell_type": "code",
   "execution_count": 8,
   "metadata": {
    "collapsed": false
   },
   "outputs": [],
   "source": [
    "# from hardware_throttlers import get_part_throttler_wrapper\n",
    "from hardware_lfs import get_lfs\n",
    "from collections import namedtuple\n",
    "\n",
    "# Option A: No throttler\n",
    "part_throttler = None\n",
    "\n",
    "# Option B: Standard throttler\n",
    "# part_throttler = get_part_throttler_wrapper()\n",
    "\n",
    "# Option C: LF-based throttler\n",
    "# FakeCandidate = namedtuple('FakeCandidate',['part','attr'])\n",
    "# parts_LFs = get_lfs('part')[:-1]\n",
    "# def part_throttler(Part):\n",
    "#     c = FakeCandidate(Part[0], None)\n",
    "#     for lf in parts_LFs:\n",
    "#         if lf(c) == -1:\n",
    "#             return False\n",
    "#     return True"
   ]
  },
  {
   "cell_type": "code",
   "execution_count": 9,
   "metadata": {
    "collapsed": false
   },
   "outputs": [],
   "source": [
    "from snorkel.candidates import CandidateExtractor\n",
    "\n",
    "ce = CandidateExtractor(Part, \n",
    "                        [part_ngrams], \n",
    "                        [part_matcher],\n",
    "                        throttler=part_throttler)"
   ]
  },
  {
   "cell_type": "code",
   "execution_count": 10,
   "metadata": {
    "collapsed": false,
    "scrolled": true
   },
   "outputs": [
    {
     "name": "stdout",
     "output_type": "stream",
     "text": [
      "[========================================] 100%\n",
      "CPU times: user 452 ms, sys: 328 ms, total: 780 ms\n",
      "Wall time: 1min 4s\n",
      "Candidate Set (Hardware Dev Candidates) contains 3526 Candidates\n"
     ]
    }
   ],
   "source": [
    "from snorkel.async_candidates import parallel_extract\n",
    "\n",
    "corpus_name = 'Hardware Dev'\n",
    "%time candidates = parallel_extract(session, ce, corpus, \\\n",
    "                                    corpus_name + ' Candidates', \\\n",
    "                                    parallel=PARALLEL_EXTRACTION)\n",
    "print \"%s contains %d Candidates\" % (candidates, len(candidates))"
   ]
  },
  {
   "cell_type": "code",
   "execution_count": 11,
   "metadata": {
    "collapsed": true
   },
   "outputs": [],
   "source": [
    "# If necessary:\n",
    "if not snorkel_postgres:\n",
    "    import os\n",
    "    os.system('cp snorkel.db snorkel.db\\ candidates');"
   ]
  },
  {
   "cell_type": "markdown",
   "metadata": {},
   "source": [
    "### Second Pass"
   ]
  },
  {
   "cell_type": "code",
   "execution_count": 12,
   "metadata": {
    "collapsed": true
   },
   "outputs": [],
   "source": [
    "# If necessary:\n",
    "if not snorkel_postgres:\n",
    "    import os\n",
    "    os.system('cp snorkel.db\\ candidates snorkel.db');"
   ]
  },
  {
   "cell_type": "code",
   "execution_count": 13,
   "metadata": {
    "collapsed": false
   },
   "outputs": [
    {
     "name": "stdout",
     "output_type": "stream",
     "text": [
      "Finding part numbers...\n",
      "[========================================] 100%\n",
      "Appending suffixes...\n",
      "[========================================] 100%\n"
     ]
    }
   ],
   "source": [
    "from hardware_utils import get_gold_parts_by_doc, get_manual_parts_by_doc\n",
    "from snorkel.utils import get_ORM_instance\n",
    "from snorkel.models import Corpus\n",
    "\n",
    "corpus = get_ORM_instance(Corpus, session, 'Hardware Dev')\n",
    "\n",
    "# parts_by_doc = get_gold_parts_by_doc()\n",
    "parts_by_doc = get_manual_parts_by_doc(corpus)\n",
    "# parts_by_doc = None"
   ]
  },
  {
   "cell_type": "code",
   "execution_count": 22,
   "metadata": {
    "collapsed": true
   },
   "outputs": [],
   "source": [
    "import cPickle as pickle\n",
    "pickle_file = os.environ['SNORKELHOME'] + '/tutorials/tables/sandbox/parts_by_doc_dev.pkl'\n",
    "\n",
    "with open(pickle_file, 'w') as f:\n",
    "    pickle.dump(parts_by_doc, f)"
   ]
  },
  {
   "cell_type": "code",
   "execution_count": 15,
   "metadata": {
    "collapsed": false
   },
   "outputs": [],
   "source": [
    "# import cPickle as pickle\n",
    "# pickle_file = os.environ['SNORKELHOME'] + '/tutorials/tables/sandbox/parts_by_doc_dev.pkl'\n",
    "# with open(pickle_file, 'r') as f:\n",
    "#     parts_by_doc = pickle.load(f)"
   ]
  },
  {
   "cell_type": "markdown",
   "metadata": {},
   "source": [
    "### Evaluation"
   ]
  },
  {
   "cell_type": "code",
   "execution_count": 16,
   "metadata": {
    "collapsed": false,
    "scrolled": true
   },
   "outputs": [
    {
     "name": "stdout",
     "output_type": "stream",
     "text": [
      "927 gold parts loaded\n"
     ]
    }
   ],
   "source": [
    "from hardware_utils import get_gold_dict\n",
    "\n",
    "gold_file = os.environ['SNORKELHOME'] + '/tutorials/tables/data/hardware/dev/hardware_dev_gold.csv'\n",
    "gold_parts = get_gold_dict(gold_file, doc_on=True, part_on=True, val_on=False)\n",
    "print \"%d gold parts loaded\" % len(gold_parts)"
   ]
  },
  {
   "cell_type": "code",
   "execution_count": 17,
   "metadata": {
    "collapsed": false,
    "scrolled": true
   },
   "outputs": [
    {
     "name": "stdout",
     "output_type": "stream",
     "text": [
      "========================================\n",
      "Scoring on Entity-Level Gold Data\n",
      "========================================\n",
      "Corpus Precision 0.886\n",
      "Corpus Recall    0.943\n",
      "Corpus F1        0.913\n",
      "----------------------------------------\n",
      "TP: 874 | FP: 113 | FN: 53\n",
      "========================================\n",
      "\n",
      "CPU times: user 10.6 s, sys: 376 ms, total: 11 s\n",
      "Wall time: 13.6 s\n"
     ]
    }
   ],
   "source": [
    "from hardware_utils import parts_f1\n",
    "\n",
    "%time TP, FP, FN = parts_f1(candidates, gold_parts, parts_by_doc)"
   ]
  },
  {
   "cell_type": "raw",
   "metadata": {},
   "source": [
    "Drop 'TOP MARK', require full suffix set: (ACCEPT)\n",
    "========================================\n",
    "Scoring on Entity-Level Gold Data\n",
    "========================================\n",
    "Corpus Precision 0.864\n",
    "Corpus Recall    0.949\n",
    "Corpus F1        0.904\n",
    "----------------------------------------\n",
    "TP: 880 | FP: 139 | FN: 47\n",
    "========================================"
   ]
  },
  {
   "cell_type": "raw",
   "metadata": {},
   "source": [
    "Don't accept 'Group': (REJECT)\n",
    "========================================\n",
    "Scoring on Entity-Level Gold Data\n",
    "========================================\n",
    "Corpus Precision 0.887\n",
    "Corpus Recall    0.904\n",
    "Corpus F1        0.895\n",
    "----------------------------------------\n",
    "TP: 838 | FP: 107 | FN: 89\n",
    "========================================"
   ]
  },
  {
   "cell_type": "raw",
   "metadata": {},
   "source": [
    "Fix order of matchers: (ACCEPT)\n",
    "========================================\n",
    "Scoring on Entity-Level Gold Data\n",
    "========================================\n",
    "Corpus Precision 0.846\n",
    "Corpus Recall    0.951\n",
    "Corpus F1        0.896\n",
    "----------------------------------------\n",
    "TP: 882 | FP: 160 | FN: 45\n",
    "========================================"
   ]
  },
  {
   "cell_type": "raw",
   "metadata": {},
   "source": [
    "Previously:\n",
    "========================================\n",
    "Scoring on Entity-Level Gold Data\n",
    "========================================\n",
    "Corpus Precision 0.63\n",
    "Corpus Recall    0.951\n",
    "Corpus F1        0.758\n",
    "----------------------------------------\n",
    "TP: 882 | FP: 517 | FN: 45\n",
    "========================================"
   ]
  },
  {
   "cell_type": "code",
   "execution_count": 23,
   "metadata": {
    "collapsed": false,
    "scrolled": false
   },
   "outputs": [
    {
     "name": "stdout",
     "output_type": "stream",
     "text": [
      "113\n",
      "[(u'2N6427', u'MPSA14'),\n",
      " (u'BC337', u'BC33740BU'),\n",
      " (u'BC337', u'BC338-16'),\n",
      " (u'BC337', u'BC338-40'),\n",
      " (u'BC337-D', u'BC337-XX'),\n",
      " (u'BC546-BC548C(TO-92)', u'BC546-BC548C'),\n",
      " (u'BC546_DIOTEC', u'BC546C'),\n",
      " (u'BC546_DIOTEC', u'BC549A'),\n",
      " (u'BC547', u'BC548BU'),\n",
      " (u'BC818-40LT1-D', u'BC818-40LT1'),\n",
      " (u'BOURNSINC_BD246BS', u'TIS633AA'),\n",
      " (u'BOURNSINC_TIP152S', u'BY205-600'),\n",
      " (u'CENTRALSEMICONDUCTORCORP_CMPT5401ETR', u'CMPT5401'),\n",
      " (u'CENTRALSEMICONDUCTORCORP_CMPT5401ETR', u'CMPT5551'),\n",
      " (u'CENTRALSEMICONDUCTORCORP_CMPT5401ETR', u'CMPT5551E'),\n",
      " (u'CENTRALSEMICONDUCTORCORP_CMPT5401ETR', u'CXT5401'),\n",
      " (u'CENTRALSEMICONDUCTORCORP_CMPT5401ETR', u'CXT5401E'),\n",
      " (u'CENTRALSEMICONDUCTORCORP_CMPT5401ETR', u'CXT5551'),\n",
      " (u'CENTRALSEMICONDUCTORCORP_CMPT5401ETR', u'CXT5551E'),\n",
      " (u'CSEMS05382-1', u'BC546-48ABC'),\n",
      " (u'DIODESINCORPORATED_FCX491ATA', u'FCX491AQTA'),\n",
      " (u'DIODESINCORPORATED_FCX491ATA', u'FCX491ATA'),\n",
      " (u'DIODESINCORPORATED_ZXT690BKTC', u'ZXT690B'),\n",
      " (u'DIODS13249-1', u'BC81840'),\n",
      " (u'DISES00189-1', u'BC546AC'),\n",
      " (u'DISES00189-1', u'BC546C'),\n",
      " (u'DISES00189-1', u'BC546XBK'),\n",
      " (u'DISES00189-1', u'BC546XBKC'),\n",
      " (u'DISES00189-1', u'BC547AC'),\n",
      " (u'DISES00189-1', u'BC547XBK'),\n",
      " (u'DISES00189-1', u'BC547XBKC'),\n",
      " (u'DISES00189-1', u'BC548AC'),\n",
      " (u'DISES00189-1', u'BC548XBK'),\n",
      " (u'DISES00189-1', u'BC548XBKC'),\n",
      " (u'DISES00189-1', u'BC549XBK'),\n",
      " (u'DISES00189-1', u'BC549XBKC'),\n",
      " (u'INFINEON-BC817KSERIES_BC818KSERIES-DS-V01_01-EN', u'BC817'),\n",
      " (u'INFINEON-BC817KSERIES_BC818KSERIES-DS-V01_01-EN', u'BC818'),\n",
      " (u'INFINEON-BC857SERIES_BC858SERIES_BC859SERIES_BC860SERIES-DS-V01_01-EN',\n",
      "  u'BC850'),\n",
      " (u'INFINEON-BC857SERIES_BC858SERIES_BC859SERIES_BC860SERIES-DS-V01_01-EN',\n",
      "  u'BC857-BC860'),\n",
      " (u'INFINEON-BC857SERIES_BC858SERIES_BC859SERIES_BC860SERIES-DS-V01_01-EN',\n",
      "  u'BC857W'),\n",
      " (u'INFINEON-BC857SERIES_BC858SERIES_BC859SERIES_BC860SERIES-DS-V01_01-EN',\n",
      "  u'BC857W-BC860W'),\n",
      " (u'INFINEON-BC857SERIES_BC858SERIES_BC859SERIES_BC860SERIES-DS-V01_01-EN',\n",
      "  u'BC858W'),\n",
      " (u'INFINEON-BC857SERIES_BC858SERIES_BC859SERIES_BC860SERIES-DS-V01_01-EN',\n",
      "  u'BC859W'),\n",
      " (u'INFINEON-BC857SERIES_BC858SERIES_BC859SERIES_BC860SERIES-DS-V01_01-EN',\n",
      "  u'BC860W'),\n",
      " (u'KECCS03676-1', u'BC856AC'),\n",
      " (u'KECCS03676-1', u'BC856BC'),\n",
      " (u'KECCS03676-1', u'BC856C'),\n",
      " (u'KECCS03676-1', u'BC857AC'),\n",
      " (u'KECCS03676-1', u'BC857BC'),\n",
      " (u'KECCS05435-1', u'BC546C'),\n",
      " (u'LITES00424-1', u'MMBT3906'),\n",
      " (u'LITES00690-1', u'BC556'),\n",
      " (u'LITES00690-1', u'BC556A'),\n",
      " (u'LITES00690-1', u'BC556B'),\n",
      " (u'LITES00690-1', u'BC556C'),\n",
      " (u'LITES00690-1', u'BC557'),\n",
      " (u'LITES00690-1', u'BC557A'),\n",
      " (u'LITES00690-1', u'BC557B'),\n",
      " (u'LITES00690-1', u'BC557C'),\n",
      " (u'LITES00690-1', u'BC558'),\n",
      " (u'LITES00690-1', u'BC558A'),\n",
      " (u'LITES00690-1', u'BC558B'),\n",
      " (u'LITES00690-1', u'BC558C'),\n",
      " (u'LTSCS02910-1', u'BC818-REV'),\n",
      " (u'LTSCS02912-1', u'BC846W-REV'),\n",
      " (u'LTSCS02920-1', u'BC857-REV'),\n",
      " (u'MCCCS09540-1', u'BC846A-BC849C'),\n",
      " (u'MICROSEMICORPORATION_2N2484UB', u'2N2484'),\n",
      " (u'ONSEMICONDUCTOR_MMBT6521LT1', u'AN569'),\n",
      " (u'ONSEMICONDUCTOR_MMBT6521LT1', u'MMBT6521LT1'),\n",
      " (u'ONSMS04099-1', u'MPS3904'),\n",
      " (u'ONSMS04099-1', u'MPS3904RLRA'),\n",
      " (u'PHGLS18216-1', u'BC557'),\n",
      " (u'PHGLS18216-1', u'BC557B'),\n",
      " (u'PHGLS18216-1', u'BC557C'),\n",
      " (u'PHGLS18216-1', u'BC847DG'),\n",
      " (u'PHGLS18216-1', u'BC857'),\n",
      " (u'PHGLS18216-1', u'BC857A'),\n",
      " (u'PHGLS18216-1', u'BC857AM'),\n",
      " (u'PHGLS18216-1', u'BC857AT'),\n",
      " (u'PHGLS18216-1', u'BC857AW'),\n",
      " (u'PHGLS18216-1', u'BC857B'),\n",
      " (u'PHGLS18216-1', u'BC857BM'),\n",
      " (u'PHGLS18216-1', u'BC857BT'),\n",
      " (u'PHGLS18216-1', u'BC857BW'),\n",
      " (u'PHGLS18216-1', u'BC857C'),\n",
      " (u'PHGLS18216-1', u'BC857CM'),\n",
      " (u'PHGLS18216-1', u'BC857CT'),\n",
      " (u'PHGLS18216-1', u'BC857CW'),\n",
      " (u'PHGLS18216-1', u'BC857T'),\n",
      " (u'PHGLS18216-1', u'BC857W'),\n",
      " (u'PHGLS20267-1', u'BP317'),\n",
      " (u'PHGLS25601-1', u'BC856'),\n",
      " (u'PHGLS25601-1', u'BC856T'),\n",
      " (u'PHGLS25601-1', u'BC856W'),\n",
      " (u'PNJIS01186-1', u'BC807'),\n",
      " (u'PNJIS01593-1', u'BC846'),\n",
      " (u'PNJIS01593-1', u'BC849'),\n",
      " (u'RECTS01158-1', u'BC807-25LT1'),\n",
      " (u'RECTS01214-1', u'DTC114ECA-1'),\n",
      " (u'RECTS01242-1', u'BC857BLT1'),\n",
      " (u'RECTS01325-1', u'DTC114YCA-1'),\n",
      " (u'SANKEN_STD01N', u'STD01PARE'),\n",
      " (u'TWSCS04757-1', u'BC807'),\n",
      " (u'TWSCS04757-1', u'BC807-XX'),\n",
      " (u'UTCLS01324-1', u'MMBT3904-E'),\n",
      " (u'UTCLS03593-1', u'DTC114E-I'),\n",
      " (u'VISHS23888-1', u'BC546C'),\n",
      " (u'VISHS23888-1', u'BC549A'),\n",
      " (u'WEITS00252-1', u'BC807-1'),\n",
      " (u'WEITS00252-1', u'BC807-17'),\n",
      " (u'ZETXS01948-1', u'BC860C')]\n"
     ]
    }
   ],
   "source": [
    "from pprint import pprint\n",
    "print len(FP)\n",
    "pprint(FP)"
   ]
  },
  {
   "cell_type": "code",
   "execution_count": 19,
   "metadata": {
    "collapsed": false
   },
   "outputs": [
    {
     "name": "stdout",
     "output_type": "stream",
     "text": [
      "[('DIODS13249-1', 'BC817-40'),\n",
      " ('DIODS13249-1', 'BC818-40'),\n",
      " ('DISES00189-1', 'BC546B'),\n",
      " ('DISES00189-1', 'BC547B'),\n",
      " ('DISES00189-1', 'BC548B'),\n",
      " ('DISES00189-1', 'BC549B'),\n",
      " ('KECCS03676-1', 'BC858A'),\n",
      " ('KECCS03676-1', 'BC858B'),\n",
      " ('LITES00689-1', 'BC337-16'),\n",
      " ('LITES00689-1', 'BC337-25'),\n",
      " ('LITES00689-1', 'BC337-40'),\n",
      " ('MICROCOMMERCIALCO_2N3904AP', '2N3904-AP'),\n",
      " ('MICROCOMMERCIALCO_2N3904AP', '2N3904-AP-HF'),\n",
      " ('MICROCOMMERCIALCO_2N3904AP', '2N3904-BP'),\n",
      " ('MICROCOMMERCIALCO_2N3904AP', '2N3904-BP-HF'),\n",
      " ('MICROCOMMERCIALCO_TIP29ABP', 'TIP29A-BP'),\n",
      " ('MICROCOMMERCIALCO_TIP29ABP', 'TIP29A-BP-HF'),\n",
      " ('MICROCOMMERCIALCO_TIP29ABP', 'TIP29B-BP'),\n",
      " ('MICROCOMMERCIALCO_TIP29ABP', 'TIP29B-BP-HF'),\n",
      " ('MICROCOMMERCIALCO_TIP29ABP', 'TIP29C-BP'),\n",
      " ('MICROCOMMERCIALCO_TIP29ABP', 'TIP29C-BP-HF'),\n",
      " ('MICROCOMMERCIALCO_TIP29ABP', 'TIP30A-BP'),\n",
      " ('MICROCOMMERCIALCO_TIP29ABP', 'TIP30A-BP-HF'),\n",
      " ('MICROCOMMERCIALCO_TIP29ABP', 'TIP30B-BP'),\n",
      " ('MICROCOMMERCIALCO_TIP29ABP', 'TIP30B-BP-HF'),\n",
      " ('MICROCOMMERCIALCO_TIP29ABP', 'TIP30C-BP'),\n",
      " ('MICROCOMMERCIALCO_TIP29ABP', 'TIP30C-BP-HF'),\n",
      " ('ONSMS04099-1', 'BC239C'),\n",
      " ('RECTS00705-1', 'BC547A'),\n",
      " ('RECTS00705-1', 'BC547B'),\n",
      " ('RECTS00705-1', 'BC548A'),\n",
      " ('RECTS00705-1', 'BC548B'),\n",
      " ('SIEMS01215-1', 'BC856'),\n",
      " ('SIEMS01215-1', 'BC856A'),\n",
      " ('SIEMS01215-1', 'BC856B'),\n",
      " ('SIEMS01215-1', 'BC857'),\n",
      " ('SIEMS01215-1', 'BC857A'),\n",
      " ('SIEMS01215-1', 'BC857B'),\n",
      " ('SIEMS01215-1', 'BC857C'),\n",
      " ('SIEMS01215-1', 'BC858'),\n",
      " ('SIEMS01215-1', 'BC858A'),\n",
      " ('SIEMS01215-1', 'BC858B'),\n",
      " ('SIEMS01215-1', 'BC858C'),\n",
      " ('SIEMS01215-1', 'BC859'),\n",
      " ('SIEMS01215-1', 'BC859A'),\n",
      " ('SIEMS01215-1', 'BC859B'),\n",
      " ('SIEMS01215-1', 'BC859C'),\n",
      " ('SIEMS01215-1', 'BC860'),\n",
      " ('SIEMS01215-1', 'BC860B'),\n",
      " ('SIEMS01215-1', 'BC860C'),\n",
      " ('TTELECTRONICSOPTEKTECHNOLOGY_2N2222AUATXV', '2N2222AUATX'),\n",
      " ('TTELECTRONICSOPTEKTECHNOLOGY_2N2222AUATXV', '2N2222AUATXV'),\n",
      " ('ZETXS01948-1', 'BC856A-3A')]\n"
     ]
    }
   ],
   "source": [
    "pprint(FN)"
   ]
  },
  {
   "cell_type": "code",
   "execution_count": 20,
   "metadata": {
    "collapsed": false
   },
   "outputs": [
    {
     "name": "stdout",
     "output_type": "stream",
     "text": [
      "(u'2N6427', u'MPSA14')\n",
      "\n",
      "# Matches: 1\n",
      "\n"
     ]
    }
   ],
   "source": [
    "from hardware_utils import entity_to_candidates\n",
    "from snorkel.lf_helpers import *\n",
    "\n",
    "entity = FP[0]\n",
    "print entity\n",
    "print\n",
    "\n",
    "matches = entity_to_candidates(entity, candidates)\n",
    "print \"# Matches: %d\" % len(matches)\n",
    "print"
   ]
  },
  {
   "cell_type": "code",
   "execution_count": 21,
   "metadata": {
    "collapsed": false
   },
   "outputs": [
    {
     "ename": "IndexError",
     "evalue": "list index out of range",
     "output_type": "error",
     "traceback": [
      "\u001b[0;31m---------------------------------------------------------------------------\u001b[0m",
      "\u001b[0;31mIndexError\u001b[0m                                Traceback (most recent call last)",
      "\u001b[0;32m<ipython-input-21-6ba6e5ade9ec>\u001b[0m in \u001b[0;36m<module>\u001b[0;34m()\u001b[0m\n\u001b[1;32m      1\u001b[0m \u001b[0;32mfrom\u001b[0m \u001b[0mhardware_utils\u001b[0m \u001b[0;32mimport\u001b[0m \u001b[0mprint_table_info\u001b[0m\u001b[0;34m\u001b[0m\u001b[0m\n\u001b[1;32m      2\u001b[0m \u001b[0;34m\u001b[0m\u001b[0m\n\u001b[0;32m----> 3\u001b[0;31m \u001b[0mcandidate\u001b[0m \u001b[0;34m=\u001b[0m \u001b[0mmatches\u001b[0m\u001b[0;34m[\u001b[0m\u001b[0;36m1\u001b[0m\u001b[0;34m]\u001b[0m\u001b[0;34m\u001b[0m\u001b[0m\n\u001b[0m\u001b[1;32m      4\u001b[0m \u001b[0;31m# print candidate\u001b[0m\u001b[0;34m\u001b[0m\u001b[0;34m\u001b[0m\u001b[0m\n\u001b[1;32m      5\u001b[0m \u001b[0;31m# print\u001b[0m\u001b[0;34m\u001b[0m\u001b[0;34m\u001b[0m\u001b[0m\n",
      "\u001b[0;31mIndexError\u001b[0m: list index out of range"
     ]
    }
   ],
   "source": [
    "from hardware_utils import print_table_info\n",
    "\n",
    "candidate = matches[1]\n",
    "# print candidate\n",
    "# print\n",
    "print_table_info(candidate.part)\n",
    "# throttler = get_part_throttler()\n",
    "# print throttler(candidate)"
   ]
  },
  {
   "cell_type": "code",
   "execution_count": null,
   "metadata": {
    "collapsed": false
   },
   "outputs": [],
   "source": [
    "# c = candidates[100]\n",
    "# print c\n",
    "# print c.part.get_attrib_tokens('top'), c.part.get_attrib_tokens('bottom')\n",
    "# from snorkel.lf_helpers import *\n",
    "# print get_min_col_num(c)\n",
    "# print get_max_col_num(c)\n",
    "# print list(get_row_ngrams(c))\n",
    "# print_table_info(c.part)\n",
    "# print list(get_vert_ngrams(c.part))"
   ]
  },
  {
   "cell_type": "markdown",
   "metadata": {},
   "source": [
    "The End."
   ]
  }
 ],
 "metadata": {
  "anaconda-cloud": {},
  "kernelspec": {
   "display_name": "Python 2",
   "language": "python",
   "name": "python2"
  },
  "language_info": {
   "codemirror_mode": {
    "name": "ipython",
    "version": 2
   },
   "file_extension": ".py",
   "mimetype": "text/x-python",
   "name": "python",
   "nbconvert_exporter": "python",
   "pygments_lexer": "ipython2",
   "version": "2.7.6"
  }
 },
 "nbformat": 4,
 "nbformat_minor": 1
}
