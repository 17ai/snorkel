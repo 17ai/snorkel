{
 "cells": [
  {
   "cell_type": "code",
   "execution_count": 1,
   "metadata": {
    "collapsed": false,
    "scrolled": false
   },
   "outputs": [
    {
     "name": "stdout",
     "output_type": "stream",
     "text": [
      "True\n"
     ]
    }
   ],
   "source": [
    "%load_ext autoreload\n",
    "%autoreload 2\n",
    "%matplotlib inline\n",
    "\n",
    "import os\n",
    "import sys\n",
    "sys.path.append(os.environ['SNORKELHOME'] + '/tutorials/tables/')\n",
    "snorkel_postgres = os.environ.get('SNORKELDB','').startswith('postgres')\n",
    "print snorkel_postgres\n",
    "\n",
    "PARALLEL = 10\n",
    "PARALLEL_EXTRACTION = 8"
   ]
  },
  {
   "cell_type": "markdown",
   "metadata": {},
   "source": [
    "### Parse"
   ]
  },
  {
   "cell_type": "code",
   "execution_count": 2,
   "metadata": {
    "collapsed": false
   },
   "outputs": [],
   "source": [
    "# If necessary:\n",
    "import os\n",
    "if snorkel_postgres:\n",
    "    os.environ['SNORKELDBNAME'] = 'parts_regex_test'\n",
    "    os.system(\"dropdb \" + os.environ['SNORKELDBNAME'])\n",
    "    os.system(\"createdb \" + os.environ['SNORKELDBNAME'])\n",
    "else:\n",
    "    try:\n",
    "        os.remove('snorkel.db')\n",
    "    except:\n",
    "        pass\n",
    "\n",
    "from snorkel import SnorkelSession\n",
    "session = SnorkelSession()"
   ]
  },
  {
   "cell_type": "code",
   "execution_count": 3,
   "metadata": {
    "collapsed": false
   },
   "outputs": [
    {
     "name": "stdout",
     "output_type": "stream",
     "text": [
      "Starting async parse...\n",
      "[========================================] 100%\n",
      "CPU times: user 284 ms, sys: 148 ms, total: 432 ms\n",
      "Wall time: 49.4 s\n",
      "Corpus (Hardware Test) contains 75 documents\n"
     ]
    }
   ],
   "source": [
    "import os\n",
    "\n",
    "docs_path = os.environ['SNORKELHOME'] + '/tutorials/tables/data/hardware/test/html/'\n",
    "pdf_path = os.environ['SNORKELHOME'] + '/tutorials/tables/data/hardware/test/pdf/'\n",
    "\n",
    "if snorkel_postgres:\n",
    "    from snorkel.async_parser import parse_corpus, HTMLParser, AsyncOmniParser\n",
    "   \n",
    "    # PARSE TEST\n",
    "    print \"Starting async parse...\"\n",
    "    doc_parser = HTMLParser()\n",
    "    context_parser = AsyncOmniParser(blacklist=['style'], flatten=['span','br'], \n",
    "                                     tabular=True, lingual=True,\n",
    "                                     visual=True, pdf_path=pdf_path)\n",
    "    %time corpus = parse_corpus(session, 'Hardware Test', docs_path,\\\n",
    "                                doc_parser, context_parser,\\\n",
    "                                max_docs=125, parallel=PARALLEL)\n",
    "    \n",
    "else:\n",
    "    pass\n",
    "\n",
    "print \"%s contains %d documents\" % (corpus, len(corpus))"
   ]
  },
  {
   "cell_type": "markdown",
   "metadata": {},
   "source": [
    "### Extraction"
   ]
  },
  {
   "cell_type": "code",
   "execution_count": 4,
   "metadata": {
    "collapsed": false,
    "scrolled": true
   },
   "outputs": [
    {
     "name": "stdout",
     "output_type": "stream",
     "text": [
      "Using combined matcher.\n"
     ]
    }
   ],
   "source": [
    "from snorkel.models import candidate_subclass\n",
    "from hardware_spaces import get_space\n",
    "from hardware_matchers import get_matcher\n",
    "\n",
    "Part = candidate_subclass('Part', ['part'])\n",
    "part_ngrams = get_space('part')\n",
    "dict_path = os.environ['SNORKELHOME'] +\\\n",
    "    '/tutorials/tables/data/hardware/gold_raw/digikey_part_dictionary.csv'\n",
    "part_matcher = get_matcher('part', dict_path=dict_path)"
   ]
  },
  {
   "cell_type": "code",
   "execution_count": 5,
   "metadata": {
    "collapsed": true
   },
   "outputs": [],
   "source": [
    "# Attempt at alternative regex:\n",
    "# from snorkel.matchers import RegexMatchSpan, Inverse, Intersect\n",
    "# long_enough = RegexMatchSpan(rgx='[A-Z2][A-Z0-9\\-]{4,}(?:\\/(?:DG|HF))?', ignore_case=False)\n",
    "# at_least_one_number = RegexMatchSpan(rgx='[A-Z0-9\\-\\/]*[0-9][A-Z0-9\\-\\/]*', ignore_case=False)\n",
    "# at_least_one_letter = RegexMatchSpan(rgx='[A-Z0-9\\-\\/]*[A-Z][A-Z0-9\\-\\/]*', ignore_case=False) \n",
    "# bad_form = Inverse(RegexMatchSpan(rgx='(?:[A-Z]+\\d)|(?:[A-Z0-9\\-\\/]{0,2}\\-[A-Z0-9\\-\\/]*)'))\n",
    "# bad_start = Inverse(RegexMatchSpan(rgx='(?:T[O0]|SOT|BRD|FIGURE|EHP)[A-Z0-9\\-\\/]*'))\n",
    "# bad_end = Inverse(RegexMatchSpan(rgx='[A-Z0-9\\-\\/]*(TYP|MAX|MIN|BASE|HZ|MM|VDC|VDF)'))\n",
    "# part_matcher = Intersect(long_enough, at_least_one_number, at_least_one_letter, \n",
    "#                          bad_form, bad_start, bad_end)"
   ]
  },
  {
   "cell_type": "markdown",
   "metadata": {},
   "source": [
    "### Throttlers"
   ]
  },
  {
   "cell_type": "code",
   "execution_count": 6,
   "metadata": {
    "collapsed": false
   },
   "outputs": [],
   "source": [
    "# from hardware_throttlers import get_part_throttler_wrapper\n",
    "from hardware_lfs import get_lfs\n",
    "from collections import namedtuple\n",
    "\n",
    "# Option A: No throttler\n",
    "part_throttler = None\n",
    "\n",
    "# Option B: Standard throttler\n",
    "# part_throttler = get_part_throttler_wrapper()\n",
    "\n",
    "# Option C: LF-based throttler\n",
    "# FakeCandidate = namedtuple('FakeCandidate',['part','attr'])\n",
    "# parts_LFs = get_lfs('part')[:-1]\n",
    "# def part_throttler(Part):\n",
    "#     c = FakeCandidate(Part[0], None)\n",
    "#     for lf in parts_LFs:\n",
    "#         if lf(c) == -1:\n",
    "#             return False\n",
    "#     return True"
   ]
  },
  {
   "cell_type": "code",
   "execution_count": 7,
   "metadata": {
    "collapsed": false
   },
   "outputs": [],
   "source": [
    "from snorkel.candidates import CandidateExtractor\n",
    "\n",
    "ce = CandidateExtractor(Part, \n",
    "                        [part_ngrams], \n",
    "                        [part_matcher],\n",
    "                        throttler=part_throttler)"
   ]
  },
  {
   "cell_type": "code",
   "execution_count": 8,
   "metadata": {
    "collapsed": false,
    "scrolled": true
   },
   "outputs": [
    {
     "name": "stdout",
     "output_type": "stream",
     "text": [
      "[========================================] 100%\n",
      "CPU times: user 332 ms, sys: 256 ms, total: 588 ms\n",
      "Wall time: 32.5 s\n",
      "Candidate Set (Hardware Test Candidates) contains 805 Candidates\n"
     ]
    }
   ],
   "source": [
    "from snorkel.async_candidates import parallel_extract\n",
    "# %time candidates = ce.extract(corpus.documents.all(), 'Hardware Test Candidates', session)\n",
    "\n",
    "corpus_name = 'Hardware Test'\n",
    "%time candidates = parallel_extract(session, ce, corpus, \\\n",
    "                                    corpus_name + ' Candidates', \\\n",
    "                                    parallel=PARALLEL_EXTRACTION)\n",
    "print \"%s contains %d Candidates\" % (candidates, len(candidates))"
   ]
  },
  {
   "cell_type": "markdown",
   "metadata": {},
   "source": [
    "### Second Pass"
   ]
  },
  {
   "cell_type": "code",
   "execution_count": 9,
   "metadata": {
    "collapsed": false,
    "scrolled": true
   },
   "outputs": [
    {
     "name": "stdout",
     "output_type": "stream",
     "text": [
      "Finding part numbers...\n",
      "[========================================] 100%\n",
      "Appending suffixes...\n",
      "[========================================] 100%\n"
     ]
    }
   ],
   "source": [
    "from hardware_utils import get_gold_parts_by_doc, get_manual_parts_by_doc\n",
    "from snorkel.utils import get_ORM_instance\n",
    "from snorkel.models import Corpus\n",
    "\n",
    "corpus = get_ORM_instance(Corpus, session, 'Hardware Test')\n",
    "\n",
    "# parts_by_doc = get_gold_parts_by_doc()\n",
    "parts_by_doc = get_manual_parts_by_doc(corpus)\n",
    "# parts_by_doc = None"
   ]
  },
  {
   "cell_type": "code",
   "execution_count": 10,
   "metadata": {
    "collapsed": true
   },
   "outputs": [],
   "source": [
    "# import cPickle as pickle\n",
    "# pickle_file = os.environ['SNORKELHOME'] + '/tutorials/tables/sandbox/parts_by_doc_test.pkl'\n",
    "\n",
    "# with open(pickle_file, 'w') as f:\n",
    "#     pickle.dump(parts_by_doc, f)"
   ]
  },
  {
   "cell_type": "code",
   "execution_count": 11,
   "metadata": {
    "collapsed": true
   },
   "outputs": [],
   "source": [
    "# import cPickle as pickle\n",
    "# pickle_file = os.environ['SNORKELHOME'] + '/tutorials/tables/sandbox/parts_by_doc_test.pkl'\n",
    "# with open(pickle_file, 'r') as f:\n",
    "#     parts_by_doc = pickle.load(f)"
   ]
  },
  {
   "cell_type": "markdown",
   "metadata": {},
   "source": [
    "### Evaluation"
   ]
  },
  {
   "cell_type": "code",
   "execution_count": 12,
   "metadata": {
    "collapsed": false,
    "scrolled": true
   },
   "outputs": [
    {
     "name": "stdout",
     "output_type": "stream",
     "text": [
      "226 gold parts loaded\n"
     ]
    }
   ],
   "source": [
    "from hardware_utils import get_gold_dict\n",
    "\n",
    "gold_file = os.environ['SNORKELHOME'] + '/tutorials/tables/data/hardware/test/hardware_test_gold.csv'\n",
    "gold_parts = get_gold_dict(gold_file, doc_on=True, part_on=True, val_on=False)\n",
    "print \"%d gold parts loaded\" % len(gold_parts)"
   ]
  },
  {
   "cell_type": "code",
   "execution_count": 13,
   "metadata": {
    "collapsed": false,
    "scrolled": true
   },
   "outputs": [
    {
     "name": "stdout",
     "output_type": "stream",
     "text": [
      "========================================\n",
      "Scoring on Entity-Level Gold Data\n",
      "========================================\n",
      "Corpus Precision 0.698\n",
      "Corpus Recall    0.942\n",
      "Corpus F1        0.802\n",
      "----------------------------------------\n",
      "TP: 213 | FP: 92 | FN: 13\n",
      "========================================\n",
      "\n",
      "CPU times: user 2.28 s, sys: 120 ms, total: 2.4 s\n",
      "Wall time: 2.94 s\n"
     ]
    }
   ],
   "source": [
    "from hardware_utils import parts_f1\n",
    "\n",
    "%time TP, FP, FN = parts_f1(candidates, gold_parts, parts_by_doc)"
   ]
  },
  {
   "cell_type": "raw",
   "metadata": {},
   "source": [
    "New and improved matcher:\n",
    "========================================\n",
    "Scoring on Entity-Level Gold Data\n",
    "========================================\n",
    "Corpus Precision 0.698\n",
    "Corpus Recall    0.942\n",
    "Corpus F1        0.802\n",
    "----------------------------------------\n",
    "TP: 213 | FP: 92 | FN: 13\n",
    "========================================"
   ]
  },
  {
   "cell_type": "raw",
   "metadata": {},
   "source": [
    "Previous:\n",
    "========================================\n",
    "Scoring on Entity-Level Gold Data\n",
    "========================================\n",
    "Corpus Precision 0.657\n",
    "Corpus Recall    0.916\n",
    "Corpus F1        0.765\n",
    "----------------------------------------\n",
    "TP: 207 | FP: 108 | FN: 19\n",
    "========================================"
   ]
  },
  {
   "cell_type": "markdown",
   "metadata": {},
   "source": [
    "The End."
   ]
  }
 ],
 "metadata": {
  "anaconda-cloud": {},
  "kernelspec": {
   "display_name": "Python 2",
   "language": "python",
   "name": "python2"
  },
  "language_info": {
   "codemirror_mode": {
    "name": "ipython",
    "version": 2
   },
   "file_extension": ".py",
   "mimetype": "text/x-python",
   "name": "python",
   "nbconvert_exporter": "python",
   "pygments_lexer": "ipython2",
   "version": "2.7.6"
  }
 },
 "nbformat": 4,
 "nbformat_minor": 1
}
