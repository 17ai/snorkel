{
 "cells": [
  {
   "cell_type": "code",
   "execution_count": 1,
   "metadata": {
    "collapsed": false
   },
   "outputs": [
    {
     "name": "stdout",
     "output_type": "stream",
     "text": [
      "True\n"
     ]
    }
   ],
   "source": [
    "ATTRIBUTE = 'sandbox'\n",
    "PARALLEL = 3\n",
    "\n",
    "import os\n",
    "import sys\n",
    "sys.path.append(os.environ['SNORKELHOME'] + '/tutorials/tables/')\n",
    "snorkel_postgres = os.environ['SNORKELDB'].startswith('postgres')\n",
    "print snorkel_postgres"
   ]
  },
  {
   "cell_type": "code",
   "execution_count": 2,
   "metadata": {
    "collapsed": false
   },
   "outputs": [
    {
     "name": "stdout",
     "output_type": "stream",
     "text": [
      "0\n",
      "0\n",
      "SNORKELDBNAME = sandbox\n"
     ]
    }
   ],
   "source": [
    "import os\n",
    "if snorkel_postgres:\n",
    "    os.environ['SNORKELDBNAME'] = ATTRIBUTE\n",
    "    print os.system(\"dropdb \" + os.environ['SNORKELDBNAME'])\n",
    "    print os.system(\"createdb \" + os.environ['SNORKELDBNAME'])\n",
    "    print \"SNORKELDBNAME = %s\" % os.environ['SNORKELDBNAME']\n",
    "else:\n",
    "    try:\n",
    "        os.remove('snorkel.db')\n",
    "    except:\n",
    "        pass\n",
    "\n",
    "from snorkel import SnorkelSession\n",
    "session = SnorkelSession()"
   ]
  },
  {
   "cell_type": "code",
   "execution_count": 3,
   "metadata": {
    "collapsed": false
   },
   "outputs": [],
   "source": [
    "# os.environ['SNORKELDBNAME'] = 'sandbox'\n",
    "# os.system(\"dropdb \" + os.environ['SNORKELDBNAME'])\n",
    "# os.system(\"createdb \" + os.environ['SNORKELDBNAME'])"
   ]
  },
  {
   "cell_type": "code",
   "execution_count": 4,
   "metadata": {
    "collapsed": false,
    "scrolled": false
   },
   "outputs": [],
   "source": [
    "import os\n",
    "from snorkel.parser import CorpusParser\n",
    "from snorkel.parser import HTMLParser\n",
    "from snorkel.parser import OmniParser\n",
    "\n",
    "# sandbox_path = os.environ['SNORKELHOME'] + '/tutorials/tables/sandbox/sample/'\n",
    "# file_name = 'RohmSemiconductor_SST6427T116'\n",
    "# html_path = sandbox_path\n",
    "# pdf_path = sandbox_path\n",
    "sandbox_path = os.environ['SNORKELHOME'] + '/tutorials/tables/sandbox/'\n",
    "file_name = 'diseases'\n",
    "html_path = sandbox_path + file_name + '.html'\n",
    "pdf_path = sandbox_path\n",
    "doc_parser = HTMLParser(path=html_path)\n",
    "context_parser = OmniParser(tabular=True, \n",
    "                            lingual=True, blacklist=['style'], \n",
    "                            flatten=['span','br','i'], flatten_delim='',\n",
    "                            visual=True, pdf_path=pdf_path)\n",
    "#                             replacements=[('Temperature', 'Temp')])\n",
    "cp = CorpusParser(doc_parser, context_parser, max_docs=1)"
   ]
  },
  {
   "cell_type": "code",
   "execution_count": 5,
   "metadata": {
    "collapsed": false,
    "scrolled": true
   },
   "outputs": [
    {
     "name": "stdout",
     "output_type": "stream",
     "text": [
      "[========================================] 100%\n",
      "CPU times: user 168 ms, sys: 25.6 ms, total: 193 ms\n",
      "Wall time: 531 ms\n",
      "37 Phrases in Corpus (Sandbox)\n"
     ]
    }
   ],
   "source": [
    "%time corpus = cp.parse_corpus(name='Sandbox', session=session)\n",
    "print \"%d Phrases in %s\" % (\n",
    "    len([phrase for doc in corpus.documents for phrase in doc.phrases]), corpus)"
   ]
  },
  {
   "cell_type": "code",
   "execution_count": 6,
   "metadata": {
    "collapsed": false,
    "scrolled": true
   },
   "outputs": [
    {
     "name": "stdout",
     "output_type": "stream",
     "text": [
      "(1, None, u'Types of viruses, coughs, and colds')\n",
      "(1, None, u'Here isa line break')\n",
      "(1, None, u\"I don't have Brain Canceror the hiccups\")\n",
      "(1, None, u'See Table 1 Below.')\n",
      "(1, None, u'See Table 2 Below.')\n",
      "(1, None, u'SeeTable 3Below.')\n",
      "(1, None, u'Common Ailments')\n",
      "(1, Table(Doc: diseases, Position: 0), u'Disease')\n",
      "(1, Table(Doc: diseases, Position: 0), u'Location')\n",
      "(1, Table(Doc: diseases, Position: 0), u'Year')\n",
      "(1, Table(Doc: diseases, Position: 0), u'Polio and BC546 is -55OC cold.')\n",
      "(1, Table(Doc: diseases, Position: 0), u'-Dublin to Milwaukee')\n",
      "(1, Table(Doc: diseases, Position: 0), u'?')\n",
      "(1, Table(Doc: diseases, Position: 0), u'2001')\n",
      "(1, Table(Doc: diseases, Position: 1), u\"I don't like TIPL761 or Chicken Pox or pizza. \")\n",
      "(1, Table(Doc: diseases, Position: 1), u'Shingles is also bad.')\n",
      "(1, Table(Doc: diseases, Position: 0), u'whooping cough')\n",
      "(1, Table(Doc: diseases, Position: 0), u'Scurvy')\n",
      "(1, Table(Doc: diseases, Position: 0), u'Annapolis')\n",
      "(1, Table(Doc: diseases, Position: 0), u'Junction and Storage Temperature -55 to 150 o ? ')\n",
      "(1, Table(Doc: diseases, Position: 0), u'C')\n",
      "(1, Table(Doc: diseases, Position: 0), u'Table 1: Infectious diseases and where to find them.')\n",
      "(2, None, u'In between the tables there is a nasty case of heart attack')\n",
      "(2, Table(Doc: diseases, Position: 2), u'Problem')\n",
      "(2, Table(Doc: diseases, Position: 2), u'Cause')\n",
      "(2, Table(Doc: diseases, Position: 2), u'Cost')\n",
      "(2, Table(Doc: diseases, Position: 2), u'Arthritis')\n",
      "(2, Table(Doc: diseases, Position: 2), u'Pokemon Go')\n",
      "(2, Table(Doc: diseases, Position: 2), u'Free')\n",
      "(2, Table(Doc: diseases, Position: 2), u'YellowFever')\n",
      "(2, Table(Doc: diseases, Position: 2), u'Unicorns')\n",
      "(2, Table(Doc: diseases, Position: 2), u'$17.75')\n",
      "(2, Table(Doc: diseases, Position: 2), u'Hypochondria')\n",
      "(2, Table(Doc: diseases, Position: 2), u'Fear')\n",
      "(2, Table(Doc: diseases, Position: 2), u'$100')\n",
      "(2, Table(Doc: diseases, Position: 2), u'Table 2: Three ways to get Pneumonia and how much they cost.')\n",
      "(2, None, u'And here is a final sentence with warts.')\n"
     ]
    }
   ],
   "source": [
    "for p in corpus.documents[0].phrases:\n",
    "    print (p.page[0], p.table, p.text)"
   ]
  },
  {
   "cell_type": "code",
   "execution_count": 7,
   "metadata": {
    "collapsed": false
   },
   "outputs": [],
   "source": [
    "from snorkel.models import candidate_subclass\n",
    "\n",
    "# Year = candidate_subclass('Year', ['year'])\n",
    "# Temp = candidate_subclass('Temp', ['temp'])\n",
    "# Disease = candidate_subclass('Disease', ['disease'])\n",
    "# Part = candidate_subclass('Part', ['part'])\n",
    "Disease_Part = candidate_subclass('Disease_Part', ['disease','part'])"
   ]
  },
  {
   "cell_type": "code",
   "execution_count": 8,
   "metadata": {
    "collapsed": false
   },
   "outputs": [],
   "source": [
    "from snorkel.candidates import OmniNgrams\n",
    "from hardware_spaces import OmniNgramsPart, OmniNgramsTemp\n",
    "\n",
    "omni_ngrams = OmniNgrams(n_max=3, split_tokens=None)\n",
    "omni_part = OmniNgrams(n_max=1)\n",
    "# omni_part = OmniNgramsPart(n_max=1)\n",
    "# omni_temp = OmniNgramsTemp(n_max=3)\n",
    "# omni_temp = OmniNgrams(n_max=2)"
   ]
  },
  {
   "cell_type": "code",
   "execution_count": 9,
   "metadata": {
    "collapsed": false
   },
   "outputs": [
    {
     "name": "stdout",
     "output_type": "stream",
     "text": [
      "Loaded 22 diseases.\n"
     ]
    }
   ],
   "source": [
    "diseases = ['viruses', 'coughs', 'colds', 'brain', 'cancer', 'brain cancer', 'hiccups', \n",
    "            'ailments', 'disease', 'polio', 'chicken pox', 'shingles', 'whooping cough',\n",
    "            'scurvy', 'infectious diseases', 'heart attack', 'arthritis', 'fever', \n",
    "            'yellow fever', 'hypochondria', 'pneumonia', 'warts']\n",
    "print \"Loaded %d diseases.\" % len(diseases)"
   ]
  },
  {
   "cell_type": "code",
   "execution_count": 10,
   "metadata": {
    "collapsed": false
   },
   "outputs": [],
   "source": [
    "from snorkel.matchers import *\n",
    "from hardware_matchers import get_matcher\n",
    "\n",
    "disease_dict_matcher = DictionaryMatch(d=diseases, ignore_case=True)\n",
    "disease_matcher = disease_dict_matcher\n",
    "# disease_len_matcher = LambdaFunctionMatch(func=lambda x: len(x.get_span().split()) > 1)\n",
    "# disease_matcher = Intersect(disease_dict_matcher, disease_len_matcher)\n",
    "# year_matcher = DateMatcher()\n",
    "# part_matcher = RegexMatchEach(rgx='BC.*')\n",
    "# temp_matcher = RegexMatchSpan(rgx=r'-[5-7][05]')\n",
    "part_matcher = get_matcher('part')"
   ]
  },
  {
   "cell_type": "code",
   "execution_count": 11,
   "metadata": {
    "collapsed": false
   },
   "outputs": [],
   "source": [
    "from snorkel.candidates import CandidateExtractor\n",
    "\n",
    "# ce = CandidateExtractor(Part, [omni_part], [part_matcher])\n",
    "# ce = CandidateExtractor(Disease, [omni_ngrams], [disease_matcher])\n",
    "# ce = CandidateExtractor(Temp, [omni_temp], [temp_matcher])\n",
    "ce = CandidateExtractor(Disease_Part, \n",
    "                        [omni_ngrams, omni_part], \n",
    "                        [disease_matcher, part_matcher],\n",
    "                        throttler = None)"
   ]
  },
  {
   "cell_type": "code",
   "execution_count": 12,
   "metadata": {
    "collapsed": false
   },
   "outputs": [
    {
     "name": "stdout",
     "output_type": "stream",
     "text": [
      "\r",
      "[========================================] 100%\n"
     ]
    }
   ],
   "source": [
    "from snorkel.async_candidates import parallel_extract\n",
    "candidates = parallel_extract(session, ce, corpus, 'Sandbox Candidates', parallel=PARALLEL)"
   ]
  },
  {
   "cell_type": "code",
   "execution_count": 13,
   "metadata": {
    "collapsed": false
   },
   "outputs": [
    {
     "name": "stdout",
     "output_type": "stream",
     "text": [
      "0 Disease_Part(Span(\"colds\", parent=5, chars=[30,34], words=[7,7]), Span(\"BC546\", parent=44, chars=[10,14], words=[2,2]))\n",
      "1 Disease_Part(Span(\"colds\", parent=5, chars=[30,34], words=[7,7]), Span(\"TIPL761\", parent=48, chars=[13,19], words=[4,4]))\n",
      "2 Disease_Part(Span(\"Pneumonia\", parent=40, chars=[27,35], words=[7,7]), Span(\"BC546\", parent=44, chars=[10,14], words=[2,2]))\n",
      "3 Disease_Part(Span(\"Pneumonia\", parent=40, chars=[27,35], words=[7,7]), Span(\"TIPL761\", parent=48, chars=[13,19], words=[4,4]))\n",
      "4 Disease_Part(Span(\"heart attack\", parent=12, chars=[47,58], words=[10,11]), Span(\"BC546\", parent=44, chars=[10,14], words=[2,2]))\n",
      "5 Disease_Part(Span(\"heart attack\", parent=12, chars=[47,58], words=[10,11]), Span(\"TIPL761\", parent=48, chars=[13,19], words=[4,4]))\n",
      "6 Disease_Part(Span(\"Scurvy\", parent=51, chars=[0,5], words=[0,0]), Span(\"BC546\", parent=44, chars=[10,14], words=[2,2]))\n",
      "7 Disease_Part(Span(\"Scurvy\", parent=51, chars=[0,5], words=[0,0]), Span(\"TIPL761\", parent=48, chars=[13,19], words=[4,4]))\n",
      "8 Disease_Part(Span(\"Hypochondria\", parent=64, chars=[0,11], words=[0,0]), Span(\"BC546\", parent=44, chars=[10,14], words=[2,2]))\n",
      "9 Disease_Part(Span(\"Hypochondria\", parent=64, chars=[0,11], words=[0,0]), Span(\"TIPL761\", parent=48, chars=[13,19], words=[4,4]))\n",
      "10 Disease_Part(Span(\"Polio\", parent=44, chars=[0,4], words=[0,0]), Span(\"BC546\", parent=44, chars=[10,14], words=[2,2]))\n",
      "11 Disease_Part(Span(\"Polio\", parent=44, chars=[0,4], words=[0,0]), Span(\"TIPL761\", parent=48, chars=[13,19], words=[4,4]))\n",
      "12 Disease_Part(Span(\"coughs\", parent=5, chars=[18,23], words=[4,4]), Span(\"BC546\", parent=44, chars=[10,14], words=[2,2]))\n",
      "13 Disease_Part(Span(\"coughs\", parent=5, chars=[18,23], words=[4,4]), Span(\"TIPL761\", parent=48, chars=[13,19], words=[4,4]))\n",
      "14 Disease_Part(Span(\"Disease\", parent=41, chars=[0,6], words=[0,0]), Span(\"BC546\", parent=44, chars=[10,14], words=[2,2]))\n",
      "15 Disease_Part(Span(\"Disease\", parent=41, chars=[0,6], words=[0,0]), Span(\"TIPL761\", parent=48, chars=[13,19], words=[4,4]))\n",
      "16 Disease_Part(Span(\"Shingles\", parent=49, chars=[0,7], words=[0,0]), Span(\"BC546\", parent=44, chars=[10,14], words=[2,2]))\n",
      "17 Disease_Part(Span(\"Shingles\", parent=49, chars=[0,7], words=[0,0]), Span(\"TIPL761\", parent=48, chars=[13,19], words=[4,4]))\n",
      "18 Disease_Part(Span(\"Brain\", parent=7, chars=[13,17], words=[4,4]), Span(\"BC546\", parent=44, chars=[10,14], words=[2,2]))\n",
      "19 Disease_Part(Span(\"Brain\", parent=7, chars=[13,17], words=[4,4]), Span(\"TIPL761\", parent=48, chars=[13,19], words=[4,4]))\n",
      "20 Disease_Part(Span(\"warts\", parent=13, chars=[34,38], words=[7,7]), Span(\"BC546\", parent=44, chars=[10,14], words=[2,2]))\n",
      "21 Disease_Part(Span(\"warts\", parent=13, chars=[34,38], words=[7,7]), Span(\"TIPL761\", parent=48, chars=[13,19], words=[4,4]))\n",
      "22 Disease_Part(Span(\"hiccups\", parent=7, chars=[32,38], words=[7,7]), Span(\"BC546\", parent=44, chars=[10,14], words=[2,2]))\n",
      "23 Disease_Part(Span(\"hiccups\", parent=7, chars=[32,38], words=[7,7]), Span(\"TIPL761\", parent=48, chars=[13,19], words=[4,4]))\n",
      "24 Disease_Part(Span(\"viruses\", parent=5, chars=[9,15], words=[2,2]), Span(\"BC546\", parent=44, chars=[10,14], words=[2,2]))\n",
      "25 Disease_Part(Span(\"viruses\", parent=5, chars=[9,15], words=[2,2]), Span(\"TIPL761\", parent=48, chars=[13,19], words=[4,4]))\n",
      "26 Disease_Part(Span(\"whooping cough\", parent=50, chars=[0,13], words=[0,1]), Span(\"BC546\", parent=44, chars=[10,14], words=[2,2]))\n",
      "27 Disease_Part(Span(\"whooping cough\", parent=50, chars=[0,13], words=[0,1]), Span(\"TIPL761\", parent=48, chars=[13,19], words=[4,4]))\n",
      "28 Disease_Part(Span(\"Infectious diseases\", parent=39, chars=[9,27], words=[3,4]), Span(\"BC546\", parent=44, chars=[10,14], words=[2,2]))\n",
      "29 Disease_Part(Span(\"Infectious diseases\", parent=39, chars=[9,27], words=[3,4]), Span(\"TIPL761\", parent=48, chars=[13,19], words=[4,4]))\n",
      "30 Disease_Part(Span(\"Ailments\", parent=11, chars=[7,14], words=[1,1]), Span(\"BC546\", parent=44, chars=[10,14], words=[2,2]))\n",
      "31 Disease_Part(Span(\"Ailments\", parent=11, chars=[7,14], words=[1,1]), Span(\"TIPL761\", parent=48, chars=[13,19], words=[4,4]))\n",
      "32 Disease_Part(Span(\"Chicken Pox\", parent=48, chars=[24,34], words=[6,7]), Span(\"BC546\", parent=44, chars=[10,14], words=[2,2]))\n",
      "33 Disease_Part(Span(\"Chicken Pox\", parent=48, chars=[24,34], words=[6,7]), Span(\"TIPL761\", parent=48, chars=[13,19], words=[4,4]))\n",
      "34 Disease_Part(Span(\"Arthritis\", parent=58, chars=[0,8], words=[0,0]), Span(\"BC546\", parent=44, chars=[10,14], words=[2,2]))\n",
      "35 Disease_Part(Span(\"Arthritis\", parent=58, chars=[0,8], words=[0,0]), Span(\"TIPL761\", parent=48, chars=[13,19], words=[4,4]))\n"
     ]
    }
   ],
   "source": [
    "from snorkel.lf_helpers import *\n",
    "for i, c in enumerate(candidates):\n",
    "    print i, c\n",
    "#     print c.disease.get_attrib_tokens('page')\n",
    "#     print get_page_vert_percentile(c)\n",
    "#     print get_page_horz_percentile(c)"
   ]
  },
  {
   "cell_type": "code",
   "execution_count": 15,
   "metadata": {
    "collapsed": false,
    "scrolled": true
   },
   "outputs": [
    {
     "name": "stdout",
     "output_type": "stream",
     "text": [
      "Span(\"colds\", parent=5, chars=[30,34], words=[7,7])\n",
      "[]\n",
      "[]\n",
      "Span(\"Pneumonia\", parent=40, chars=[27,35], words=[7,7])\n",
      "[u'Hypochondria', u'Table', u'Problem', u'Arthritis', u'YellowFever']\n",
      "[u'and', u'how', u'much', u'they', u'cost', u'.']\n",
      "Span(\"heart attack\", parent=12, chars=[47,58], words=[10,11])\n",
      "[]\n",
      "[]\n",
      "Span(\"Scurvy\", parent=51, chars=[0,5], words=[0,0])\n",
      "[u'Table', u'1', u':', u'.', u'Disease', u'BC546', u'is']\n",
      "[u'and', u'to', u'-55', u'Annapolis', u'Junction', u'Storage', u'Temperature', u'-55', u'150', u'o', u'?', u'C']\n",
      "Span(\"Hypochondria\", parent=64, chars=[0,11], words=[0,0])\n",
      "[u'Table', u'2', u':', u'Three', u'Pneumonia', u'and', u'Problem', u'Arthritis', u'YellowFever']\n",
      "[u'Fear', u'100']\n",
      "Span(\"Polio\", parent=44, chars=[0,4], words=[0,0])\n",
      "[]\n",
      "[u'BC546', u'is', u'OC', u'cold', u'-', u'Dublin', u'Milwaukee', u'?', u'2001', u'and', u'to']\n",
      "Span(\"coughs\", parent=5, chars=[18,23], words=[4,4])\n",
      "[]\n",
      "[]\n",
      "Span(\"Disease\", parent=41, chars=[0,6], words=[0,0])\n",
      "[u'Table', u'1', u':', u'.', u'BC546', u'is', u'Scurvy']\n",
      "[u'Location', u'Year']\n",
      "Span(\"Shingles\", parent=49, chars=[0,7], words=[0,0])\n",
      "[u'like', u'TIPL761']\n",
      "[u'pizza', u'is', u'also', u'bad', u'.']\n",
      "Span(\"Brain\", parent=7, chars=[13,17], words=[4,4])\n",
      "[]\n",
      "[]\n",
      "Span(\"warts\", parent=13, chars=[34,38], words=[7,7])\n",
      "[]\n",
      "[]\n",
      "Span(\"hiccups\", parent=7, chars=[32,38], words=[7,7])\n",
      "[]\n",
      "[]\n",
      "Span(\"viruses\", parent=5, chars=[9,15], words=[2,2])\n",
      "[]\n",
      "[]\n",
      "Span(\"whooping cough\", parent=50, chars=[0,13], words=[0,1])\n",
      "[u'diseases', u'where', u'Location', u'and', u'-', u'Dublin', u'Milwaukee', u'Annapolis', u'to']\n",
      "[u'.']\n",
      "Span(\"Infectious diseases\", parent=39, chars=[9,27], words=[3,4])\n",
      "[u'.', u'Location', u'OC', u'cold', u'-', u'Dublin', u'Milwaukee', u'whooping', u'cough', u'Annapolis']\n",
      "[u'Table', u'1', u':', u'where', u'find', u'them', u'and', u'.', u'to']\n",
      "Span(\"Ailments\", parent=11, chars=[7,14], words=[1,1])\n",
      "[]\n",
      "[]\n",
      "Span(\"Chicken Pox\", parent=48, chars=[24,34], words=[6,7])\n",
      "[u'.', u'bad']\n",
      "[u'I', u'do', u\"n't\", u'like', u'TIPL761', u'or', u'or']\n",
      "Span(\"Arthritis\", parent=58, chars=[0,8], words=[0,0])\n",
      "[u'Hypochondria', u'Table', u'2', u':', u'Pneumonia', u'and', u'Problem', u'YellowFever']\n",
      "[u'Pokemon', u'Go', u'Free']\n"
     ]
    }
   ],
   "source": [
    "from snorkel.lf_helpers import *\n",
    "\n",
    "for c in candidates:\n",
    "    if not (c.part.get_span()=='TIPL761'): continue\n",
    "    print c.disease\n",
    "    print list(get_vert_ngrams(c.disease))\n",
    "    print list(get_horz_ngrams(c.disease))"
   ]
  },
  {
   "cell_type": "code",
   "execution_count": null,
   "metadata": {
    "collapsed": false,
    "scrolled": true
   },
   "outputs": [],
   "source": [
    "from snorkel.visualizer import Visualizer\n",
    "\n",
    "print pdf_path\n",
    "print file_name\n",
    "pdf_file = pdf_path\n",
    "viz = Visualizer(pdf_file)\n",
    "viz.display_words(corpus.documents[0].phrases)"
   ]
  },
  {
   "cell_type": "code",
   "execution_count": null,
   "metadata": {
    "collapsed": false
   },
   "outputs": [],
   "source": [
    "for c in candidates:\n",
    "    print c"
   ]
  },
  {
   "cell_type": "code",
   "execution_count": null,
   "metadata": {
    "collapsed": false,
    "scrolled": true
   },
   "outputs": [],
   "source": [
    "from snorkel.features.features import get_all_feats\n",
    "c = candidates[4]\n",
    "print c\n",
    "print\n",
    "for f, _ in get_all_feats(c):\n",
    "    print f"
   ]
  },
  {
   "cell_type": "code",
   "execution_count": null,
   "metadata": {
    "collapsed": false
   },
   "outputs": [],
   "source": [
    "from snorkel.lf_helpers import *\n",
    "\n",
    "s = c[0]\n",
    "print s\n",
    "print get_tag(s)\n",
    "print get_parent_tag(s)\n",
    "print get_prev_sibling_tags(s)\n",
    "print get_prev_sibling_tags(s)\n",
    "print get_next_sibling_tags(s)\n",
    "print get_ancestor_class_names(s)\n",
    "print get_ancestor_tag_names(s)\n",
    "print get_ancestor_id_names(s)"
   ]
  },
  {
   "cell_type": "code",
   "execution_count": null,
   "metadata": {
    "collapsed": false,
    "scrolled": true
   },
   "outputs": [],
   "source": [
    "from snorkel.lf_helpers import *\n",
    "\n",
    "# print [cell.text[:8] for cell in _get_aligned_cells(root_phrase.cell, axis, infer=infer)]\n",
    "# print [phrase.text for cell in _get_aligned_cells(root_phrase.cell, axis, infer=infer) for phrase in cell.phrases]\n",
    "print c.disease.parent\n",
    "print c.part.parent\n",
    "print list(get_left_ngrams(c.part, n_max=1, window=10, lower=False))\n",
    "print list(get_right_ngrams(c.part, n_max=1, window=5))\n",
    "print list(get_phrase_ngrams(c.part, n_max=1))\n",
    "print list(get_cell_ngrams(c.part, n_max=1))\n",
    "print list(get_row_ngrams(c.part, n_max=1, direct=True, infer=True))\n",
    "print list(get_head_ngrams(c.part, 'row'))\n",
    "print list(get_head_ngrams(c.part, 'col'))"
   ]
  },
  {
   "cell_type": "code",
   "execution_count": null,
   "metadata": {
    "collapsed": false
   },
   "outputs": [],
   "source": [
    "from snorkel.models import CandidateSet\n",
    "train = CandidateSet(name='train', candidates=candidates[:25])\n",
    "dev = CandidateSet(name='test', candidates=candidates[25:])"
   ]
  },
  {
   "cell_type": "code",
   "execution_count": null,
   "metadata": {
    "collapsed": false,
    "scrolled": true
   },
   "outputs": [],
   "source": [
    "from snorkel.fast_annotations import FeatureManager\n",
    "\n",
    "feature_manager = FeatureManager()\n",
    "%time F_train = feature_manager.create(session, train, 'Sandbox Features')\n",
    "F_train\n",
    "\n",
    "# from snorkel.features import get_span_feats\n",
    "# c = candidates[10]\n",
    "# %prun for feat in get_span_feats(c): print feat"
   ]
  },
  {
   "cell_type": "code",
   "execution_count": null,
   "metadata": {
    "collapsed": false,
    "scrolled": true
   },
   "outputs": [],
   "source": [
    "from snorkel.utils import get_keys_by_candidate\n",
    "\n",
    "c = candidates[1]\n",
    "print c\n",
    "print\n",
    "for f in get_keys_by_candidate(c, F_train)[:]: print f"
   ]
  },
  {
   "cell_type": "code",
   "execution_count": null,
   "metadata": {
    "collapsed": false
   },
   "outputs": [],
   "source": [
    "# c = candidates[0]\n",
    "# print c\n",
    "# print c.year\n",
    "# print c.year.parent\n",
    "# print c.year.char_start\n",
    "# print c.year.char_end\n",
    "# print c.year.parent.words\n",
    "# print c.year.parent.char_offsets\n",
    "# print c.year.parent.lemmas\n",
    "# print c.year.parent.pos_tags\n",
    "# print c.year.parent.ner_tags\n",
    "# print c.year.parent.dep_parents\n",
    "# print c.year.parent.dep_labels\n",
    "# print c.year.get_word_start()\n",
    "# print c.year.get_word_end()\n",
    "# # print get_row_ngrams(c.year)\n",
    "# # print get_row_ngrams(c.year, infer=True)\n",
    "# %time for i in range(1000): _get_aligned_cells((c.year).parent.cell, 'col', infer=True)"
   ]
  },
  {
   "cell_type": "code",
   "execution_count": null,
   "metadata": {
    "collapsed": false
   },
   "outputs": [],
   "source": [
    "# from snorkel.models import Span, ImplicitSpan, TemporarySpan\n",
    "\n",
    "# print isinstance(c.year, TemporarySpan)"
   ]
  },
  {
   "cell_type": "code",
   "execution_count": null,
   "metadata": {
    "collapsed": true
   },
   "outputs": [],
   "source": [
    "# from snorkel.lf_helpers import get_between_ngrams, get_left_ngrams, get_right_ngrams\n",
    "# from snorkel.lf_helpers import contains_token, contains_regex\n",
    "# from snorkel.lf_helpers import get_phrase_ngrams, get_cell_ngrams, get_neighbor_cell_ngrams\n",
    "# from snorkel.lf_helpers import get_row_ngrams, get_col_ngrams, get_aligned_ngrams\n",
    "# from snorkel.lf_helpers import same_document, same_table, same_cell, same_phrase\n",
    "# from snorkel.lf_helpers import _get_aligned_cells, _get_nonempty_cell"
   ]
  },
  {
   "cell_type": "code",
   "execution_count": null,
   "metadata": {
    "collapsed": false
   },
   "outputs": [],
   "source": [
    "from snorkel.lf_helpers import *\n",
    "c = candidates[2]\n",
    "print list(get_head_ngrams(c.disease, axis='col'))\n",
    "# print get_left_ngrams(c.disease)\n",
    "# print get_right_ngrams(c.disease)\n",
    "# print contains_token(c, 'plague')\n",
    "# print contains_regex(c, r'pla')\n",
    "# print same_document(c)\n",
    "# print same_table(c)\n",
    "# print same_cell(c)\n",
    "# print same_phrase(c)\n",
    "# print get_phrase_ngrams(c.disease, n_min=1, n_max=3, case_sensitive=True)\n",
    "# print get_cell_ngrams(c.disease, attrib='pos_tags')\n",
    "# print get_neighbor_cell_ngrams(c.disease, dist=2, directions=True)\n",
    "# print get_row_ngrams(c.disease)\n",
    "# print get_col_ngrams(c.disease)\n",
    "# print get_aligned_ngrams(c.disease)\n",
    "# print get_aligned_ngrams(c.disease, infer=True)"
   ]
  },
  {
   "cell_type": "code",
   "execution_count": null,
   "metadata": {
    "collapsed": false
   },
   "outputs": [],
   "source": [
    "# from hardware_utils import expand_implicit_text \n",
    "\n",
    "# for part in expand_implicit_text(''.join(['BC856/857/858', '/', '859/860'])): print part"
   ]
  },
  {
   "cell_type": "code",
   "execution_count": null,
   "metadata": {
    "collapsed": false
   },
   "outputs": [],
   "source": [
    "# def foo(n):\n",
    "#     phrase = 'repeat me'\n",
    "#     pmul = phrase * n\n",
    "#     pjoi = ''.join([phrase for x in xrange(n)])\n",
    "#     pinc = ''\n",
    "#     for x in xrange(n):\n",
    "#         pinc += phrase\n",
    "#     del pmul, pjoi, pinc"
   ]
  },
  {
   "cell_type": "code",
   "execution_count": null,
   "metadata": {
    "collapsed": false
   },
   "outputs": [],
   "source": [
    "# %lprun -f foo foo(1000)"
   ]
  },
  {
   "cell_type": "code",
   "execution_count": null,
   "metadata": {
    "collapsed": false
   },
   "outputs": [],
   "source": [
    "# from hardware_utils import get_gold_dict\n",
    "\n",
    "# filename = os.environ['SNORKELHOME'] + '/tutorials/tables/data/hardware/hardware_gold.csv'\n",
    "# gold_dict = get_gold_dict(filename, 'stg_temp_min')"
   ]
  },
  {
   "cell_type": "code",
   "execution_count": null,
   "metadata": {
    "collapsed": false
   },
   "outputs": [],
   "source": [
    "# print len(gold_dict.values())\n",
    "# print gold_dict.values().count(1)"
   ]
  },
  {
   "cell_type": "code",
   "execution_count": null,
   "metadata": {
    "collapsed": false
   },
   "outputs": [],
   "source": [
    "# from hardware_utils import count_hardware_labels\n",
    "\n",
    "# filename = os.environ['SNORKELHOME'] + '/tutorials/tables/data/hardware/hardware_gold.csv'\n",
    "# %time (certain, maybe) = count_hardware_labels(loader, candidates, filename, attrib='stg_temp_min', attrib_class='temp')"
   ]
  },
  {
   "cell_type": "code",
   "execution_count": null,
   "metadata": {
    "collapsed": false
   },
   "outputs": [],
   "source": [
    "# %time \n",
    "# for i in range(10000): \n",
    "#     for j in range(100):\n",
    "#         1 + 1"
   ]
  },
  {
   "cell_type": "code",
   "execution_count": null,
   "metadata": {
    "collapsed": true
   },
   "outputs": [],
   "source": [
    "# from snorkel.utils import ProgressBar;"
   ]
  },
  {
   "cell_type": "code",
   "execution_count": null,
   "metadata": {
    "collapsed": false
   },
   "outputs": [],
   "source": [
    "# %%time\n",
    "# n = 100000\n",
    "# pb = ProgressBar(n)\n",
    "# for i in xrange(n):\n",
    "#     pb.bar(i)\n",
    "# pb.close()"
   ]
  },
  {
   "cell_type": "code",
   "execution_count": null,
   "metadata": {
    "collapsed": false
   },
   "outputs": [],
   "source": [
    "# N = 235\n",
    "# N = 10\n",
    "# ticks = set([int(i * N/100.0) for i in range(1,101)])\n",
    "# print ticks"
   ]
  },
  {
   "cell_type": "code",
   "execution_count": null,
   "metadata": {
    "collapsed": false
   },
   "outputs": [],
   "source": [
    "for doc, text in doc_parser.parse():\n",
    "    pass"
   ]
  },
  {
   "cell_type": "code",
   "execution_count": null,
   "metadata": {
    "collapsed": false
   },
   "outputs": [],
   "source": [
    "print text"
   ]
  },
  {
   "cell_type": "code",
   "execution_count": null,
   "metadata": {
    "collapsed": false
   },
   "outputs": [],
   "source": [
    "from bs4 import BeautifulSoup\n",
    "soup = BeautifulSoup(text, 'lxml')"
   ]
  },
  {
   "cell_type": "code",
   "execution_count": null,
   "metadata": {
    "collapsed": true
   },
   "outputs": [],
   "source": [
    "def create_xpath(tags, counts):\n",
    "    xpath = ''\n",
    "    for i, tag in enumerate(tags):\n",
    "        xpath += '/' + tag\n",
    "        if counts[i] != 1:\n",
    "            xpath += '[%d]' % (counts[i] - 1)\n",
    "    return xpath"
   ]
  },
  {
   "cell_type": "code",
   "execution_count": null,
   "metadata": {
    "collapsed": false
   },
   "outputs": [],
   "source": [
    "tags = ['html','body','table','tr','th']\n",
    "counts = [1, 1, 2, 2, 1]\n",
    "print create_xpath(tags, counts)"
   ]
  },
  {
   "cell_type": "code",
   "execution_count": null,
   "metadata": {
    "collapsed": false
   },
   "outputs": [],
   "source": [
    "print soup.html.body.table.next_element"
   ]
  },
  {
   "cell_type": "code",
   "execution_count": null,
   "metadata": {
    "collapsed": false
   },
   "outputs": [],
   "source": [
    "from lxml.html import fromstring\n",
    "import lxml\n",
    "\n",
    "html = lxml.html.fromstring(text)\n",
    "# htmlparser = etree.HTMLParser()\n",
    "# xml.etree.ElementTree.fromstring(text)\n",
    "# tree = lxml.etree.fromstring(text, htmlparser)\n",
    "# tree.xpath(xpathselector)"
   ]
  },
  {
   "cell_type": "code",
   "execution_count": null,
   "metadata": {
    "collapsed": false
   },
   "outputs": [],
   "source": [
    "etree.tostring(tree)"
   ]
  },
  {
   "cell_type": "code",
   "execution_count": null,
   "metadata": {
    "collapsed": false
   },
   "outputs": [],
   "source": [
    "print tree.xpath('/html/body/table[1]')\n",
    "print tree.xpath('/html/body/table[1]')"
   ]
  },
  {
   "cell_type": "code",
   "execution_count": null,
   "metadata": {
    "collapsed": false
   },
   "outputs": [],
   "source": [
    "import Levenshtein\n",
    "from editdistance import eval as editdist"
   ]
  },
  {
   "cell_type": "code",
   "execution_count": null,
   "metadata": {
    "collapsed": false
   },
   "outputs": [],
   "source": [
    "timeit editdist('blue','blackbird')"
   ]
  },
  {
   "cell_type": "code",
   "execution_count": null,
   "metadata": {
    "collapsed": false
   },
   "outputs": [],
   "source": [
    "timeit Levenshtein.distance('blue','blackbird')"
   ]
  },
  {
   "cell_type": "code",
   "execution_count": null,
   "metadata": {
    "collapsed": true
   },
   "outputs": [],
   "source": []
  }
 ],
 "metadata": {
  "anaconda-cloud": {},
  "kernelspec": {
   "display_name": "Python [default]",
   "language": "python",
   "name": "python2"
  },
  "language_info": {
   "codemirror_mode": {
    "name": "ipython",
    "version": 2
   },
   "file_extension": ".py",
   "mimetype": "text/x-python",
   "name": "python",
   "nbconvert_exporter": "python",
   "pygments_lexer": "ipython2",
   "version": "2.7.10"
  }
 },
 "nbformat": 4,
 "nbformat_minor": 0
}
