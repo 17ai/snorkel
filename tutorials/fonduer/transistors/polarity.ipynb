{
 "cells": [
  {
   "cell_type": "markdown",
   "metadata": {},
   "source": [
    "# HARDWARE"
   ]
  },
  {
   "cell_type": "markdown",
   "metadata": {},
   "source": [
    "## Setup"
   ]
  },
  {
   "cell_type": "code",
   "execution_count": 1,
   "metadata": {
    "collapsed": false,
    "scrolled": false
   },
   "outputs": [
    {
     "name": "stdout",
     "output_type": "stream",
     "text": [
      "True\n"
     ]
    }
   ],
   "source": [
    "%load_ext autoreload\n",
    "%autoreload 2\n",
    "%matplotlib inline\n",
    "\n",
    "\"\"\"\n",
    "To change attributes:\n",
    "1) Change ATTRIBUTE and you're good to go\n",
    "\"\"\"\n",
    "ATTRIBUTE = 'polarity'\n",
    "COUNTER = '_new'\n",
    "PARALLEL = 40\n",
    "PARALLEL_F = 80\n",
    "PARALLEL_EXTRACTION = 8\n",
    "TRAIN_SIZE = 1000\n",
    "DEV_SIZE = 125\n",
    "TEST_SIZE = 75\n",
    "\n",
    "import os\n",
    "import sys\n",
    "sys.path.append(os.environ['SNORKELHOME'] + '/tutorials/tables/')\n",
    "snorkel_postgres = os.environ['SNORKELDB'].startswith('postgres')\n",
    "print snorkel_postgres"
   ]
  },
  {
   "cell_type": "code",
   "execution_count": 2,
   "metadata": {
    "collapsed": false
   },
   "outputs": [
    {
     "name": "stdout",
     "output_type": "stream",
     "text": [
      "0\n",
      "0\n",
      "SNORKELDBNAME = polarity_new2\n"
     ]
    }
   ],
   "source": [
    "import os\n",
    "if snorkel_postgres:\n",
    "    os.environ['SNORKELDBNAME'] = ATTRIBUTE + str(COUNTER) +'2'\n",
    "    print os.system(\"dropdb \" + os.environ['SNORKELDBNAME'])\n",
    "    print os.system(\"createdb \" + os.environ['SNORKELDBNAME'])\n",
    "    print \"SNORKELDBNAME = %s\" % os.environ['SNORKELDBNAME']\n",
    "else:\n",
    "    try:\n",
    "        os.remove('snorkel.db')\n",
    "    except:\n",
    "        pass\n",
    "\n",
    "from snorkel import SnorkelSession\n",
    "session = SnorkelSession()"
   ]
  },
  {
   "cell_type": "markdown",
   "metadata": {},
   "source": [
    "## Parsing"
   ]
  },
  {
   "cell_type": "code",
   "execution_count": 3,
   "metadata": {
    "collapsed": false
   },
   "outputs": [
    {
     "name": "stdout",
     "output_type": "stream",
     "text": [
      "Starting async parse...\n",
      "[====================                    ] 49%"
     ]
    },
    {
     "name": "stderr",
     "output_type": "stream",
     "text": [
      "/lfs/local/1/senwu/hardware/snorkel/snorkel/parser.py:259: RuntimeWarning: CoreNLP skipped a malformed sentence.\n",
      "  warnings.warn(\"CoreNLP skipped a malformed sentence.\", RuntimeWarning)\n"
     ]
    },
    {
     "name": "stdout",
     "output_type": "stream",
     "text": [
      "[========================================] 100%\n",
      "CPU times: user 780 ms, sys: 392 ms, total: 1.17 s\n",
      "Wall time: 3min 1s\n",
      "Corpus (Hardware Train) contains 1000 documents\n",
      "[========================================] 100%\n",
      "CPU times: user 244 ms, sys: 268 ms, total: 512 ms\n",
      "Wall time: 55 s\n",
      "Corpus (Hardware Dev) contains 122 documents\n",
      "[========================================] 100%\n",
      "CPU times: user 208 ms, sys: 200 ms, total: 408 ms\n",
      "Wall time: 28.3 s\n",
      "Corpus (Hardware Test) contains 75 documents\n"
     ]
    }
   ],
   "source": [
    "import os\n",
    "if snorkel_postgres:\n",
    "    from snorkel.async_parser import parse_corpus, HTMLParser, AsyncOmniParser\n",
    "    print \"Starting async parse...\"\n",
    "    \n",
    "    # PARSE TRAIN\n",
    "    docs_path = os.environ['SNORKELHOME'] + '/tutorials/tables/data/hardware/train_digikey/html/'\n",
    "    pdf_path = os.environ['SNORKELHOME'] + '/tutorials/tables/data/hardware/train_digikey/pdf/'\n",
    "    doc_parser = HTMLParser()\n",
    "    context_parser = AsyncOmniParser(blacklist=['style'], flatten=['span','br'], \n",
    "                                     tabular=True, lingual=True,\n",
    "                                     visual=True, pdf_path=pdf_path)\n",
    "    %time corpus = parse_corpus(session, 'Hardware Train', docs_path,\\\n",
    "                                doc_parser, context_parser,\\\n",
    "                                max_docs=TRAIN_SIZE, parallel=PARALLEL)\n",
    "    print \"%s contains %d documents\" % (corpus, len(corpus))\n",
    "    session.commit()\n",
    "    # PARSE DEV\n",
    "    docs_path = os.environ['SNORKELHOME'] + '/tutorials/tables/data/hardware/dev/html/'\n",
    "    pdf_path = os.environ['SNORKELHOME'] + '/tutorials/tables/data/hardware/dev/pdf/'\n",
    "    context_parser = AsyncOmniParser(blacklist=['style'], flatten=['span','br'], \n",
    "                                     tabular=True, lingual=True,\n",
    "                                     visual=True, pdf_path=pdf_path)\n",
    "    %time corpus = parse_corpus(session, 'Hardware Dev', docs_path,\\\n",
    "                                doc_parser, context_parser,\\\n",
    "                                max_docs=DEV_SIZE, parallel=PARALLEL)\n",
    "    print \"%s contains %d documents\" % (corpus, len(corpus))\n",
    "    session.commit()\n",
    "    if TEST_SIZE:\n",
    "        # PARSE TEST\n",
    "        docs_path = os.environ['SNORKELHOME'] + '/tutorials/tables/data/hardware/test/html/'\n",
    "        pdf_path = os.environ['SNORKELHOME'] + '/tutorials/tables/data/hardware/test/pdf/'\n",
    "        context_parser = AsyncOmniParser(blacklist=['style'], flatten=['span','br'], \n",
    "                                         tabular=True, lingual=True,\n",
    "                                         visual=True, pdf_path=pdf_path)\n",
    "        %time corpus = parse_corpus(session, 'Hardware Test', docs_path,\\\n",
    "                                    doc_parser, context_parser,\\\n",
    "                                    max_docs=TEST_SIZE, parallel=PARALLEL)\n",
    "        print \"%s contains %d documents\" % (corpus, len(corpus))\n",
    "        session.commit()\n",
    "else:\n",
    "    from snorkel.parser import CorpusParser, HTMLParser, OmniParser\n",
    "    from snorkel.utils import get_ORM_instance\n",
    "    from snorkel.queries import split_corpus\n",
    "\n",
    "    print \"Starting sync parse...\"\n",
    "    # PARSE TRAIN\n",
    "    docs_path = os.environ['SNORKELHOME'] + '/tutorials/tables/data/hardware/train_small/html/'\n",
    "    pdf_path = os.environ['SNORKELHOME'] + '/tutorials/tables/data/hardware/train_small/pdf/'\n",
    "    doc_parser = HTMLParser(path=docs_path)\n",
    "    context_parser = AsyncOmniParser(blacklist=['style'], flatten=['span','br'], \n",
    "                                     tabular=True, lingual=True,\n",
    "                                     visual=True, pdf_path=pdf_path)\n",
    "    cp = CorpusParser(doc_parser, context_parser, max_docs=100)\n",
    "\n",
    "    %time corpus = cp.parse_corpus(name='Hardware Train', session=session)\n",
    "    print \"%s contains %d documents\" % corpus, len(corpus)\n",
    "\n",
    "    session.add(corpus)\n",
    "    session.commit()\n",
    "    \n",
    "    # PARSE DEV\n",
    "    docs_path = os.environ['SNORKELHOME'] + '/tutorials/tables/data/hardware/dev/html/'\n",
    "    pdf_path = os.environ['SNORKELHOME'] + '/tutorials/tables/data/hardware/dev/pdf/'\n",
    "    doc_parser = HTMLParser(path=docs_path)\n",
    "    context_parser = AsyncOmniParser(blacklist=['style'], flatten=['span','br'], \n",
    "                                 tabular=True, lingual=True,\n",
    "                                 visual=True, pdf_path=pdf_path)\n",
    "    cp = CorpusParser(doc_parser, context_parser, max_docs=125)\n",
    "\n",
    "    %time corpus = cp.parse_corpus(name='Hardware Dev', session=session)\n",
    "    print \"%s contains %d documents\" % (corpus, len(corpus))\n",
    "    session.add(corpus)\n",
    "    session.commit()"
   ]
  },
  {
   "cell_type": "markdown",
   "metadata": {},
   "source": [
    "### Save Corpus"
   ]
  },
  {
   "cell_type": "code",
   "execution_count": 4,
   "metadata": {
    "collapsed": true
   },
   "outputs": [],
   "source": [
    "# If necessary\n",
    "if not snorkel_postgres:\n",
    "    import os\n",
    "    os.system('cp snorkel.db snorkel.db\\ corpus');"
   ]
  },
  {
   "cell_type": "markdown",
   "metadata": {},
   "source": [
    "## Extraction"
   ]
  },
  {
   "cell_type": "code",
   "execution_count": 5,
   "metadata": {
    "collapsed": true
   },
   "outputs": [],
   "source": [
    "# # If necessary:\n",
    "# import os\n",
    "# os.remove('snorkel.db');\n",
    "# os.system('cp snorkel.db\\ corpus snorkel.db');\n",
    "\n",
    "# import sys\n",
    "# sys.path.append(os.environ['SNORKELHOME'] + '/tutorials/tables/')\n",
    "\n",
    "# from snorkel import SnorkelSession\n",
    "# session = SnorkelSession()"
   ]
  },
  {
   "cell_type": "code",
   "execution_count": 6,
   "metadata": {
    "collapsed": false
   },
   "outputs": [],
   "source": [
    "from snorkel.models import candidate_subclass\n",
    "\n",
    "Part_Attr = candidate_subclass('Part_Attr', ['part','attr'])"
   ]
  },
  {
   "cell_type": "markdown",
   "metadata": {},
   "source": [
    "### Define Matchers"
   ]
  },
  {
   "cell_type": "code",
   "execution_count": 7,
   "metadata": {
    "collapsed": false
   },
   "outputs": [
    {
     "name": "stdout",
     "output_type": "stream",
     "text": [
      "Using combined matcher.\n"
     ]
    }
   ],
   "source": [
    "from hardware_matchers import get_matcher\n",
    "\n",
    "dict_path = os.environ['SNORKELHOME'] +\\\n",
    "    '/tutorials/tables/data/hardware/gold_raw/digikey_part_dictionary.csv'\n",
    "part_matcher = get_matcher('part', dict_path)\n",
    "attr_matcher = get_matcher(ATTRIBUTE)"
   ]
  },
  {
   "cell_type": "markdown",
   "metadata": {},
   "source": [
    "### Define ContextSpaces"
   ]
  },
  {
   "cell_type": "code",
   "execution_count": 8,
   "metadata": {
    "collapsed": false
   },
   "outputs": [],
   "source": [
    "from hardware_spaces import get_space\n",
    "    \n",
    "part_ngrams = get_space('part')\n",
    "attr_ngrams = get_space(ATTRIBUTE)"
   ]
  },
  {
   "cell_type": "markdown",
   "metadata": {},
   "source": [
    "### Define Candidate Throttler"
   ]
  },
  {
   "cell_type": "code",
   "execution_count": 9,
   "metadata": {
    "collapsed": false
   },
   "outputs": [
    {
     "name": "stdout",
     "output_type": "stream",
     "text": [
      "<function polarity_throttler at 0x7f422a042758>\n"
     ]
    }
   ],
   "source": [
    "from hardware_throttlers import get_throttler\n",
    "\n",
    "throttler = get_throttler(ATTRIBUTE)\n",
    "# throttler = None\n",
    "print throttler"
   ]
  },
  {
   "cell_type": "markdown",
   "metadata": {},
   "source": [
    "### Run CandidateExtractor"
   ]
  },
  {
   "cell_type": "code",
   "execution_count": 10,
   "metadata": {
    "collapsed": false
   },
   "outputs": [
    {
     "name": "stdout",
     "output_type": "stream",
     "text": [
      "Extracting Candidates from Corpus (Hardware Train)\n",
      "[========================================] 100%\n",
      "CPU times: user 3.34 s, sys: 1.87 s, total: 5.21 s\n",
      "Wall time: 1h 2min 25s\n",
      "Candidate Set (Hardware Train Candidates) contains 85668 Candidates\n",
      "Extracting Candidates from Corpus (Hardware Dev)\n",
      "[========================================] 100%\n",
      "CPU times: user 1.17 s, sys: 460 ms, total: 1.63 s\n",
      "Wall time: 15min 37s\n",
      "Candidate Set (Hardware Dev Candidates) contains 17313 Candidates\n",
      "Extracting Candidates from Corpus (Hardware Test)\n",
      "[========================================] 100%\n",
      "CPU times: user 788 ms, sys: 428 ms, total: 1.22 s\n",
      "Wall time: 10min 3s\n",
      "Candidate Set (Hardware Test Candidates) contains 4711 Candidates\n"
     ]
    }
   ],
   "source": [
    "from snorkel.models import Corpus\n",
    "from snorkel.candidates import CandidateExtractor\n",
    "from snorkel.utils import get_ORM_instance\n",
    "from snorkel.async_candidates import parallel_extract\n",
    "\n",
    "ce = CandidateExtractor(Part_Attr, \n",
    "                        [part_ngrams, attr_ngrams], \n",
    "                        [part_matcher, attr_matcher], \n",
    "                        throttler=throttler)\n",
    "\n",
    "corpus_names = ['Hardware Train', 'Hardware Dev']\n",
    "if TEST_SIZE:\n",
    "    corpus_names.append('Hardware Test')\n",
    "for corpus_name in corpus_names:\n",
    "    corpus = get_ORM_instance(Corpus, session, corpus_name)\n",
    "    print \"Extracting Candidates from %s\" % corpus\n",
    "    %time candidates = parallel_extract(session, ce, corpus, \\\n",
    "                                        corpus_name + ' Candidates', \\\n",
    "                                        parallel=PARALLEL_EXTRACTION)\n",
    "    session.add(candidates)\n",
    "    print \"%s contains %d Candidates\" % (candidates, len(candidates))\n",
    "session.commit()"
   ]
  },
  {
   "cell_type": "markdown",
   "metadata": {},
   "source": [
    "### Second Pass"
   ]
  },
  {
   "cell_type": "code",
   "execution_count": 11,
   "metadata": {
    "collapsed": false
   },
   "outputs": [],
   "source": [
    "# from hardware_utils import get_gold_parts_by_doc, get_manual_parts_by_doc\n",
    "# from snorkel.utils import get_ORM_instance\n",
    "# from snorkel.models import Corpus\n",
    "\n",
    "# corpus = get_ORM_instance(Corpus, session, 'Hardware Dev')\n",
    "\n",
    "# # parts_by_doc = get_gold_parts_by_doc()\n",
    "# parts_by_doc = get_manual_parts_by_doc(corpus.documents.all())\n",
    "# # parts_by_doc = None"
   ]
  },
  {
   "cell_type": "code",
   "execution_count": 12,
   "metadata": {
    "collapsed": true
   },
   "outputs": [],
   "source": [
    "# import cPickle as pickle\n",
    "# pickle_file = os.environ['SNORKELHOME'] + '/tutorials/tables/sandbox/parts_by_doc_dev.pkl'\n",
    "\n",
    "# with open(pickle_file, 'w') as f:\n",
    "#     pickle.dump(parts_by_doc, f)"
   ]
  },
  {
   "cell_type": "code",
   "execution_count": 13,
   "metadata": {
    "collapsed": true
   },
   "outputs": [],
   "source": [
    "import cPickle as pickle\n",
    "pickle_file = os.environ['SNORKELHOME'] + '/tutorials/tables/sandbox/parts_by_doc_dev.pkl'\n",
    "with open(pickle_file, 'r') as f:\n",
    "    parts_by_doc = pickle.load(f)"
   ]
  },
  {
   "cell_type": "markdown",
   "metadata": {},
   "source": [
    "### Assess Recall"
   ]
  },
  {
   "cell_type": "code",
   "execution_count": 14,
   "metadata": {
    "collapsed": false
   },
   "outputs": [
    {
     "name": "stdout",
     "output_type": "stream",
     "text": [
      "Preparing candidates...\n",
      "[========================================] 100%\n",
      "========================================\n",
      "Scoring on Entity-Level Gold Data\n",
      "========================================\n",
      "Corpus Precision 0.662\n",
      "Corpus Recall    0.922\n",
      "Corpus F1        0.771\n",
      "----------------------------------------\n",
      "TP: 855 | FP: 436 | FN: 72\n",
      "========================================\n",
      "\n",
      "CPU times: user 31.7 s, sys: 836 ms, total: 32.5 s\n",
      "Wall time: 37.3 s\n"
     ]
    }
   ],
   "source": [
    "from snorkel.models import Corpus, CandidateSet\n",
    "from hardware_utils import entity_level_f1\n",
    "\n",
    "corpus = get_ORM_instance(Corpus, session, 'Hardware Dev')\n",
    "candidates = get_ORM_instance(CandidateSet, session, 'Hardware Dev Candidates')\n",
    "gold_file = os.environ['SNORKELHOME'] + \\\n",
    "    '/tutorials/tables/data/hardware/dev/hardware_dev_gold.csv'\n",
    "%time (ctp, cfp, cfn) = entity_level_f1(candidates, gold_file, ATTRIBUTE, corpus, parts_by_doc)"
   ]
  },
  {
   "cell_type": "code",
   "execution_count": 17,
   "metadata": {
    "collapsed": false
   },
   "outputs": [
    {
     "name": "stdout",
     "output_type": "stream",
     "text": [
      "[(u'2N6427', u'MPSA14', u'NPN'),\n",
      " (u'BC337', u'BC33740BU', u'NPN'),\n",
      " (u'BC337', u'BC338-16', u'NPN'),\n",
      " (u'BC337', u'BC338-40', u'NPN'),\n",
      " (u'BC337-D', u'BC337-XX', u'NPN'),\n",
      " (u'BC546-BC548C(TO-92)', u'BC546-BC548C', u'NPN'),\n",
      " (u'BC546_DIOTEC', u'BC546', u'PNP'),\n",
      " (u'BC546_DIOTEC', u'BC546A', u'PNP'),\n",
      " (u'BC546_DIOTEC', u'BC546B', u'PNP'),\n",
      " (u'BC546_DIOTEC', u'BC546C', u'NPN'),\n",
      " (u'BC546_DIOTEC', u'BC546C', u'PNP'),\n",
      " (u'BC546_DIOTEC', u'BC547', u'PNP'),\n",
      " (u'BC546_DIOTEC', u'BC547A', u'PNP'),\n",
      " (u'BC546_DIOTEC', u'BC547B', u'PNP'),\n",
      " (u'BC546_DIOTEC', u'BC547C', u'PNP'),\n",
      " (u'BC546_DIOTEC', u'BC548', u'PNP'),\n",
      " (u'BC546_DIOTEC', u'BC548A', u'PNP'),\n",
      " (u'BC546_DIOTEC', u'BC548B', u'PNP'),\n",
      " (u'BC546_DIOTEC', u'BC548C', u'PNP'),\n",
      " (u'BC546_DIOTEC', u'BC549', u'PNP'),\n",
      " (u'BC546_DIOTEC', u'BC549A', u'NPN'),\n",
      " (u'BC546_DIOTEC', u'BC549A', u'PNP'),\n",
      " (u'BC546_DIOTEC', u'BC549B', u'PNP'),\n",
      " (u'BC546_DIOTEC', u'BC549C', u'PNP'),\n",
      " (u'BC547', u'BC548BU', u'NPN'),\n",
      " (u'BC818-40LT1-D', u'BC818-40LT1', u'NPN'),\n",
      " (u'CENTRALSEMICONDUCTORCORP_CMPT5401ETR', u'CMPT5401', u'NPN'),\n",
      " (u'CENTRALSEMICONDUCTORCORP_CMPT5401ETR', u'CMPT5401', u'PNP'),\n",
      " (u'CENTRALSEMICONDUCTORCORP_CMPT5401ETR', u'CMPT5401E', u'NPN'),\n",
      " (u'CENTRALSEMICONDUCTORCORP_CMPT5401ETR', u'CMPT5551', u'NPN'),\n",
      " (u'CENTRALSEMICONDUCTORCORP_CMPT5401ETR', u'CMPT5551', u'PNP'),\n",
      " (u'CENTRALSEMICONDUCTORCORP_CMPT5401ETR', u'CMPT5551E', u'NPN'),\n",
      " (u'CENTRALSEMICONDUCTORCORP_CMPT5401ETR', u'CMPT5551E', u'PNP'),\n",
      " (u'CENTRALSEMICONDUCTORCORP_CMPT5401ETR', u'CXT5401', u'NPN'),\n",
      " (u'CENTRALSEMICONDUCTORCORP_CMPT5401ETR', u'CXT5401', u'PNP'),\n",
      " (u'CENTRALSEMICONDUCTORCORP_CMPT5401ETR', u'CXT5401E', u'NPN'),\n",
      " (u'CENTRALSEMICONDUCTORCORP_CMPT5401ETR', u'CXT5401E', u'PNP'),\n",
      " (u'CENTRALSEMICONDUCTORCORP_CMPT5401ETR', u'CXT5551', u'NPN'),\n",
      " (u'CENTRALSEMICONDUCTORCORP_CMPT5401ETR', u'CXT5551', u'PNP'),\n",
      " (u'CENTRALSEMICONDUCTORCORP_CMPT5401ETR', u'CXT5551E', u'NPN'),\n",
      " (u'CENTRALSEMICONDUCTORCORP_CMPT5401ETR', u'CXT5551E', u'PNP'),\n",
      " (u'CSEMS03485-1', u'2N3905', u'NPN'),\n",
      " (u'CSEMS03485-1', u'2N3906', u'NPN'),\n",
      " (u'CSEMS05382-1', u'BC546-48ABC', u'NPN'),\n",
      " (u'DIODESINCORPORATED_2DD26527', u'2DD2652', u'PNP'),\n",
      " (u'DIODESINCORPORATED_2DD26527', u'2DD2652-7', u'PNP'),\n",
      " (u'DIODESINCORPORATED_FCX491ATA', u'FCX491A', u'PNP'),\n",
      " (u'DIODESINCORPORATED_FCX491ATA', u'FCX491AQTA', u'NPN'),\n",
      " (u'DIODESINCORPORATED_FCX491ATA', u'FCX491AQTA', u'PNP'),\n",
      " (u'DIODESINCORPORATED_FCX491ATA', u'FCX491ATA', u'NPN'),\n",
      " (u'DIODESINCORPORATED_FCX491ATA', u'FCX491ATA', u'PNP'),\n",
      " (u'DIODESINCORPORATED_FZT651TC', u'FZT651', u'PNP'),\n",
      " (u'DIODESINCORPORATED_FZT651TC', u'FZT651TA', u'PNP'),\n",
      " (u'DIODESINCORPORATED_FZT651TC', u'FZT651TC', u'PNP'),\n",
      " (u'DIODESINCORPORATED_ZXT690BKTC', u'ZXT690B', u'NPN'),\n",
      " (u'DIODS13249-1', u'BC81840', u'NPN'),\n",
      " (u'DISES00023-1', u'2N3906', u'NPN'),\n",
      " (u'DISES00189-1', u'BC546', u'PNP'),\n",
      " (u'DISES00189-1', u'BC546A', u'PNP'),\n",
      " (u'DISES00189-1', u'BC546AC', u'NPN'),\n",
      " (u'DISES00189-1', u'BC546AC', u'PNP'),\n",
      " (u'DISES00189-1', u'BC546C', u'NPN'),\n",
      " (u'DISES00189-1', u'BC546C', u'PNP'),\n",
      " (u'DISES00189-1', u'BC546XBK', u'NPN'),\n",
      " (u'DISES00189-1', u'BC546XBK', u'PNP'),\n",
      " (u'DISES00189-1', u'BC546XBKC', u'NPN'),\n",
      " (u'DISES00189-1', u'BC546XBKC', u'PNP'),\n",
      " (u'DISES00189-1', u'BC547', u'PNP'),\n",
      " (u'DISES00189-1', u'BC547A', u'PNP'),\n",
      " (u'DISES00189-1', u'BC547AC', u'NPN'),\n",
      " (u'DISES00189-1', u'BC547AC', u'PNP'),\n",
      " (u'DISES00189-1', u'BC547C', u'PNP'),\n",
      " (u'DISES00189-1', u'BC547XBK', u'NPN'),\n",
      " (u'DISES00189-1', u'BC547XBK', u'PNP'),\n",
      " (u'DISES00189-1', u'BC547XBKC', u'NPN'),\n",
      " (u'DISES00189-1', u'BC547XBKC', u'PNP'),\n",
      " (u'DISES00189-1', u'BC548', u'PNP'),\n",
      " (u'DISES00189-1', u'BC548A', u'PNP'),\n",
      " (u'DISES00189-1', u'BC548AC', u'NPN'),\n",
      " (u'DISES00189-1', u'BC548AC', u'PNP'),\n",
      " (u'DISES00189-1', u'BC548C', u'PNP'),\n",
      " (u'DISES00189-1', u'BC548XBK', u'NPN'),\n",
      " (u'DISES00189-1', u'BC548XBK', u'PNP'),\n",
      " (u'DISES00189-1', u'BC548XBKC', u'NPN'),\n",
      " (u'DISES00189-1', u'BC548XBKC', u'PNP'),\n",
      " (u'DISES00189-1', u'BC549', u'PNP'),\n",
      " (u'DISES00189-1', u'BC549C', u'PNP'),\n",
      " (u'DISES00189-1', u'BC549XBK', u'NPN'),\n",
      " (u'DISES00189-1', u'BC549XBK', u'PNP'),\n",
      " (u'DISES00189-1', u'BC549XBKC', u'NPN'),\n",
      " (u'DISES00189-1', u'BC549XBKC', u'PNP'),\n",
      " (u'DISES00192-1', u'BC807', u'NPN'),\n",
      " (u'DISES00192-1', u'BC807-16', u'NPN'),\n",
      " (u'DISES00192-1', u'BC807-25', u'NPN'),\n",
      " (u'DISES00192-1', u'BC807-40', u'NPN'),\n",
      " (u'DISES00192-1', u'BC808', u'NPN'),\n",
      " (u'DISES00192-1', u'BC808-16', u'NPN'),\n",
      " (u'DISES00192-1', u'BC808-25', u'NPN'),\n",
      " (u'DISES00192-1', u'BC808-40', u'NPN'),\n",
      " (u'DISES00242-1', u'MMBT3904', u'PNP'),\n",
      " (u'DISES00490-1', u'BC846AW', u'PNP'),\n",
      " (u'DISES00490-1', u'BC846BW', u'PNP'),\n",
      " (u'DISES00490-1', u'BC846W', u'PNP'),\n",
      " (u'DISES00490-1', u'BC847AW', u'PNP'),\n",
      " (u'DISES00490-1', u'BC847BW', u'PNP'),\n",
      " (u'DISES00490-1', u'BC847CW', u'PNP'),\n",
      " (u'DISES00490-1', u'BC847W', u'PNP'),\n",
      " (u'DISES00490-1', u'BC848AW', u'PNP'),\n",
      " (u'DISES00490-1', u'BC848BW', u'PNP'),\n",
      " (u'DISES00490-1', u'BC848CW', u'PNP'),\n",
      " (u'DISES00490-1', u'BC848W', u'PNP'),\n",
      " (u'DISES00490-1', u'BC849BW', u'PNP'),\n",
      " (u'DISES00490-1', u'BC849CW', u'PNP'),\n",
      " (u'DISES00490-1', u'BC849W', u'PNP'),\n",
      " (u'DISES00616-1', u'BC856', u'NPN'),\n",
      " (u'DISES00616-1', u'BC856A', u'NPN'),\n",
      " (u'DISES00616-1', u'BC856B', u'NPN'),\n",
      " (u'DISES00616-1', u'BC856C', u'NPN'),\n",
      " (u'DISES00616-1', u'BC857', u'NPN'),\n",
      " (u'DISES00616-1', u'BC857A', u'NPN'),\n",
      " (u'DISES00616-1', u'BC857B', u'NPN'),\n",
      " (u'DISES00616-1', u'BC857C', u'NPN'),\n",
      " (u'DISES00616-1', u'BC858', u'NPN'),\n",
      " (u'DISES00616-1', u'BC858A', u'NPN'),\n",
      " (u'DISES00616-1', u'BC858B', u'NPN'),\n",
      " (u'DISES00616-1', u'BC858C', u'NPN'),\n",
      " (u'DISES00616-1', u'BC859', u'NPN'),\n",
      " (u'DISES00616-1', u'BC859B', u'NPN'),\n",
      " (u'DISES00616-1', u'BC859C', u'NPN'),\n",
      " (u'DISES00616-1', u'BC860', u'NPN'),\n",
      " (u'DISES00616-1', u'BC860B', u'NPN'),\n",
      " (u'DISES00616-1', u'BC860C', u'NPN'),\n",
      " (u'DISES00645-1', u'BC817K', u'PNP'),\n",
      " (u'DISES00645-1', u'BC817K-16', u'PNP'),\n",
      " (u'DISES00645-1', u'BC817K-25', u'PNP'),\n",
      " (u'DISES00645-1', u'BC817K-40', u'PNP'),\n",
      " (u'DISES00645-1', u'BC818K', u'PNP'),\n",
      " (u'DISES00645-1', u'BC818K-16', u'PNP'),\n",
      " (u'DISES00645-1', u'BC818K-25', u'PNP'),\n",
      " (u'DISES00645-1', u'BC818K-40', u'PNP'),\n",
      " (u'DTC114W', u'DTC114W', u'PNP'),\n",
      " (u'DTC114W', u'DTC114WE', u'PNP'),\n",
      " (u'DTC114W', u'DTC114WKA', u'PNP'),\n",
      " (u'DTC114W', u'DTC114WUA', u'PNP'),\n",
      " (u'INFINEON-BC817KSERIES_BC818KSERIES-DS-V01_01-EN', u'BC817', u'NPN'),\n",
      " (u'INFINEON-BC817KSERIES_BC818KSERIES-DS-V01_01-EN', u'BC818', u'NPN'),\n",
      " (u'INFINEON-BC857SERIES_BC858SERIES_BC859SERIES_BC860SERIES-DS-V01_01-EN',\n",
      "  u'BC850',\n",
      "  u'NPN'),\n",
      " (u'INFINEON-BC857SERIES_BC858SERIES_BC859SERIES_BC860SERIES-DS-V01_01-EN',\n",
      "  u'BC850',\n",
      "  u'PNP'),\n",
      " (u'INFINEON-BC857SERIES_BC858SERIES_BC859SERIES_BC860SERIES-DS-V01_01-EN',\n",
      "  u'BC857',\n",
      "  u'NPN'),\n",
      " (u'INFINEON-BC857SERIES_BC858SERIES_BC859SERIES_BC860SERIES-DS-V01_01-EN',\n",
      "  u'BC857-BC860',\n",
      "  u'NPN'),\n",
      " (u'INFINEON-BC857SERIES_BC858SERIES_BC859SERIES_BC860SERIES-DS-V01_01-EN',\n",
      "  u'BC857-BC860',\n",
      "  u'PNP'),\n",
      " (u'INFINEON-BC857SERIES_BC858SERIES_BC859SERIES_BC860SERIES-DS-V01_01-EN',\n",
      "  u'BC857A',\n",
      "  u'NPN'),\n",
      " (u'INFINEON-BC857SERIES_BC858SERIES_BC859SERIES_BC860SERIES-DS-V01_01-EN',\n",
      "  u'BC857B',\n",
      "  u'NPN'),\n",
      " (u'INFINEON-BC857SERIES_BC858SERIES_BC859SERIES_BC860SERIES-DS-V01_01-EN',\n",
      "  u'BC857BL3',\n",
      "  u'NPN'),\n",
      " (u'INFINEON-BC857SERIES_BC858SERIES_BC859SERIES_BC860SERIES-DS-V01_01-EN',\n",
      "  u'BC857BW',\n",
      "  u'NPN'),\n",
      " (u'INFINEON-BC857SERIES_BC858SERIES_BC859SERIES_BC860SERIES-DS-V01_01-EN',\n",
      "  u'BC857C',\n",
      "  u'NPN'),\n",
      " (u'INFINEON-BC857SERIES_BC858SERIES_BC859SERIES_BC860SERIES-DS-V01_01-EN',\n",
      "  u'BC857CW',\n",
      "  u'NPN'),\n",
      " (u'INFINEON-BC857SERIES_BC858SERIES_BC859SERIES_BC860SERIES-DS-V01_01-EN',\n",
      "  u'BC857W',\n",
      "  u'NPN'),\n",
      " (u'INFINEON-BC857SERIES_BC858SERIES_BC859SERIES_BC860SERIES-DS-V01_01-EN',\n",
      "  u'BC857W',\n",
      "  u'PNP'),\n",
      " (u'INFINEON-BC857SERIES_BC858SERIES_BC859SERIES_BC860SERIES-DS-V01_01-EN',\n",
      "  u'BC857W-BC860W',\n",
      "  u'NPN'),\n",
      " (u'INFINEON-BC857SERIES_BC858SERIES_BC859SERIES_BC860SERIES-DS-V01_01-EN',\n",
      "  u'BC857W-BC860W',\n",
      "  u'PNP'),\n",
      " (u'INFINEON-BC857SERIES_BC858SERIES_BC859SERIES_BC860SERIES-DS-V01_01-EN',\n",
      "  u'BC858',\n",
      "  u'NPN'),\n",
      " (u'INFINEON-BC857SERIES_BC858SERIES_BC859SERIES_BC860SERIES-DS-V01_01-EN',\n",
      "  u'BC858A',\n",
      "  u'NPN'),\n",
      " (u'INFINEON-BC857SERIES_BC858SERIES_BC859SERIES_BC860SERIES-DS-V01_01-EN',\n",
      "  u'BC858B',\n",
      "  u'NPN'),\n",
      " (u'INFINEON-BC857SERIES_BC858SERIES_BC859SERIES_BC860SERIES-DS-V01_01-EN',\n",
      "  u'BC858BW',\n",
      "  u'NPN'),\n",
      " (u'INFINEON-BC857SERIES_BC858SERIES_BC859SERIES_BC860SERIES-DS-V01_01-EN',\n",
      "  u'BC858C',\n",
      "  u'NPN'),\n",
      " (u'INFINEON-BC857SERIES_BC858SERIES_BC859SERIES_BC860SERIES-DS-V01_01-EN',\n",
      "  u'BC858CW',\n",
      "  u'NPN'),\n",
      " (u'INFINEON-BC857SERIES_BC858SERIES_BC859SERIES_BC860SERIES-DS-V01_01-EN',\n",
      "  u'BC858W',\n",
      "  u'NPN'),\n",
      " (u'INFINEON-BC857SERIES_BC858SERIES_BC859SERIES_BC860SERIES-DS-V01_01-EN',\n",
      "  u'BC858W',\n",
      "  u'PNP'),\n",
      " (u'INFINEON-BC857SERIES_BC858SERIES_BC859SERIES_BC860SERIES-DS-V01_01-EN',\n",
      "  u'BC859',\n",
      "  u'NPN'),\n",
      " (u'INFINEON-BC857SERIES_BC858SERIES_BC859SERIES_BC860SERIES-DS-V01_01-EN',\n",
      "  u'BC859C',\n",
      "  u'NPN'),\n",
      " (u'INFINEON-BC857SERIES_BC858SERIES_BC859SERIES_BC860SERIES-DS-V01_01-EN',\n",
      "  u'BC859W',\n",
      "  u'NPN'),\n",
      " (u'INFINEON-BC857SERIES_BC858SERIES_BC859SERIES_BC860SERIES-DS-V01_01-EN',\n",
      "  u'BC859W',\n",
      "  u'PNP'),\n",
      " (u'INFINEON-BC857SERIES_BC858SERIES_BC859SERIES_BC860SERIES-DS-V01_01-EN',\n",
      "  u'BC860',\n",
      "  u'NPN'),\n",
      " (u'INFINEON-BC857SERIES_BC858SERIES_BC859SERIES_BC860SERIES-DS-V01_01-EN',\n",
      "  u'BC860B',\n",
      "  u'NPN'),\n",
      " (u'INFINEON-BC857SERIES_BC858SERIES_BC859SERIES_BC860SERIES-DS-V01_01-EN',\n",
      "  u'BC860BW',\n",
      "  u'NPN'),\n",
      " (u'INFINEON-BC857SERIES_BC858SERIES_BC859SERIES_BC860SERIES-DS-V01_01-EN',\n",
      "  u'BC860CW',\n",
      "  u'NPN'),\n",
      " (u'INFINEON-BC857SERIES_BC858SERIES_BC859SERIES_BC860SERIES-DS-V01_01-EN',\n",
      "  u'BC860W',\n",
      "  u'NPN'),\n",
      " (u'INFINEON-BC857SERIES_BC858SERIES_BC859SERIES_BC860SERIES-DS-V01_01-EN',\n",
      "  u'BC860W',\n",
      "  u'PNP'),\n",
      " (u'KECCS03676-1', u'BC856', u'NPN'),\n",
      " (u'KECCS03676-1', u'BC856A', u'NPN'),\n",
      " (u'KECCS03676-1', u'BC856AC', u'NPN'),\n",
      " (u'KECCS03676-1', u'BC856AC', u'PNP'),\n",
      " (u'KECCS03676-1', u'BC856B', u'NPN'),\n",
      " (u'KECCS03676-1', u'BC856BC', u'NPN'),\n",
      " (u'KECCS03676-1', u'BC856BC', u'PNP'),\n",
      " (u'KECCS03676-1', u'BC856C', u'NPN'),\n",
      " (u'KECCS03676-1', u'BC856C', u'PNP'),\n",
      " (u'KECCS03676-1', u'BC857', u'NPN'),\n",
      " (u'KECCS03676-1', u'BC857A', u'NPN'),\n",
      " (u'KECCS03676-1', u'BC857AC', u'NPN'),\n",
      " (u'KECCS03676-1', u'BC857AC', u'PNP'),\n",
      " (u'KECCS03676-1', u'BC857B', u'NPN'),\n",
      " (u'KECCS03676-1', u'BC857BC', u'NPN'),\n",
      " (u'KECCS03676-1', u'BC857BC', u'PNP'),\n",
      " (u'KECCS03676-1', u'BC857C', u'NPN'),\n",
      " (u'KECCS03676-1', u'BC858', u'NPN'),\n",
      " (u'KECCS03676-1', u'BC858C', u'NPN'),\n",
      " (u'KECCS05435-1', u'BC546', u'PNP'),\n",
      " (u'KECCS05435-1', u'BC546A', u'PNP'),\n",
      " (u'KECCS05435-1', u'BC546B', u'PNP'),\n",
      " (u'KECCS05435-1', u'BC546C', u'NPN'),\n",
      " (u'KECCS05435-1', u'BC546C', u'PNP'),\n",
      " (u'KECCS05435-1', u'BC547', u'PNP'),\n",
      " (u'KECCS05435-1', u'BC547A', u'PNP'),\n",
      " (u'KECCS05435-1', u'BC547B', u'PNP'),\n",
      " (u'KECCS05435-1', u'BC547C', u'PNP'),\n",
      " (u'KECCS05435-1', u'BC548', u'PNP'),\n",
      " (u'KECCS05435-1', u'BC548A', u'PNP'),\n",
      " (u'KECCS05435-1', u'BC548B', u'PNP'),\n",
      " (u'KECCS05435-1', u'BC548C', u'PNP'),\n",
      " (u'LITES00424-1', u'2N3906', u'NPN'),\n",
      " (u'LITES00424-1', u'MMBT3906', u'NPN'),\n",
      " (u'LITES00424-1', u'MMBT3906', u'PNP'),\n",
      " (u'LITES00690-1', u'BC546', u'PNP'),\n",
      " (u'LITES00690-1', u'BC546A', u'PNP'),\n",
      " (u'LITES00690-1', u'BC546B', u'PNP'),\n",
      " (u'LITES00690-1', u'BC546C', u'PNP'),\n",
      " (u'LITES00690-1', u'BC547', u'PNP'),\n",
      " (u'LITES00690-1', u'BC547A', u'PNP'),\n",
      " (u'LITES00690-1', u'BC547B', u'PNP'),\n",
      " (u'LITES00690-1', u'BC547C', u'PNP'),\n",
      " (u'LITES00690-1', u'BC548', u'PNP'),\n",
      " (u'LITES00690-1', u'BC548A', u'PNP'),\n",
      " (u'LITES00690-1', u'BC548B', u'PNP'),\n",
      " (u'LITES00690-1', u'BC548C', u'PNP'),\n",
      " (u'LITES00690-1', u'BC556', u'NPN'),\n",
      " (u'LITES00690-1', u'BC556', u'PNP'),\n",
      " (u'LITES00690-1', u'BC556A', u'NPN'),\n",
      " (u'LITES00690-1', u'BC556A', u'PNP'),\n",
      " (u'LITES00690-1', u'BC556B', u'NPN'),\n",
      " (u'LITES00690-1', u'BC556B', u'PNP'),\n",
      " (u'LITES00690-1', u'BC556C', u'NPN'),\n",
      " (u'LITES00690-1', u'BC556C', u'PNP'),\n",
      " (u'LITES00690-1', u'BC557', u'NPN'),\n",
      " (u'LITES00690-1', u'BC557', u'PNP'),\n",
      " (u'LITES00690-1', u'BC557A', u'NPN'),\n",
      " (u'LITES00690-1', u'BC557A', u'PNP'),\n",
      " (u'LITES00690-1', u'BC557B', u'NPN'),\n",
      " (u'LITES00690-1', u'BC557B', u'PNP'),\n",
      " (u'LITES00690-1', u'BC557C', u'NPN'),\n",
      " (u'LITES00690-1', u'BC557C', u'PNP'),\n",
      " (u'LITES00690-1', u'BC558', u'NPN'),\n",
      " (u'LITES00690-1', u'BC558', u'PNP'),\n",
      " (u'LITES00690-1', u'BC558A', u'NPN'),\n",
      " (u'LITES00690-1', u'BC558A', u'PNP'),\n",
      " (u'LITES00690-1', u'BC558B', u'NPN'),\n",
      " (u'LITES00690-1', u'BC558B', u'PNP'),\n",
      " (u'LITES00690-1', u'BC558C', u'NPN'),\n",
      " (u'LITES00690-1', u'BC558C', u'PNP'),\n",
      " (u'LTSCS02910-1', u'BC818-REV', u'NPN'),\n",
      " (u'LTSCS02912-1', u'BC846W-REV', u'NPN'),\n",
      " (u'LTSCS02920-1', u'BC857-REV', u'PNP'),\n",
      " (u'MCCCS09540-1', u'BC846A-BC849C', u'NPN'),\n",
      " (u'MICROCOMMERCIALCO_TIP29ABP', u'TIP29', u'PNP'),\n",
      " (u'MICROCOMMERCIALCO_TIP29ABP', u'TIP29A', u'PNP'),\n",
      " (u'MICROCOMMERCIALCO_TIP29ABP', u'TIP29B', u'PNP'),\n",
      " (u'MICROCOMMERCIALCO_TIP29ABP', u'TIP29C', u'PNP'),\n",
      " (u'MICROCOMMERCIALCO_TIP29ABP', u'TIP30', u'NPN'),\n",
      " (u'MICROCOMMERCIALCO_TIP29ABP', u'TIP30A', u'NPN'),\n",
      " (u'MICROCOMMERCIALCO_TIP29ABP', u'TIP30B', u'NPN'),\n",
      " (u'MICROCOMMERCIALCO_TIP29ABP', u'TIP30C', u'NPN'),\n",
      " (u'NXPUSAINC_PBSS5360PASX', u'PBSS5360PAS', u'NPN'),\n",
      " (u'ONSEMICONDUCTOR_MMBT6521LT1', u'AN569', u'NPN'),\n",
      " (u'ONSEMICONDUCTOR_MMBT6521LT1', u'MMBT6521LT1', u'NPN'),\n",
      " (u'ONSMS04099-1', u'MPS3904', u'NPN'),\n",
      " (u'ONSMS04099-1', u'MPS3904RLRA', u'NPN'),\n",
      " (u'PHGLS18216-1', u'BC547', u'PNP'),\n",
      " (u'PHGLS18216-1', u'BC547B', u'PNP'),\n",
      " (u'PHGLS18216-1', u'BC547C', u'PNP'),\n",
      " (u'PHGLS18216-1', u'BC557', u'NPN'),\n",
      " (u'PHGLS18216-1', u'BC557', u'PNP'),\n",
      " (u'PHGLS18216-1', u'BC557B', u'NPN'),\n",
      " (u'PHGLS18216-1', u'BC557B', u'PNP'),\n",
      " (u'PHGLS18216-1', u'BC557C', u'NPN'),\n",
      " (u'PHGLS18216-1', u'BC557C', u'PNP'),\n",
      " (u'PHGLS18216-1', u'BC847', u'PNP'),\n",
      " (u'PHGLS18216-1', u'BC847A', u'PNP'),\n",
      " (u'PHGLS18216-1', u'BC847AM', u'PNP'),\n",
      " (u'PHGLS18216-1', u'BC847AT', u'PNP'),\n",
      " (u'PHGLS18216-1', u'BC847AT/DG', u'PNP'),\n",
      " (u'PHGLS18216-1', u'BC847AW', u'PNP'),\n",
      " (u'PHGLS18216-1', u'BC847B', u'PNP'),\n",
      " (u'PHGLS18216-1', u'BC847B/DG', u'PNP'),\n",
      " (u'PHGLS18216-1', u'BC847BM', u'PNP'),\n",
      " (u'PHGLS18216-1', u'BC847BT', u'PNP'),\n",
      " (u'PHGLS18216-1', u'BC847BW', u'PNP'),\n",
      " (u'PHGLS18216-1', u'BC847BW/DG', u'PNP'),\n",
      " (u'PHGLS18216-1', u'BC847C', u'PNP'),\n",
      " (u'PHGLS18216-1', u'BC847CM', u'PNP'),\n",
      " (u'PHGLS18216-1', u'BC847CT', u'PNP'),\n",
      " (u'PHGLS18216-1', u'BC847CW', u'PNP'),\n",
      " (u'PHGLS18216-1', u'BC847DG', u'NPN'),\n",
      " (u'PHGLS18216-1', u'BC847DG', u'PNP'),\n",
      " (u'PHGLS18216-1', u'BC847T', u'PNP'),\n",
      " (u'PHGLS18216-1', u'BC847W', u'PNP'),\n",
      " (u'PHGLS18216-1', u'BC857', u'NPN'),\n",
      " (u'PHGLS18216-1', u'BC857', u'PNP'),\n",
      " (u'PHGLS18216-1', u'BC857A', u'NPN'),\n",
      " (u'PHGLS18216-1', u'BC857A', u'PNP'),\n",
      " (u'PHGLS18216-1', u'BC857AM', u'NPN'),\n",
      " (u'PHGLS18216-1', u'BC857AM', u'PNP'),\n",
      " (u'PHGLS18216-1', u'BC857AT', u'NPN'),\n",
      " (u'PHGLS18216-1', u'BC857AT', u'PNP'),\n",
      " (u'PHGLS18216-1', u'BC857AW', u'NPN'),\n",
      " (u'PHGLS18216-1', u'BC857AW', u'PNP'),\n",
      " (u'PHGLS18216-1', u'BC857B', u'NPN'),\n",
      " (u'PHGLS18216-1', u'BC857B', u'PNP'),\n",
      " (u'PHGLS18216-1', u'BC857BM', u'NPN'),\n",
      " (u'PHGLS18216-1', u'BC857BM', u'PNP'),\n",
      " (u'PHGLS18216-1', u'BC857BT', u'NPN'),\n",
      " (u'PHGLS18216-1', u'BC857BT', u'PNP'),\n",
      " (u'PHGLS18216-1', u'BC857BW', u'NPN'),\n",
      " (u'PHGLS18216-1', u'BC857BW', u'PNP'),\n",
      " (u'PHGLS18216-1', u'BC857C', u'NPN'),\n",
      " (u'PHGLS18216-1', u'BC857C', u'PNP'),\n",
      " (u'PHGLS18216-1', u'BC857CM', u'NPN'),\n",
      " (u'PHGLS18216-1', u'BC857CM', u'PNP'),\n",
      " (u'PHGLS18216-1', u'BC857CT', u'NPN'),\n",
      " (u'PHGLS18216-1', u'BC857CT', u'PNP'),\n",
      " (u'PHGLS18216-1', u'BC857CW', u'NPN'),\n",
      " (u'PHGLS18216-1', u'BC857CW', u'PNP'),\n",
      " (u'PHGLS18216-1', u'BC857T', u'NPN'),\n",
      " (u'PHGLS18216-1', u'BC857T', u'PNP'),\n",
      " (u'PHGLS18216-1', u'BC857W', u'NPN'),\n",
      " (u'PHGLS18216-1', u'BC857W', u'PNP'),\n",
      " (u'PHGLS19500-1', u'MMBT3904', u'PNP'),\n",
      " (u'PHGLS20125-1', u'BC327', u'NPN'),\n",
      " (u'PHGLS20125-1', u'BC327-16', u'NPN'),\n",
      " (u'PHGLS20125-1', u'BC327-25', u'NPN'),\n",
      " (u'PHGLS20125-1', u'BC327-40', u'NPN'),\n",
      " (u'PHGLS20125-1', u'BC807', u'NPN'),\n",
      " (u'PHGLS20125-1', u'BC807-16', u'NPN'),\n",
      " (u'PHGLS20125-1', u'BC807-16W', u'NPN'),\n",
      " (u'PHGLS20125-1', u'BC807-25', u'NPN'),\n",
      " (u'PHGLS20125-1', u'BC807-25W', u'NPN'),\n",
      " (u'PHGLS20125-1', u'BC807-40', u'NPN'),\n",
      " (u'PHGLS20125-1', u'BC807-40W', u'NPN'),\n",
      " (u'PHGLS20125-1', u'BC807W', u'NPN'),\n",
      " (u'PHGLS20126-1', u'BC337', u'PNP'),\n",
      " (u'PHGLS20126-1', u'BC337-16', u'PNP'),\n",
      " (u'PHGLS20126-1', u'BC337-25', u'PNP'),\n",
      " (u'PHGLS20126-1', u'BC337-40', u'PNP'),\n",
      " (u'PHGLS20126-1', u'BC817', u'PNP'),\n",
      " (u'PHGLS20126-1', u'BC817-16', u'PNP'),\n",
      " (u'PHGLS20126-1', u'BC817-16W', u'PNP'),\n",
      " (u'PHGLS20126-1', u'BC817-25', u'PNP'),\n",
      " (u'PHGLS20126-1', u'BC817-25W', u'PNP'),\n",
      " (u'PHGLS20126-1', u'BC817-40', u'PNP'),\n",
      " (u'PHGLS20126-1', u'BC817-40W', u'PNP'),\n",
      " (u'PHGLS20126-1', u'BC817W', u'PNP'),\n",
      " (u'PHGLS20267-1', u'2N4124', u'PNP'),\n",
      " (u'PHGLS20267-1', u'BP317', u'NPN'),\n",
      " (u'PHGLS20267-1', u'BP317', u'PNP'),\n",
      " (u'PHGLS25601-1', u'BC846', u'PNP'),\n",
      " (u'PHGLS25601-1', u'BC846A', u'PNP'),\n",
      " (u'PHGLS25601-1', u'BC846AT', u'PNP'),\n",
      " (u'PHGLS25601-1', u'BC846AW', u'PNP'),\n",
      " (u'PHGLS25601-1', u'BC846B', u'PNP'),\n",
      " (u'PHGLS25601-1', u'BC846BT', u'PNP'),\n",
      " (u'PHGLS25601-1', u'BC846BW', u'PNP'),\n",
      " (u'PHGLS25601-1', u'BC846T', u'PNP'),\n",
      " (u'PHGLS25601-1', u'BC846W', u'PNP'),\n",
      " (u'PHGLS25601-1', u'BC856', u'NPN'),\n",
      " (u'PHGLS25601-1', u'BC856', u'PNP'),\n",
      " (u'PHGLS25601-1', u'BC856T', u'NPN'),\n",
      " (u'PHGLS25601-1', u'BC856T', u'PNP'),\n",
      " (u'PHGLS25601-1', u'BC856W', u'NPN'),\n",
      " (u'PHGLS25601-1', u'BC856W', u'PNP'),\n",
      " (u'PNJIS01186-1', u'BC807', u'PNP'),\n",
      " (u'PNJIS01593-1', u'BC846', u'PNP'),\n",
      " (u'PNJIS01593-1', u'BC849', u'PNP'),\n",
      " (u'RECTS01158-1', u'BC807-25', u'NPN'),\n",
      " (u'RECTS01158-1', u'BC807-25LT1', u'NPN'),\n",
      " (u'RECTS01158-1', u'BC807-25LT1', u'PNP'),\n",
      " (u'RECTS01214-1', u'DTC114ECA-1', u'NPN'),\n",
      " (u'RECTS01242-1', u'BC857BLT1', u'PNP'),\n",
      " (u'RECTS01325-1', u'DTC114YCA-1', u'NPN'),\n",
      " (u'SANKEN_STD01N', u'STD01N', u'PNP'),\n",
      " (u'SANKEN_STD01N', u'STD01P', u'NPN'),\n",
      " (u'SANKEN_STD01N', u'STD01PARE', u'NPN'),\n",
      " (u'SANKEN_STD01N', u'STD01PARE', u'PNP'),\n",
      " (u'SGSTS13702-1', u'BC547B', u'PNP'),\n",
      " (u'SGSTS13702-1', u'BC547B-AP', u'PNP'),\n",
      " (u'SGSTS13702-1', u'BC547C', u'PNP'),\n",
      " (u'SGSTS13702-1', u'BC547C-AP', u'PNP'),\n",
      " (u'SGSTS13734-1', u'BC337-25', u'PNP'),\n",
      " (u'SGSTS13734-1', u'BC337-25-AP', u'PNP'),\n",
      " (u'SGSTS13734-1', u'BC337-40', u'PNP'),\n",
      " (u'SGSTS13734-1', u'BC337-40-AP', u'PNP'),\n",
      " (u'TWSCS04757-1', u'BC807', u'NPN'),\n",
      " (u'TWSCS04757-1', u'BC807', u'PNP'),\n",
      " (u'TWSCS04757-1', u'BC807-16', u'NPN'),\n",
      " (u'TWSCS04757-1', u'BC807-25', u'NPN'),\n",
      " (u'TWSCS04757-1', u'BC807-40', u'NPN'),\n",
      " (u'TWSCS04757-1', u'BC807-XX', u'NPN'),\n",
      " (u'TWSCS04757-1', u'BC807-XX', u'PNP'),\n",
      " (u'UTCLS01324-1', u'MMBT3904-E', u'NPN'),\n",
      " (u'UTCLS03593-1', u'DTC114E-I', u'NPN'),\n",
      " (u'VISHS23888-1', u'BC546', u'PNP'),\n",
      " (u'VISHS23888-1', u'BC546A', u'PNP'),\n",
      " (u'VISHS23888-1', u'BC546B', u'PNP'),\n",
      " (u'VISHS23888-1', u'BC546C', u'NPN'),\n",
      " (u'VISHS23888-1', u'BC546C', u'PNP'),\n",
      " (u'VISHS23888-1', u'BC547', u'PNP'),\n",
      " (u'VISHS23888-1', u'BC547A', u'PNP'),\n",
      " (u'VISHS23888-1', u'BC547B', u'PNP'),\n",
      " (u'VISHS23888-1', u'BC547C', u'PNP'),\n",
      " (u'VISHS23888-1', u'BC548', u'PNP'),\n",
      " (u'VISHS23888-1', u'BC548A', u'PNP'),\n",
      " (u'VISHS23888-1', u'BC548B', u'PNP'),\n",
      " (u'VISHS23888-1', u'BC548C', u'PNP'),\n",
      " (u'VISHS23888-1', u'BC549', u'PNP'),\n",
      " (u'VISHS23888-1', u'BC549A', u'NPN'),\n",
      " (u'VISHS23888-1', u'BC549A', u'PNP'),\n",
      " (u'VISHS23888-1', u'BC549B', u'PNP'),\n",
      " (u'VISHS23888-1', u'BC549C', u'PNP'),\n",
      " (u'VSMIS00373-1', u'BC337', u'PNP'),\n",
      " (u'VSMIS00373-1', u'BC337-16', u'PNP'),\n",
      " (u'VSMIS00373-1', u'BC337-25', u'PNP'),\n",
      " (u'VSMIS00373-1', u'BC337-40', u'PNP'),\n",
      " (u'VSMIS00373-1', u'BC338', u'PNP'),\n",
      " (u'VSMIS00373-1', u'BC338-16', u'PNP'),\n",
      " (u'VSMIS00373-1', u'BC338-25', u'PNP'),\n",
      " (u'VSMIS00373-1', u'BC338-40', u'PNP'),\n",
      " (u'VSMIS03793-1', u'BC817', u'PNP'),\n",
      " (u'VSMIS03793-1', u'BC817-16', u'PNP'),\n",
      " (u'VSMIS03793-1', u'BC817-25', u'PNP'),\n",
      " (u'VSMIS03793-1', u'BC817-40', u'PNP'),\n",
      " (u'VSMIS03793-1', u'BC818', u'PNP'),\n",
      " (u'VSMIS03793-1', u'BC818-16', u'PNP'),\n",
      " (u'VSMIS03793-1', u'BC818-25', u'PNP'),\n",
      " (u'VSMIS03793-1', u'BC818-40', u'PNP'),\n",
      " (u'WEITS00252-1', u'BC807-1', u'PNP'),\n",
      " (u'WEITS00252-1', u'BC807-17', u'PNP'),\n",
      " (u'ZETXS01948-1', u'BC860C', u'PNP')]\n"
     ]
    }
   ],
   "source": [
    "from pprint import pprint\n",
    "pprint(cfp)"
   ]
  },
  {
   "cell_type": "code",
   "execution_count": 18,
   "metadata": {
    "collapsed": false,
    "scrolled": true
   },
   "outputs": [
    {
     "name": "stdout",
     "output_type": "stream",
     "text": [
      "[('BOURNSINC_BD246BS', 'BD246', 'PNP'),\n",
      " ('BOURNSINC_BD246BS', 'BD246A', 'PNP'),\n",
      " ('BOURNSINC_BD246BS', 'BD246B', 'PNP'),\n",
      " ('BOURNSINC_BD246BS', 'BD246C', 'PNP'),\n",
      " ('BOURNSINC_TIP152S', 'TIP150', 'NPN'),\n",
      " ('BOURNSINC_TIP152S', 'TIP151', 'NPN'),\n",
      " ('BOURNSINC_TIP152S', 'TIP152', 'NPN'),\n",
      " ('DIODS13249-1', 'BC817-40', 'NPN'),\n",
      " ('DIODS13249-1', 'BC818-40', 'NPN'),\n",
      " ('DISES00189-1', 'BC546B', 'NPN'),\n",
      " ('DISES00189-1', 'BC547B', 'NPN'),\n",
      " ('DISES00189-1', 'BC548B', 'NPN'),\n",
      " ('DISES00189-1', 'BC549B', 'NPN'),\n",
      " ('KECCS03676-1', 'BC858A', 'PNP'),\n",
      " ('KECCS03676-1', 'BC858B', 'PNP'),\n",
      " ('LITES00689-1', 'BC337-16', 'NPN'),\n",
      " ('LITES00689-1', 'BC337-25', 'NPN'),\n",
      " ('LITES00689-1', 'BC337-40', 'NPN'),\n",
      " ('MICROCOMMERCIALCO_2N3904AP', '2N3904-AP', 'NPN'),\n",
      " ('MICROCOMMERCIALCO_2N3904AP', '2N3904-AP-HF', 'NPN'),\n",
      " ('MICROCOMMERCIALCO_2N3904AP', '2N3904-BP', 'NPN'),\n",
      " ('MICROCOMMERCIALCO_2N3904AP', '2N3904-BP-HF', 'NPN'),\n",
      " ('MICROCOMMERCIALCO_TIP29ABP', 'TIP29A-BP', 'NPN'),\n",
      " ('MICROCOMMERCIALCO_TIP29ABP', 'TIP29A-BP-HF', 'NPN'),\n",
      " ('MICROCOMMERCIALCO_TIP29ABP', 'TIP29B-BP', 'NPN'),\n",
      " ('MICROCOMMERCIALCO_TIP29ABP', 'TIP29B-BP-HF', 'NPN'),\n",
      " ('MICROCOMMERCIALCO_TIP29ABP', 'TIP29C-BP', 'NPN'),\n",
      " ('MICROCOMMERCIALCO_TIP29ABP', 'TIP29C-BP-HF', 'NPN'),\n",
      " ('MICROCOMMERCIALCO_TIP29ABP', 'TIP30A-BP', 'PNP'),\n",
      " ('MICROCOMMERCIALCO_TIP29ABP', 'TIP30A-BP-HF', 'PNP'),\n",
      " ('MICROCOMMERCIALCO_TIP29ABP', 'TIP30B-BP', 'PNP'),\n",
      " ('MICROCOMMERCIALCO_TIP29ABP', 'TIP30B-BP-HF', 'PNP'),\n",
      " ('MICROCOMMERCIALCO_TIP29ABP', 'TIP30C-BP', 'PNP'),\n",
      " ('MICROCOMMERCIALCO_TIP29ABP', 'TIP30C-BP-HF', 'PNP'),\n",
      " ('MICROSEMICORPORATION_2N2484UB', '2N2484UA', 'NPN'),\n",
      " ('MICROSEMICORPORATION_2N2484UB', '2N2484UB', 'NPN'),\n",
      " ('MICROSEMICORPORATION_2N2484UB', '2N2484UBC', 'NPN'),\n",
      " ('ONSMS04099-1', 'BC239C', 'NPN'),\n",
      " ('RECTS00705-1', 'BC547A', 'NPN'),\n",
      " ('RECTS00705-1', 'BC547B', 'NPN'),\n",
      " ('RECTS00705-1', 'BC548A', 'NPN'),\n",
      " ('RECTS00705-1', 'BC548B', 'NPN'),\n",
      " ('SIEMS01215-1', 'BC856', 'PNP'),\n",
      " ('SIEMS01215-1', 'BC856A', 'PNP'),\n",
      " ('SIEMS01215-1', 'BC856B', 'PNP'),\n",
      " ('SIEMS01215-1', 'BC857', 'PNP'),\n",
      " ('SIEMS01215-1', 'BC857A', 'PNP'),\n",
      " ('SIEMS01215-1', 'BC857B', 'PNP'),\n",
      " ('SIEMS01215-1', 'BC857C', 'PNP'),\n",
      " ('SIEMS01215-1', 'BC858', 'PNP'),\n",
      " ('SIEMS01215-1', 'BC858A', 'PNP'),\n",
      " ('SIEMS01215-1', 'BC858B', 'PNP'),\n",
      " ('SIEMS01215-1', 'BC858C', 'PNP'),\n",
      " ('SIEMS01215-1', 'BC859', 'PNP'),\n",
      " ('SIEMS01215-1', 'BC859A', 'PNP'),\n",
      " ('SIEMS01215-1', 'BC859B', 'PNP'),\n",
      " ('SIEMS01215-1', 'BC859C', 'PNP'),\n",
      " ('SIEMS01215-1', 'BC860', 'PNP'),\n",
      " ('SIEMS01215-1', 'BC860B', 'PNP'),\n",
      " ('SIEMS01215-1', 'BC860C', 'PNP'),\n",
      " ('TTELECTRONICSOPTEKTECHNOLOGY_2N2222AUATXV', '2N2222AUA', 'NPN'),\n",
      " ('TTELECTRONICSOPTEKTECHNOLOGY_2N2222AUATXV', '2N2222AUATX', 'NPN'),\n",
      " ('TTELECTRONICSOPTEKTECHNOLOGY_2N2222AUATXV', '2N2222AUATXV', 'NPN'),\n",
      " ('UTCLS02155-1', 'BC807', 'PNP'),\n",
      " ('UTCLS02155-1', 'BC807-16', 'PNP'),\n",
      " ('UTCLS02155-1', 'BC807-25', 'PNP'),\n",
      " ('UTCLS02155-1', 'BC807-40', 'PNP'),\n",
      " ('UTCLS02155-1', 'BC808', 'PNP'),\n",
      " ('UTCLS02155-1', 'BC808-16', 'PNP'),\n",
      " ('UTCLS02155-1', 'BC808-25', 'PNP'),\n",
      " ('UTCLS02155-1', 'BC808-40', 'PNP'),\n",
      " ('ZETXS01948-1', 'BC856A-3A', 'PNP')]\n"
     ]
    }
   ],
   "source": [
    "pprint(cfn)"
   ]
  },
  {
   "cell_type": "code",
   "execution_count": 19,
   "metadata": {
    "collapsed": true
   },
   "outputs": [],
   "source": [
    "# If necessary\n",
    "if not snorkel_postgres:\n",
    "    import os\n",
    "    os.system('cp snorkel.db snorkel.db\\ candidates');"
   ]
  },
  {
   "cell_type": "markdown",
   "metadata": {},
   "source": [
    "## Gold Labels"
   ]
  },
  {
   "cell_type": "code",
   "execution_count": 20,
   "metadata": {
    "collapsed": true
   },
   "outputs": [],
   "source": [
    "# If necessary\n",
    "# import os\n",
    "# os.remove('snorkel.db');\n",
    "# os.system('cp snorkel.db\\ candidates snorkel.db');\n",
    "\n",
    "# import sys\n",
    "# sys.path.append(os.environ['SNORKELHOME'] + '/tutorials/tables/')\n",
    "\n",
    "# from snorkel import SnorkelSession\n",
    "# session = SnorkelSession()\n",
    "\n",
    "# from snorkel.models import candidate_subclass\n",
    "# Part_Attr = candidate_subclass('Part_Attr', ['part','attr'])"
   ]
  },
  {
   "cell_type": "code",
   "execution_count": 21,
   "metadata": {
    "collapsed": false
   },
   "outputs": [
    {
     "name": "stdout",
     "output_type": "stream",
     "text": [
      "Loading 17313 candidate labels\n",
      "[========================================] 100%\n",
      "CPU times: user 50 s, sys: 1.17 s, total: 51.2 s\n",
      "Wall time: 59.2 s\n",
      "15077/17313 Candidates in Candidate Set (Hardware Dev Candidates) have positive Labels\n",
      "Loading 4711 candidate labels\n",
      "[========================================] 100%\n",
      "CPU times: user 13.8 s, sys: 340 ms, total: 14.2 s\n",
      "Wall time: 16.4 s\n",
      "3684/4711 Candidates in Candidate Set (Hardware Test Candidates) have positive Labels\n"
     ]
    }
   ],
   "source": [
    "import os\n",
    "from snorkel.models import CandidateSet\n",
    "from hardware_utils import load_hardware_labels\n",
    "\n",
    "data_sets = ['Dev']\n",
    "gold_file = {}\n",
    "gold_file['Dev'] = os.environ['SNORKELHOME'] + '/tutorials/tables/data/hardware/dev/hardware_dev_gold.csv'\n",
    "if TEST_SIZE:\n",
    "    data_sets.append('Test')\n",
    "    gold_file['Test'] = os.environ['SNORKELHOME'] + '/tutorials/tables/data/hardware/test/hardware_test_gold.csv'\n",
    "for data_set in data_sets:\n",
    "    candidate_set_name = 'Hardware %s Candidates' % data_set\n",
    "    candidates = session.query(CandidateSet).filter(\n",
    "        CandidateSet.name == candidate_set_name).one()\n",
    "    label_set_name = 'Hardware %s Candidates -- Gold' % data_set\n",
    "    annotation_key_name = 'Hardware %s Labels -- Gold' % data_set\n",
    "    %time gold_candidates, annotation_key = load_hardware_labels(session,\\\n",
    "                           label_set_name, \\\n",
    "                           annotation_key_name, \\\n",
    "                           candidates, \\\n",
    "                           gold_file[data_set], \\\n",
    "                           ATTRIBUTE)\n",
    "    candidates_gold = session.query(CandidateSet).filter(\n",
    "        CandidateSet.name == candidate_set_name + ' -- Gold').one()\n",
    "    print \"%d/%d Candidates in %s have positive Labels\" % (\n",
    "        len(candidates_gold), len(candidates), candidates)"
   ]
  },
  {
   "cell_type": "code",
   "execution_count": 22,
   "metadata": {
    "collapsed": true
   },
   "outputs": [],
   "source": [
    "# If necessary\n",
    "if not snorkel_postgres:\n",
    "    import os\n",
    "    os.system('cp snorkel.db snorkel.db\\ labels');"
   ]
  },
  {
   "cell_type": "markdown",
   "metadata": {},
   "source": [
    "## Features"
   ]
  },
  {
   "cell_type": "code",
   "execution_count": null,
   "metadata": {
    "collapsed": false
   },
   "outputs": [],
   "source": [
    "# # If necessary:\n",
    "# import os\n",
    "# # os.remove('snorkel.db');\n",
    "# os.system('cp snorkel.db\\ labels snorkel.db');\n",
    "\n",
    "# from snorkel import SnorkelSession\n",
    "# session = SnorkelSession()\n",
    "\n",
    "# from snorkel.models import candidate_subclass\n",
    "# Part_Attr = candidate_subclass('Part_Attr', ['part','attr'])"
   ]
  },
  {
   "cell_type": "markdown",
   "metadata": {},
   "source": [
    "### Extract Features"
   ]
  },
  {
   "cell_type": "code",
   "execution_count": null,
   "metadata": {
    "collapsed": false,
    "scrolled": false
   },
   "outputs": [
    {
     "name": "stdout",
     "output_type": "stream",
     "text": [
      "Starting async featurization...\n",
      "[=                                       ] 2%"
     ]
    }
   ],
   "source": [
    "from snorkel.models import CandidateSet\n",
    "from snorkel.utils import get_ORM_instance\n",
    "\n",
    "train = get_ORM_instance(CandidateSet, session, 'Hardware Train Candidates')\n",
    "dev   = get_ORM_instance(CandidateSet, session, 'Hardware Dev Candidates')\n",
    "test  = get_ORM_instance(CandidateSet, session, 'Hardware Test Candidates')\n",
    "\n",
    "if snorkel_postgres:\n",
    "    from snorkel.async_annotations import annotate\n",
    "    print \"Starting async featurization...\"\n",
    "    %time F_train = annotate(train, parallel=PARALLEL_F, dynamic_scheduling=False)\n",
    "    %time F_dev   = annotate(dev, parallel=PARALLEL_F, dynamic_scheduling=False,\\\n",
    "                             keyset = 'Hardware Train Candidates')\n",
    "    if TEST_SIZE:\n",
    "        %time F_test = annotate(test, parallel=PARALLEL_F, dynamic_scheduling=False,\\\n",
    "                                keyset = 'Hardware Train Candidates')\n",
    "    \n",
    "else:\n",
    "    from snorkel.models import CandidateSet\n",
    "    from snorkel.fast_annotations import FeatureManager\n",
    "    from snorkel.utils import get_ORM_instance\n",
    "\n",
    "    print \"Starting sync featurization...\"\n",
    "    feature_manager = FeatureManager()\n",
    "    %time F_train = feature_manager.create(session, train, 'Train Features')\n",
    "    %time F_dev = feature_manager.update(session, dev, 'Train Features', expand_key_set=False)"
   ]
  },
  {
   "cell_type": "code",
   "execution_count": null,
   "metadata": {
    "collapsed": true
   },
   "outputs": [],
   "source": [
    "# If necessary:\n",
    "if not snorkel_postgres:\n",
    "    import os\n",
    "    os.system('cp snorkel.db snorkel.db\\ featurized');"
   ]
  },
  {
   "cell_type": "markdown",
   "metadata": {},
   "source": [
    "## LFs"
   ]
  },
  {
   "cell_type": "code",
   "execution_count": null,
   "metadata": {
    "collapsed": false
   },
   "outputs": [],
   "source": [
    "# If necessary\n",
    "# import os\n",
    "# os.remove('snorkel.db');\n",
    "# os.system('cp snorkel.db\\ featurized snorkel.db');\n",
    "\n",
    "# from snorkel import SnorkelSession\n",
    "# session = SnorkelSession()\n",
    "\n",
    "# import sys\n",
    "# sys.path.append(os.environ['SNORKELHOME'] + '/tutorials/tables/')\n",
    "\n",
    "# from snorkel.models import candidate_subclass\n",
    "# Part_Attr = candidate_subclass('Part_Attr', ['part','attr'])\n",
    "\n",
    "# from snorkel.models import CandidateSet\n",
    "# train = session.query(CandidateSet).filter(\n",
    "#     CandidateSet.name == 'Hardware Train Candidates').one()\n",
    "# dev = session.query(CandidateSet).filter(\n",
    "#     CandidateSet.name == 'Hardware Dev Candidates').one()\n",
    "\n",
    "# from snorkel.annotations import FeatureManager, LabelManager\n",
    "# feature_manager = FeatureManager()\n",
    "# %time F_train = feature_manager.load(session, train, 'Train Features')\n",
    "# %time F_dev = feature_manager.load(session, dev, 'Train Features')"
   ]
  },
  {
   "cell_type": "markdown",
   "metadata": {},
   "source": [
    "### Define LFs"
   ]
  },
  {
   "cell_type": "code",
   "execution_count": null,
   "metadata": {
    "collapsed": false
   },
   "outputs": [],
   "source": [
    "from hardware_lfs import get_lfs\n",
    "\n",
    "LFs = get_lfs(ATTRIBUTE)"
   ]
  },
  {
   "cell_type": "markdown",
   "metadata": {},
   "source": [
    "### Apply LFs"
   ]
  },
  {
   "cell_type": "code",
   "execution_count": null,
   "metadata": {
    "collapsed": false
   },
   "outputs": [],
   "source": [
    "if snorkel_postgres:\n",
    "    from snorkel.async_annotations import annotate\n",
    "    %time L_train = annotate(train, parallel=PARALLEL_F, lfs=LFs, dynamic_scheduling=False)\n",
    "else:\n",
    "    from snorkel.fast_annotations import LabelManager\n",
    "    label_manager = LabelManager()\n",
    "    %time L_train = label_manager.create(session, train, 'LF Labels', f=LFs)\n",
    "L_train"
   ]
  },
  {
   "cell_type": "markdown",
   "metadata": {},
   "source": [
    "### Assess LF accuracy"
   ]
  },
  {
   "cell_type": "code",
   "execution_count": null,
   "metadata": {
    "collapsed": false
   },
   "outputs": [],
   "source": [
    "%time L_train.lf_stats()"
   ]
  },
  {
   "cell_type": "code",
   "execution_count": null,
   "metadata": {
    "collapsed": true
   },
   "outputs": [],
   "source": [
    "# If necessary\n",
    "if not snorkel_postgres:\n",
    "    import os\n",
    "    os.system('cp snorkel.db snorkel.db\\ features');"
   ]
  },
  {
   "cell_type": "markdown",
   "metadata": {},
   "source": [
    "## Learn and Evaluate"
   ]
  },
  {
   "cell_type": "code",
   "execution_count": null,
   "metadata": {
    "collapsed": false
   },
   "outputs": [],
   "source": [
    "# If necessary:\n",
    "# import os\n",
    "# os.remove('snorkel.db');\n",
    "# os.system('cp snorkel.db\\ features snorkel.db');\n",
    "\n",
    "# from snorkel import SnorkelSession\n",
    "# session = SnorkelSession()\n",
    "\n",
    "# import sys\n",
    "# sys.path.append(os.environ['SNORKELHOME'] + '/tutorials/tables/')\n",
    "\n",
    "# from snorkel.models import candidate_subclass\n",
    "# Part_Attr = candidate_subclass('Part_Attr', ['part','attr'])\n",
    "\n",
    "# from snorkel.models import CandidateSet\n",
    "# train = session.query(CandidateSet).filter(\n",
    "#     CandidateSet.name == 'Hardware Training Candidates').one()\n",
    "# dev = session.query(CandidateSet).filter(\n",
    "#     CandidateSet.name == 'Hardware Development Candidates').one()\n",
    "\n",
    "# from snorkel.annotations import FeatureManager, LabelManager\n",
    "# feature_manager = FeatureManager()\n",
    "# %time F_train = feature_manager.load(session, train, 'Train Features')\n",
    "# %time F_dev = feature_manager.load(session, dev, 'Train Features')\n",
    "\n",
    "# label_manager = LabelManager()\n",
    "# %time L_train = label_manager.load(session, train, 'LF Labels')"
   ]
  },
  {
   "cell_type": "code",
   "execution_count": null,
   "metadata": {
    "collapsed": false,
    "scrolled": true
   },
   "outputs": [],
   "source": [
    "from snorkel.learning import NaiveBayes\n",
    "\n",
    "gen_model = NaiveBayes()\n",
    "%time gen_model.train(L_train, n_iter=2000, rate=1e-3, mu=1e-6)\n",
    "train_marginals = gen_model.marginals(L_train)"
   ]
  },
  {
   "cell_type": "code",
   "execution_count": null,
   "metadata": {
    "collapsed": false
   },
   "outputs": [],
   "source": [
    "pprint(zip([lf.__name__ for lf in LFs], gen_model.w))\n",
    "print min(train_marginals)\n",
    "print max(train_marginals)"
   ]
  },
  {
   "cell_type": "code",
   "execution_count": null,
   "metadata": {
    "collapsed": false,
    "scrolled": true
   },
   "outputs": [],
   "source": [
    "from snorkel.learning import LogReg\n",
    "\n",
    "disc_model = LogReg()\n",
    "%time disc_model.train(F_train, train_marginals, n_iter=10000, rate=1e-3)"
   ]
  },
  {
   "cell_type": "code",
   "execution_count": null,
   "metadata": {
    "collapsed": false
   },
   "outputs": [],
   "source": [
    "dev_gold = session.query(CandidateSet).filter(\n",
    "    CandidateSet.name == 'Hardware Dev Candidates -- Gold').one()"
   ]
  },
  {
   "cell_type": "code",
   "execution_count": null,
   "metadata": {
    "collapsed": false
   },
   "outputs": [],
   "source": [
    "from snorkel.annotations import LabelManager\n",
    "label_manager = LabelManager()\n",
    "L_dev = label_manager.load(session, dev, 'Hardware Dev Labels -- Gold')\n",
    "L_dev.shape"
   ]
  },
  {
   "cell_type": "code",
   "execution_count": null,
   "metadata": {
    "collapsed": false,
    "scrolled": false
   },
   "outputs": [],
   "source": [
    "tp, fp, tn, fn = disc_model.score(F_dev, L_dev, dev_gold)"
   ]
  },
  {
   "cell_type": "code",
   "execution_count": null,
   "metadata": {
    "collapsed": false
   },
   "outputs": [],
   "source": [
    "from snorkel.models import Corpus\n",
    "from hardware_utils import entity_level_f1\n",
    "import os\n",
    "\n",
    "gold_file = os.environ['SNORKELHOME'] + '/tutorials/tables/data/hardware/dev/hardware_dev_gold.csv'\n",
    "corpus = session.query(Corpus).filter(Corpus.name == 'Hardware Dev').one()\n",
    "%time (TP, FP, FN) = entity_level_f1(tp.union(fp), gold_file, ATTRIBUTE, corpus, parts_by_doc=None)\n",
    "%time (TP, FP, FN) = entity_level_f1(tp.union(fp), gold_file, ATTRIBUTE, corpus, parts_by_doc=parts_by_doc)"
   ]
  },
  {
   "cell_type": "markdown",
   "metadata": {},
   "source": [
    "### Error Analysis"
   ]
  },
  {
   "cell_type": "code",
   "execution_count": null,
   "metadata": {
    "collapsed": false
   },
   "outputs": [],
   "source": [
    "# from hardware_utils import separate_fns\n",
    "\n",
    "# unfound, misclassified = separate_fns(FN, cfn)"
   ]
  },
  {
   "cell_type": "code",
   "execution_count": null,
   "metadata": {
    "collapsed": true
   },
   "outputs": [],
   "source": [
    "# pprint(misclassified)"
   ]
  },
  {
   "cell_type": "code",
   "execution_count": null,
   "metadata": {
    "collapsed": true
   },
   "outputs": [],
   "source": [
    "# pprint(unfound)"
   ]
  },
  {
   "cell_type": "code",
   "execution_count": null,
   "metadata": {
    "collapsed": false,
    "scrolled": true
   },
   "outputs": [],
   "source": [
    "# from hardware_utils import separate_fps\n",
    "\n",
    "# bad_part, bad_relation = separate_fps(FP, corpus, gold_file)"
   ]
  },
  {
   "cell_type": "code",
   "execution_count": null,
   "metadata": {
    "collapsed": true
   },
   "outputs": [],
   "source": [
    "# pprint(bad_relation)"
   ]
  },
  {
   "cell_type": "code",
   "execution_count": null,
   "metadata": {
    "collapsed": true
   },
   "outputs": [],
   "source": [
    "# pprint(bad_part)"
   ]
  },
  {
   "cell_type": "code",
   "execution_count": null,
   "metadata": {
    "collapsed": true
   },
   "outputs": [],
   "source": [
    "# from pprint import pprint\n",
    "# pprint([(unicode(x[0]), x[1]) for x in disc_model.get_feature_weights(F_dev)[:100]])"
   ]
  },
  {
   "cell_type": "code",
   "execution_count": null,
   "metadata": {
    "collapsed": false
   },
   "outputs": [],
   "source": [
    "# from hardware_utils import entity_to_candidates\n",
    "\n",
    "# entity = FP[0]\n",
    "# print entity\n",
    "# print\n",
    "\n",
    "# matches = entity_to_candidates(entity, fp)\n",
    "# print \"# Matches: %d\" % len(matches)\n",
    "# print\n",
    "\n",
    "# candidate = matches[0]\n",
    "# print candidate\n",
    "# print\n",
    "\n",
    "# from hardware_utils import part_error_analysis\n",
    "# part_error_analysis(candidate)\n",
    "\n",
    "# pprint(disc_model.get_candidate_feature_weights(candidate, F_dev))"
   ]
  },
  {
   "cell_type": "markdown",
   "metadata": {},
   "source": [
    "### Oracle"
   ]
  },
  {
   "cell_type": "code",
   "execution_count": null,
   "metadata": {
    "collapsed": false
   },
   "outputs": [],
   "source": [
    "from hardware_utils import get_gold_parts_by_doc, get_manual_parts_by_doc\n",
    "from snorkel.utils import get_ORM_instance\n",
    "from snorkel.models import Corpus\n",
    "\n",
    "parts_by_doc = get_gold_parts_by_doc()\n",
    "(TP, FP, FN) = entity_level_f1(tp.union(fp), gold_file, ATTRIBUTE, corpus, parts_by_doc)"
   ]
  },
  {
   "cell_type": "markdown",
   "metadata": {
    "collapsed": true
   },
   "source": [
    "### Test Results"
   ]
  },
  {
   "cell_type": "code",
   "execution_count": null,
   "metadata": {
    "collapsed": false
   },
   "outputs": [],
   "source": [
    "if TEST_SIZE:\n",
    "    from snorkel.annotations import LabelManager\n",
    "    label_manager = LabelManager()\n",
    "    L_test = label_manager.load(session, test, 'Hardware Test Labels -- Gold')\n",
    "    L_test.shape\n",
    "    \n",
    "    tp, fp, tn, fn = disc_model.score(F_test, L_test, dev_gold,b=0.999)\n",
    "    \n",
    "    from hardware_utils import get_gold_parts_by_doc, get_manual_parts_by_doc\n",
    "    from snorkel.utils import get_ORM_instance\n",
    "    from snorkel.models import Corpus\n",
    "\n",
    "    corpus = get_ORM_instance(Corpus, session, 'Hardware Test')\n",
    "\n",
    "    # parts_by_doc_test = get_manual_parts_by_doc(corpus.documents.all())\n",
    "    # parts_by_doc_test = None\n",
    "    import cPickle as pickle\n",
    "    pickle_file = os.environ['SNORKELHOME'] + '/tutorials/tables/sandbox/parts_by_doc_test.pkl'\n",
    "    with open(pickle_file, 'r') as f:\n",
    "        parts_by_doc_test = pickle.load(f)\n",
    "\n",
    "    from snorkel.models import Corpus\n",
    "    from hardware_utils import entity_level_f1\n",
    "    import os\n",
    "\n",
    "    gold_file = os.environ['SNORKELHOME'] + '/tutorials/tables/data/hardware/test/hardware_test_gold.csv'\n",
    "    (TP, FP, FN) = entity_level_f1(tp.union(fp), gold_file, ATTRIBUTE, corpus)\n",
    "    (TP, FP, FN) = entity_level_f1(tp.union(fp), gold_file, ATTRIBUTE, corpus, parts_by_doc_test)"
   ]
  }
 ],
 "metadata": {
  "anaconda-cloud": {},
  "kernelspec": {
   "display_name": "Python 2",
   "language": "python",
   "name": "python2"
  },
  "language_info": {
   "codemirror_mode": {
    "name": "ipython",
    "version": 2
   },
   "file_extension": ".py",
   "mimetype": "text/x-python",
   "name": "python",
   "nbconvert_exporter": "python",
   "pygments_lexer": "ipython2",
   "version": "2.7.6"
  }
 },
 "nbformat": 4,
 "nbformat_minor": 1
}
