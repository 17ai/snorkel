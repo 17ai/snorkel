{
 "cells": [
  {
   "cell_type": "markdown",
   "metadata": {},
   "source": [
    "# Adding Visual Features"
   ]
  },
  {
   "cell_type": "code",
   "execution_count": 1,
   "metadata": {
    "collapsed": false,
    "scrolled": false
   },
   "outputs": [],
   "source": [
    "%load_ext autoreload\n",
    "%autoreload 2\n",
    "\n",
    "import os\n",
    "os.remove('snorkel.db')\n",
    "\n",
    "import sys\n",
    "sys.path.append(os.environ['SNORKELHOME'] + '/tutorials/tables/')\n",
    "\n",
    "from snorkel import SnorkelSession\n",
    "session = SnorkelSession()\n",
    "\n",
    "from pdb import set_trace as t"
   ]
  },
  {
   "cell_type": "markdown",
   "metadata": {},
   "source": [
    "### Convert PDF to HTML"
   ]
  },
  {
   "cell_type": "markdown",
   "metadata": {},
   "source": [
    "Use Adobe Acrobat (or other program of your choice) to convert PDF -> HTML with structure."
   ]
  },
  {
   "cell_type": "markdown",
   "metadata": {},
   "source": [
    "### Parse HTML and PDF"
   ]
  },
  {
   "cell_type": "code",
   "execution_count": 2,
   "metadata": {
    "collapsed": false,
    "scrolled": true
   },
   "outputs": [
    {
     "name": "stdout",
     "output_type": "stream",
     "text": [
      "[========================================] 100%\n",
      "CPU times: user 4.6 s, sys: 122 ms, total: 4.72 s\n",
      "Wall time: 6.88 s\n"
     ]
    }
   ],
   "source": [
    "import os\n",
    "from snorkel.parser import CorpusParser\n",
    "from snorkel.parser import HTMLParser\n",
    "from snorkel.parser import OmniParser\n",
    "\n",
    "pdf_path = os.environ['SNORKELHOME'] + '/tutorials/tables/data/hardware/hardware100_pdf/'\n",
    "html_path = os.environ['SNORKELHOME'] + '/tutorials/tables/data/hardware/hardware100_html/'\n",
    "\n",
    "filename = 'bc546-d'\n",
    "# filename = 'bc550'\n",
    "# filename = 'VISHS23888-1' \n",
    "# filename = 'BC546-BC548C(TO-92)'\n",
    "# filename = 'INFNS19372-1'\n",
    "# filename = 'PHGLS18216-1'\n",
    "html_file = html_path + filename + '.html'\n",
    "# html_file=html_path\n",
    "\n",
    "doc_parser = HTMLParser(path=html_file)\n",
    "context_parser = OmniParser(visual=True, pdf_path=pdf_path, session=session)\n",
    "cp = CorpusParser(doc_parser, context_parser, max_docs=1) \n",
    "\n",
    "%time corpus = cp.parse_corpus(name='Hardware', session=session)\n",
    "\n",
    "# # Save results\n",
    "# os.system('cp snorkel.db snorkel.db\\ corpus');"
   ]
  },
  {
   "cell_type": "code",
   "execution_count": 3,
   "metadata": {
    "collapsed": false
   },
   "outputs": [
    {
     "name": "stdout",
     "output_type": "stream",
     "text": [
      "[59, 99, 59, 59, 155]\n"
     ]
    }
   ],
   "source": [
    "print corpus.documents[0].phrases[0].left"
   ]
  },
  {
   "cell_type": "markdown",
   "metadata": {},
   "source": [
    "### Load results"
   ]
  },
  {
   "cell_type": "code",
   "execution_count": null,
   "metadata": {
    "collapsed": false
   },
   "outputs": [],
   "source": [
    "import os\n",
    "from snorkel.models import Corpus\n",
    "from snorkel.utils import get_ORM_instance\n",
    "\n",
    "os.system('cp snorkel.db\\ corpus snorkel.db');\n",
    "corpus = get_ORM_instance(Corpus, session, 'Hardware')"
   ]
  },
  {
   "cell_type": "markdown",
   "metadata": {},
   "source": [
    "### Extract Candidates"
   ]
  },
  {
   "cell_type": "code",
   "execution_count": 4,
   "metadata": {
    "collapsed": false,
    "scrolled": true
   },
   "outputs": [
    {
     "name": "stdout",
     "output_type": "stream",
     "text": [
      "Extracting Candidates from Corpus (Hardware)\n",
      "[========================================] 100%\n",
      "CPU times: user 5.46 s, sys: 23 ms, total: 5.49 s\n",
      "Wall time: 5.5 s\n",
      "Candidate Set (Hardware Candidates) contains 5367 Candidates\n"
     ]
    }
   ],
   "source": [
    "import os\n",
    "from collections import defaultdict\n",
    "from snorkel.models import Corpus, candidate_subclass\n",
    "from snorkel.matchers import RegexMatchSpan, Union\n",
    "from snorkel.candidates import CandidateExtractor\n",
    "from snorkel.utils import get_ORM_instance\n",
    "from hardware_utils import OmniNgramsPart, OmniNgramsTemp, get_gold_dict\n",
    "\n",
    "# Candidate Type\n",
    "Part_Temp = candidate_subclass('Part_Temp', ['part','temp'])\n",
    "    \n",
    "# CandidateSpaces\n",
    "part_ngrams = OmniNgramsPart(parts_by_doc=None, n_max=3) # NOTE: no part linking right now\n",
    "temp_ngrams = OmniNgramsTemp(n_max=2)\n",
    "\n",
    "# Matchers\n",
    "eeca_matcher = RegexMatchSpan(rgx='([b]{1}[abcdefklnpqruyz]{1}[\\swxyz]?[0-9]{3,5}[\\s]?[A-Z\\/]{0,5}[0-9]?[A-Z]?([-][A-Z0-9]{1,7})?([-][A-Z0-9]{1,2})?)')\n",
    "jedec_matcher = RegexMatchSpan(rgx='([123]N\\d{3,4}[A-Z]{0,5}[0-9]?[A-Z]?)')\n",
    "jis_matcher = RegexMatchSpan(rgx='(2S[abcdefghjkmqrstvz]{1}[\\d]{2,4})')\n",
    "others_matcher = RegexMatchSpan(rgx='((NSVBC|SMBT|MJ|MJE|MPS|MRF|RCA|TIP|ZTX|ZT|TIS|TIPL|DTC|MMBT|PZT){1}[\\d]{2,4}[A-Z]{0,3}([-][A-Z0-9]{0,6})?([-][A-Z0-9]{0,1})?)')\n",
    "parts_matcher = Union(eeca_matcher, jedec_matcher, jis_matcher, others_matcher)\n",
    "\n",
    "temp_matcher = RegexMatchSpan(rgx=r'\\d+[05]', longest_match_only=False)\n",
    "\n",
    "# Throttler\n",
    "part_throttler = lambda x: x[0].get_attrib_tokens('page')[0] == x[1].get_attrib_tokens('page')[0]\n",
    "# part_throttler = None\n",
    "\n",
    "# Extractor\n",
    "ce = CandidateExtractor(Part_Temp, \n",
    "                        [part_ngrams, temp_ngrams], \n",
    "                        [parts_matcher, temp_matcher], \n",
    "                        throttler=part_throttler)\n",
    "\n",
    "# Extract\n",
    "for corpus_name in ['Hardware']:\n",
    "    corpus = get_ORM_instance(Corpus, session, corpus_name)\n",
    "    print \"Extracting Candidates from %s\" % corpus\n",
    "    %time candidates = ce.extract(corpus.documents, corpus_name + ' Candidates', session)\n",
    "    session.add(candidates)\n",
    "    print \"%s contains %d Candidates\" % (candidates, len(candidates))\n",
    "session.commit()"
   ]
  },
  {
   "cell_type": "code",
   "execution_count": null,
   "metadata": {
    "collapsed": false,
    "scrolled": true
   },
   "outputs": [],
   "source": [
    "# # %%time\n",
    "# from snorkel.lf_helpers import *\n",
    "\n",
    "# yes = 0\n",
    "# no = 0\n",
    "# subset = []\n",
    "# # d = (candidates[0][0], candidates[1][0])\n",
    "# # print bbox_vert_aligned(bbox_from_span(d[0]), bbox_from_span(d[1]))\n",
    "# for c in candidates:\n",
    "#     if is_vert_aligned_center(c):\n",
    "#         yes += 1\n",
    "#         subset.append(c)\n",
    "#     else:\n",
    "#         no += 1\n",
    "# print yes, no"
   ]
  },
  {
   "cell_type": "code",
   "execution_count": 5,
   "metadata": {
    "collapsed": false,
    "scrolled": false
   },
   "outputs": [
    {
     "name": "stdout",
     "output_type": "stream",
     "text": [
      "Part_Temp(Span(\"BC547AZL1G\", parent=1488, chars=[0,9], words=[0,0]), ImplicitSpan(\"5000\", parent=1543, words=[0,0], position=[0]))\n",
      "Phrase (Doc: bc546-d, Table: 6, Row: 8, Col: 0, Index: 0, Text: BC547AZL1G)\n",
      "True\n",
      "[u'to', u'nn', u'cd', u'cd', u':', u'nnp', u'nnp']\n"
     ]
    }
   ],
   "source": [
    "from snorkel.lf_helpers import *\n",
    "\n",
    "c = candidates[100]\n",
    "print c\n",
    "print c.part.parent\n",
    "print c.part.is_visual()\n",
    "print list(get_horz_ngrams(c.part, attrib='pos_tags'))"
   ]
  },
  {
   "cell_type": "markdown",
   "metadata": {},
   "source": [
    "### View Results"
   ]
  },
  {
   "cell_type": "code",
   "execution_count": null,
   "metadata": {
    "collapsed": false
   },
   "outputs": [],
   "source": [
    "# c = candidates[15]\n",
    "# print c.part\n",
    "# print c.part.char_start, c.part.char_end\n",
    "# print c.part.parent.page\n",
    "# print c.part.get_attrib_tokens('top')\n",
    "# print c.part.get_attrib_tokens('bottom')\n",
    "# print c.part.get_attrib_tokens('left')\n",
    "# print c.part.get_attrib_tokens('right')\n",
    "\n",
    "\n",
    "# from snorkel.entity_features import visual_binary_features\n",
    "# from snorkel.lf_helpers import get_aligned_lemmas, _bbox_from_span\n",
    "\n",
    "# print c.part.parent.document\n",
    "# for c in candidates:\n",
    "    \n",
    "#     span1, span2 = c.get_arguments()\n",
    "    \n",
    "#     feats = set()\n",
    "#     for f in visual_binary_features(span1, span2):\n",
    "#         feats.add(f)\n",
    "#     text1 =   span1.get_span()\n",
    "#     text2 = span2.get_span()\n",
    "#     if not  'Y_ALIGNED' in feats or span1.parent.page!=2: continue\n",
    "#     print '='*20\n",
    "#     print 'For candidate pair:'\n",
    "#     print span1.get_span()\n",
    "#     print span2.get_span()\n",
    "#     print 'Visual features are:'\n",
    "#     for f in feats: print f\n",
    "#     print 'LF is_aligned_with_lemmas:', 'min' in get_aligned_lemmas(span2)\n",
    "#     print 'Phrase1', span1.parent,  span1.parent.page#.text, span1.parent.bbox\n",
    "#     print 'Phrase2', span2.parent,  span2.parent.page#.text, span2.parent.bbox, span2.parent.page\n",
    "#     print _bbox_from_span(span1), _bbox_from_span(span2)\n",
    "    \n",
    "# print len(candidates)"
   ]
  },
  {
   "cell_type": "code",
   "execution_count": null,
   "metadata": {
    "collapsed": false,
    "scrolled": true
   },
   "outputs": [],
   "source": [
    "# context_parser.vizlink.display_links(10)"
   ]
  },
  {
   "cell_type": "code",
   "execution_count": null,
   "metadata": {
    "collapsed": false,
    "scrolled": true
   },
   "outputs": [],
   "source": [
    "# context_parser.vizlink.display_words(page_num=2, display=True)"
   ]
  },
  {
   "cell_type": "code",
   "execution_count": 7,
   "metadata": {
    "collapsed": false
   },
   "outputs": [
    {
     "name": "stdout",
     "output_type": "stream",
     "text": [
      "Boxes per page: total (unique)\n",
      "Page 1: 3 (3)\n",
      "Page 2: 8 (8)\n",
      "Page 4: 1 (1)\n"
     ]
    }
   ],
   "source": [
    "context_parser.vizlink.display_words(target='BC546', page_num=2)"
   ]
  },
  {
   "cell_type": "code",
   "execution_count": 6,
   "metadata": {
    "collapsed": false,
    "scrolled": false
   },
   "outputs": [
    {
     "name": "stdout",
     "output_type": "stream",
     "text": [
      "Boxes per page: total (unique)\n",
      "Page 1: 750 (29)\n",
      "Page 2: 8928 (108)\n",
      "Page 3: 288 (50)\n",
      "Page 4: 84 (42)\n",
      "Page 5: 648 (36)\n",
      "Page 6: 36 (7)\n"
     ]
    }
   ],
   "source": [
    "context_parser.vizlink.display_candidates(candidates, page_num=2)"
   ]
  },
  {
   "cell_type": "code",
   "execution_count": null,
   "metadata": {
    "collapsed": false
   },
   "outputs": [],
   "source": [
    "# from visual_linking import display_boxes, get_box\n",
    "\n",
    "# boxes = []\n",
    "# for c in candidates:\n",
    "#     boxes.append(get_box(c.part))\n",
    "# boxes = list(set(boxes))\n",
    "# display_boxes(pdf_file, boxes, page_num=2)"
   ]
  },
  {
   "cell_type": "markdown",
   "metadata": {},
   "source": [
    "### Display Ordering of PDF Word List "
   ]
  },
  {
   "cell_type": "markdown",
   "metadata": {},
   "source": [
    "Display Ordering on a black page - Not very easy to display because of superposition"
   ]
  },
  {
   "cell_type": "code",
   "execution_count": null,
   "metadata": {
    "collapsed": false
   },
   "outputs": [],
   "source": [
    "# import numpy as np\n",
    "# import cv2\n",
    "# import math\n",
    "\n",
    "# page_num = 2\n",
    "# page_height = 792\n",
    "# page_width = 612\n",
    "# img = np.ones((page_height,page_width,3))*255\n",
    "# font = cv2.FONT_HERSHEY_SIMPLEX\n",
    "# letter_width = 3\n",
    "# i = 0\n",
    "# for word_id, _ in pdf_word_list:\n",
    "#     if word_id[0] == page_num:\n",
    "#         i += 1\n",
    "#         _, top, left, bottom, right = coordinate_map[word_id]\n",
    "#         cv2.rectangle(img, (left, top), (right, bottom), (0,255,0), 1)\n",
    "#         cv2.putText(img, \n",
    "#                     str(i), \n",
    "#                     ((left + right)/2 - letter_width*int(math.ceil(math.log10(i))), \n",
    "#                     bottom + (top - bottom)/4), \n",
    "#                     font, \n",
    "#                     0.3, \n",
    "#                     (255,0,0), \n",
    "#                     1)\n",
    "# cv2.imshow('PDF Word List Order',img)\n",
    "# cv2.waitKey() # press any key to exit the opencv output \n",
    "# cv2.destroyAllWindows() "
   ]
  },
  {
   "cell_type": "markdown",
   "metadata": {},
   "source": [
    "# The end."
   ]
  }
 ],
 "metadata": {
  "anaconda-cloud": {},
  "kernelspec": {
   "display_name": "Python [default]",
   "language": "python",
   "name": "python2"
  },
  "language_info": {
   "codemirror_mode": {
    "name": "ipython",
    "version": 2
   },
   "file_extension": ".py",
   "mimetype": "text/x-python",
   "name": "python",
   "nbconvert_exporter": "python",
   "pygments_lexer": "ipython2",
   "version": "2.7.10"
  }
 },
 "nbformat": 4,
 "nbformat_minor": 1
}
