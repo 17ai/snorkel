{
 "cells": [
  {
   "cell_type": "markdown",
   "metadata": {},
   "source": [
    "## Part IV: Featurization"
   ]
  },
  {
   "cell_type": "code",
   "execution_count": 1,
   "metadata": {
    "collapsed": false
   },
   "outputs": [],
   "source": [
    "%load_ext autoreload\n",
    "%autoreload 2\n",
    "%matplotlib inline\n",
    "import os\n",
    "\n",
    "# TO USE A DATABASE OTHER THAN SQLITE, USE THIS LINE\n",
    "# Note that this is necessary for parallel execution amongst other things...\n",
    "os.environ['SNORKELDB'] = 'postgres:///semparse'\n",
    "\n",
    "import numpy as np\n",
    "from snorkel import SnorkelSession\n",
    "session = SnorkelSession()"
   ]
  },
  {
   "cell_type": "markdown",
   "metadata": {},
   "source": [
    "We repeat our definition of the `Spouse` `Candidate` subclass from Parts II and III."
   ]
  },
  {
   "cell_type": "code",
   "execution_count": 2,
   "metadata": {
    "collapsed": false
   },
   "outputs": [],
   "source": [
    "from snorkel.models import candidate_subclass\n",
    "Spouse = candidate_subclass('Spouse', ['person1', 'person2'])"
   ]
  },
  {
   "cell_type": "markdown",
   "metadata": {},
   "source": [
    "## Featurization"
   ]
  },
  {
   "cell_type": "code",
   "execution_count": null,
   "metadata": {
    "collapsed": false
   },
   "outputs": [],
   "source": [
    "from snorkel.annotations import FeatureAnnotator\n",
    "featurizer = FeatureAnnotator()"
   ]
  },
  {
   "cell_type": "code",
   "execution_count": null,
   "metadata": {
    "collapsed": false
   },
   "outputs": [],
   "source": [
    "%time F_train = featurizer.apply(split=0, parallelism=20)\n",
    "F_train"
   ]
  },
  {
   "cell_type": "code",
   "execution_count": null,
   "metadata": {
    "collapsed": false
   },
   "outputs": [],
   "source": [
    "%time F_dev  = featurizer.apply_existing(split=1, parallelism=20)\n",
    "F_dev"
   ]
  },
  {
   "cell_type": "code",
   "execution_count": null,
   "metadata": {
    "collapsed": false
   },
   "outputs": [],
   "source": [
    "%time F_unlabeled = featurizer.apply_existing(split=3, parallelism=20)\n",
    "F_unlabeled"
   ]
  },
  {
   "cell_type": "code",
   "execution_count": 3,
   "metadata": {
    "collapsed": true
   },
   "outputs": [],
   "source": [
    "from snorkel.annotations import FeatureAnnotator\n",
    "featurizer = FeatureAnnotator()\n",
    "F_train = featurizer.load_matrix(session, split=0)"
   ]
  },
  {
   "cell_type": "code",
   "execution_count": 4,
   "metadata": {
    "collapsed": false
   },
   "outputs": [
    {
     "data": {
      "text/plain": [
       "<65x3025 sparse matrix of type '<type 'numpy.float64'>'\n",
       "\twith 0 stored elements in Compressed Sparse Row format>"
      ]
     },
     "execution_count": 4,
     "metadata": {},
     "output_type": "execute_result"
    }
   ],
   "source": [
    "F_train"
   ]
  },
  {
   "cell_type": "code",
   "execution_count": 7,
   "metadata": {
    "collapsed": false
   },
   "outputs": [
    {
     "name": "stdout",
     "output_type": "stream",
     "text": [
      "FeatureKey (TDL_LEMMA:PARENTS-OF-BETWEEN-MENTION-and-MENTION[None])\n",
      "FeatureKey (TDL_INV_LEMMA:PARENTS-OF-BETWEEN-MENTION-and-MENTION[None])\n",
      "FeatureKey (TDL_INV_LEMMA:BETWEEN-MENTION-and-MENTION[say])\n",
      "FeatureKey (TDL_INV_LEMMA:BETWEEN-MENTION-and-MENTION[die])\n",
      "FeatureKey (TDL_INV_LEMMA:BETWEEN-MENTION-and-MENTION[say die])\n",
      "FeatureKey (TDL_INV_DEP_LABEL:BETWEEN-MENTION-and-MENTION[ROOT])\n",
      "FeatureKey (TDL_INV_DEP_LABEL:BETWEEN-MENTION-and-MENTION[ccomp])\n",
      "FeatureKey (TDL_INV_DEP_LABEL:BETWEEN-MENTION-and-MENTION[ROOT ccomp])\n",
      "FeatureKey (TDL_INV_DEP_LABEL|LEMMA:BETWEEN-MENTION-and-MENTION[ROOT|say])\n",
      "FeatureKey (TDL_INV_DEP_LABEL|LEMMA:BETWEEN-MENTION-and-MENTION[ccomp|die])\n",
      "FeatureKey (TDL_INV_DEP_LABEL|LEMMA:BETWEEN-MENTION-and-MENTION[ROOT|say ccomp|die])\n",
      "FeatureKey (TDL_LEMMA:BETWEEN-MENTION-and-MENTION[do])\n",
      "FeatureKey (TDL_LEMMA:BETWEEN-MENTION-and-MENTION[Benders])\n",
      "FeatureKey (TDL_LEMMA:BETWEEN-MENTION-and-MENTION[comedy])\n",
      "FeatureKey (TDL_LEMMA:BETWEEN-MENTION-and-MENTION[do Benders])\n",
      "FeatureKey (TDL_LEMMA:BETWEEN-MENTION-and-MENTION[Benders comedy])\n",
      "FeatureKey (TDL_LEMMA:BETWEEN-MENTION-and-MENTION[do Benders comedy])\n",
      "FeatureKey (TDL_INV_LEMMA:SEQ-BETWEEN[die])\n",
      "FeatureKey (TDL_INV_LEMMA:SEQ-BETWEEN[of])\n",
      "FeatureKey (TDL_INV_LEMMA:SEQ-BETWEEN[he])\n",
      "FeatureKey (TDL_INV_LEMMA:SEQ-BETWEEN[injury])\n",
      "FeatureKey (TDL_INV_LEMMA:SEQ-BETWEEN[,])\n",
      "FeatureKey (TDL_INV_LEMMA:SEQ-BETWEEN[die of])\n",
      "FeatureKey (TDL_INV_LEMMA:SEQ-BETWEEN[of he])\n",
      "FeatureKey (TDL_INV_LEMMA:SEQ-BETWEEN[he injury])\n",
      "FeatureKey (TDL_INV_LEMMA:SEQ-BETWEEN[injury ,])\n",
      "FeatureKey (TDL_INV_LEMMA:SEQ-BETWEEN[die of he])\n",
      "FeatureKey (TDL_INV_LEMMA:SEQ-BETWEEN[of he injury])\n",
      "FeatureKey (TDL_INV_LEMMA:SEQ-BETWEEN[he injury ,])\n",
      "FeatureKey (TDL_INV_LEMMA:LEFT-OF-MENTION[,])\n",
      "FeatureKey (TDL_INV_LEMMA:RIGHT-OF-MENTION[.])\n",
      "FeatureKey (TDL_INV_LEMMA:RIGHT-OF-MENTION[injury])\n",
      "FeatureKey (TDL_INV_SEQ-BETWEEN[LEN:5-7])\n",
      "FeatureKey (TDL_INV_BETWEEN-MENTION-and-MENTION[LEN:0-2])\n",
      "FeatureKey (TDL_DEP_LABEL:BETWEEN-MENTION-and-MENTION[ROOT])\n",
      "FeatureKey (TDL_DEP_LABEL:BETWEEN-MENTION-and-MENTION[dep])\n",
      "FeatureKey (TDL_DEP_LABEL:BETWEEN-MENTION-and-MENTION[conj])\n",
      "FeatureKey (TDL_DEP_LABEL:BETWEEN-MENTION-and-MENTION[ROOT dep])\n",
      "FeatureKey (TDL_DEP_LABEL:BETWEEN-MENTION-and-MENTION[dep conj])\n",
      "FeatureKey (TDL_DEP_LABEL:BETWEEN-MENTION-and-MENTION[ROOT dep conj])\n",
      "FeatureKey (TDL_DEP_LABEL|LEMMA:BETWEEN-MENTION-and-MENTION[ROOT|do])\n",
      "FeatureKey (TDL_DEP_LABEL|LEMMA:BETWEEN-MENTION-and-MENTION[dep|Benders])\n",
      "FeatureKey (TDL_DEP_LABEL|LEMMA:BETWEEN-MENTION-and-MENTION[conj|comedy])\n",
      "FeatureKey (TDL_DEP_LABEL|LEMMA:BETWEEN-MENTION-and-MENTION[ROOT|do dep|Benders])\n",
      "FeatureKey (TDL_DEP_LABEL|LEMMA:BETWEEN-MENTION-and-MENTION[dep|Benders conj|comedy])\n",
      "FeatureKey (TDL_DEP_LABEL|LEMMA:BETWEEN-MENTION-and-MENTION[ROOT|do dep|Benders conj|comedy])\n",
      "FeatureKey (TDL_LEMMA:BETWEEN-MENTION-and-MENTION[recall])\n",
      "FeatureKey (TDL_LEMMA:BETWEEN-MENTION-and-MENTION[introduce])\n",
      "FeatureKey (TDL_LEMMA:BETWEEN-MENTION-and-MENTION[recall introduce])\n",
      "FeatureKey (TDL_LEMMA:SEQ-BETWEEN[comedy])\n",
      "FeatureKey (TDL_LEMMA:SEQ-BETWEEN[``])\n",
      "FeatureKey (TDL_LEMMA:SEQ-BETWEEN[comedy ``])\n",
      "FeatureKey (TDL_LEMMA:LEFT-OF-MENTION[``])\n",
      "FeatureKey (TDL_LEMMA:RIGHT-OF-MENTION[Krumholtz-in-drag])\n",
      "FeatureKey (TDL_LEMMA:RIGHT-OF-MENTION[noct])\n",
      "FeatureKey (TDL_SEQ-BETWEEN[LEN:0-4])\n",
      "FeatureKey (TDL_DEP_LABEL|LEMMA:BETWEEN-MENTION-and-MENTION[ROOT|recall])\n",
      "FeatureKey (TDL_DEP_LABEL|LEMMA:BETWEEN-MENTION-and-MENTION[dep|introduce])\n",
      "FeatureKey (TDL_DEP_LABEL|LEMMA:BETWEEN-MENTION-and-MENTION[ROOT|recall dep|introduce])\n",
      "FeatureKey (TDL_BETWEEN-MENTION-and-MENTION[LEN:3-3])\n",
      "FeatureKey (TDL_LEMMA:SEQ-BETWEEN[introduce])\n",
      "FeatureKey (TDL_LEMMA:SEQ-BETWEEN[he])\n",
      "FeatureKey (TDL_LEMMA:SEQ-BETWEEN[to])\n",
      "FeatureKey (TDL_LEMMA:SEQ-BETWEEN[I])\n",
      "FeatureKey (TDL_LEMMA:SEQ-BETWEEN[,])\n",
      "FeatureKey (TDL_LEMMA:SEQ-BETWEEN[''])\n",
      "FeatureKey (TDL_LEMMA:SEQ-BETWEEN[introduce he])\n",
      "FeatureKey (TDL_LEMMA:SEQ-BETWEEN[he to])\n",
      "FeatureKey (TDL_LEMMA:SEQ-BETWEEN[to I])\n",
      "FeatureKey (TDL_LEMMA:SEQ-BETWEEN[I ,])\n",
      "FeatureKey (TDL_LEMMA:SEQ-BETWEEN[, ''])\n",
      "FeatureKey (TDL_LEMMA:SEQ-BETWEEN[introduce he to])\n",
      "FeatureKey (TDL_LEMMA:SEQ-BETWEEN[he to I])\n",
      "FeatureKey (TDL_LEMMA:SEQ-BETWEEN[to I ,])\n",
      "FeatureKey (TDL_LEMMA:SEQ-BETWEEN[I , ''])\n",
      "FeatureKey (TDL_LEMMA:LEFT-OF-MENTION[`` Congressman])\n",
      "FeatureKey (TDL_LEMMA:LEFT-OF-MENTION[Congressman])\n",
      "FeatureKey (TDL_LEMMA:LEFT-OF-MENTION[introduce])\n",
      "FeatureKey (TDL_LEMMA:RIGHT-OF-MENTION[he])\n",
      "FeatureKey (TDL_LEMMA:RIGHT-OF-MENTION[.])\n",
      "FeatureKey (TDL_SEQ-BETWEEN[LEN:5-7])\n",
      "FeatureKey (TDL_BETWEEN-MENTION-and-MENTION[LEN:0-2])\n",
      "FeatureKey (TDL_LEMMA:PARENTS-OF-BETWEEN-MENTION-and-MENTION[stay])\n",
      "FeatureKey (TDL_LEMMA:PARENTS-OF-BETWEEN-MENTION-and-MENTION[appearance])\n",
      "FeatureKey (TDL_LEMMA:PARENTS-OF-BETWEEN-MENTION-and-MENTION[None stay])\n",
      "FeatureKey (TDL_LEMMA:PARENTS-OF-BETWEEN-MENTION-and-MENTION[stay appearance])\n",
      "FeatureKey (TDL_LEMMA:PARENTS-OF-BETWEEN-MENTION-and-MENTION[None stay appearance])\n",
      "FeatureKey (TDL_LEMMA:BETWEEN-MENTION-and-MENTION[Alex])\n",
      "FeatureKey (TDL_DEP_LABEL:BETWEEN-MENTION-and-MENTION[appos])\n",
      "FeatureKey (TDL_DEP_LABEL|LEMMA:BETWEEN-MENTION-and-MENTION[appos|Alex])\n",
      "FeatureKey (TDL_LEMMA:SEQ-BETWEEN[and])\n",
      "FeatureKey (TDL_LEMMA:LEFT-OF-MENTION[,])\n",
      "FeatureKey (TDL_LEMMA:LEFT-OF-MENTION[and])\n",
      "FeatureKey (TDL_LEMMA:PARENTS-OF-BETWEEN-MENTION-and-MENTION[bring])\n",
      "FeatureKey (TDL_LEMMA:PARENTS-OF-BETWEEN-MENTION-and-MENTION[conflict])\n",
      "FeatureKey (TDL_LEMMA:PARENTS-OF-BETWEEN-MENTION-and-MENTION[CIA])\n",
      "FeatureKey (TDL_LEMMA:PARENTS-OF-BETWEEN-MENTION-and-MENTION[bring conflict])\n",
      "FeatureKey (TDL_LEMMA:PARENTS-OF-BETWEEN-MENTION-and-MENTION[conflict CIA])\n",
      "FeatureKey (TDL_LEMMA:PARENTS-OF-BETWEEN-MENTION-and-MENTION[bring conflict CIA])\n",
      "FeatureKey (TDL_LEMMA:BETWEEN-MENTION-and-MENTION[Kennedy])\n"
     ]
    }
   ],
   "source": [
    "for i in xrange(100):\n",
    "    print F_train.get_key(session, i)"
   ]
  },
  {
   "cell_type": "code",
   "execution_count": null,
   "metadata": {
    "collapsed": true
   },
   "outputs": [],
   "source": []
  }
 ],
 "metadata": {
  "anaconda-butt": {},
  "anaconda-cloud": {},
  "kernelspec": {
   "display_name": "Python [default]",
   "language": "python",
   "name": "python2"
  },
  "language_info": {
   "codemirror_mode": {
    "name": "ipython",
    "version": 2
   },
   "file_extension": ".py",
   "mimetype": "text/x-python",
   "name": "python",
   "nbconvert_exporter": "python",
   "pygments_lexer": "ipython2",
   "version": "2.7.13"
  }
 },
 "nbformat": 4,
 "nbformat_minor": 0
}
