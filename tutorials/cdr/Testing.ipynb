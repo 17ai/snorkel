{
 "cells": [
  {
   "cell_type": "code",
   "execution_count": 1,
   "metadata": {
    "collapsed": true
   },
   "outputs": [],
   "source": [
    "DOMAIN = 'test' # test, spouse, cdr"
   ]
  },
  {
   "cell_type": "code",
   "execution_count": 2,
   "metadata": {
    "collapsed": false,
    "scrolled": true
   },
   "outputs": [],
   "source": [
    "import sys\n",
    "import os\n",
    "\n",
    "if DOMAIN == 'cdr':\n",
    "    os.environ['SNORKELDB'] = 'postgres:///semparse_cdr'\n",
    "\n",
    "from snorkel import SnorkelSession\n",
    "session = SnorkelSession()\n",
    "\n",
    "from snorkel.models import candidate_subclass\n",
    "if DOMAIN in ['test', 'spouse']:\n",
    "    Spouse = candidate_subclass('Spouse', ['person1', 'person2'])\n",
    "    candidate_class = Spouse\n",
    "elif DOMAIN == 'cdr':\n",
    "    ChemicalDisease = candidate_subclass('ChemicalDisease', ['chemical', 'disease'])\n",
    "    candidate_class = ChemicalDisease\n",
    "else:\n",
    "    raise Exception(\"Invalid DOMAIN.\")"
   ]
  },
  {
   "cell_type": "code",
   "execution_count": 3,
   "metadata": {
    "collapsed": false
   },
   "outputs": [
    {
     "name": "stdout",
     "output_type": "stream",
     "text": [
      "Candidates: 65\n"
     ]
    }
   ],
   "source": [
    "candidates = session.query(candidate_class).filter(candidate_class.split == 0).all()\n",
    "print(\"Candidates: {}\".format(len(candidates)))"
   ]
  },
  {
   "cell_type": "code",
   "execution_count": 4,
   "metadata": {
    "collapsed": false
   },
   "outputs": [],
   "source": [
    "# c = candidates[0]\n",
    "# print c[0].get_parent()._asdict()['entity_types']"
   ]
  },
  {
   "cell_type": "code",
   "execution_count": 5,
   "metadata": {
    "collapsed": false
   },
   "outputs": [],
   "source": [
    "# from snorkel.viewer import SentenceNgramViewer\n",
    "# sv = SentenceNgramViewer(candidates[:300], session)\n",
    "# sv"
   ]
  },
  {
   "cell_type": "code",
   "execution_count": 6,
   "metadata": {
    "collapsed": false,
    "scrolled": false
   },
   "outputs": [],
   "source": [
    "# c = sv.get_selected()\n",
    "# print c"
   ]
  },
  {
   "cell_type": "code",
   "execution_count": 7,
   "metadata": {
    "collapsed": false
   },
   "outputs": [],
   "source": [
    "# hash(c)"
   ]
  },
  {
   "cell_type": "code",
   "execution_count": 8,
   "metadata": {
    "collapsed": false,
    "scrolled": false
   },
   "outputs": [],
   "source": [
    "from semparse_examples import get_examples\n",
    "\n",
    "examples = get_examples(DOMAIN, candidates)\n",
    "\n",
    "if DOMAIN == 'test':\n",
    "    user_lists = {\n",
    "        'colors':['red','green','blue'],\n",
    "        'bluebird':['blue','bird','fly'],\n",
    "        'greek':['alpha','beta','gamma'],\n",
    "        'letters':['a','B','C'],\n",
    "        'smalls':['a','b','c','d'],\n",
    "        'spouse':['wife','husband','spouse']}\n",
    "elif DOMAIN == 'spouse':\n",
    "    user_lists = {\n",
    "        'spouse':['wife','husband','spouse'],\n",
    "        'family':['father', 'mother', 'brother', 'sister']}\n",
    "elif DOMAIN == 'cdr':\n",
    "    user_lists = {}"
   ]
  },
  {
   "cell_type": "code",
   "execution_count": 9,
   "metadata": {
    "collapsed": false,
    "scrolled": false
   },
   "outputs": [],
   "source": [
    "# examples[0].display()"
   ]
  },
  {
   "cell_type": "code",
   "execution_count": 10,
   "metadata": {
    "collapsed": false
   },
   "outputs": [],
   "source": [
    "# examples[28].candidate[0].get_parent()"
   ]
  },
  {
   "cell_type": "code",
   "execution_count": 11,
   "metadata": {
    "collapsed": false,
    "scrolled": true
   },
   "outputs": [
    {
     "name": "stdout",
     "output_type": "stream",
     "text": [
      "CPU times: user 1.54 s, sys: 468 ms, total: 2.01 s\n",
      "Wall time: 2.35 s\n"
     ]
    }
   ],
   "source": [
    "%time from snorkel.semantic import SemanticParser"
   ]
  },
  {
   "cell_type": "code",
   "execution_count": 12,
   "metadata": {
    "collapsed": false,
    "scrolled": true
   },
   "outputs": [
    {
     "name": "stdout",
     "output_type": "stream",
     "text": [
      "Created grammar with 225 rules\n",
      "CPU times: user 6.19 ms, sys: 5.77 ms, total: 12 ms\n",
      "Wall time: 15.7 ms\n"
     ]
    }
   ],
   "source": [
    "%time sp = SemanticParser(candidate_class, user_lists, absorb=True)"
   ]
  },
  {
   "cell_type": "code",
   "execution_count": 13,
   "metadata": {
    "collapsed": false,
    "scrolled": false
   },
   "outputs": [
    {
     "name": "stdout",
     "output_type": "stream",
     "text": [
      "Example 0: label True because True\n",
      "Example 1: label True because True and True\n",
      "Example 2: label True because False or True\n",
      "Example 3: label True because not False\n",
      "Example 4: label True because 'yes' equals 'yes'\n",
      "Example 5: label True because 1 is equal to 1\n",
      "Example 6: label True because 1 is equal to one\n",
      "Example 7: label True because 1 is less than 2\n",
      "Example 8: label True because 2 is less than or equal to 2\n",
      "Example 9: label True because 2 > 1\n",
      "Example 10: label True because 2 is at least 2\n",
      "Example 11: label True because arg 1 is lowercase\n",
      "Example 12: label True because arg 1 is upper case\n",
      "Example 13: label True because arg 1 is capitalized\n",
      "Example 14: label True because the word 'blueberry' starts with 'blue'\n",
      "Example 15: label True because the word 'blueberry' ends with 'berry'\n",
      "Example 16: label True because argument 1 is 'foo'\n",
      "Example 17: label True because 'bar' is in 'foobarbaz'\n",
      "Example 18: label True because the word 'foobarbaz' contains 'oobarba'\n",
      "Example 19: label True because arg 2 is 'foo', 'bar', or 'baz'\n",
      "Example 20: label True because 'blue' in colors\n",
      "Example 21: label True because 'blue' or 'shmoo' is in colors\n",
      "Example 22: label True because 'blue' ends with 'moe' or 'lue'\n",
      "Example 23: label True because 'blue' and 'red' are in colors\n",
      "Example 24: label True because 'blue' contains 'l' and 'u'\n",
      "Example 25: label True because 'wife' is in the words left of arg 2\n",
      "Example 26: label True because 'wife' is in the words to the right of arg 1\n",
      "Example 27: label True because 'wife' is between arg 1 and arg 2\n",
      "Example 28: label True because the word \"wife\" is in the sentence\n",
      "Example 29: label True because a word to the left of arg 2 is lower case\n",
      "Example 30: label True because the number of words between arg 1 and arg 2 is less than 20\n",
      "Example 31: label True because there are more than 3 words between arg 1 and arg 2\n",
      "Example 32: label True because there is at least one word from colors in the bluebird words\n",
      "Example 33: label True because less than two colors words are in bluebird\n",
      "Example 34: label True because all of the colors are lowercase\n",
      "Example 35: label True because any of the words letters are lowercase\n",
      "Example 36: label True because none of the smalls are capitalized\n",
      "Example 37: label True because there are no colors words in the greek words\n",
      "CPU times: user 399 ms, sys: 23.1 ms, total: 422 ms\n",
      "Wall time: 900 ms\n"
     ]
    },
    {
     "data": {
      "text/html": [
       "<div>\n",
       "<table border=\"1\" class=\"dataframe\">\n",
       "  <thead>\n",
       "    <tr style=\"text-align: right;\">\n",
       "      <th></th>\n",
       "      <th>Correct</th>\n",
       "      <th>Incorrect</th>\n",
       "      <th>Redundant</th>\n",
       "      <th>Failed</th>\n",
       "      <th>Unknown</th>\n",
       "    </tr>\n",
       "  </thead>\n",
       "  <tbody>\n",
       "    <tr>\n",
       "      <th>Example0</th>\n",
       "      <td>1</td>\n",
       "      <td>0</td>\n",
       "      <td>0</td>\n",
       "      <td>0</td>\n",
       "      <td>0</td>\n",
       "    </tr>\n",
       "    <tr>\n",
       "      <th>Example1</th>\n",
       "      <td>2</td>\n",
       "      <td>0</td>\n",
       "      <td>1</td>\n",
       "      <td>0</td>\n",
       "      <td>0</td>\n",
       "    </tr>\n",
       "    <tr>\n",
       "      <th>Example2</th>\n",
       "      <td>2</td>\n",
       "      <td>1</td>\n",
       "      <td>0</td>\n",
       "      <td>0</td>\n",
       "      <td>0</td>\n",
       "    </tr>\n",
       "    <tr>\n",
       "      <th>Example3</th>\n",
       "      <td>1</td>\n",
       "      <td>1</td>\n",
       "      <td>0</td>\n",
       "      <td>0</td>\n",
       "      <td>0</td>\n",
       "    </tr>\n",
       "    <tr>\n",
       "      <th>Example4</th>\n",
       "      <td>1</td>\n",
       "      <td>0</td>\n",
       "      <td>0</td>\n",
       "      <td>0</td>\n",
       "      <td>0</td>\n",
       "    </tr>\n",
       "    <tr>\n",
       "      <th>Example5</th>\n",
       "      <td>1</td>\n",
       "      <td>0</td>\n",
       "      <td>1</td>\n",
       "      <td>0</td>\n",
       "      <td>0</td>\n",
       "    </tr>\n",
       "    <tr>\n",
       "      <th>Example6</th>\n",
       "      <td>1</td>\n",
       "      <td>0</td>\n",
       "      <td>1</td>\n",
       "      <td>0</td>\n",
       "      <td>0</td>\n",
       "    </tr>\n",
       "    <tr>\n",
       "      <th>Example7</th>\n",
       "      <td>1</td>\n",
       "      <td>1</td>\n",
       "      <td>0</td>\n",
       "      <td>0</td>\n",
       "      <td>0</td>\n",
       "    </tr>\n",
       "    <tr>\n",
       "      <th>Example8</th>\n",
       "      <td>2</td>\n",
       "      <td>1</td>\n",
       "      <td>1</td>\n",
       "      <td>0</td>\n",
       "      <td>0</td>\n",
       "    </tr>\n",
       "    <tr>\n",
       "      <th>Example9</th>\n",
       "      <td>1</td>\n",
       "      <td>0</td>\n",
       "      <td>0</td>\n",
       "      <td>0</td>\n",
       "      <td>0</td>\n",
       "    </tr>\n",
       "    <tr>\n",
       "      <th>Example10</th>\n",
       "      <td>2</td>\n",
       "      <td>0</td>\n",
       "      <td>0</td>\n",
       "      <td>0</td>\n",
       "      <td>0</td>\n",
       "    </tr>\n",
       "    <tr>\n",
       "      <th>Example11</th>\n",
       "      <td>1</td>\n",
       "      <td>0</td>\n",
       "      <td>0</td>\n",
       "      <td>0</td>\n",
       "      <td>0</td>\n",
       "    </tr>\n",
       "    <tr>\n",
       "      <th>Example12</th>\n",
       "      <td>1</td>\n",
       "      <td>0</td>\n",
       "      <td>1</td>\n",
       "      <td>0</td>\n",
       "      <td>0</td>\n",
       "    </tr>\n",
       "    <tr>\n",
       "      <th>Example13</th>\n",
       "      <td>1</td>\n",
       "      <td>0</td>\n",
       "      <td>0</td>\n",
       "      <td>0</td>\n",
       "      <td>0</td>\n",
       "    </tr>\n",
       "    <tr>\n",
       "      <th>Example14</th>\n",
       "      <td>1</td>\n",
       "      <td>0</td>\n",
       "      <td>0</td>\n",
       "      <td>0</td>\n",
       "      <td>0</td>\n",
       "    </tr>\n",
       "    <tr>\n",
       "      <th>Example15</th>\n",
       "      <td>1</td>\n",
       "      <td>0</td>\n",
       "      <td>0</td>\n",
       "      <td>0</td>\n",
       "      <td>0</td>\n",
       "    </tr>\n",
       "    <tr>\n",
       "      <th>Example16</th>\n",
       "      <td>1</td>\n",
       "      <td>0</td>\n",
       "      <td>0</td>\n",
       "      <td>0</td>\n",
       "      <td>0</td>\n",
       "    </tr>\n",
       "    <tr>\n",
       "      <th>Example17</th>\n",
       "      <td>1</td>\n",
       "      <td>1</td>\n",
       "      <td>0</td>\n",
       "      <td>0</td>\n",
       "      <td>0</td>\n",
       "    </tr>\n",
       "    <tr>\n",
       "      <th>Example18</th>\n",
       "      <td>1</td>\n",
       "      <td>0</td>\n",
       "      <td>0</td>\n",
       "      <td>0</td>\n",
       "      <td>0</td>\n",
       "    </tr>\n",
       "    <tr>\n",
       "      <th>Example19</th>\n",
       "      <td>11</td>\n",
       "      <td>26</td>\n",
       "      <td>61</td>\n",
       "      <td>0</td>\n",
       "      <td>0</td>\n",
       "    </tr>\n",
       "    <tr>\n",
       "      <th>Example20</th>\n",
       "      <td>1</td>\n",
       "      <td>0</td>\n",
       "      <td>0</td>\n",
       "      <td>0</td>\n",
       "      <td>0</td>\n",
       "    </tr>\n",
       "    <tr>\n",
       "      <th>Example21</th>\n",
       "      <td>1</td>\n",
       "      <td>9</td>\n",
       "      <td>5</td>\n",
       "      <td>0</td>\n",
       "      <td>0</td>\n",
       "    </tr>\n",
       "    <tr>\n",
       "      <th>Example22</th>\n",
       "      <td>2</td>\n",
       "      <td>8</td>\n",
       "      <td>5</td>\n",
       "      <td>0</td>\n",
       "      <td>0</td>\n",
       "    </tr>\n",
       "    <tr>\n",
       "      <th>Example23</th>\n",
       "      <td>2</td>\n",
       "      <td>8</td>\n",
       "      <td>5</td>\n",
       "      <td>0</td>\n",
       "      <td>0</td>\n",
       "    </tr>\n",
       "    <tr>\n",
       "      <th>Example24</th>\n",
       "      <td>1</td>\n",
       "      <td>5</td>\n",
       "      <td>1</td>\n",
       "      <td>0</td>\n",
       "      <td>0</td>\n",
       "    </tr>\n",
       "    <tr>\n",
       "      <th>Example25</th>\n",
       "      <td>1</td>\n",
       "      <td>2</td>\n",
       "      <td>1</td>\n",
       "      <td>0</td>\n",
       "      <td>0</td>\n",
       "    </tr>\n",
       "    <tr>\n",
       "      <th>Example26</th>\n",
       "      <td>1</td>\n",
       "      <td>2</td>\n",
       "      <td>1</td>\n",
       "      <td>0</td>\n",
       "      <td>0</td>\n",
       "    </tr>\n",
       "    <tr>\n",
       "      <th>Example27</th>\n",
       "      <td>1</td>\n",
       "      <td>2</td>\n",
       "      <td>1</td>\n",
       "      <td>0</td>\n",
       "      <td>0</td>\n",
       "    </tr>\n",
       "    <tr>\n",
       "      <th>Example28</th>\n",
       "      <td>1</td>\n",
       "      <td>0</td>\n",
       "      <td>0</td>\n",
       "      <td>0</td>\n",
       "      <td>0</td>\n",
       "    </tr>\n",
       "    <tr>\n",
       "      <th>Example29</th>\n",
       "      <td>1</td>\n",
       "      <td>1</td>\n",
       "      <td>8</td>\n",
       "      <td>0</td>\n",
       "      <td>0</td>\n",
       "    </tr>\n",
       "    <tr>\n",
       "      <th>Example30</th>\n",
       "      <td>4</td>\n",
       "      <td>4</td>\n",
       "      <td>8</td>\n",
       "      <td>0</td>\n",
       "      <td>0</td>\n",
       "    </tr>\n",
       "    <tr>\n",
       "      <th>Example31</th>\n",
       "      <td>1</td>\n",
       "      <td>1</td>\n",
       "      <td>1</td>\n",
       "      <td>0</td>\n",
       "      <td>0</td>\n",
       "    </tr>\n",
       "    <tr>\n",
       "      <th>Example32</th>\n",
       "      <td>5</td>\n",
       "      <td>0</td>\n",
       "      <td>8</td>\n",
       "      <td>0</td>\n",
       "      <td>0</td>\n",
       "    </tr>\n",
       "    <tr>\n",
       "      <th>Example33</th>\n",
       "      <td>1</td>\n",
       "      <td>0</td>\n",
       "      <td>2</td>\n",
       "      <td>0</td>\n",
       "      <td>0</td>\n",
       "    </tr>\n",
       "    <tr>\n",
       "      <th>Example34</th>\n",
       "      <td>1</td>\n",
       "      <td>0</td>\n",
       "      <td>1</td>\n",
       "      <td>0</td>\n",
       "      <td>0</td>\n",
       "    </tr>\n",
       "    <tr>\n",
       "      <th>Example35</th>\n",
       "      <td>1</td>\n",
       "      <td>0</td>\n",
       "      <td>1</td>\n",
       "      <td>0</td>\n",
       "      <td>0</td>\n",
       "    </tr>\n",
       "    <tr>\n",
       "      <th>Example36</th>\n",
       "      <td>1</td>\n",
       "      <td>0</td>\n",
       "      <td>1</td>\n",
       "      <td>0</td>\n",
       "      <td>0</td>\n",
       "    </tr>\n",
       "    <tr>\n",
       "      <th>Example37</th>\n",
       "      <td>1</td>\n",
       "      <td>0</td>\n",
       "      <td>3</td>\n",
       "      <td>0</td>\n",
       "      <td>0</td>\n",
       "    </tr>\n",
       "  </tbody>\n",
       "</table>\n",
       "</div>"
      ],
      "text/plain": [
       "           Correct  Incorrect  Redundant  Failed  Unknown\n",
       "Example0         1          0          0       0        0\n",
       "Example1         2          0          1       0        0\n",
       "Example2         2          1          0       0        0\n",
       "Example3         1          1          0       0        0\n",
       "Example4         1          0          0       0        0\n",
       "Example5         1          0          1       0        0\n",
       "Example6         1          0          1       0        0\n",
       "Example7         1          1          0       0        0\n",
       "Example8         2          1          1       0        0\n",
       "Example9         1          0          0       0        0\n",
       "Example10        2          0          0       0        0\n",
       "Example11        1          0          0       0        0\n",
       "Example12        1          0          1       0        0\n",
       "Example13        1          0          0       0        0\n",
       "Example14        1          0          0       0        0\n",
       "Example15        1          0          0       0        0\n",
       "Example16        1          0          0       0        0\n",
       "Example17        1          1          0       0        0\n",
       "Example18        1          0          0       0        0\n",
       "Example19       11         26         61       0        0\n",
       "Example20        1          0          0       0        0\n",
       "Example21        1          9          5       0        0\n",
       "Example22        2          8          5       0        0\n",
       "Example23        2          8          5       0        0\n",
       "Example24        1          5          1       0        0\n",
       "Example25        1          2          1       0        0\n",
       "Example26        1          2          1       0        0\n",
       "Example27        1          2          1       0        0\n",
       "Example28        1          0          0       0        0\n",
       "Example29        1          1          8       0        0\n",
       "Example30        4          4          8       0        0\n",
       "Example31        1          1          1       0        0\n",
       "Example32        5          0          8       0        0\n",
       "Example33        1          0          2       0        0\n",
       "Example34        1          0          1       0        0\n",
       "Example35        1          0          1       0        0\n",
       "Example36        1          0          1       0        0\n",
       "Example37        1          0          3       0        0"
      ]
     },
     "execution_count": 13,
     "metadata": {},
     "output_type": "execute_result"
    }
   ],
   "source": [
    "%time sp.evaluate(examples, show_explanation=True, show_all=False, only=[])"
   ]
  },
  {
   "cell_type": "code",
   "execution_count": 14,
   "metadata": {
    "collapsed": true
   },
   "outputs": [],
   "source": [
    "# (.label, .true, (.function, (.startswith, (.string, blue)), (.string, blueberry)))"
   ]
  },
  {
   "cell_type": "code",
   "execution_count": 15,
   "metadata": {
    "collapsed": false,
    "scrolled": true
   },
   "outputs": [],
   "source": [
    "# sp.grammar.print_grammar()"
   ]
  },
  {
   "cell_type": "code",
   "execution_count": 16,
   "metadata": {
    "collapsed": false,
    "scrolled": false
   },
   "outputs": [],
   "source": [
    "# sp.grammar.print_chart(nested=True)"
   ]
  },
  {
   "cell_type": "code",
   "execution_count": 17,
   "metadata": {
    "collapsed": false,
    "scrolled": false
   },
   "outputs": [],
   "source": [
    "# total_correct = 0\n",
    "# total_incorrect = 0\n",
    "# total_failed = 0\n",
    "# total_redundant = 0\n",
    "# for i, example in enumerate(examples):\n",
    "#     if i==20: break\n",
    "# #     print example.explanation\n",
    "#     correct = 0\n",
    "#     incorrect = 0\n",
    "#     failed = 0\n",
    "#     redundant = 0\n",
    "#     semantics = set()\n",
    "#     parses = sp.parse(example.explanation, \n",
    "#                       example.candidate, \n",
    "#                       user_lists=user_lists, \n",
    "#                       verbose=False, \n",
    "#                       return_parses=True)\n",
    "# \n",
    "#     total_correct += correct\n",
    "#     total_incorrect += incorrect\n",
    "#     total_failed += failed\n",
    "#     total_redundant += redundant\n",
    "#     valid = correct + incorrect\n",
    "#     total = correct + incorrect + redundant + failed\n",
    "#     print \"Example %d: %d/%d (%d, %d) -> %d\" % (i, correct, valid, redundant, failed, total)\n",
    "# total_valid = total_correct + total_incorrect\n",
    "# total_total = total_correct + total_incorrect + total_redundant + total_failed\n",
    "# print \"TOTAL: {}/{} ({:.2f}); {} redundant, {} failed\".format(\n",
    "#                                  total_correct, total_valid, \n",
    "#                                  float(total_correct)/total_valid, \n",
    "#                                  total_redundant, total_failed)\n",
    "# print \"GROWTH (total): {:.2f}\".format(float(total_valid + total_faile)/len(examples))\n",
    "# print \"GROWTH (filter fail): {:.2f}\".format(float(total_valid)/len(examples))\n",
    "# print \"GROWTH (filter incorrect): {:.2f}\".format(float(total_correct)/len(examples))"
   ]
  },
  {
   "cell_type": "code",
   "execution_count": null,
   "metadata": {
    "collapsed": true
   },
   "outputs": [],
   "source": []
  }
 ],
 "metadata": {
  "anaconda-cloud": {},
  "kernelspec": {
   "display_name": "Python [default]",
   "language": "python",
   "name": "python2"
  },
  "language_info": {
   "codemirror_mode": {
    "name": "ipython",
    "version": 2
   },
   "file_extension": ".py",
   "mimetype": "text/x-python",
   "name": "python",
   "nbconvert_exporter": "python",
   "pygments_lexer": "ipython2",
   "version": "2.7.13"
  }
 },
 "nbformat": 4,
 "nbformat_minor": 1
}
