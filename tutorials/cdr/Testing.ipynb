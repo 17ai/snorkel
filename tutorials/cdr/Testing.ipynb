{
 "cells": [
  {
   "cell_type": "code",
   "execution_count": 1,
   "metadata": {
    "collapsed": true
   },
   "outputs": [],
   "source": [
    "DOMAIN = 'test' # test, spouse, cdr"
   ]
  },
  {
   "cell_type": "code",
   "execution_count": 2,
   "metadata": {
    "collapsed": false,
    "scrolled": true
   },
   "outputs": [],
   "source": [
    "import sys\n",
    "import os\n",
    "\n",
    "if DOMAIN == 'cdr':\n",
    "    os.environ['SNORKELDB'] = 'postgres:///semparse_cdr'\n",
    "\n",
    "from snorkel import SnorkelSession\n",
    "session = SnorkelSession()\n",
    "\n",
    "from snorkel.models import candidate_subclass\n",
    "if DOMAIN in ['test', 'spouse']:\n",
    "    Spouse = candidate_subclass('Spouse', ['person1', 'person2'])\n",
    "    candidate_class = Spouse\n",
    "elif DOMAIN == 'cdr':\n",
    "    ChemicalDisease = candidate_subclass('ChemicalDisease', ['chemical', 'disease'])\n",
    "    candidate_class = ChemicalDisease\n",
    "else:\n",
    "    raise Exception(\"Invalid DOMAIN.\")"
   ]
  },
  {
   "cell_type": "code",
   "execution_count": 3,
   "metadata": {
    "collapsed": false
   },
   "outputs": [
    {
     "name": "stdout",
     "output_type": "stream",
     "text": [
      "Candidates: 65\n"
     ]
    }
   ],
   "source": [
    "candidates = session.query(candidate_class).filter(candidate_class.split == 0).all()\n",
    "print(\"Candidates: {}\".format(len(candidates)))"
   ]
  },
  {
   "cell_type": "code",
   "execution_count": 4,
   "metadata": {
    "collapsed": false
   },
   "outputs": [],
   "source": [
    "# from snorkel.viewer import SentenceNgramViewer\n",
    "# sv = SentenceNgramViewer(candidates[:300], session)\n",
    "# sv"
   ]
  },
  {
   "cell_type": "code",
   "execution_count": 5,
   "metadata": {
    "collapsed": false,
    "scrolled": false
   },
   "outputs": [],
   "source": [
    "# c = sv.get_selected()\n",
    "# print c"
   ]
  },
  {
   "cell_type": "code",
   "execution_count": 6,
   "metadata": {
    "collapsed": false
   },
   "outputs": [],
   "source": [
    "# hash(c)"
   ]
  },
  {
   "cell_type": "code",
   "execution_count": 7,
   "metadata": {
    "collapsed": false,
    "scrolled": false
   },
   "outputs": [],
   "source": [
    "from semparse_examples import get_examples\n",
    "\n",
    "examples = get_examples(DOMAIN, candidates)\n",
    "\n",
    "if DOMAIN == 'test':\n",
    "    user_lists = {\n",
    "        'colors':['red','green','blue'],\n",
    "        'bluebird':['blue','bird','fly'],\n",
    "        'greek':['alpha','beta','gamma'],\n",
    "        'letters':['a','B','C'],\n",
    "        'smalls':['a','b','c','d'],\n",
    "        'spouse':['wife','husband','spouse']}\n",
    "elif DOMAIN == 'spouse':\n",
    "    user_lists = {\n",
    "        'spouse':['wife','husband','spouse'],\n",
    "        'family':['father', 'mother', 'brother', 'sister']}\n",
    "elif DOMAIN == 'cdr':\n",
    "    user_lists = {}"
   ]
  },
  {
   "cell_type": "code",
   "execution_count": 8,
   "metadata": {
    "collapsed": false,
    "scrolled": false
   },
   "outputs": [],
   "source": [
    "# examples[0].display()"
   ]
  },
  {
   "cell_type": "code",
   "execution_count": 9,
   "metadata": {
    "collapsed": false
   },
   "outputs": [],
   "source": [
    "# examples[28].candidate[0].get_parent()"
   ]
  },
  {
   "cell_type": "code",
   "execution_count": 10,
   "metadata": {
    "collapsed": false,
    "scrolled": true
   },
   "outputs": [
    {
     "name": "stdout",
     "output_type": "stream",
     "text": [
      "CPU times: user 1.61 s, sys: 929 ms, total: 2.54 s\n",
      "Wall time: 2.95 s\n"
     ]
    }
   ],
   "source": [
    "%time from snorkel.semantic import SemanticParser"
   ]
  },
  {
   "cell_type": "code",
   "execution_count": 11,
   "metadata": {
    "collapsed": false,
    "scrolled": false
   },
   "outputs": [
    {
     "name": "stdout",
     "output_type": "stream",
     "text": [
      "Created grammar with 204 rules\n",
      "CPU times: user 5.21 ms, sys: 9.35 ms, total: 14.6 ms\n",
      "Wall time: 82.9 ms\n"
     ]
    }
   ],
   "source": [
    "%time sp = SemanticParser(candidate_class, user_lists, absorb=True)"
   ]
  },
  {
   "cell_type": "code",
   "execution_count": 19,
   "metadata": {
    "collapsed": false,
    "scrolled": false
   },
   "outputs": [
    {
     "name": "stdout",
     "output_type": "stream",
     "text": [
      "Example 26: label True because the first word to the left of arg 2 equals 'wife'\n",
      "CPU times: user 19.3 ms, sys: 1.43 ms, total: 20.7 ms\n",
      "Wall time: 55.1 ms\n"
     ]
    },
    {
     "data": {
      "text/html": [
       "<div>\n",
       "<table border=\"1\" class=\"dataframe\">\n",
       "  <thead>\n",
       "    <tr style=\"text-align: right;\">\n",
       "      <th></th>\n",
       "      <th>Correct</th>\n",
       "      <th>Incorrect</th>\n",
       "      <th>Redundant</th>\n",
       "      <th>Failed</th>\n",
       "      <th>Unknown</th>\n",
       "    </tr>\n",
       "  </thead>\n",
       "  <tbody>\n",
       "    <tr>\n",
       "      <th>Example26</th>\n",
       "      <td>0</td>\n",
       "      <td>1</td>\n",
       "      <td>0</td>\n",
       "      <td>0</td>\n",
       "      <td>0</td>\n",
       "    </tr>\n",
       "  </tbody>\n",
       "</table>\n",
       "</div>"
      ],
      "text/plain": [
       "           Correct  Incorrect  Redundant  Failed  Unknown\n",
       "Example26        0          1          0       0        0"
      ]
     },
     "execution_count": 19,
     "metadata": {},
     "output_type": "execute_result"
    }
   ],
   "source": [
    "%time sp.evaluate(examples, show_explanation=True, show_all=False, only=[26])"
   ]
  },
  {
   "cell_type": "code",
   "execution_count": 13,
   "metadata": {
    "collapsed": true
   },
   "outputs": [],
   "source": [
    "# (.label, .true, (.function, (.startswith, (.string, blue)), (.string, blueberry)))"
   ]
  },
  {
   "cell_type": "code",
   "execution_count": 14,
   "metadata": {
    "collapsed": false,
    "scrolled": true
   },
   "outputs": [],
   "source": [
    "# sp.grammar.print_grammar()"
   ]
  },
  {
   "cell_type": "code",
   "execution_count": 15,
   "metadata": {
    "collapsed": false,
    "scrolled": false
   },
   "outputs": [],
   "source": [
    "# sp.grammar.print_chart()"
   ]
  },
  {
   "cell_type": "code",
   "execution_count": 16,
   "metadata": {
    "collapsed": false,
    "scrolled": false
   },
   "outputs": [],
   "source": [
    "# total_correct = 0\n",
    "# total_incorrect = 0\n",
    "# total_failed = 0\n",
    "# total_redundant = 0\n",
    "# for i, example in enumerate(examples):\n",
    "#     if i==20: break\n",
    "# #     print example.explanation\n",
    "#     correct = 0\n",
    "#     incorrect = 0\n",
    "#     failed = 0\n",
    "#     redundant = 0\n",
    "#     semantics = set()\n",
    "#     parses = sp.parse(example.explanation, \n",
    "#                       example.candidate, \n",
    "#                       user_lists=user_lists, \n",
    "#                       verbose=False, \n",
    "#                       return_parses=True)\n",
    "# \n",
    "#     total_correct += correct\n",
    "#     total_incorrect += incorrect\n",
    "#     total_failed += failed\n",
    "#     total_redundant += redundant\n",
    "#     valid = correct + incorrect\n",
    "#     total = correct + incorrect + redundant + failed\n",
    "#     print \"Example %d: %d/%d (%d, %d) -> %d\" % (i, correct, valid, redundant, failed, total)\n",
    "# total_valid = total_correct + total_incorrect\n",
    "# total_total = total_correct + total_incorrect + total_redundant + total_failed\n",
    "# print \"TOTAL: {}/{} ({:.2f}); {} redundant, {} failed\".format(\n",
    "#                                  total_correct, total_valid, \n",
    "#                                  float(total_correct)/total_valid, \n",
    "#                                  total_redundant, total_failed)\n",
    "# print \"GROWTH (total): {:.2f}\".format(float(total_valid + total_faile)/len(examples))\n",
    "# print \"GROWTH (filter fail): {:.2f}\".format(float(total_valid)/len(examples))\n",
    "# print \"GROWTH (filter incorrect): {:.2f}\".format(float(total_correct)/len(examples))"
   ]
  },
  {
   "cell_type": "code",
   "execution_count": null,
   "metadata": {
    "collapsed": true
   },
   "outputs": [],
   "source": []
  }
 ],
 "metadata": {
  "anaconda-cloud": {},
  "kernelspec": {
   "display_name": "Python [default]",
   "language": "python",
   "name": "python2"
  },
  "language_info": {
   "codemirror_mode": {
    "name": "ipython",
    "version": 2
   },
   "file_extension": ".py",
   "mimetype": "text/x-python",
   "name": "python",
   "nbconvert_exporter": "python",
   "pygments_lexer": "ipython2",
   "version": "2.7.13"
  }
 },
 "nbformat": 4,
 "nbformat_minor": 1
}
