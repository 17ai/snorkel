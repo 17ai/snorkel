{
 "cells": [
  {
   "cell_type": "code",
   "execution_count": 1,
   "metadata": {
    "collapsed": true
   },
   "outputs": [],
   "source": [
    "DOMAIN = 'semparse_cdr' # test, spouse, semparse_cdr"
   ]
  },
  {
   "cell_type": "code",
   "execution_count": 2,
   "metadata": {
    "collapsed": false,
    "scrolled": true
   },
   "outputs": [],
   "source": [
    "import sys\n",
    "import os\n",
    "\n",
    "os.environ['SNORKELDB'] = 'postgres:///{}'.format(DOMAIN)\n",
    "\n",
    "from snorkel import SnorkelSession\n",
    "session = SnorkelSession()\n",
    "\n",
    "from snorkel.models import candidate_subclass\n",
    "if DOMAIN in ['test', 'spouse']:\n",
    "    Spouse = candidate_subclass('Spouse', ['person1', 'person2'])\n",
    "    candidate_class = Spouse\n",
    "elif DOMAIN == 'semparse_cdr':\n",
    "    ChemicalDisease = candidate_subclass('ChemicalDisease', ['chemical', 'disease'])\n",
    "    candidate_class = ChemicalDisease\n",
    "else:\n",
    "    raise Exception(\"Invalid DOMAIN.\")"
   ]
  },
  {
   "cell_type": "code",
   "execution_count": 3,
   "metadata": {
    "collapsed": false,
    "scrolled": true
   },
   "outputs": [
    {
     "name": "stdout",
     "output_type": "stream",
     "text": [
      "Candidates: 13780\n"
     ]
    }
   ],
   "source": [
    "candidates = session.query(candidate_class).all()\n",
    "print(\"Candidates: {}\".format(len(candidates)))"
   ]
  },
  {
   "cell_type": "code",
   "execution_count": 4,
   "metadata": {
    "collapsed": false,
    "scrolled": false
   },
   "outputs": [
    {
     "name": "stdout",
     "output_type": "stream",
     "text": [
      "TDP is a side-effect that has led to withdrawal of several drugs from the market (e.g. terfenadine and terodiline). \n",
      "ChemicalDisease(Span(\"terfenadine\", sentence=6413, chars=[87,97], words=[17,17]), Span(\"TDP\", sentence=6413, chars=[0,2], words=[0,0]))\n"
     ]
    }
   ],
   "source": [
    "from snorkel.semantic import (get_left_phrases, get_right_phrases, \n",
    "                              get_between_phrases, get_sentence_phrases)\n",
    "c = candidates[0]\n",
    "print c[0].get_parent()._asdict()['text']\n",
    "print c"
   ]
  },
  {
   "cell_type": "code",
   "execution_count": 5,
   "metadata": {
    "collapsed": false,
    "scrolled": false
   },
   "outputs": [
    {
     "name": "stdout",
     "output_type": "stream",
     "text": [
      "market\n",
      "(\n",
      "e.g.\n",
      "market (\n",
      "(e.g.\n",
      "market (e.g.\n"
     ]
    }
   ],
   "source": [
    "for p in get_left_phrases(c[0], cmp='.leq', num=3, n_max=3):\n",
    "    print getattr(p, 'text')"
   ]
  },
  {
   "cell_type": "code",
   "execution_count": 6,
   "metadata": {
    "collapsed": false,
    "scrolled": true
   },
   "outputs": [],
   "source": [
    "# c[0].get_parent()._asdict()"
   ]
  },
  {
   "cell_type": "code",
   "execution_count": 7,
   "metadata": {
    "collapsed": false
   },
   "outputs": [],
   "source": [
    "# from snorkel.viewer import SentenceNgramViewer\n",
    "# sv = SentenceNgramViewer(candidates[:300], session)\n",
    "# sv"
   ]
  },
  {
   "cell_type": "raw",
   "metadata": {},
   "source": [
    "David Beckham already had four other perfumes, two of which also had a women's version fronted by his lovely wife Victoria Beckham."
   ]
  },
  {
   "cell_type": "code",
   "execution_count": 8,
   "metadata": {
    "collapsed": false,
    "scrolled": false
   },
   "outputs": [],
   "source": [
    "# c = sv.get_selected()\n",
    "# print c\n",
    "# print c[0].get_parent()._asdict()['pos_tags']\n",
    "# print c[0].get_parent()._asdict()['ner_tags']"
   ]
  },
  {
   "cell_type": "code",
   "execution_count": 9,
   "metadata": {
    "collapsed": false
   },
   "outputs": [],
   "source": [
    "# hash(c)"
   ]
  },
  {
   "cell_type": "code",
   "execution_count": 20,
   "metadata": {
    "collapsed": false,
    "scrolled": false
   },
   "outputs": [],
   "source": [
    "from semparse_examples import get_examples\n",
    "\n",
    "examples = get_examples(DOMAIN, candidates)\n",
    "\n",
    "if DOMAIN == 'test':\n",
    "    user_lists = {\n",
    "        'colors':['red','green','blue'],\n",
    "        'bluebird':['blue','bird','fly'],\n",
    "        'greek':['alpha','beta','gamma'],\n",
    "        'letters':['a','B','C'],\n",
    "        'smalls':['a','b','c','d'],\n",
    "        'spouse':['wife','husband','spouse']}\n",
    "elif DOMAIN == 'spouse':\n",
    "    user_lists = {\n",
    "        'spouse':['wife','husband','spouse'],\n",
    "        'family':['father', 'mother', 'brother', 'sister']}\n",
    "elif DOMAIN == 'semparse_cdr':\n",
    "    import bz2\n",
    "    import cPickle\n",
    "    with bz2.BZ2File('data/ctd.pkl.bz2', 'rb') as ctd_f:\n",
    "        ctd_unspecified, ctd_therapy, ctd_marker = cPickle.load(ctd_f)\n",
    "    user_lists = {\n",
    "        'uncertain': ['combin', 'possible', 'unlikely'],\n",
    "        'causal': ['causes', 'caused', 'induce', 'induces', 'induced', 'associated with'],\n",
    "        'treat': ['treat', 'effective', 'prevent', 'resistant', 'slow', 'promise', 'therap'],\n",
    "        'procedure': ['inject', 'administrat'],\n",
    "        'patient': ['in a patient with', 'in patients with'],\n",
    "        'weak': ['none', 'although', 'was carried out', 'was conducted', 'seems', \n",
    "                 'suggests', 'risk', 'implicated', 'the aim', 'to investigate',\n",
    "                 'to assess', 'to study'],\n",
    "        'ctd_unspecified': ctd_unspecified,\n",
    "        'ctd_therapy': ctd_therapy,\n",
    "        'ctd_marker': ctd_marker,\n",
    "    }"
   ]
  },
  {
   "cell_type": "code",
   "execution_count": 11,
   "metadata": {
    "collapsed": false,
    "scrolled": false
   },
   "outputs": [],
   "source": [
    "# examples[0].display()"
   ]
  },
  {
   "cell_type": "code",
   "execution_count": 12,
   "metadata": {
    "collapsed": false
   },
   "outputs": [],
   "source": [
    "# examples[28].candidate[0].get_parent()"
   ]
  },
  {
   "cell_type": "code",
   "execution_count": 13,
   "metadata": {
    "collapsed": false,
    "scrolled": false
   },
   "outputs": [
    {
     "name": "stdout",
     "output_type": "stream",
     "text": [
      "CPU times: user 10 µs, sys: 0 ns, total: 10 µs\n",
      "Wall time: 14.1 µs\n"
     ]
    }
   ],
   "source": [
    "%time from snorkel.semantic import SemanticParser"
   ]
  },
  {
   "cell_type": "code",
   "execution_count": 14,
   "metadata": {
    "collapsed": false,
    "scrolled": false
   },
   "outputs": [
    {
     "name": "stdout",
     "output_type": "stream",
     "text": [
      "Created grammar with 260 rules\n",
      "CPU times: user 4.97 ms, sys: 9.07 ms, total: 14 ms\n",
      "Wall time: 23.3 ms\n"
     ]
    }
   ],
   "source": [
    "%time sp = SemanticParser(candidate_class, user_lists, absorb=False)"
   ]
  },
  {
   "cell_type": "code",
   "execution_count": 15,
   "metadata": {
    "collapsed": false,
    "scrolled": false
   },
   "outputs": [
    {
     "name": "stdout",
     "output_type": "stream",
     "text": [
      "Example 0: Label true because any causal phrase is between the \n",
      "            chemical and the disease and the word 'not' is not between the \n",
      "            chemical and the disease\n",
      "\n",
      "Example 1: Label true because the disease is immediately after the chemical\n",
      "\n",
      "Example 2: Label true because the disease is immediately after the \n",
      "            chemical and 'induc' or 'assoc' is in the chemical\n",
      "\n",
      "Example 3: Label false because any word between the chemical and \n",
      "            the disease contains a treat word and the chemical is within 100 \n",
      "            characters to the left of the disease\n",
      "\n",
      "Example 4: Label false because any word between the chemical and \n",
      "            the disease contains a treat word and the chemical is left of the \n",
      "            disease\n",
      "\n",
      "Example 5: Label true because 'following' is between the disease \n",
      "            and the chemical and any word after the chemical contains a \n",
      "            procedure word\n",
      "\n",
      "Example 6: Label True because 'induced by', 'caused by', or 'due to' \n",
      "            is between the disease and the chemical.\n",
      "\n",
      "Example 7: Label True because 'induced by', 'caused by', or 'due to' \n",
      "            is between the disease and the chemical and 'by' or 'to' is \n",
      "            immediately to the left of the chemical.\n",
      "\n",
      "Example 8: Label false because any word between the chemical and \n",
      "            the disease contains a treat word and the chemical is within 100\n",
      "            characters to the right of the disease\n",
      "\n",
      "Example 9: Label true because any word before the chemical contains \n",
      "            'develop' and 'following' is between the disease and the chemical\n",
      "\n",
      "Example 10: Label false if the disease is more than 100 characters\n",
      "            to the right of the chemical.\n",
      "\n",
      "Example 11: Label false if the chemical is more than 100 characters\n",
      "            to the right of the disease.\n",
      "\n",
      "Example 12: Label false if any word before the disease starts with \n",
      "            'improv'\n",
      "\n",
      "Example 13: Label false if any patient phrase is within four words \n",
      "            before the disease\n",
      "\n",
      "Example 14: Label true because any word between the chemical and the \n",
      "            disease contains 'induc'\n",
      "\n",
      "Example 15: Label True because the chemical contains 'induc'\n",
      "\n",
      "Example 16: Label false if any word between the chemical and the \n",
      "            disease ends with 'induced'\n",
      "\n",
      "Example 17: Label false because 'level' comes after the chemical\n",
      "\n",
      "Example 18: Label false because any word before the chemical starts \n",
      "            with 'measur'\n",
      "\n",
      "Example 19: Label false because 'none', 'not', or 'no' is within 30 \n",
      "            characters to the left of the disease\n",
      "\n",
      "Example 20: Label true because the phrase 'risk of' occurs before \n",
      "            the disease\n",
      "\n",
      "Example 21: Label false because at least one treat word is less than\n",
      "            50 characters before the disease\n",
      "\n",
      "Example 22: Label false if any word before the chemical starts with \n",
      "            an uncertain word\n",
      "\n",
      "Example 23: Label false because at least one weak phrase is in \n",
      "            the sentence\n",
      "\n",
      "CPU times: user 195 ms, sys: 19.8 ms, total: 214 ms\n",
      "Wall time: 351 ms\n"
     ]
    },
    {
     "data": {
      "text/html": [
       "<div>\n",
       "<table border=\"1\" class=\"dataframe\">\n",
       "  <thead>\n",
       "    <tr style=\"text-align: right;\">\n",
       "      <th></th>\n",
       "      <th>Correct</th>\n",
       "      <th>Incorrect</th>\n",
       "      <th>Redundant</th>\n",
       "      <th>Failed</th>\n",
       "      <th>Unknown</th>\n",
       "    </tr>\n",
       "  </thead>\n",
       "  <tbody>\n",
       "    <tr>\n",
       "      <th>Example0</th>\n",
       "      <td>1</td>\n",
       "      <td>0</td>\n",
       "      <td>0</td>\n",
       "      <td>0</td>\n",
       "      <td>0</td>\n",
       "    </tr>\n",
       "    <tr>\n",
       "      <th>Example1</th>\n",
       "      <td>1</td>\n",
       "      <td>0</td>\n",
       "      <td>0</td>\n",
       "      <td>0</td>\n",
       "      <td>0</td>\n",
       "    </tr>\n",
       "    <tr>\n",
       "      <th>Example2</th>\n",
       "      <td>1</td>\n",
       "      <td>0</td>\n",
       "      <td>0</td>\n",
       "      <td>0</td>\n",
       "      <td>0</td>\n",
       "    </tr>\n",
       "    <tr>\n",
       "      <th>Example3</th>\n",
       "      <td>1</td>\n",
       "      <td>0</td>\n",
       "      <td>0</td>\n",
       "      <td>0</td>\n",
       "      <td>0</td>\n",
       "    </tr>\n",
       "    <tr>\n",
       "      <th>Example4</th>\n",
       "      <td>1</td>\n",
       "      <td>0</td>\n",
       "      <td>0</td>\n",
       "      <td>0</td>\n",
       "      <td>0</td>\n",
       "    </tr>\n",
       "    <tr>\n",
       "      <th>Example5</th>\n",
       "      <td>1</td>\n",
       "      <td>0</td>\n",
       "      <td>0</td>\n",
       "      <td>0</td>\n",
       "      <td>0</td>\n",
       "    </tr>\n",
       "    <tr>\n",
       "      <th>Example6</th>\n",
       "      <td>1</td>\n",
       "      <td>0</td>\n",
       "      <td>0</td>\n",
       "      <td>0</td>\n",
       "      <td>0</td>\n",
       "    </tr>\n",
       "    <tr>\n",
       "      <th>Example7</th>\n",
       "      <td>1</td>\n",
       "      <td>0</td>\n",
       "      <td>0</td>\n",
       "      <td>0</td>\n",
       "      <td>0</td>\n",
       "    </tr>\n",
       "    <tr>\n",
       "      <th>Example8</th>\n",
       "      <td>1</td>\n",
       "      <td>0</td>\n",
       "      <td>0</td>\n",
       "      <td>0</td>\n",
       "      <td>0</td>\n",
       "    </tr>\n",
       "    <tr>\n",
       "      <th>Example9</th>\n",
       "      <td>1</td>\n",
       "      <td>0</td>\n",
       "      <td>0</td>\n",
       "      <td>0</td>\n",
       "      <td>0</td>\n",
       "    </tr>\n",
       "    <tr>\n",
       "      <th>Example10</th>\n",
       "      <td>1</td>\n",
       "      <td>0</td>\n",
       "      <td>0</td>\n",
       "      <td>0</td>\n",
       "      <td>0</td>\n",
       "    </tr>\n",
       "    <tr>\n",
       "      <th>Example11</th>\n",
       "      <td>1</td>\n",
       "      <td>0</td>\n",
       "      <td>0</td>\n",
       "      <td>0</td>\n",
       "      <td>0</td>\n",
       "    </tr>\n",
       "    <tr>\n",
       "      <th>Example12</th>\n",
       "      <td>1</td>\n",
       "      <td>0</td>\n",
       "      <td>0</td>\n",
       "      <td>0</td>\n",
       "      <td>0</td>\n",
       "    </tr>\n",
       "    <tr>\n",
       "      <th>Example13</th>\n",
       "      <td>1</td>\n",
       "      <td>0</td>\n",
       "      <td>0</td>\n",
       "      <td>0</td>\n",
       "      <td>0</td>\n",
       "    </tr>\n",
       "    <tr>\n",
       "      <th>Example14</th>\n",
       "      <td>1</td>\n",
       "      <td>0</td>\n",
       "      <td>0</td>\n",
       "      <td>0</td>\n",
       "      <td>0</td>\n",
       "    </tr>\n",
       "    <tr>\n",
       "      <th>Example15</th>\n",
       "      <td>1</td>\n",
       "      <td>0</td>\n",
       "      <td>0</td>\n",
       "      <td>0</td>\n",
       "      <td>0</td>\n",
       "    </tr>\n",
       "    <tr>\n",
       "      <th>Example16</th>\n",
       "      <td>1</td>\n",
       "      <td>0</td>\n",
       "      <td>0</td>\n",
       "      <td>0</td>\n",
       "      <td>0</td>\n",
       "    </tr>\n",
       "    <tr>\n",
       "      <th>Example17</th>\n",
       "      <td>1</td>\n",
       "      <td>0</td>\n",
       "      <td>0</td>\n",
       "      <td>0</td>\n",
       "      <td>0</td>\n",
       "    </tr>\n",
       "    <tr>\n",
       "      <th>Example18</th>\n",
       "      <td>1</td>\n",
       "      <td>0</td>\n",
       "      <td>0</td>\n",
       "      <td>0</td>\n",
       "      <td>0</td>\n",
       "    </tr>\n",
       "    <tr>\n",
       "      <th>Example19</th>\n",
       "      <td>1</td>\n",
       "      <td>0</td>\n",
       "      <td>0</td>\n",
       "      <td>0</td>\n",
       "      <td>0</td>\n",
       "    </tr>\n",
       "    <tr>\n",
       "      <th>Example20</th>\n",
       "      <td>1</td>\n",
       "      <td>0</td>\n",
       "      <td>0</td>\n",
       "      <td>0</td>\n",
       "      <td>0</td>\n",
       "    </tr>\n",
       "    <tr>\n",
       "      <th>Example21</th>\n",
       "      <td>1</td>\n",
       "      <td>0</td>\n",
       "      <td>0</td>\n",
       "      <td>0</td>\n",
       "      <td>0</td>\n",
       "    </tr>\n",
       "    <tr>\n",
       "      <th>Example22</th>\n",
       "      <td>1</td>\n",
       "      <td>0</td>\n",
       "      <td>0</td>\n",
       "      <td>0</td>\n",
       "      <td>0</td>\n",
       "    </tr>\n",
       "    <tr>\n",
       "      <th>Example23</th>\n",
       "      <td>1</td>\n",
       "      <td>0</td>\n",
       "      <td>0</td>\n",
       "      <td>0</td>\n",
       "      <td>0</td>\n",
       "    </tr>\n",
       "  </tbody>\n",
       "</table>\n",
       "</div>"
      ],
      "text/plain": [
       "           Correct  Incorrect  Redundant  Failed  Unknown\n",
       "Example0         1          0          0       0        0\n",
       "Example1         1          0          0       0        0\n",
       "Example2         1          0          0       0        0\n",
       "Example3         1          0          0       0        0\n",
       "Example4         1          0          0       0        0\n",
       "Example5         1          0          0       0        0\n",
       "Example6         1          0          0       0        0\n",
       "Example7         1          0          0       0        0\n",
       "Example8         1          0          0       0        0\n",
       "Example9         1          0          0       0        0\n",
       "Example10        1          0          0       0        0\n",
       "Example11        1          0          0       0        0\n",
       "Example12        1          0          0       0        0\n",
       "Example13        1          0          0       0        0\n",
       "Example14        1          0          0       0        0\n",
       "Example15        1          0          0       0        0\n",
       "Example16        1          0          0       0        0\n",
       "Example17        1          0          0       0        0\n",
       "Example18        1          0          0       0        0\n",
       "Example19        1          0          0       0        0\n",
       "Example20        1          0          0       0        0\n",
       "Example21        1          0          0       0        0\n",
       "Example22        1          0          0       0        0\n",
       "Example23        1          0          0       0        0"
      ]
     },
     "execution_count": 15,
     "metadata": {},
     "output_type": "execute_result"
    }
   ],
   "source": [
    "%time results = sp.evaluate(examples,\\\n",
    "                            show_everything=False,\\\n",
    "                            show_explanation=True,\\\n",
    "                            show_candidate=False,\\\n",
    "                            show_sentence=False,\\\n",
    "                            show_parse=False,\\\n",
    "                            show_semantics=False,\\\n",
    "                            only=[])\n",
    "results"
   ]
  },
  {
   "cell_type": "code",
   "execution_count": 16,
   "metadata": {
    "collapsed": false,
    "scrolled": true
   },
   "outputs": [
    {
     "name": "stdout",
     "output_type": "stream",
     "text": [
      "Correct      24\n",
      "Incorrect     0\n",
      "Redundant     0\n",
      "Failed        0\n",
      "Unknown       0\n",
      "dtype: int64\n"
     ]
    }
   ],
   "source": [
    "import numpy as np\n",
    "print np.sum(results, axis=0)"
   ]
  },
  {
   "cell_type": "code",
   "execution_count": 17,
   "metadata": {
    "collapsed": false,
    "scrolled": false
   },
   "outputs": [],
   "source": [
    "# sp.grammar.print_chart(nested=True)"
   ]
  },
  {
   "cell_type": "code",
   "execution_count": 18,
   "metadata": {
    "collapsed": false,
    "scrolled": false
   },
   "outputs": [],
   "source": [
    "# sp.grammar.print_grammar()"
   ]
  }
 ],
 "metadata": {
  "anaconda-cloud": {},
  "kernelspec": {
   "display_name": "Python 2",
   "language": "python",
   "name": "python2"
  },
  "language_info": {
   "codemirror_mode": {
    "name": "ipython",
    "version": 2
   },
   "file_extension": ".py",
   "mimetype": "text/x-python",
   "name": "python",
   "nbconvert_exporter": "python",
   "pygments_lexer": "ipython2",
   "version": "2.7.13"
  }
 },
 "nbformat": 4,
 "nbformat_minor": 1
}
