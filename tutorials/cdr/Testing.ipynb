{
 "cells": [
  {
   "cell_type": "code",
   "execution_count": 1,
   "metadata": {
    "collapsed": true
   },
   "outputs": [],
   "source": [
    "DOMAIN = 'test' # test, spouse, cdr"
   ]
  },
  {
   "cell_type": "code",
   "execution_count": 2,
   "metadata": {
    "collapsed": false,
    "scrolled": true
   },
   "outputs": [],
   "source": [
    "import sys\n",
    "import os\n",
    "\n",
    "if DOMAIN == 'cdr':\n",
    "    os.environ['SNORKELDB'] = 'postgres:///semparse_cdr'\n",
    "\n",
    "from snorkel import SnorkelSession\n",
    "session = SnorkelSession()\n",
    "\n",
    "from snorkel.models import candidate_subclass\n",
    "if DOMAIN in ['test', 'spouse']:\n",
    "    Spouse = candidate_subclass('Spouse', ['person1', 'person2'])\n",
    "    candidate_class = Spouse\n",
    "elif DOMAIN == 'cdr':\n",
    "    ChemicalDisease = candidate_subclass('ChemicalDisease', ['chemical', 'disease'])\n",
    "    candidate_class = ChemicalDisease\n",
    "else:\n",
    "    raise Exception(\"Invalid DOMAIN.\")"
   ]
  },
  {
   "cell_type": "code",
   "execution_count": 3,
   "metadata": {
    "collapsed": false
   },
   "outputs": [
    {
     "name": "stdout",
     "output_type": "stream",
     "text": [
      "Candidates: 65\n"
     ]
    }
   ],
   "source": [
    "candidates = session.query(candidate_class).filter(candidate_class.split == 0).all()\n",
    "print(\"Candidates: {}\".format(len(candidates)))"
   ]
  },
  {
   "cell_type": "code",
   "execution_count": 4,
   "metadata": {
    "collapsed": false
   },
   "outputs": [],
   "source": [
    "# c = candidates[0]\n",
    "# print c[0].get_parent()._asdict()['entity_types']"
   ]
  },
  {
   "cell_type": "code",
   "execution_count": 5,
   "metadata": {
    "collapsed": false
   },
   "outputs": [],
   "source": [
    "# from snorkel.viewer import SentenceNgramViewer\n",
    "# sv = SentenceNgramViewer(candidates[:300], session)\n",
    "# sv"
   ]
  },
  {
   "cell_type": "code",
   "execution_count": 6,
   "metadata": {
    "collapsed": false,
    "scrolled": false
   },
   "outputs": [],
   "source": [
    "# c = sv.get_selected()\n",
    "# print c"
   ]
  },
  {
   "cell_type": "code",
   "execution_count": 7,
   "metadata": {
    "collapsed": false
   },
   "outputs": [],
   "source": [
    "# hash(c)"
   ]
  },
  {
   "cell_type": "code",
   "execution_count": 8,
   "metadata": {
    "collapsed": false,
    "scrolled": false
   },
   "outputs": [],
   "source": [
    "from semparse_examples import get_examples\n",
    "\n",
    "examples = get_examples(DOMAIN, candidates)\n",
    "\n",
    "if DOMAIN == 'test':\n",
    "    user_lists = {\n",
    "        'colors':['red','green','blue'],\n",
    "        'bluebird':['blue','bird','fly'],\n",
    "        'greek':['alpha','beta','gamma'],\n",
    "        'letters':['a','B','C'],\n",
    "        'smalls':['a','b','c','d'],\n",
    "        'spouse':['wife','husband','spouse']}\n",
    "elif DOMAIN == 'spouse':\n",
    "    user_lists = {\n",
    "        'spouse':['wife','husband','spouse'],\n",
    "        'family':['father', 'mother', 'brother', 'sister']}\n",
    "elif DOMAIN == 'cdr':\n",
    "    user_lists = {}"
   ]
  },
  {
   "cell_type": "code",
   "execution_count": 9,
   "metadata": {
    "collapsed": false,
    "scrolled": false
   },
   "outputs": [],
   "source": [
    "# examples[0].display()"
   ]
  },
  {
   "cell_type": "code",
   "execution_count": 10,
   "metadata": {
    "collapsed": false
   },
   "outputs": [],
   "source": [
    "# examples[28].candidate[0].get_parent()"
   ]
  },
  {
   "cell_type": "code",
   "execution_count": 11,
   "metadata": {
    "collapsed": false,
    "scrolled": true
   },
   "outputs": [
    {
     "name": "stdout",
     "output_type": "stream",
     "text": [
      "CPU times: user 1.51 s, sys: 545 ms, total: 2.06 s\n",
      "Wall time: 2.42 s\n"
     ]
    }
   ],
   "source": [
    "%time from snorkel.semantic import SemanticParser"
   ]
  },
  {
   "cell_type": "code",
   "execution_count": 12,
   "metadata": {
    "collapsed": false,
    "scrolled": true
   },
   "outputs": [
    {
     "name": "stdout",
     "output_type": "stream",
     "text": [
      "Created grammar with 203 rules\n",
      "CPU times: user 4.71 ms, sys: 8.86 ms, total: 13.6 ms\n",
      "Wall time: 36.7 ms\n"
     ]
    }
   ],
   "source": [
    "%time sp = SemanticParser(candidate_class, user_lists, absorb=True)"
   ]
  },
  {
   "cell_type": "code",
   "execution_count": null,
   "metadata": {
    "collapsed": false,
    "scrolled": false
   },
   "outputs": [
    {
     "name": "stdout",
     "output_type": "stream",
     "text": [
      "Example 0: label True because True\n",
      "Example 1: label True because True and True\n",
      "Example 2: label True because False or True\n",
      "Example 3: label True because not False\n",
      "Example 4: label True because 'yes' equals 'yes'\n",
      "Example 5: label True because 1 is equal to 1\n",
      "Example 6: label True because 1 is equal to one\n",
      "Example 7: label True because 1 is less than 2\n",
      "Example 8: label True because 2 is less than or equal to 2\n",
      "Example 9: label True because 2 > 1\n",
      "Example 10: label True because 2 is at least 2\n",
      "Example 11: label True because arg 1 is lowercase\n",
      "Example 12: label True because arg 1 is upper case\n",
      "Example 13: label True because arg 1 is capitalized\n",
      "Example 14: label True because the word 'blueberry' starts with 'blue'\n",
      "Example 15: label True because the word 'blueberry' ends with 'berry'\n",
      "Example 16: label True because argument 1 is 'foo'\n",
      "Example 17: label True because 'bar' is in 'foobarbaz'\n",
      "Example 18: label True because the word 'foobarbaz' contains 'oobarba'\n",
      "Example 19: label True because 'bar' is in the list ('foo','bar','baz')\n",
      "Example 20: label True because 'blue' in colors\n",
      "Example 21: label True because 'blue' or 'shmoo' is in colors\n",
      "Example 22: label True because 'blue' ends with 'moe' or 'lue'\n",
      "Example 23: label True because 'blue' and 'red' are in colors\n",
      "Example 24: label True because 'blue' contains 'l' and 'u'\n",
      "Example 25: label True because 'wife' is in the words left of arg 2\n",
      "Example 26: label True because 'wife' is in the words to the right of arg 1\n",
      "Example 27: label True because 'wife' is between arg 1 and arg 2\n",
      "Example 28: label True because the word \"wife\" is in the sentence\n",
      "Example 29: label True because the number of words between arg 1 and arg 2 is less than 20\n",
      "Example 30: label True because there are more than 3 words between arg 1 and arg 2\n",
      "(0, 1)       label\n",
      "             $Token\n",
      "             $Label\n",
      "(1, 2)       true\n",
      "             $Token\n",
      "             $True\n",
      "             $BoolLit\n",
      "             $Bool\n",
      "(2, 3)       because\n",
      "             $Token\n",
      "             $Because\n",
      "(3, 4)       there\n",
      "             $Token\n",
      "(4, 5)       are\n",
      "             $Token\n",
      "(5, 6)       more\n",
      "             $Token\n",
      "(6, 7)       than\n",
      "             $Token\n",
      "(7, 8)       3\n",
      "             $Token\n",
      "             $Int\n",
      "(8, 9)       words\n",
      "             $Token\n",
      "             $Word\n",
      "(9, 10)      between\n",
      "             $Token\n",
      "             $Between\n",
      "(10, 11)     arg\n",
      "             $Token\n",
      "             $Arg\n",
      "(11, 12)     1\n",
      "             $Token\n",
      "             $Int\n",
      "(12, 13)     and\n",
      "             $Token\n",
      "             $And\n",
      "             $Conj\n",
      "(13, 14)     arg\n",
      "             $Token\n",
      "             $Arg\n",
      "(14, 15)     2\n",
      "             $Token\n",
      "             $Int\n",
      "(0, 2)       label true\n",
      "             $Label\n",
      "(1, 3)       true because\n",
      "             $True\n",
      "             $BoolLit\n",
      "             $Bool\n",
      "(2, 4)       because there\n",
      "             $Because\n",
      "(5, 7)       more than\n",
      "             $MoreThan\n",
      "             $Inequals\n",
      "             $Compare\n",
      "(7, 9)       3 words\n",
      "             $Int\n",
      "(8, 10)      words between\n",
      "             $Word\n",
      "(9, 11)      between arg\n",
      "             $Between\n",
      "(10, 12)     arg 1\n",
      "             $Arg\n",
      "             $ArgX\n",
      "             $String\n",
      "             $StringList\n",
      "(11, 13)     1 and\n",
      "             $Int\n",
      "(12, 14)     and arg\n",
      "             $And\n",
      "             $Conj\n",
      "(13, 15)     arg 2\n",
      "             $Arg\n",
      "             $ArgX\n",
      "             $String\n",
      "             $StringList\n",
      "(0, 3)       label true because\n",
      "             $Label\n",
      "(1, 4)       true because there\n",
      "             $True\n",
      "             $BoolLit\n",
      "             $Bool\n",
      "(2, 5)       because there are\n",
      "             $Because\n",
      "(5, 8)       more than 3\n",
      "             $MoreThan\n",
      "             $IntToBool\n",
      "             $Inequals\n",
      "             $Compare\n",
      "(7, 10)      3 words between\n",
      "             $Int\n",
      "(8, 11)      words between arg\n",
      "             $Word\n",
      "(9, 12)      between arg 1\n",
      "             $Between\n",
      "(10, 13)     arg 1 and\n",
      "             $ArgX\n",
      "             $Arg\n",
      "             $StringList\n",
      "             $String\n",
      "             $StringList\n",
      "(11, 14)     1 and arg\n",
      "             $Int\n",
      "(12, 15)     and arg 2\n",
      "             $StringListAnd_$StringList_$Separator\n",
      "             $StringListAnd_$StringList_\n",
      "             $And\n",
      "             $Conj\n",
      "(0, 4)       label true because there\n",
      "             $Label\n",
      "(1, 5)       true because there are\n",
      "             $True\n",
      "             $BoolLit\n",
      "             $Bool\n",
      "(2, 6)       because there are more\n",
      "             $Because\n",
      "(5, 9)       more than 3 words\n",
      "             $IntToBool\n",
      "             $MoreThan\n",
      "             $Inequals\n",
      "             $Compare\n",
      "(7, 11)      3 words between arg\n",
      "             $Int\n",
      "(8, 12)      words between arg 1\n",
      "             $Word\n",
      "(9, 13)      between arg 1 and\n",
      "             $Between\n",
      "(10, 14)     arg 1 and arg\n",
      "             $ArgX\n",
      "             $Arg\n",
      "             $StringList\n",
      "             $StringList\n",
      "             $String\n",
      "             $StringList\n",
      "(11, 15)     1 and arg 2\n",
      "             $Int\n",
      "(0, 5)       label true because there are\n",
      "             $Label\n",
      "(1, 6)       true because there are more\n",
      "             $True\n",
      "             $BoolLit\n",
      "             $Bool\n",
      "(2, 7)       because there are more than\n",
      "             $Because\n",
      "(5, 10)      more than 3 words between\n",
      "             $IntToBool\n",
      "             $MoreThan\n",
      "             $Inequals\n",
      "             $Compare\n",
      "(7, 12)      3 words between arg 1\n",
      "             $Int\n",
      "(8, 13)      words between arg 1 and\n",
      "             $Word\n",
      "(9, 14)      between arg 1 and arg\n",
      "             $Between\n",
      "(10, 15)     arg 1 and arg 2\n",
      "             $ArgX\n",
      "             $StringListAnd\n",
      "             $StringList\n",
      "             $StringList\n",
      "             $Arg\n",
      "             $ArgX\n",
      "             $StringList\n",
      "             $StringList\n",
      "             $StringList\n",
      "             $String\n",
      "             $String\n",
      "             $StringList\n",
      "             $StringList\n",
      "(0, 6)       label true because there are more\n",
      "             $Label\n",
      "(1, 7)       true because there are more than\n",
      "             $True\n",
      "             $BoolLit\n",
      "             $Bool\n",
      "(2, 8)       because there are more than 3\n",
      "             $Because\n",
      "(5, 11)      more than 3 words between arg\n",
      "             $IntToBool\n",
      "             $MoreThan\n",
      "             $Inequals\n",
      "             $Compare\n",
      "(7, 13)      3 words between arg 1 and\n",
      "             $Int\n",
      "(8, 14)      words between arg 1 and arg\n",
      "             $Word\n",
      "(9, 15)      between arg 1 and arg 2\n",
      "             $Between\n",
      "(0, 7)       label true because there are more than\n",
      "             $Label\n",
      "(1, 8)       true because there are more than 3\n",
      "             $True\n",
      "             $BoolLit\n",
      "             $Bool\n",
      "(2, 9)       because there are more than 3 words\n",
      "             $Because\n",
      "(5, 12)      more than 3 words between arg 1\n",
      "             $IntToBool\n",
      "             $MoreThan\n",
      "             $IntToBool\n",
      "             $Inequals\n",
      "             $Compare\n",
      "(7, 14)      3 words between arg 1 and arg\n",
      "             $Int\n",
      "(8, 15)      words between arg 1 and arg 2\n",
      "             $Word\n",
      "(0, 8)       label true because there are more than 3\n",
      "             $Label\n",
      "(1, 9)       true because there are more than 3 words\n",
      "             $True\n",
      "             $BoolLit\n",
      "             $Bool\n",
      "(2, 10)      because there are more than 3 words between\n",
      "             $Because\n",
      "(5, 13)      more than 3 words between arg 1 and\n",
      "             $IntToBool\n",
      "             $IntToBool\n",
      "             $MoreThan\n",
      "             $Inequals\n",
      "             $Compare\n",
      "(7, 15)      3 words between arg 1 and arg 2\n",
      "             $Int\n",
      "(0, 9)       label true because there are more than 3 words\n",
      "             $Label\n",
      "(1, 10)      true because there are more than 3 words between\n",
      "             $True\n",
      "             $BoolLit\n",
      "             $Bool\n",
      "(2, 11)      because there are more than 3 words between arg\n",
      "             $Because\n",
      "(5, 14)      more than 3 words between arg 1 and arg\n",
      "             $IntToBool\n",
      "             $IntToBool\n",
      "             $MoreThan\n",
      "             $Inequals\n",
      "             $Compare\n",
      "(0, 10)      label true because there are more than 3 words between\n",
      "             $Label\n",
      "(1, 11)      true because there are more than 3 words between arg\n",
      "             $True\n",
      "             $BoolLit\n",
      "             $Bool\n",
      "(2, 12)      because there are more than 3 words between arg 1\n",
      "             $Because\n",
      "(5, 15)      more than 3 words between arg 1 and arg 2\n",
      "             $IntToBool\n",
      "             $IntToBool\n",
      "             $MoreThan\n",
      "             $IntToBool\n",
      "             $Inequals\n",
      "             $Compare\n",
      "(0, 11)      label true because there are more than 3 words between arg\n",
      "             $Label\n",
      "(1, 12)      true because there are more than 3 words between arg 1\n",
      "             $True\n",
      "             $BoolLit\n",
      "             $Bool\n",
      "(2, 13)      because there are more than 3 words between arg 1 and\n",
      "             $Because\n",
      "(0, 12)      label true because there are more than 3 words between arg 1\n",
      "             $Label\n",
      "(1, 13)      true because there are more than 3 words between arg 1 and\n",
      "             $True\n",
      "             $BoolLit\n",
      "             $Bool\n",
      "(2, 14)      because there are more than 3 words between arg 1 and arg\n",
      "             $Because\n",
      "(0, 13)      label true because there are more than 3 words between arg 1 and\n",
      "             $Label\n",
      "(1, 14)      true because there are more than 3 words between arg 1 and arg\n",
      "             $True\n",
      "             $BoolLit\n",
      "             $Bool\n",
      "(2, 15)      because there are more than 3 words between arg 1 and arg 2\n",
      "             $Because\n",
      "(0, 14)      label true because there are more than 3 words between arg 1 and arg\n",
      "             $Label\n",
      "(1, 15)      true because there are more than 3 words between arg 1 and arg 2\n",
      "             $True\n",
      "             $BoolLit\n",
      "             $Bool\n",
      "(0, 15)      label true because there are more than 3 words between arg 1 and arg 2\n",
      "             $Label\n",
      "> /Users/bradenhancock/snorkel/snorkel/semantic/grammar.py(67)parse_input()\n",
      "-> return parses\n"
     ]
    }
   ],
   "source": [
    "%time sp.evaluate(examples, show_explanation=True, show_all=False, only=[])"
   ]
  },
  {
   "cell_type": "code",
   "execution_count": 14,
   "metadata": {
    "collapsed": true
   },
   "outputs": [],
   "source": [
    "# (.label, .true, (.function, (.startswith, (.string, blue)), (.string, blueberry)))"
   ]
  },
  {
   "cell_type": "code",
   "execution_count": 15,
   "metadata": {
    "collapsed": false,
    "scrolled": true
   },
   "outputs": [],
   "source": [
    "# sp.grammar.print_grammar()"
   ]
  },
  {
   "cell_type": "code",
   "execution_count": 16,
   "metadata": {
    "collapsed": false,
    "scrolled": false
   },
   "outputs": [],
   "source": [
    "# sp.grammar.print_chart()"
   ]
  },
  {
   "cell_type": "code",
   "execution_count": 17,
   "metadata": {
    "collapsed": false,
    "scrolled": false
   },
   "outputs": [],
   "source": [
    "# total_correct = 0\n",
    "# total_incorrect = 0\n",
    "# total_failed = 0\n",
    "# total_redundant = 0\n",
    "# for i, example in enumerate(examples):\n",
    "#     if i==20: break\n",
    "# #     print example.explanation\n",
    "#     correct = 0\n",
    "#     incorrect = 0\n",
    "#     failed = 0\n",
    "#     redundant = 0\n",
    "#     semantics = set()\n",
    "#     parses = sp.parse(example.explanation, \n",
    "#                       example.candidate, \n",
    "#                       user_lists=user_lists, \n",
    "#                       verbose=False, \n",
    "#                       return_parses=True)\n",
    "# \n",
    "#     total_correct += correct\n",
    "#     total_incorrect += incorrect\n",
    "#     total_failed += failed\n",
    "#     total_redundant += redundant\n",
    "#     valid = correct + incorrect\n",
    "#     total = correct + incorrect + redundant + failed\n",
    "#     print \"Example %d: %d/%d (%d, %d) -> %d\" % (i, correct, valid, redundant, failed, total)\n",
    "# total_valid = total_correct + total_incorrect\n",
    "# total_total = total_correct + total_incorrect + total_redundant + total_failed\n",
    "# print \"TOTAL: {}/{} ({:.2f}); {} redundant, {} failed\".format(\n",
    "#                                  total_correct, total_valid, \n",
    "#                                  float(total_correct)/total_valid, \n",
    "#                                  total_redundant, total_failed)\n",
    "# print \"GROWTH (total): {:.2f}\".format(float(total_valid + total_faile)/len(examples))\n",
    "# print \"GROWTH (filter fail): {:.2f}\".format(float(total_valid)/len(examples))\n",
    "# print \"GROWTH (filter incorrect): {:.2f}\".format(float(total_correct)/len(examples))"
   ]
  },
  {
   "cell_type": "code",
   "execution_count": null,
   "metadata": {
    "collapsed": true
   },
   "outputs": [],
   "source": []
  }
 ],
 "metadata": {
  "anaconda-cloud": {},
  "kernelspec": {
   "display_name": "Python [default]",
   "language": "python",
   "name": "python2"
  },
  "language_info": {
   "codemirror_mode": {
    "name": "ipython",
    "version": 2
   },
   "file_extension": ".py",
   "mimetype": "text/x-python",
   "name": "python",
   "nbconvert_exporter": "python",
   "pygments_lexer": "ipython2",
   "version": "2.7.13"
  }
 },
 "nbformat": 4,
 "nbformat_minor": 1
}
