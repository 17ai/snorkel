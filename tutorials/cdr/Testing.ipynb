{
 "cells": [
  {
   "cell_type": "code",
   "execution_count": 1,
   "metadata": {
    "collapsed": false
   },
   "outputs": [],
   "source": [
    "%load_ext autoreload\n",
    "%autoreload 2"
   ]
  },
  {
   "cell_type": "code",
   "execution_count": 2,
   "metadata": {
    "collapsed": true
   },
   "outputs": [],
   "source": [
    "DOMAIN = 'semparse_cdr'\n",
    "# DOMAIN = 'semparse_spouse'\n",
    "# DOMAIN = 'semparse_test'"
   ]
  },
  {
   "cell_type": "code",
   "execution_count": 3,
   "metadata": {
    "collapsed": false
   },
   "outputs": [],
   "source": [
    "import os\n",
    "\n",
    "if DOMAIN in ['semparse_test', 'semparse_spouse']:\n",
    "    os.environ['SNORKELDB'] = 'postgres://localhost:5432/semparse_spouse'\n",
    "else:\n",
    "    os.environ['SNORKELDB'] = 'postgres://localhost:5432/semparse_cdr'"
   ]
  },
  {
   "cell_type": "code",
   "execution_count": 4,
   "metadata": {
    "collapsed": false
   },
   "outputs": [],
   "source": [
    "from snorkel import SnorkelSession\n",
    "session = SnorkelSession()"
   ]
  },
  {
   "cell_type": "code",
   "execution_count": 5,
   "metadata": {
    "collapsed": false,
    "scrolled": true
   },
   "outputs": [],
   "source": [
    "from snorkel.models import candidate_subclass\n",
    "\n",
    "if DOMAIN in ['semparse_test', 'semparse_spouse']:\n",
    "    Spouse = candidate_subclass('Spouse', ['person1', 'person2'])\n",
    "    candidate_class = Spouse\n",
    "elif DOMAIN == 'semparse_cdr':\n",
    "    ChemicalDisease = candidate_subclass('ChemicalDisease', ['chemical', 'disease'])\n",
    "    candidate_class = ChemicalDisease\n",
    "else:\n",
    "    raise Exception(\"Invalid DOMAIN.\")"
   ]
  },
  {
   "cell_type": "code",
   "execution_count": 6,
   "metadata": {
    "collapsed": false,
    "scrolled": false
   },
   "outputs": [
    {
     "name": "stdout",
     "output_type": "stream",
     "text": [
      "Candidates: 13780\n"
     ]
    }
   ],
   "source": [
    "candidates = session.query(candidate_class).all()\n",
    "print(\"Candidates: {}\".format(len(candidates)))"
   ]
  },
  {
   "cell_type": "code",
   "execution_count": 7,
   "metadata": {
    "collapsed": false,
    "scrolled": false
   },
   "outputs": [
    {
     "name": "stdout",
     "output_type": "stream",
     "text": [
      "CPU times: user 16.8 s, sys: 278 ms, total: 17 s\n",
      "Wall time: 17 s\n"
     ]
    }
   ],
   "source": [
    "%%time\n",
    "\n",
    "if DOMAIN == 'semparse_test':\n",
    "    user_lists = {\n",
    "        'colors':['red','green','blue'],\n",
    "        'bluebird':['blue','bird','fly'],\n",
    "        'greek':['alpha','beta','gamma'],\n",
    "        'letters':['a','B','C'],\n",
    "        'smalls':['a','b','c','d'],\n",
    "        'spouse':['wife','husband','spouse']}\n",
    "elif DOMAIN == 'spouse':\n",
    "    user_lists = {\n",
    "        'spouse':['wife','husband','spouse'],\n",
    "        'family':['father', 'mother', 'brother', 'sister']}\n",
    "elif DOMAIN == 'semparse_cdr':\n",
    "    import bz2\n",
    "    import cPickle\n",
    "    if 'ctd_unspecified' not in globals():\n",
    "        with bz2.BZ2File('data/ctd.pkl.bz2', 'rb') as ctd_f:\n",
    "            ctd_unspecified, ctd_therapy, ctd_marker = cPickle.load(ctd_f)\n",
    "    user_lists = {\n",
    "        'uncertain': ['combin', 'possible', 'unlikely'],\n",
    "        'causal': ['causes', 'caused', 'induce', 'induces', 'induced', 'associated with'],\n",
    "        'treat': ['treat', 'effective', 'prevent', 'resistant', 'slow', 'promise', 'therap'],\n",
    "        'procedure': ['inject', 'administrat'],\n",
    "        'patient': ['in a patient with', 'in patients with'],\n",
    "        'weak': ['none', 'although', 'was carried out', 'was conducted', 'seems', \n",
    "                 'suggests', 'risk', 'implicated', 'the aim', 'to investigate',\n",
    "                 'to assess', 'to study'],\n",
    "        'ctd_unspecified': ctd_unspecified,\n",
    "        'ctd_therapy': ctd_therapy,\n",
    "        'ctd_marker': ctd_marker,\n",
    "    }"
   ]
  },
  {
   "cell_type": "code",
   "execution_count": 8,
   "metadata": {
    "collapsed": false
   },
   "outputs": [
    {
     "name": "stdout",
     "output_type": "stream",
     "text": [
      "CPU times: user 11.5 s, sys: 493 ms, total: 12 s\n",
      "Wall time: 14.6 s\n"
     ]
    }
   ],
   "source": [
    "from semparse_examples import get_examples\n",
    "\n",
    "%time examples = get_examples(DOMAIN, candidates)"
   ]
  },
  {
   "cell_type": "code",
   "execution_count": 9,
   "metadata": {
    "collapsed": false
   },
   "outputs": [],
   "source": [
    "# from snorkel.viewer import SentenceNgramViewer\n",
    "# sv = SentenceNgramViewer(candidates[:300], session)\n",
    "# sv"
   ]
  },
  {
   "cell_type": "code",
   "execution_count": 25,
   "metadata": {
    "collapsed": false,
    "scrolled": false
   },
   "outputs": [
    {
     "name": "stdout",
     "output_type": "stream",
     "text": [
      "Created grammar with 320 rules\n",
      "CPU times: user 5.14 ms, sys: 10.4 ms, total: 15.6 ms\n",
      "Wall time: 16.7 ms\n"
     ]
    }
   ],
   "source": [
    "from snorkel.semantic import SemanticParser\n",
    "\n",
    "%time sp = SemanticParser(candidate_class, user_lists, beam_width=10, top_k=-1)"
   ]
  },
  {
   "cell_type": "code",
   "execution_count": 27,
   "metadata": {
    "collapsed": false,
    "scrolled": false
   },
   "outputs": [
    {
     "name": "stdout",
     "output_type": "stream",
     "text": [
      "C: return -1 if call((>= 1), sum(map(in text(sentence), 'WEAK'))) else 0\n",
      "\n",
      "P: return -1 if call((>= 1), count(tokens(sentence))) else 0\n",
      "\n",
      "CPU times: user 21.7 ms, sys: 2.62 ms, total: 24.4 ms\n",
      "Wall time: 28.2 ms\n"
     ]
    },
    {
     "data": {
      "text/html": [
       "<div>\n",
       "<table border=\"1\" class=\"dataframe\">\n",
       "  <thead>\n",
       "    <tr style=\"text-align: right;\">\n",
       "      <th></th>\n",
       "      <th>Correct</th>\n",
       "      <th>Passing</th>\n",
       "      <th>Failing</th>\n",
       "      <th>Redundant</th>\n",
       "      <th>Erroring</th>\n",
       "      <th>Unknown</th>\n",
       "      <th>Index</th>\n",
       "    </tr>\n",
       "  </thead>\n",
       "  <tbody>\n",
       "    <tr>\n",
       "      <th>LF_weak_assertions</th>\n",
       "      <td>1</td>\n",
       "      <td>1</td>\n",
       "      <td>0</td>\n",
       "      <td>0</td>\n",
       "      <td>0</td>\n",
       "      <td>0</td>\n",
       "      <td>29</td>\n",
       "    </tr>\n",
       "  </tbody>\n",
       "</table>\n",
       "</div>"
      ],
      "text/plain": [
       "                    Correct  Passing  Failing  Redundant  Erroring  Unknown  \\\n",
       "LF_weak_assertions        1        1        0          0         0        0   \n",
       "\n",
       "                    Index  \n",
       "LF_weak_assertions     29  "
      ]
     },
     "execution_count": 27,
     "metadata": {},
     "output_type": "execute_result"
    }
   ],
   "source": [
    "%time results = sp.evaluate(examples,\\\n",
    "                            show_everything=False,\\\n",
    "                            show_nothing=False,\\\n",
    "                            show_explanation=False,\\\n",
    "                            show_candidate=False,\\\n",
    "                            show_sentence=False,\\\n",
    "                            show_parse=False,\\\n",
    "                            show_semantics=True,\\\n",
    "                            show_correct=False,\\\n",
    "                            show_passing=False,\\\n",
    "                            show_failing=False,\\\n",
    "                            pseudo_python=True,\\\n",
    "                            remove_paren=True,\\\n",
    "                            paraphrases=True,\\\n",
    "                            only=[29])\n",
    "results"
   ]
  },
  {
   "cell_type": "code",
   "execution_count": 24,
   "metadata": {
    "collapsed": false,
    "scrolled": false
   },
   "outputs": [
    {
     "name": "stdout",
     "output_type": "stream",
     "text": [
      "Correct       16\n",
      "Passing       22\n",
      "Failing       17\n",
      "Redundant      4\n",
      "Erroring       0\n",
      "Unknown        0\n",
      "Index        435\n",
      "dtype: int64\n"
     ]
    }
   ],
   "source": [
    "import numpy as np\n",
    "print np.sum(results, axis=0)"
   ]
  },
  {
   "cell_type": "raw",
   "metadata": {},
   "source": [
    "# CDR Paraphrase: Beam=10, top_k=-1: (49) - 81 total\n",
    "Correct       17\n",
    "Passing       32\n",
    "Failing       28\n",
    "Redundant      4\n",
    "Erroring       0\n",
    "Unknown        0\n",
    "\n",
    "# CDR Paraphrase: BEAM=10, top_k=-2: (75)\n",
    "Correct       17\n",
    "Passing       58\n",
    "Failing       62\n",
    "Redundant     66\n",
    "Erroring       0\n",
    "Unknown        0\n",
    "\n",
    "# CDR Paraphrase: BEAM=10, top_k=-3: (78)\n"
   ]
  },
  {
   "cell_type": "raw",
   "metadata": {},
   "source": [
    "# CDR: BEAM=10, top_k=-1: (52)\n",
    "Correct       30\n",
    "Passing       22\n",
    "Failing       18\n",
    "Redundant      2\n",
    "Erroring       0\n",
    "Unknown        0\n",
    "\n",
    "# CDR: BEAM=20, top_k=-1 (64)\n",
    "Correct       32\n",
    "Passing       32\n",
    "Failing       26\n",
    "Redundant      2\n",
    "Erroring       0\n",
    "Unknown        0\n",
    "\n",
    "# CDR: BEAM=10, top_k=-2: (60)\n",
    "Correct       31\n",
    "Passing       29\n",
    "Failing       62\n",
    "Redundant     11\n",
    "Erroring       0\n",
    "Unknown        0\n",
    "\n",
    "# CDR: BEAM=10, top_k=-3: (70)\n",
    "Correct       32\n",
    "Passing       38\n",
    "Failing       91\n",
    "Redundant     28\n",
    "Erroring       0\n",
    "Unknown        0"
   ]
  },
  {
   "cell_type": "code",
   "execution_count": 13,
   "metadata": {
    "collapsed": false,
    "scrolled": false
   },
   "outputs": [
    {
     "name": "stdout",
     "output_type": "stream",
     "text": [
      "(0, 1)      \n",
      "             ($QueryToken <START>)\n",
      "             ($Start <START>)\n",
      "(1, 2)      \n",
      "             ($QueryToken label)\n",
      "             ($Label label)\n",
      "(2, 3)      \n",
      "             ($QueryToken false)\n",
      "             ($False false)\n",
      "             ($BoolLit ($False false))\n",
      "             ($Bool ($BoolLit ($False false)))\n",
      "(3, 4)      \n",
      "             ($QueryToken because)\n",
      "             ($Because because)\n",
      "(4, 5)      \n",
      "             ($QueryToken at)\n",
      "(5, 6)      \n",
      "             ($QueryToken least)\n",
      "(6, 7)      \n",
      "             ($QueryToken one)\n",
      "             ($Int one)\n",
      "(7, 8)      \n",
      "             ($QueryToken weak)\n",
      "             ($UserList weak)\n",
      "             ($StringList ($UserList weak))\n",
      "             ($List ($StringList ($UserList weak)))\n",
      "(8, 9)      \n",
      "             ($QueryToken phrase)\n",
      "             ($Word phrase)\n",
      "             ($Unit ($Word phrase))\n",
      "(9, 10)     \n",
      "             ($QueryToken is)\n",
      "             ($Is is)\n",
      "             ($Exists ($Is is))\n",
      "(10, 11)    \n",
      "             ($QueryToken in)\n",
      "             ($In in)\n",
      "             ($BinaryStringToBool ($In in))\n",
      "(11, 12)    \n",
      "             ($QueryToken the)\n",
      "(12, 13)    \n",
      "             ($QueryToken sentence)\n",
      "             ($Sentence sentence)\n",
      "             ($PhraseList ($Sentence sentence))\n",
      "             ($TokenList ($PhraseList ($Sentence sentence)))\n",
      "             ($StringList ($PhraseList ($Sentence sentence)))\n",
      "             ($List ($TokenList ($PhraseList ($Sentence sentence))))\n",
      "             ($List ($StringList ($PhraseList ($Sentence sentence))))\n",
      "(13, 14)    \n",
      "             ($QueryToken <STOP>)\n",
      "             ($Stop <STOP>)\n",
      "(4, 6)      \n",
      "             ($AtLeast at least)\n",
      "             ($Compare ($AtLeast at least))\n",
      "(4, 7)      \n",
      "             ($IntToBool ($Compare ($AtLeast at least)) ($Int one))\n",
      "             ($StringToBool_$Direction__$ArgX ($Compare ($AtLeast at least)) ($Int one))\n",
      "(6, 9)      \n",
      "             ($StringToBool_$Direction_$ArgX_$Compare ($Int one) ($Unit ($Word phrase)))\n",
      "(10, 13)    \n",
      "             ($StringToBool ($In in) ($StringList ($PhraseList ($Sentence sentence))))\n",
      "             ($TupleToBool ($In in) ($List ($TokenList ($PhraseList ($Sentence sentence)))))\n",
      "             ($TupleToBool ($In in) ($List ($StringList ($PhraseList ($Sentence sentence)))))\n",
      "(9, 13)     \n",
      "             ($Bool_$StringList ($Exists ($Is is)) ($StringToBool ($In in) ($StringList ($PhraseList ($Sentence sentence)))))\n",
      "             ($Bool_$IntToBool_$Word ($Exists ($Is is)) ($TokenList ($PhraseList ($Sentence sentence))))\n",
      "             ($Bool_$IntToBool__$POS ($Exists ($Is is)) ($TokenList ($PhraseList ($Sentence sentence))))\n",
      "             ($Bool_$IntToBool___$NER ($Exists ($Is is)) ($TokenList ($PhraseList ($Sentence sentence))))\n",
      "             ($Bool_$StringToBool_ ($Exists ($Is is)) ($StringList ($PhraseList ($Sentence sentence))))\n",
      "(4, 9)      \n",
      "             ($StringToBool_$Direction_$ArgX ($Compare ($AtLeast at least)) ($StringToBool_$Direction_$ArgX_$Compare ($Int one) ($Unit ($Word phrase))))\n",
      "(8, 13)     \n",
      "             ($Bool_$IntToBool ($Word phrase) ($Bool_$IntToBool_$Word ($Exists ($Is is)) ($TokenList ($PhraseList ($Sentence sentence)))))\n",
      "(7, 13)     \n",
      "             ($Bool ($StringList ($UserList weak)) ($Bool_$StringList ($Exists ($Is is)) ($StringToBool ($In in) ($StringList ($PhraseList ($Sentence sentence))))))\n",
      "             ($BoolList ($StringList ($UserList weak)) ($StringToBool ($In in) ($StringList ($PhraseList ($Sentence sentence)))))\n",
      "             ($Bool_$Exists ($StringList ($UserList weak)) ($StringToBool ($In in) ($StringList ($PhraseList ($Sentence sentence)))))\n",
      "             ($List ($BoolList ($StringList ($UserList weak)) ($StringToBool ($In in) ($StringList ($PhraseList ($Sentence sentence))))))\n",
      "             ($Bool ($BoolList ($StringList ($UserList weak)) ($StringToBool ($In in) ($StringList ($PhraseList ($Sentence sentence))))))\n",
      "(6, 13)     \n",
      "             ($Bool_$Exists__$Not ($Int one) ($TokenList ($PhraseList ($Sentence sentence))))\n",
      "             ($Bool_$Exists__ ($Int one) ($TokenList ($PhraseList ($Sentence sentence))))\n",
      "(4, 13)     \n",
      "             ($Bool ($IntToBool ($Compare ($AtLeast at least)) ($Int one)) ($BoolList ($StringList ($UserList weak)) ($StringToBool ($In in) ($StringList ($PhraseList ($Sentence sentence))))))\n",
      "             ($Bool ($IntToBool ($Compare ($AtLeast at least)) ($Int one)) ($Bool_$IntToBool ($Word phrase) ($Bool_$IntToBool_$Word ($Exists ($Is is)) ($TokenList ($PhraseList ($Sentence sentence))))))\n",
      "             ($Bool_$Exists___ ($IntToBool ($Compare ($AtLeast at least)) ($Int one)) ($TokenList ($PhraseList ($Sentence sentence))))\n",
      "(3, 13)     \n",
      "             ($LF_$Label__$Bool ($Because because) ($Bool ($IntToBool ($Compare ($AtLeast at least)) ($Int one)) ($BoolList ($StringList ($UserList weak)) ($StringToBool ($In in) ($StringList ($PhraseList ($Sentence sentence)))))))\n",
      "             ($LF_$Label__$Bool ($Because because) ($Bool ($IntToBool ($Compare ($AtLeast at least)) ($Int one)) ($Bool_$IntToBool ($Word phrase) ($Bool_$IntToBool_$Word ($Exists ($Is is)) ($TokenList ($PhraseList ($Sentence sentence)))))))\n",
      "             ($LF_$Label__$Bool ($Because because) ($Bool ($StringList ($UserList weak)) ($Bool_$StringList ($Exists ($Is is)) ($StringToBool ($In in) ($StringList ($PhraseList ($Sentence sentence)))))))\n",
      "             ($LF_$Label__$Bool ($Because because) ($Bool ($BoolList ($StringList ($UserList weak)) ($StringToBool ($In in) ($StringList ($PhraseList ($Sentence sentence)))))))\n",
      "(2, 13)     \n",
      "             ($LF_$Label_ ($Bool ($BoolLit ($False false))) ($LF_$Label__$Bool ($Because because) ($Bool ($IntToBool ($Compare ($AtLeast at least)) ($Int one)) ($BoolList ($StringList ($UserList weak)) ($StringToBool ($In in) ($StringList ($PhraseList ($Sentence sentence))))))))\n",
      "             ($LF_$Label_ ($Bool ($BoolLit ($False false))) ($LF_$Label__$Bool ($Because because) ($Bool ($IntToBool ($Compare ($AtLeast at least)) ($Int one)) ($Bool_$IntToBool ($Word phrase) ($Bool_$IntToBool_$Word ($Exists ($Is is)) ($TokenList ($PhraseList ($Sentence sentence))))))))\n",
      "             ($LF_$Label_ ($Bool ($BoolLit ($False false))) ($LF_$Label__$Bool ($Because because) ($Bool ($StringList ($UserList weak)) ($Bool_$StringList ($Exists ($Is is)) ($StringToBool ($In in) ($StringList ($PhraseList ($Sentence sentence))))))))\n",
      "             ($LF_$Label_ ($Bool ($BoolLit ($False false))) ($LF_$Label__$Bool ($Because because) ($Bool ($BoolList ($StringList ($UserList weak)) ($StringToBool ($In in) ($StringList ($PhraseList ($Sentence sentence))))))))\n",
      "(1, 13)     \n",
      "             ($LF ($Label label) ($LF_$Label_ ($Bool ($BoolLit ($False false))) ($LF_$Label__$Bool ($Because because) ($Bool ($IntToBool ($Compare ($AtLeast at least)) ($Int one)) ($BoolList ($StringList ($UserList weak)) ($StringToBool ($In in) ($StringList ($PhraseList ($Sentence sentence)))))))))\n",
      "             ($LF ($Label label) ($LF_$Label_ ($Bool ($BoolLit ($False false))) ($LF_$Label__$Bool ($Because because) ($Bool ($IntToBool ($Compare ($AtLeast at least)) ($Int one)) ($Bool_$IntToBool ($Word phrase) ($Bool_$IntToBool_$Word ($Exists ($Is is)) ($TokenList ($PhraseList ($Sentence sentence)))))))))\n",
      "             ($LF ($Label label) ($LF_$Label_ ($Bool ($BoolLit ($False false))) ($LF_$Label__$Bool ($Because because) ($Bool ($StringList ($UserList weak)) ($Bool_$StringList ($Exists ($Is is)) ($StringToBool ($In in) ($StringList ($PhraseList ($Sentence sentence)))))))))\n",
      "             ($LF ($Label label) ($LF_$Label_ ($Bool ($BoolLit ($False false))) ($LF_$Label__$Bool ($Because because) ($Bool ($BoolList ($StringList ($UserList weak)) ($StringToBool ($In in) ($StringList ($PhraseList ($Sentence sentence)))))))))\n",
      "(1, 14)     \n",
      "             ($ROOT_$Start ($LF ($Label label) ($LF_$Label_ ($Bool ($BoolLit ($False false))) ($LF_$Label__$Bool ($Because because) ($Bool ($IntToBool ($Compare ($AtLeast at least)) ($Int one)) ($BoolList ($StringList ($UserList weak)) ($StringToBool ($In in) ($StringList ($PhraseList ($Sentence sentence))))))))) ($Stop <STOP>))\n",
      "             ($ROOT_$Start ($LF ($Label label) ($LF_$Label_ ($Bool ($BoolLit ($False false))) ($LF_$Label__$Bool ($Because because) ($Bool ($IntToBool ($Compare ($AtLeast at least)) ($Int one)) ($Bool_$IntToBool ($Word phrase) ($Bool_$IntToBool_$Word ($Exists ($Is is)) ($TokenList ($PhraseList ($Sentence sentence))))))))) ($Stop <STOP>))\n",
      "             ($ROOT_$Start ($LF ($Label label) ($LF_$Label_ ($Bool ($BoolLit ($False false))) ($LF_$Label__$Bool ($Because because) ($Bool ($StringList ($UserList weak)) ($Bool_$StringList ($Exists ($Is is)) ($StringToBool ($In in) ($StringList ($PhraseList ($Sentence sentence))))))))) ($Stop <STOP>))\n",
      "             ($ROOT_$Start ($LF ($Label label) ($LF_$Label_ ($Bool ($BoolLit ($False false))) ($LF_$Label__$Bool ($Because because) ($Bool ($BoolList ($StringList ($UserList weak)) ($StringToBool ($In in) ($StringList ($PhraseList ($Sentence sentence))))))))) ($Stop <STOP>))\n",
      "(0, 14)     \n",
      "             ($ROOT ($Start <START>) ($ROOT_$Start ($LF ($Label label) ($LF_$Label_ ($Bool ($BoolLit ($False false))) ($LF_$Label__$Bool ($Because because) ($Bool ($IntToBool ($Compare ($AtLeast at least)) ($Int one)) ($BoolList ($StringList ($UserList weak)) ($StringToBool ($In in) ($StringList ($PhraseList ($Sentence sentence))))))))) ($Stop <STOP>)))\n",
      "             ($ROOT ($Start <START>) ($ROOT_$Start ($LF ($Label label) ($LF_$Label_ ($Bool ($BoolLit ($False false))) ($LF_$Label__$Bool ($Because because) ($Bool ($IntToBool ($Compare ($AtLeast at least)) ($Int one)) ($Bool_$IntToBool ($Word phrase) ($Bool_$IntToBool_$Word ($Exists ($Is is)) ($TokenList ($PhraseList ($Sentence sentence))))))))) ($Stop <STOP>)))\n",
      "             ($ROOT ($Start <START>) ($ROOT_$Start ($LF ($Label label) ($LF_$Label_ ($Bool ($BoolLit ($False false))) ($LF_$Label__$Bool ($Because because) ($Bool ($StringList ($UserList weak)) ($Bool_$StringList ($Exists ($Is is)) ($StringToBool ($In in) ($StringList ($PhraseList ($Sentence sentence))))))))) ($Stop <STOP>)))\n",
      "             ($ROOT ($Start <START>) ($ROOT_$Start ($LF ($Label label) ($LF_$Label_ ($Bool ($BoolLit ($False false))) ($LF_$Label__$Bool ($Because because) ($Bool ($BoolList ($StringList ($UserList weak)) ($StringToBool ($In in) ($StringList ($PhraseList ($Sentence sentence))))))))) ($Stop <STOP>)))\n"
     ]
    }
   ],
   "source": [
    "sp.grammar.print_chart(nested=True)"
   ]
  },
  {
   "cell_type": "code",
   "execution_count": 14,
   "metadata": {
    "collapsed": false,
    "scrolled": false
   },
   "outputs": [],
   "source": [
    "# sp.grammar.print_grammar()"
   ]
  },
  {
   "cell_type": "code",
   "execution_count": null,
   "metadata": {
    "collapsed": true
   },
   "outputs": [],
   "source": []
  }
 ],
 "metadata": {
  "anaconda-cloud": {},
  "kernelspec": {
   "display_name": "Python 2",
   "language": "python",
   "name": "python2"
  },
  "language_info": {
   "codemirror_mode": {
    "name": "ipython",
    "version": 2
   },
   "file_extension": ".py",
   "mimetype": "text/x-python",
   "name": "python",
   "nbconvert_exporter": "python",
   "pygments_lexer": "ipython2",
   "version": "2.7.13"
  }
 },
 "nbformat": 4,
 "nbformat_minor": 1
}
