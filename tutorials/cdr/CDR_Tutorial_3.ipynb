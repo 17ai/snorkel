{
 "cells": [
  {
   "cell_type": "markdown",
   "metadata": {},
   "source": [
    "# Chemical-Disease Relation (CDR) Tutorial\n",
    "\n",
    "In this example, we'll be writing an application to extract *mentions of* **chemical-induced-disease relationships** from Pubmed abstracts, as per the [BioCreative CDR Challenge](http://www.biocreative.org/resources/corpora/biocreative-v-cdr-corpus/).  This tutorial will show off some of the more advanced features of Snorkel, so we'll assume you've followed the Intro tutorial."
   ]
  },
  {
   "cell_type": "markdown",
   "metadata": {},
   "source": [
    "Let's start by reloading from the last notebook."
   ]
  },
  {
   "cell_type": "code",
   "execution_count": 1,
   "metadata": {
    "collapsed": false
   },
   "outputs": [
    {
     "name": "stdout",
     "output_type": "stream",
     "text": [
      "The autoreload extension is already loaded. To reload it, use:\n",
      "  %reload_ext autoreload\n"
     ]
    }
   ],
   "source": [
    "%load_ext autoreload\n",
    "%autoreload 2\n",
    "%matplotlib inline\n",
    "\n",
    "from snorkel import SnorkelSession\n",
    "\n",
    "session = SnorkelSession()"
   ]
  },
  {
   "cell_type": "code",
   "execution_count": 2,
   "metadata": {
    "collapsed": false
   },
   "outputs": [
    {
     "name": "stdout",
     "output_type": "stream",
     "text": [
      "Training set:\t8272 candidates\n",
      "Dev set:\t888 candidates\n",
      "Test set:\t4620 candidates\n"
     ]
    }
   ],
   "source": [
    "from snorkel.models import candidate_subclass\n",
    "\n",
    "ChemicalDisease = candidate_subclass('ChemicalDisease', ['chemical', 'disease'])\n",
    "\n",
    "train = session.query(ChemicalDisease).filter(ChemicalDisease.split == 0).all()\n",
    "dev = session.query(ChemicalDisease).filter(ChemicalDisease.split == 1).all()\n",
    "test = session.query(ChemicalDisease).filter(ChemicalDisease.split == 2).all()\n",
    "\n",
    "print 'Training set:\\t{0} candidates'.format(len(train))\n",
    "print 'Dev set:\\t{0} candidates'.format(len(dev))\n",
    "print 'Test set:\\t{0} candidates'.format(len(test))    "
   ]
  },
  {
   "cell_type": "code",
   "execution_count": 3,
   "metadata": {
    "collapsed": true
   },
   "outputs": [],
   "source": [
    "from snorkel.annotations import load_marginals\n",
    "train_marginals = load_marginals(session, split=0)"
   ]
  },
  {
   "cell_type": "markdown",
   "metadata": {},
   "source": [
    "### NEW"
   ]
  },
  {
   "cell_type": "code",
   "execution_count": 4,
   "metadata": {
    "collapsed": true
   },
   "outputs": [],
   "source": [
    "from snorkel.annotations import FeatureAnnotator\n",
    "featurizer = FeatureAnnotator()"
   ]
  },
  {
   "cell_type": "code",
   "execution_count": 5,
   "metadata": {
    "collapsed": false
   },
   "outputs": [
    {
     "name": "stdout",
     "output_type": "stream",
     "text": [
      "Clearing existing...\n",
      "Running UDF...\n",
      "[========================================] 100%\n",
      "CPU times: user 8min 8s, sys: 5.86 s, total: 8min 14s\n",
      "Wall time: 8min 13s\n"
     ]
    }
   ],
   "source": [
    "%time F_train = featurizer.apply(split=0, parallelism=1)"
   ]
  },
  {
   "cell_type": "code",
   "execution_count": 6,
   "metadata": {
    "collapsed": true
   },
   "outputs": [],
   "source": [
    "from snorkel.annotations import load_gold_labels\n",
    "L_gold_train = load_gold_labels(session, annotator_name='gold', split=0)\n",
    "L_gold_dev = load_gold_labels(session, annotator_name='gold', split=1)"
   ]
  },
  {
   "cell_type": "code",
   "execution_count": 7,
   "metadata": {
    "collapsed": true
   },
   "outputs": [],
   "source": [
    "from snorkel.learning import SparseLogisticRegression\n",
    "disc_model = SparseLogisticRegression()"
   ]
  },
  {
   "cell_type": "code",
   "execution_count": 8,
   "metadata": {
    "collapsed": false
   },
   "outputs": [
    {
     "name": "stdout",
     "output_type": "stream",
     "text": [
      "Initialized RandomSearch search of size 5. Search space size = 125.\n"
     ]
    }
   ],
   "source": [
    "from snorkel.learning.utils import MentionScorer\n",
    "from snorkel.learning import RandomSearch, ListParameter, RangeParameter\n",
    "\n",
    "# Searching over learning rate\n",
    "rate_param = RangeParameter('lr', 1e-6, 1e-2, step=1, log_base=10)\n",
    "l1_param  = RangeParameter('l1_penalty', 1e-6, 1e-2, step=1, log_base=10)\n",
    "l2_param  = RangeParameter('l2_penalty', 1e-6, 1e-2, step=1, log_base=10)\n",
    "\n",
    "searcher = RandomSearch(session, disc_model, F_train, train_marginals, [rate_param, l1_param, l2_param], n=5)"
   ]
  },
  {
   "cell_type": "code",
   "execution_count": 9,
   "metadata": {
    "collapsed": false
   },
   "outputs": [
    {
     "name": "stdout",
     "output_type": "stream",
     "text": [
      "Clearing existing...\n",
      "Running UDF...\n",
      "[========================================] 100%\n",
      "CPU times: user 48 s, sys: 476 ms, total: 48.5 s\n",
      "Wall time: 48.3 s\n"
     ]
    }
   ],
   "source": [
    "%time F_dev = featurizer.apply_existing(split=1, parallelism=1)"
   ]
  },
  {
   "cell_type": "code",
   "execution_count": 10,
   "metadata": {
    "collapsed": false,
    "scrolled": false
   },
   "outputs": [
    {
     "name": "stdout",
     "output_type": "stream",
     "text": [
      "============================================================\n",
      "[1] Testing lr = 1.00e-05, l1_penalty = 1.00e-02, l2_penalty = 1.00e-02\n",
      "============================================================\n",
      "[SparseLR] lr=1e-05 l1=0.01 l2=0.01\n",
      "[SparseLR] Building model\n",
      "[SparseLR] Training model\n",
      "[SparseLR] #examples=3198  #epochs=50  batch size=100\n",
      "[SparseLR] Epoch 0 (2.44s)\tAvg. loss=0.791743\tNNZ=122840\n",
      "[SparseLR] Epoch 25 (61.33s)\tAvg. loss=0.717843\tNNZ=122840\n",
      "[SparseLR] Epoch 49 (118.88s)\tAvg. loss=0.678038\tNNZ=122840\n",
      "[SparseLR] Training done (118.88s)\n",
      "[SparseLR] Model saved. To load, use name\n",
      "\t\tSparseLR_0\n",
      "============================================================\n",
      "[2] Testing lr = 1.00e-03, l1_penalty = 1.00e-03, l2_penalty = 1.00e-02\n",
      "============================================================\n",
      "[SparseLR] lr=0.001 l1=0.001 l2=0.01\n",
      "[SparseLR] Building model\n",
      "[SparseLR] Training model\n",
      "[SparseLR] #examples=3198  #epochs=50  batch size=100\n",
      "[SparseLR] Epoch 0 (2.50s)\tAvg. loss=0.660500\tNNZ=122840\n",
      "[SparseLR] Epoch 25 (63.37s)\tAvg. loss=0.361979\tNNZ=122840\n",
      "[SparseLR] Epoch 49 (122.16s)\tAvg. loss=0.343909\tNNZ=122840\n",
      "[SparseLR] Training done (122.16s)\n",
      "[SparseLR] Model saved. To load, use name\n",
      "\t\tSparseLR_1\n",
      "============================================================\n",
      "[3] Testing lr = 1.00e-02, l1_penalty = 1.00e-04, l2_penalty = 1.00e-03\n",
      "============================================================\n",
      "[SparseLR] lr=0.01 l1=0.0001 l2=0.001\n",
      "[SparseLR] Building model\n",
      "[SparseLR] Training model\n",
      "[SparseLR] #examples=3198  #epochs=50  batch size=100\n",
      "[SparseLR] Epoch 0 (2.39s)\tAvg. loss=0.556246\tNNZ=122840\n",
      "[SparseLR] Epoch 25 (62.68s)\tAvg. loss=0.347277\tNNZ=122840\n",
      "[SparseLR] Epoch 49 (120.64s)\tAvg. loss=0.362106\tNNZ=122840\n",
      "[SparseLR] Training done (120.64s)\n",
      "============================================================\n",
      "[4] Testing lr = 1.00e-02, l1_penalty = 1.00e-03, l2_penalty = 1.00e-03\n",
      "============================================================\n",
      "[SparseLR] lr=0.01 l1=0.001 l2=0.001\n",
      "[SparseLR] Building model\n",
      "[SparseLR] Training model\n",
      "[SparseLR] #examples=3198  #epochs=50  batch size=100\n",
      "[SparseLR] Epoch 0 (2.52s)\tAvg. loss=0.563151\tNNZ=122840\n",
      "[SparseLR] Epoch 25 (64.34s)\tAvg. loss=0.372849\tNNZ=122840\n",
      "[SparseLR] Epoch 49 (123.98s)\tAvg. loss=0.375224\tNNZ=122840\n",
      "[SparseLR] Training done (123.99s)\n",
      "[SparseLR] Model saved. To load, use name\n",
      "\t\tSparseLR_3\n",
      "============================================================\n",
      "[5] Testing lr = 1.00e-06, l1_penalty = 1.00e-04, l2_penalty = 1.00e-05\n",
      "============================================================\n",
      "[SparseLR] lr=1e-06 l1=0.0001 l2=1e-05\n",
      "[SparseLR] Building model\n",
      "[SparseLR] Training model\n",
      "[SparseLR] #examples=3198  #epochs=50  batch size=100\n",
      "[SparseLR] Epoch 0 (2.51s)\tAvg. loss=0.699431\tNNZ=122840\n",
      "[SparseLR] Epoch 25 (64.11s)\tAvg. loss=0.695586\tNNZ=122840\n",
      "[SparseLR] Epoch 49 (122.46s)\tAvg. loss=0.691970\tNNZ=122840\n",
      "[SparseLR] Training done (122.46s)\n",
      "[SparseLR] Loaded model <SparseLR_3>\n",
      "CPU times: user 14min 55s, sys: 15min 37s, total: 30min 33s\n",
      "Wall time: 10min 15s\n"
     ]
    },
    {
     "data": {
      "text/html": [
       "<div>\n",
       "<table border=\"1\" class=\"dataframe\">\n",
       "  <thead>\n",
       "    <tr style=\"text-align: right;\">\n",
       "      <th></th>\n",
       "      <th>lr</th>\n",
       "      <th>l1_penalty</th>\n",
       "      <th>l2_penalty</th>\n",
       "      <th>Prec.</th>\n",
       "      <th>Rec.</th>\n",
       "      <th>F1</th>\n",
       "    </tr>\n",
       "  </thead>\n",
       "  <tbody>\n",
       "    <tr>\n",
       "      <th>3</th>\n",
       "      <td>0.010000</td>\n",
       "      <td>0.0010</td>\n",
       "      <td>0.00100</td>\n",
       "      <td>0.552632</td>\n",
       "      <td>0.496622</td>\n",
       "      <td>0.523132</td>\n",
       "    </tr>\n",
       "    <tr>\n",
       "      <th>1</th>\n",
       "      <td>0.001000</td>\n",
       "      <td>0.0010</td>\n",
       "      <td>0.01000</td>\n",
       "      <td>0.607143</td>\n",
       "      <td>0.402027</td>\n",
       "      <td>0.483740</td>\n",
       "    </tr>\n",
       "    <tr>\n",
       "      <th>4</th>\n",
       "      <td>0.000001</td>\n",
       "      <td>0.0001</td>\n",
       "      <td>0.00001</td>\n",
       "      <td>0.330508</td>\n",
       "      <td>0.527027</td>\n",
       "      <td>0.406250</td>\n",
       "    </tr>\n",
       "    <tr>\n",
       "      <th>2</th>\n",
       "      <td>0.010000</td>\n",
       "      <td>0.0001</td>\n",
       "      <td>0.00100</td>\n",
       "      <td>0.643939</td>\n",
       "      <td>0.287162</td>\n",
       "      <td>0.397196</td>\n",
       "    </tr>\n",
       "    <tr>\n",
       "      <th>0</th>\n",
       "      <td>0.000010</td>\n",
       "      <td>0.0100</td>\n",
       "      <td>0.01000</td>\n",
       "      <td>0.714286</td>\n",
       "      <td>0.168919</td>\n",
       "      <td>0.273224</td>\n",
       "    </tr>\n",
       "  </tbody>\n",
       "</table>\n",
       "</div>"
      ],
      "text/plain": [
       "         lr  l1_penalty  l2_penalty     Prec.      Rec.        F1\n",
       "3  0.010000      0.0010     0.00100  0.552632  0.496622  0.523132\n",
       "1  0.001000      0.0010     0.01000  0.607143  0.402027  0.483740\n",
       "4  0.000001      0.0001     0.00001  0.330508  0.527027  0.406250\n",
       "2  0.010000      0.0001     0.00100  0.643939  0.287162  0.397196\n",
       "0  0.000010      0.0100     0.01000  0.714286  0.168919  0.273224"
      ]
     },
     "execution_count": 10,
     "metadata": {},
     "output_type": "execute_result"
    }
   ],
   "source": [
    "%time searcher.fit(F_dev, L_gold_dev, n_epochs=50, rebalance=True, print_freq=25)"
   ]
  },
  {
   "cell_type": "raw",
   "metadata": {},
   "source": [
    "\tlr\t        l1_penalty\tl2_penalty\tPrec.\tRec.\t    F1\n",
    "3\t0.010000\t0.000001\t0.01000\t0.649215\t0.418919\t0.509240\n",
    "1\t0.010000\t0.000010\t0.00001\t0.631250\t0.341216\t0.442982\n",
    "0\t0.000001\t0.000010\t0.00010\t0.321508\t0.489865\t0.388220\n",
    "2\t0.000001\t0.000010\t0.01000\t0.329317\t0.277027\t0.300917\n",
    "4\t0.000010\t0.000001\t0.00001\t0.652174\t0.152027\t0.24657"
   ]
  },
  {
   "cell_type": "code",
   "execution_count": 11,
   "metadata": {
    "collapsed": false
   },
   "outputs": [
    {
     "name": "stdout",
     "output_type": "stream",
     "text": [
      "[SparseLR] lr=0.01 l1=1e-06 l2=0.01\n",
      "[SparseLR] Building model\n",
      "[SparseLR] Training model\n",
      "[SparseLR] #examples=3198  #epochs=50  batch size=100\n",
      "[SparseLR] Epoch 0 (2.46s)\tAvg. loss=0.558532\tNNZ=122840\n",
      "[SparseLR] Epoch 5 (14.45s)\tAvg. loss=0.338575\tNNZ=122840\n",
      "[SparseLR] Epoch 10 (26.83s)\tAvg. loss=0.349029\tNNZ=122840\n",
      "[SparseLR] Epoch 15 (38.95s)\tAvg. loss=0.418208\tNNZ=122840\n",
      "[SparseLR] Epoch 20 (51.07s)\tAvg. loss=0.357322\tNNZ=122840\n",
      "[SparseLR] Epoch 25 (63.30s)\tAvg. loss=0.357986\tNNZ=122840\n",
      "[SparseLR] Epoch 30 (75.55s)\tAvg. loss=0.357713\tNNZ=122840\n",
      "[SparseLR] Epoch 35 (87.96s)\tAvg. loss=0.359545\tNNZ=122840\n",
      "[SparseLR] Epoch 40 (100.36s)\tAvg. loss=0.359664\tNNZ=122840\n",
      "[SparseLR] Epoch 45 (113.09s)\tAvg. loss=0.373870\tNNZ=122840\n",
      "[SparseLR] Epoch 49 (123.02s)\tAvg. loss=0.366724\tNNZ=122840\n",
      "[SparseLR] Training done (123.02s)\n"
     ]
    }
   ],
   "source": [
    "disc_model.train(F_train, train_marginals, n_epochs=50, lr=0.01, l1_penalty=0.000001, l2_penalty=0.01, rebalance=True)"
   ]
  },
  {
   "cell_type": "code",
   "execution_count": 12,
   "metadata": {
    "collapsed": false,
    "scrolled": false
   },
   "outputs": [
    {
     "name": "stdout",
     "output_type": "stream",
     "text": [
      "========================================\n",
      "Scores (Un-adjusted)\n",
      "========================================\n",
      "Pos. class accuracy: 0.507\n",
      "Neg. class accuracy: 0.796\n",
      "Precision            0.554\n",
      "Recall               0.507\n",
      "F1                   0.529\n",
      "----------------------------------------\n",
      "TP: 150 | FP: 121 | TN: 471 | FN: 146\n",
      "========================================\n",
      "\n"
     ]
    }
   ],
   "source": [
    "TP, FP, TN, FN = disc_model.score(session, F_dev, L_gold_dev)"
   ]
  },
  {
   "cell_type": "code",
   "execution_count": 13,
   "metadata": {
    "collapsed": false
   },
   "outputs": [
    {
     "name": "stdout",
     "output_type": "stream",
     "text": [
      "0.553505535055\n",
      "0.506756756757\n",
      "0.529100529101\n"
     ]
    }
   ],
   "source": [
    "from snorkel.learning.utils import scores_from_counts\n",
    "p, r, f1 = scores_from_counts(TP, FP, TN, FN)\n",
    "print(p)\n",
    "print(r)\n",
    "print(f1)"
   ]
  },
  {
   "cell_type": "markdown",
   "metadata": {},
   "source": [
    "### NEW"
   ]
  },
  {
   "cell_type": "markdown",
   "metadata": {},
   "source": [
    "# Part V: Training an extraction model\n",
    "\n",
    "In the intro tutorial, we automatically featurized the candidates and trained a linear model over these features. Here, we'll train a more complicated model for relation extraction: an LSTM network. You can read more about LSTMs [here](https://en.wikipedia.org/wiki/Long_short-term_memory) or [here](http://colah.github.io/posts/2015-08-Understanding-LSTMs/). An LSTM is a type of recurrent neural network and automatically generates a numerical representation for the candidate based on the sentence text, so no need for featurizing explicitly as in the intro tutorial. LSTMs take longer to train, and Snorkel doesn't currently support hyperparameter searches for them. We'll train a single model here, but feel free to try out other parameter sets. Just make sure to use the development set - and not the test set - for model selection."
   ]
  },
  {
   "cell_type": "code",
   "execution_count": 14,
   "metadata": {
    "collapsed": false
   },
   "outputs": [
    {
     "name": "stdout",
     "output_type": "stream",
     "text": [
      "[reLSTM] Dimension=200  LR=0.005\n",
      "[reLSTM] Begin preprocessing\n",
      "[reLSTM] Preprocessing done (25.01s)\n",
      "[reLSTM] Training model\n",
      "[reLSTM] #examples=6396  #epochs=30  batch size=100\n",
      "[reLSTM] Epoch 0 (80.67s)\tAverage loss=0.689927\n",
      "[reLSTM] Epoch 5 (468.00s)\tAverage loss=0.507944\n",
      "[reLSTM] Epoch 10 (863.39s)\tAverage loss=0.477988\n",
      "[reLSTM] Epoch 15 (1254.26s)\tAverage loss=0.471424\n",
      "[reLSTM] Epoch 20 (1658.61s)\tAverage loss=0.468855\n",
      "[reLSTM] Epoch 25 (2185.58s)\tAverage loss=0.467803\n",
      "[reLSTM] Epoch 29 (2608.96s)\tAverage loss=0.466509\n",
      "[reLSTM] Training done (2608.96s)\n"
     ]
    }
   ],
   "source": [
    "from snorkel.contrib.learning import reLSTM\n",
    "\n",
    "lstm = reLSTM()\n",
    "lstm.train(\n",
    "    train, train_marginals, lr=0.005, dim=200, n_epochs=30,\n",
    "    dropout_rate=0.5, rebalance=0.25, print_freq=5\n",
    ")"
   ]
  },
  {
   "cell_type": "markdown",
   "metadata": {},
   "source": [
    "### Scoring on the test set\n",
    "\n",
    "Finally, we'll evaluate our performance on the blind test set of 500 documents. We'll load labels similar to how we did for the development set, and use the `score` function of our extraction model to see how we did."
   ]
  },
  {
   "cell_type": "code",
   "execution_count": 15,
   "metadata": {
    "collapsed": false
   },
   "outputs": [
    {
     "name": "stdout",
     "output_type": "stream",
     "text": [
      "AnnotatorLabels created: 4620\n"
     ]
    }
   ],
   "source": [
    "from load_external_annotations import load_external_labels\n",
    "load_external_labels(session, ChemicalDisease, split=2, annotator='gold')"
   ]
  },
  {
   "cell_type": "code",
   "execution_count": 16,
   "metadata": {
    "collapsed": false
   },
   "outputs": [
    {
     "data": {
      "text/plain": [
       "<4620x1 sparse matrix of type '<type 'numpy.float64'>'\n",
       "\twith 4620 stored elements in Compressed Sparse Row format>"
      ]
     },
     "execution_count": 16,
     "metadata": {},
     "output_type": "execute_result"
    }
   ],
   "source": [
    "from snorkel.annotations import load_gold_labels\n",
    "L_gold_test = load_gold_labels(session, annotator_name='gold', split=2)\n",
    "L_gold_test"
   ]
  },
  {
   "cell_type": "code",
   "execution_count": 17,
   "metadata": {
    "collapsed": false
   },
   "outputs": [
    {
     "name": "stdout",
     "output_type": "stream",
     "text": [
      "========================================\n",
      "Scores (Un-adjusted)\n",
      "========================================\n",
      "Pos. class accuracy: 0.308\n",
      "Neg. class accuracy: 0.907\n",
      "Precision            0.615\n",
      "Recall               0.308\n",
      "F1                   0.411\n",
      "----------------------------------------\n",
      "TP: 464 | FP: 291 | TN: 2824 | FN: 1041\n",
      "========================================\n",
      "\n"
     ]
    }
   ],
   "source": [
    "_, _, _, _ = lstm.score(session, test, L_gold_test)"
   ]
  }
 ],
 "metadata": {
  "anaconda-cloud": {},
  "kernelspec": {
   "display_name": "Python 2",
   "language": "python",
   "name": "python2"
  },
  "language_info": {
   "codemirror_mode": {
    "name": "ipython",
    "version": 2
   },
   "file_extension": ".py",
   "mimetype": "text/x-python",
   "name": "python",
   "nbconvert_exporter": "python",
   "pygments_lexer": "ipython2",
   "version": "2.7.13"
  }
 },
 "nbformat": 4,
 "nbformat_minor": 0
}
