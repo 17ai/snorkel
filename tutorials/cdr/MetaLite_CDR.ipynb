{
 "cells": [
  {
   "cell_type": "code",
   "execution_count": 1,
   "metadata": {
    "collapsed": false
   },
   "outputs": [],
   "source": [
    "from snorkel.semantic import configuration\n",
    "\n",
    "config = configuration\n",
    "config['db'] = 'semparse_cdr_lite'\n",
    "config['lr'] = [1e-5]\n",
    "config['n_search']\n",
    "config['n_epochs'] = 100"
   ]
  },
  {
   "cell_type": "code",
   "execution_count": 2,
   "metadata": {
    "collapsed": false,
    "scrolled": true
   },
   "outputs": [],
   "source": [
    "import os\n",
    "\n",
    "if config['db']:\n",
    "    os.environ['SNORKELDB'] = 'postgres://localhost:5432/' + config['db']\n",
    "\n",
    "from snorkel import SnorkelSession\n",
    "session = SnorkelSession()"
   ]
  },
  {
   "cell_type": "code",
   "execution_count": 3,
   "metadata": {
    "collapsed": true
   },
   "outputs": [],
   "source": [
    "from snorkel.models import candidate_subclass\n",
    "ChemicalDisease = candidate_subclass('ChemicalDisease', ['chemical', 'disease'])"
   ]
  },
  {
   "cell_type": "code",
   "execution_count": 4,
   "metadata": {
    "collapsed": false,
    "scrolled": false
   },
   "outputs": [],
   "source": [
    "from snorkel.semantic import CDRModel\n",
    "sm = CDRModel(session, ChemicalDisease, config)"
   ]
  },
  {
   "cell_type": "code",
   "execution_count": null,
   "metadata": {
    "collapsed": false,
    "scrolled": false
   },
   "outputs": [],
   "source": [
    "%time sm.parse()"
   ]
  },
  {
   "cell_type": "code",
   "execution_count": null,
   "metadata": {
    "collapsed": false,
    "scrolled": true
   },
   "outputs": [],
   "source": [
    "%time sm.extract()"
   ]
  },
  {
   "cell_type": "code",
   "execution_count": null,
   "metadata": {
    "collapsed": false,
    "scrolled": false
   },
   "outputs": [],
   "source": [
    "%time sm.load_gold()"
   ]
  },
  {
   "cell_type": "code",
   "execution_count": null,
   "metadata": {
    "collapsed": false,
    "scrolled": true
   },
   "outputs": [],
   "source": [
    "%time sm.featurize()"
   ]
  },
  {
   "cell_type": "code",
   "execution_count": null,
   "metadata": {
    "collapsed": false,
    "scrolled": false
   },
   "outputs": [],
   "source": [
    "%time sm.generate_lfs()"
   ]
  },
  {
   "cell_type": "code",
   "execution_count": null,
   "metadata": {
    "collapsed": false,
    "scrolled": false
   },
   "outputs": [],
   "source": [
    "%time sm.label()"
   ]
  },
  {
   "cell_type": "code",
   "execution_count": null,
   "metadata": {
    "collapsed": false,
    "scrolled": false
   },
   "outputs": [],
   "source": [
    "%time sm.supervise()"
   ]
  },
  {
   "cell_type": "code",
   "execution_count": null,
   "metadata": {
    "collapsed": false,
    "scrolled": false
   },
   "outputs": [
    {
     "name": "stdout",
     "output_type": "stream",
     "text": [
      "Initialized RandomSearch search of size 10. Search space size = 25.\n",
      "\n",
      "Random Search:\n",
      "============================================================\n",
      "[0] Testing lr = 1.00e-05, l1_penalty = 1.00e-03, l2_penalty = 1.00e-02\n",
      "============================================================\n",
      "[SparseLR] lr=1e-05 l1=0.001 l2=0.01\n",
      "[SparseLR] Building model\n",
      "[SparseLR] Training model\n",
      "[SparseLR] #examples=7870  #epochs=100  batch size=100\n",
      "[SparseLR] Epoch 0 (2.14s)\tAvg. loss=0.698761\tNNZ=122840\n",
      "[SparseLR] Epoch 5 (12.36s)\tAvg. loss=0.668569\tNNZ=122840\n",
      "[SparseLR] Epoch 10 (22.84s)\tAvg. loss=0.642204\tNNZ=122840\n",
      "[SparseLR] Epoch 15 (33.24s)\tAvg. loss=0.619208\tNNZ=122840\n",
      "[SparseLR] Epoch 20 (43.93s)\tAvg. loss=0.599080\tNNZ=122840\n",
      "[SparseLR] Epoch 25 (54.37s)\tAvg. loss=0.581392\tNNZ=122840\n",
      "[SparseLR] Epoch 30 (64.94s)\tAvg. loss=0.565790\tNNZ=122840\n",
      "[SparseLR] Epoch 35 (75.53s)\tAvg. loss=0.551981\tNNZ=122840\n",
      "[SparseLR] Epoch 40 (86.16s)\tAvg. loss=0.539724\tNNZ=122840\n",
      "[SparseLR] Epoch 45 (96.89s)\tAvg. loss=0.528817\tNNZ=122840\n",
      "[SparseLR] Epoch 50 (107.74s)\tAvg. loss=0.519091\tNNZ=122840\n",
      "[SparseLR] Epoch 55 (118.48s)\tAvg. loss=0.510401\tNNZ=122840\n",
      "[SparseLR] Epoch 60 (129.72s)\tAvg. loss=0.502622\tNNZ=122840\n",
      "[SparseLR] Epoch 65 (140.87s)\tAvg. loss=0.495642\tNNZ=122840\n",
      "[SparseLR] Epoch 70 (151.72s)\tAvg. loss=0.489366\tNNZ=122840\n",
      "[SparseLR] Epoch 75 (162.44s)\tAvg. loss=0.483711\tNNZ=122840\n",
      "[SparseLR] Epoch 80 (173.36s)\tAvg. loss=0.478602\tNNZ=122840\n",
      "[SparseLR] Epoch 85 (184.80s)\tAvg. loss=0.473973\tNNZ=122840\n",
      "[SparseLR] Epoch 90 (195.93s)\tAvg. loss=0.469765\tNNZ=122840\n",
      "[SparseLR] Epoch 95 (206.74s)\tAvg. loss=0.465923\tNNZ=122840\n",
      "[SparseLR] Epoch 99 (215.24s)\tAvg. loss=0.463082\tNNZ=122840\n",
      "[SparseLR] Training done (215.24s)\n",
      "P: 1.000, R: 0.003, F1: 0.007\n",
      "[SparseLR] Model saved. To load, use name\n",
      "\t\tSparseLR_0\n",
      "============================================================\n",
      "[1] Testing lr = 1.00e-05, l1_penalty = 1.00e-05, l2_penalty = 1.00e-03\n",
      "============================================================\n",
      "[SparseLR] lr=1e-05 l1=1e-05 l2=0.001\n",
      "[SparseLR] Building model\n",
      "[SparseLR] Training model\n",
      "[SparseLR] #examples=7870  #epochs=100  batch size=100\n",
      "[SparseLR] Epoch 0 (2.17s)\tAvg. loss=0.686514\tNNZ=122840\n",
      "[SparseLR] Epoch 5 (12.56s)\tAvg. loss=0.656532\tNNZ=122840\n",
      "[SparseLR] Epoch 10 (22.28s)\tAvg. loss=0.630214\tNNZ=122840\n",
      "[SparseLR] Epoch 15 (32.43s)\tAvg. loss=0.607209\tNNZ=122840\n",
      "[SparseLR] Epoch 20 (42.48s)\tAvg. loss=0.587026\tNNZ=122840\n",
      "[SparseLR] Epoch 25 (52.84s)\tAvg. loss=0.569243\tNNZ=122840\n",
      "[SparseLR] Epoch 30 (62.66s)\tAvg. loss=0.553515\tNNZ=122840\n",
      "[SparseLR] Epoch 35 (72.92s)\tAvg. loss=0.539556\tNNZ=122840\n",
      "[SparseLR] Epoch 40 (83.10s)\tAvg. loss=0.527127\tNNZ=122840\n",
      "[SparseLR] Epoch 45 (93.39s)\tAvg. loss=0.516032\tNNZ=122840\n",
      "[SparseLR] Epoch 50 (103.70s)\tAvg. loss=0.506103\tNNZ=122840\n",
      "[SparseLR] Epoch 55 (114.08s)\tAvg. loss=0.497198\tNNZ=122840\n",
      "[SparseLR] Epoch 60 (124.17s)\tAvg. loss=0.489193\tNNZ=122840\n",
      "[SparseLR] Epoch 65 (134.47s)\tAvg. loss=0.481981\tNNZ=122840\n",
      "[SparseLR] Epoch 70 (144.97s)\tAvg. loss=0.475470\tNNZ=122840\n",
      "[SparseLR] Epoch 75 (155.36s)\tAvg. loss=0.469575\tNNZ=122840\n",
      "[SparseLR] Epoch 80 (165.82s)\tAvg. loss=0.464223\tNNZ=122840\n",
      "[SparseLR] Epoch 85 (176.37s)\tAvg. loss=0.459348\tNNZ=122840\n",
      "[SparseLR] Epoch 90 (186.81s)\tAvg. loss=0.454891\tNNZ=122840\n",
      "[SparseLR] Epoch 95 (196.94s)\tAvg. loss=0.450800\tNNZ=122840\n",
      "[SparseLR] Epoch 99 (205.19s)\tAvg. loss=0.447758\tNNZ=122840\n",
      "[SparseLR] Training done (205.19s)\n",
      "P: 0.800, R: 0.014, F1: 0.027\n",
      "[SparseLR] Model saved. To load, use name\n",
      "\t\tSparseLR_1\n",
      "============================================================\n",
      "[2] Testing lr = 1.00e-05, l1_penalty = 1.00e-03, l2_penalty = 1.00e-02\n",
      "============================================================\n",
      "[SparseLR] lr=1e-05 l1=0.001 l2=0.01\n",
      "[SparseLR] Building model\n",
      "[SparseLR] Training model\n",
      "[SparseLR] #examples=7870  #epochs=100  batch size=100\n",
      "[SparseLR] Epoch 0 (2.09s)\tAvg. loss=0.695145\tNNZ=122840\n",
      "[SparseLR] Epoch 5 (12.06s)\tAvg. loss=0.665136\tNNZ=122840\n",
      "[SparseLR] Epoch 10 (22.69s)\tAvg. loss=0.639039\tNNZ=122840\n",
      "[SparseLR] Epoch 15 (32.52s)\tAvg. loss=0.616315\tNNZ=122840\n",
      "[SparseLR] Epoch 20 (42.46s)\tAvg. loss=0.596443\tNNZ=122840\n",
      "[SparseLR] Epoch 25 (52.36s)\tAvg. loss=0.578990\tNNZ=122840\n",
      "[SparseLR] Epoch 30 (151.29s)\tAvg. loss=0.563600\tNNZ=122840\n",
      "[SparseLR] Epoch 35 (161.32s)\tAvg. loss=0.549986\tNNZ=122840\n",
      "[SparseLR] Epoch 40 (171.29s)\tAvg. loss=0.537905\tNNZ=122840\n",
      "[SparseLR] Epoch 45 (181.15s)\tAvg. loss=0.527159\tNNZ=122840\n",
      "[SparseLR] Epoch 50 (236.53s)\tAvg. loss=0.517577\tNNZ=122840\n",
      "[SparseLR] Epoch 55 (246.50s)\tAvg. loss=0.509018\tNNZ=122840\n",
      "[SparseLR] Epoch 60 (256.52s)\tAvg. loss=0.501355\tNNZ=122840\n",
      "[SparseLR] Epoch 65 (290.12s)\tAvg. loss=0.494482\tNNZ=122840\n",
      "[SparseLR] Epoch 70 (308.93s)\tAvg. loss=0.488303\tNNZ=122840\n",
      "[SparseLR] Epoch 75 (319.02s)\tAvg. loss=0.482735\tNNZ=122840\n",
      "[SparseLR] Epoch 80 (329.27s)\tAvg. loss=0.477702\tNNZ=122840\n",
      "[SparseLR] Epoch 85 (683.67s)\tAvg. loss=0.473139\tNNZ=122840\n",
      "[SparseLR] Epoch 90 (699.53s)\tAvg. loss=0.468990\tNNZ=122840\n",
      "[SparseLR] Epoch 95 (709.53s)\tAvg. loss=0.465202\tNNZ=122840\n",
      "[SparseLR] Epoch 99 (935.11s)\tAvg. loss=0.462400\tNNZ=122840\n",
      "[SparseLR] Training done (935.11s)\n",
      "P: 1.000, R: 0.003, F1: 0.007\n",
      "============================================================\n",
      "[3] Testing lr = 1.00e-05, l1_penalty = 1.00e-05, l2_penalty = 1.00e-06\n",
      "============================================================\n",
      "[SparseLR] lr=1e-05 l1=1e-05 l2=1e-06\n",
      "[SparseLR] Building model\n",
      "[SparseLR] Training model\n",
      "[SparseLR] #examples=7870  #epochs=100  batch size=100\n",
      "[SparseLR] Epoch 0 (2.38s)\tAvg. loss=0.696538\tNNZ=122840\n",
      "[SparseLR] Epoch 5 (15.41s)\tAvg. loss=0.665886\tNNZ=122840\n",
      "[SparseLR] Epoch 10 (28.31s)\tAvg. loss=0.638893\tNNZ=122840\n",
      "[SparseLR] Epoch 15 (39.71s)\tAvg. loss=0.615243\tNNZ=122840\n",
      "[SparseLR] Epoch 20 (50.82s)\tAvg. loss=0.594450\tNNZ=122840\n",
      "[SparseLR] Epoch 25 (61.07s)\tAvg. loss=0.576098\tNNZ=122840\n",
      "[SparseLR] Epoch 30 (71.60s)\tAvg. loss=0.559840\tNNZ=122840\n",
      "[SparseLR] Epoch 35 (81.76s)\tAvg. loss=0.545390\tNNZ=122840\n",
      "[SparseLR] Epoch 40 (91.76s)\tAvg. loss=0.532510\tNNZ=122840\n",
      "[SparseLR] Epoch 45 (101.68s)\tAvg. loss=0.520999\tNNZ=122840\n",
      "[SparseLR] Epoch 50 (111.33s)\tAvg. loss=0.510688\tNNZ=122840\n",
      "[SparseLR] Epoch 55 (121.65s)\tAvg. loss=0.501434\tNNZ=122840\n",
      "[SparseLR] Epoch 60 (131.93s)\tAvg. loss=0.493111\tNNZ=122840\n",
      "[SparseLR] Epoch 65 (141.90s)\tAvg. loss=0.485610\tNNZ=122840\n",
      "[SparseLR] Epoch 70 (151.81s)\tAvg. loss=0.478835\tNNZ=122840\n",
      "[SparseLR] Epoch 75 (161.66s)\tAvg. loss=0.472703\tNNZ=122840\n",
      "[SparseLR] Epoch 80 (171.61s)\tAvg. loss=0.467136\tNNZ=122840\n",
      "[SparseLR] Epoch 85 (181.49s)\tAvg. loss=0.462068\tNNZ=122840\n"
     ]
    }
   ],
   "source": [
    "%time sm.classify()"
   ]
  },
  {
   "cell_type": "code",
   "execution_count": null,
   "metadata": {
    "collapsed": true
   },
   "outputs": [],
   "source": []
  }
 ],
 "metadata": {
  "anaconda-cloud": {},
  "kernelspec": {
   "display_name": "Python 2",
   "language": "python",
   "name": "python2"
  },
  "language_info": {
   "codemirror_mode": {
    "name": "ipython",
    "version": 2
   },
   "file_extension": ".py",
   "mimetype": "text/x-python",
   "name": "python",
   "nbconvert_exporter": "python",
   "pygments_lexer": "ipython2",
   "version": "2.7.13"
  }
 },
 "nbformat": 4,
 "nbformat_minor": 1
}
