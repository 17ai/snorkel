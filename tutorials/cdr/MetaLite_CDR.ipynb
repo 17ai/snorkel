{
 "cells": [
  {
   "cell_type": "code",
   "execution_count": null,
   "metadata": {
    "collapsed": true
   },
   "outputs": [],
   "source": [
    "# CONFIGURATION\n",
    "\n",
    "db = 'semparse_cdr_lite'\n",
    "PARALLELISM = 1\n",
    "MAX_DOCS = 1500\n",
    "SPLITS = 3\n",
    "\n",
    "# LFs\n",
    "SOURCE = 'py'\n",
    "INCLUDE = []\n",
    "MAX_LFS = None\n",
    "\n",
    "# Supervision\n",
    "MODEL_DEP = True\n",
    "MAJORITY_VOTE = False\n",
    "TRADITIONAL = False\n",
    "DISPLAY_CORRELATION = True\n",
    "EMPIRICAL_FROM_TRAIN = False\n",
    "\n",
    "# Discriminative\n",
    "SEARCH_N = 1\n",
    "N_EPOCHS = 5\n",
    "LR = 0.01\n",
    "L1_PENALTY = 0.0\n",
    "L2_PENALTY = 0.0\n",
    "PRINT_FREQ = 5"
   ]
  },
  {
   "cell_type": "code",
   "execution_count": null,
   "metadata": {
    "collapsed": false,
    "scrolled": true
   },
   "outputs": [],
   "source": [
    "import os\n",
    "\n",
    "# os.environ['SNORKELDB'] = 'postgres://localhost:5432/' + db\n",
    "\n",
    "from snorkel import SnorkelSession\n",
    "session = SnorkelSession()"
   ]
  },
  {
   "cell_type": "code",
   "execution_count": null,
   "metadata": {
    "collapsed": true
   },
   "outputs": [],
   "source": [
    "from snorkel.models import candidate_subclass\n",
    "ChemicalDisease = candidate_subclass('ChemicalDisease', ['chemical', 'disease'])"
   ]
  },
  {
   "cell_type": "code",
   "execution_count": null,
   "metadata": {
    "collapsed": false,
    "scrolled": false
   },
   "outputs": [],
   "source": [
    "from snorkel.semantic import CDRModel\n",
    "sm = CDRModel(session,\\\n",
    "              candidate_class=ChemicalDisease,\\\n",
    "              traditional=TRADITIONAL,\\\n",
    "              splits=SPLITS,\\\n",
    "              parallelism=PARALLELISM)"
   ]
  },
  {
   "cell_type": "code",
   "execution_count": null,
   "metadata": {
    "collapsed": false,
    "scrolled": true
   },
   "outputs": [],
   "source": [
    "%time sm.parse(max_docs=MAX_DOCS)"
   ]
  },
  {
   "cell_type": "code",
   "execution_count": null,
   "metadata": {
    "collapsed": false,
    "scrolled": true
   },
   "outputs": [],
   "source": [
    "%time sm.extract()"
   ]
  },
  {
   "cell_type": "code",
   "execution_count": null,
   "metadata": {
    "collapsed": false,
    "scrolled": false
   },
   "outputs": [],
   "source": [
    "%time sm.load_gold()"
   ]
  },
  {
   "cell_type": "code",
   "execution_count": null,
   "metadata": {
    "collapsed": false,
    "scrolled": true
   },
   "outputs": [],
   "source": [
    "%time sm.featurize()"
   ]
  },
  {
   "cell_type": "code",
   "execution_count": null,
   "metadata": {
    "collapsed": false,
    "scrolled": false
   },
   "outputs": [],
   "source": [
    "%time sm.generate_lfs(source=SOURCE, include=INCLUDE, max_lfs=MAX_LFS)"
   ]
  },
  {
   "cell_type": "code",
   "execution_count": null,
   "metadata": {
    "collapsed": false,
    "scrolled": false
   },
   "outputs": [],
   "source": [
    "%time sm.label()"
   ]
  },
  {
   "cell_type": "code",
   "execution_count": null,
   "metadata": {
    "collapsed": false,
    "scrolled": false
   },
   "outputs": [],
   "source": [
    "%time sm.supervise(model_dep=MODEL_DEP,\\\n",
    "                   majority_vote=MAJORITY_VOTE,\\\n",
    "                   display_correlation=DISPLAY_CORRELATION,\\\n",
    "                   empirical_from_train=EMPIRICAL_FROM_TRAIN)"
   ]
  },
  {
   "cell_type": "code",
   "execution_count": null,
   "metadata": {
    "collapsed": false,
    "scrolled": false
   },
   "outputs": [],
   "source": [
    "%time sm.classify(model='logreg', search_n=SEARCH_N, n_epochs=N_EPOCHS,\\\n",
    "            lr=LR, l1_penalty=L1_PENALTY, l2_penalty=L2_PENALTY,\\\n",
    "            print_freq=PRINT_FREQ)"
   ]
  },
  {
   "cell_type": "code",
   "execution_count": null,
   "metadata": {
    "collapsed": true
   },
   "outputs": [],
   "source": []
  }
 ],
 "metadata": {
  "anaconda-cloud": {},
  "kernelspec": {
   "display_name": "Python 2",
   "language": "python",
   "name": "python2"
  },
  "language_info": {
   "codemirror_mode": {
    "name": "ipython",
    "version": 2
   },
   "file_extension": ".py",
   "mimetype": "text/x-python",
   "name": "python",
   "nbconvert_exporter": "python",
   "pygments_lexer": "ipython2",
   "version": "2.7.13"
  }
 },
 "nbformat": 4,
 "nbformat_minor": 1
}
