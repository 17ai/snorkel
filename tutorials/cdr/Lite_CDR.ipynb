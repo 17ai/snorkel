{
 "cells": [
  {
   "cell_type": "code",
   "execution_count": null,
   "metadata": {
    "collapsed": false,
    "scrolled": true
   },
   "outputs": [],
   "source": [
    "import os\n",
    "\n",
    "db = 'semparse_cdr_lite2'\n",
    "\n",
    "if db:\n",
    "    if db.endswith('.db'):\n",
    "        os.system('cp {} snorkel.db'.format(db))\n",
    "        print(\"Sqlite database {} copied\".format(db))\n",
    "    else:\n",
    "        os.environ['SNORKELDB'] = 'postgres://localhost:5432/' + db\n",
    "        print(\"Postgres database {} connected\".format(db))\n",
    "else:\n",
    "    print(\"Using sqlite.db\".format(db))\n",
    "    \n",
    "from snorkel import SnorkelSession\n",
    "session = SnorkelSession()\n",
    "\n",
    "from snorkel.models import snorkel_postgres\n",
    "if not db.endswith('db') and not snorkel_postgres:\n",
    "    raise Exception(\"Connection to PostgreSQL failed\")"
   ]
  },
  {
   "cell_type": "code",
   "execution_count": null,
   "metadata": {
    "collapsed": false,
    "scrolled": true
   },
   "outputs": [],
   "source": [
    "from snorkel.semantic import configuration\n",
    "\n",
    "config = configuration\n",
    "config['source'] = 'py'\n",
    "config['include_closer_lfs'] = False\n",
    "config['model_dep'] = False\n",
    "config['majority_vote'] = True\n",
    "config['n_epochs'] = 5\n",
    "config['n_search'] = 1"
   ]
  },
  {
   "cell_type": "code",
   "execution_count": null,
   "metadata": {
    "collapsed": false
   },
   "outputs": [],
   "source": [
    "from snorkel.models import candidate_subclass\n",
    "ChemicalDisease = candidate_subclass('ChemicalDisease', ['chemical', 'disease'])"
   ]
  },
  {
   "cell_type": "code",
   "execution_count": null,
   "metadata": {
    "collapsed": false,
    "scrolled": false
   },
   "outputs": [],
   "source": [
    "from snorkel.semantic import CDRModel\n",
    "sm = CDRModel(session, ChemicalDisease, config)"
   ]
  },
  {
   "cell_type": "code",
   "execution_count": null,
   "metadata": {
    "collapsed": false,
    "scrolled": false
   },
   "outputs": [],
   "source": [
    "%time sm.parse()"
   ]
  },
  {
   "cell_type": "code",
   "execution_count": null,
   "metadata": {
    "collapsed": false,
    "scrolled": true
   },
   "outputs": [],
   "source": [
    "%time sm.extract()"
   ]
  },
  {
   "cell_type": "code",
   "execution_count": null,
   "metadata": {
    "collapsed": false,
    "scrolled": false
   },
   "outputs": [],
   "source": [
    "%time sm.load_gold()"
   ]
  },
  {
   "cell_type": "code",
   "execution_count": null,
   "metadata": {
    "collapsed": false,
    "scrolled": false
   },
   "outputs": [],
   "source": [
    "%time sm.featurize()"
   ]
  },
  {
   "cell_type": "code",
   "execution_count": null,
   "metadata": {
    "collapsed": false,
    "scrolled": false
   },
   "outputs": [],
   "source": [
    "%time sm.generate_lfs()"
   ]
  },
  {
   "cell_type": "code",
   "execution_count": null,
   "metadata": {
    "collapsed": false
   },
   "outputs": [],
   "source": [
    "len(sm.LFs)"
   ]
  },
  {
   "cell_type": "code",
   "execution_count": null,
   "metadata": {
    "collapsed": false,
    "scrolled": false
   },
   "outputs": [],
   "source": [
    "%time sm.label()"
   ]
  },
  {
   "cell_type": "code",
   "execution_count": null,
   "metadata": {
    "collapsed": false,
    "scrolled": false
   },
   "outputs": [],
   "source": [
    "%time sm.supervise()"
   ]
  },
  {
   "cell_type": "code",
   "execution_count": null,
   "metadata": {
    "collapsed": false,
    "scrolled": true
   },
   "outputs": [],
   "source": [
    "%time sm.classify()"
   ]
  },
  {
   "cell_type": "raw",
   "metadata": {},
   "source": [
    "[SparseLR] lr=0.01 l1=0.001 l2=1e-05\n",
    "[SparseLR] Building model\n",
    "[SparseLR] Training model\n",
    "[SparseLR] #examples=3688  #epochs=5  batch size=100\n",
    "[SparseLR] Epoch 0 (1.06s)\tAvg. loss=0.760322\tNNZ=122840\n",
    "[SparseLR] Epoch 4 (5.06s)\tAvg. loss=0.241377\tNNZ=122840\n",
    "[SparseLR] Training done (5.06s)\n",
    "\n",
    "Dev:\n",
    "========================================\n",
    "Scores (Un-adjusted)\n",
    "========================================\n",
    "Pos. class accuracy: 0.456\n",
    "Neg. class accuracy: 0.542\n",
    "Precision            0.333\n",
    "Recall               0.456\n",
    "F1                   0.385\n",
    "----------------------------------------\n",
    "TP: 135 | FP: 271 | TN: 321 | FN: 161\n",
    "======================================="
   ]
  },
  {
   "cell_type": "raw",
   "metadata": {},
   "source": [
    "[SparseLR] lr=0.01 l1=0.001 l2=1e-05\n",
    "[SparseLR] Building model\n",
    "[SparseLR] Training model\n",
    "[SparseLR] #examples=3688  #epochs=5  batch size=100\n",
    "[SparseLR] Epoch 0 (1.04s)\tAvg. loss=0.763599\tNNZ=122840\n",
    "[SparseLR] Epoch 4 (4.79s)\tAvg. loss=0.237408\tNNZ=122840\n",
    "[SparseLR] Training done (4.79s)\n",
    "\n",
    "Dev:\n",
    "========================================\n",
    "Scores (Un-adjusted)\n",
    "========================================\n",
    "Pos. class accuracy: 0.449\n",
    "Neg. class accuracy: 0.459\n",
    "Precision            0.294\n",
    "Recall               0.449\n",
    "F1                   0.355\n",
    "----------------------------------------\n",
    "TP: 133 | FP: 320 | TN: 272 | FN: 163\n",
    "========================================"
   ]
  }
 ],
 "metadata": {
  "anaconda-cloud": {},
  "kernelspec": {
   "display_name": "Python 2",
   "language": "python",
   "name": "python2"
  },
  "language_info": {
   "codemirror_mode": {
    "name": "ipython",
    "version": 2
   },
   "file_extension": ".py",
   "mimetype": "text/x-python",
   "name": "python",
   "nbconvert_exporter": "python",
   "pygments_lexer": "ipython2",
   "version": "2.7.13"
  }
 },
 "nbformat": 4,
 "nbformat_minor": 1
}
