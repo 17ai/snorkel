{
 "cells": [
  {
   "cell_type": "code",
   "execution_count": 1,
   "metadata": {
    "collapsed": false
   },
   "outputs": [],
   "source": [
    "import os\n",
    "\n",
    "os.environ['SNORKELDB'] = 'postgres://localhost:5432/scratch'\n",
    "\n",
    "from snorkel import SnorkelSession\n",
    "session = SnorkelSession()"
   ]
  },
  {
   "cell_type": "code",
   "execution_count": 2,
   "metadata": {
    "collapsed": false,
    "scrolled": true
   },
   "outputs": [],
   "source": [
    "from snorkel.semantic import CDRModel\n",
    "from snorkel.models import candidate_subclass\n",
    "\n",
    "parallelism = 3\n",
    "seed = 0\n",
    "\n",
    "ChemicalDisease = candidate_subclass('ChemicalDisease', ['chemical', 'disease'])\n",
    "\n",
    "sm = CDRModel(session, candidate_class=ChemicalDisease, parallelism=parallelism, seed=seed)"
   ]
  },
  {
   "cell_type": "code",
   "execution_count": 3,
   "metadata": {
    "collapsed": false,
    "scrolled": true
   },
   "outputs": [
    {
     "name": "stdout",
     "output_type": "stream",
     "text": [
      "Clearing existing...\n",
      "Running UDF...\n",
      "[========================================] 100%\n",
      "Documents: 10\n",
      "Sentences: 76\n"
     ]
    }
   ],
   "source": [
    "sm.parse(max_docs=10)"
   ]
  },
  {
   "cell_type": "code",
   "execution_count": 4,
   "metadata": {
    "collapsed": false,
    "scrolled": false
   },
   "outputs": [
    {
     "name": "stdout",
     "output_type": "stream",
     "text": [
      "Clearing existing...\n",
      "Running UDF...\n",
      "[========================================] 100%\n",
      "Candidates [Split 0]: 55\n"
     ]
    }
   ],
   "source": [
    "sm.extract()"
   ]
  },
  {
   "cell_type": "code",
   "execution_count": 5,
   "metadata": {
    "collapsed": false,
    "scrolled": false
   },
   "outputs": [
    {
     "name": "stdout",
     "output_type": "stream",
     "text": [
      "AnnotatorLabels created: 55\n",
      "AnnotatorLabels created: 0\n",
      "AnnotatorLabels created: 0\n"
     ]
    }
   ],
   "source": [
    "sm.load_gold()"
   ]
  },
  {
   "cell_type": "code",
   "execution_count": 6,
   "metadata": {
    "collapsed": false,
    "scrolled": true
   },
   "outputs": [
    {
     "name": "stdout",
     "output_type": "stream",
     "text": [
      "Clearing existing...\n",
      "Running UDF...\n",
      "[========================================] 100%\n",
      "Featurized split 0: (55,1684) sparse matrix\n"
     ]
    }
   ],
   "source": [
    "sm.featurize()"
   ]
  },
  {
   "cell_type": "code",
   "execution_count": 7,
   "metadata": {
    "collapsed": false
   },
   "outputs": [
    {
     "name": "stdout",
     "output_type": "stream",
     "text": [
      "Clearing existing...\n",
      "Running UDF...\n",
      "[========================================] 100%\n",
      "Labeled split 0: (55,33) sparse matrix\n"
     ]
    }
   ],
   "source": [
    "sm.label(lfs='py')"
   ]
  },
  {
   "cell_type": "code",
   "execution_count": 8,
   "metadata": {
    "collapsed": false
   },
   "outputs": [
    {
     "data": {
      "image/png": "[encoded data removed]",
      "text/plain": [
       "<matplotlib.figure.Figure at 0x1154b16d0>"
      ]
     },
     "metadata": {},
     "output_type": "display_data"
    },
    {
     "name": "stdout",
     "output_type": "stream",
     "text": [
      "Saved 55 training marginals\n"
     ]
    }
   ],
   "source": [
    "sm.generative(model_dep=False)"
   ]
  },
  {
   "cell_type": "code",
   "execution_count": 9,
   "metadata": {
    "collapsed": false,
    "scrolled": false
   },
   "outputs": [
    {
     "name": "stdout",
     "output_type": "stream",
     "text": [
      "Initialized RandomSearch search of size 20. Search space size = 125.\n",
      "============================================================\n",
      "[1] Testing lr = 1.00e-03, l1_penalty = 1.00e-02, l2_penalty = 1.00e-06\n",
      "============================================================\n",
      "[SparseLR] lr=0.001 l1=0.01 l2=1e-06\n",
      "[SparseLR] Building model\n",
      "[SparseLR] Training model\n",
      "[SparseLR] #examples=34  #epochs=50  batch size=34\n",
      "[SparseLR] Epoch 0 (0.12s)\tAvg. loss=0.684206\tNNZ=1684\n",
      "[SparseLR] Epoch 25 (0.18s)\tAvg. loss=0.514477\tNNZ=1684\n",
      "[SparseLR] Epoch 49 (0.23s)\tAvg. loss=0.471494\tNNZ=1684\n",
      "[SparseLR] Training done (0.23s)\n",
      "[SparseLR] Model saved. To load, use name\n",
      "\t\tSparseLR_0\n",
      "============================================================\n",
      "[2] Testing lr = 1.00e-06, l1_penalty = 1.00e-02, l2_penalty = 1.00e-03\n",
      "============================================================\n",
      "[SparseLR] lr=1e-06 l1=0.01 l2=0.001\n",
      "[SparseLR] Building model\n",
      "[SparseLR] Training model\n",
      "[SparseLR] #examples=34  #epochs=50  batch size=34\n",
      "[SparseLR] Epoch 0 (0.11s)\tAvg. loss=0.671605\tNNZ=1684\n",
      "[SparseLR] Epoch 25 (0.16s)\tAvg. loss=0.671274\tNNZ=1684\n",
      "[SparseLR] Epoch 49 (0.22s)\tAvg. loss=0.670956\tNNZ=1684\n",
      "[SparseLR] Training done (0.22s)\n",
      "============================================================\n",
      "[3] Testing lr = 1.00e-06, l1_penalty = 1.00e-04, l2_penalty = 1.00e-02\n",
      "============================================================\n",
      "[SparseLR] lr=1e-06 l1=0.0001 l2=0.01\n",
      "[SparseLR] Building model\n",
      "[SparseLR] Training model\n",
      "[SparseLR] #examples=34  #epochs=50  batch size=34\n",
      "[SparseLR] Epoch 0 (0.13s)\tAvg. loss=0.678046\tNNZ=1684\n",
      "[SparseLR] Epoch 25 (0.20s)\tAvg. loss=0.677676\tNNZ=1684\n",
      "[SparseLR] Epoch 49 (0.25s)\tAvg. loss=0.677321\tNNZ=1684\n",
      "[SparseLR] Training done (0.26s)\n",
      "============================================================\n",
      "[4] Testing lr = 1.00e-06, l1_penalty = 1.00e-02, l2_penalty = 1.00e-05\n",
      "============================================================\n",
      "[SparseLR] lr=1e-06 l1=0.01 l2=1e-05\n",
      "[SparseLR] Building model\n",
      "[SparseLR] Training model\n",
      "[SparseLR] #examples=34  #epochs=50  batch size=34\n",
      "[SparseLR] Epoch 0 (0.12s)\tAvg. loss=0.673309\tNNZ=1684\n",
      "[SparseLR] Epoch 25 (0.17s)\tAvg. loss=0.672943\tNNZ=1684\n",
      "[SparseLR] Epoch 49 (0.23s)\tAvg. loss=0.672593\tNNZ=1684\n",
      "[SparseLR] Training done (0.23s)\n",
      "============================================================\n",
      "[5] Testing lr = 1.00e-05, l1_penalty = 1.00e-05, l2_penalty = 1.00e-02\n",
      "============================================================\n",
      "[SparseLR] lr=1e-05 l1=1e-05 l2=0.01\n",
      "[SparseLR] Building model\n",
      "[SparseLR] Training model\n",
      "[SparseLR] #examples=34  #epochs=50  batch size=34\n",
      "[SparseLR] Epoch 0 (0.14s)\tAvg. loss=0.678917\tNNZ=1684\n",
      "[SparseLR] Epoch 25 (0.20s)\tAvg. loss=0.675212\tNNZ=1684\n",
      "[SparseLR] Epoch 49 (0.26s)\tAvg. loss=0.671730\tNNZ=1684\n",
      "[SparseLR] Training done (0.26s)\n",
      "============================================================\n",
      "[6] Testing lr = 1.00e-03, l1_penalty = 1.00e-06, l2_penalty = 1.00e-04\n",
      "============================================================\n",
      "[SparseLR] lr=0.001 l1=1e-06 l2=0.0001\n",
      "[SparseLR] Building model\n",
      "[SparseLR] Training model\n",
      "[SparseLR] #examples=34  #epochs=50  batch size=34\n",
      "[SparseLR] Epoch 0 (0.14s)\tAvg. loss=0.670427\tNNZ=1684\n",
      "[SparseLR] Epoch 25 (0.20s)\tAvg. loss=0.519825\tNNZ=1684\n",
      "[SparseLR] Epoch 49 (0.26s)\tAvg. loss=0.484132\tNNZ=1684\n",
      "[SparseLR] Training done (0.26s)\n",
      "============================================================\n",
      "[7] Testing lr = 1.00e-03, l1_penalty = 1.00e-04, l2_penalty = 1.00e-02\n",
      "============================================================\n",
      "[SparseLR] lr=0.001 l1=0.0001 l2=0.01\n",
      "[SparseLR] Building model\n",
      "[SparseLR] Training model\n",
      "[SparseLR] #examples=34  #epochs=50  batch size=34\n",
      "[SparseLR] Epoch 0 (0.15s)\tAvg. loss=0.673923\tNNZ=1684\n",
      "[SparseLR] Epoch 25 (0.21s)\tAvg. loss=0.512874\tNNZ=1684\n",
      "[SparseLR] Epoch 49 (0.27s)\tAvg. loss=0.470141\tNNZ=1684\n",
      "[SparseLR] Training done (0.27s)\n",
      "============================================================\n",
      "[8] Testing lr = 1.00e-03, l1_penalty = 1.00e-05, l2_penalty = 1.00e-02\n",
      "============================================================\n",
      "[SparseLR] lr=0.001 l1=1e-05 l2=0.01\n",
      "[SparseLR] Building model\n",
      "[SparseLR] Training model\n",
      "[SparseLR] #examples=34  #epochs=50  batch size=34\n",
      "[SparseLR] Epoch 0 (0.17s)\tAvg. loss=0.669564\tNNZ=1684\n",
      "[SparseLR] Epoch 25 (0.24s)\tAvg. loss=0.511374\tNNZ=1684\n",
      "[SparseLR] Epoch 49 (0.29s)\tAvg. loss=0.468508\tNNZ=1684\n",
      "[SparseLR] Training done (0.29s)\n",
      "============================================================\n",
      "[9] Testing lr = 1.00e-06, l1_penalty = 1.00e-03, l2_penalty = 1.00e-04\n",
      "============================================================\n",
      "[SparseLR] lr=1e-06 l1=0.001 l2=0.0001\n",
      "[SparseLR] Building model\n",
      "[SparseLR] Training model\n",
      "[SparseLR] #examples=34  #epochs=50  batch size=34\n",
      "[SparseLR] Epoch 0 (0.17s)\tAvg. loss=0.683602\tNNZ=1684\n",
      "[SparseLR] Epoch 25 (0.23s)\tAvg. loss=0.683231\tNNZ=1684\n",
      "[SparseLR] Epoch 49 (0.28s)\tAvg. loss=0.682875\tNNZ=1684\n",
      "[SparseLR] Training done (0.28s)\n",
      "============================================================\n",
      "[10] Testing lr = 1.00e-02, l1_penalty = 1.00e-02, l2_penalty = 1.00e-04\n",
      "============================================================\n",
      "[SparseLR] lr=0.01 l1=0.01 l2=0.0001\n",
      "[SparseLR] Building model\n",
      "[SparseLR] Training model\n",
      "[SparseLR] #examples=34  #epochs=50  batch size=34\n",
      "[SparseLR] Epoch 0 (0.18s)\tAvg. loss=0.678909\tNNZ=1684\n",
      "[SparseLR] Epoch 25 (0.24s)\tAvg. loss=0.420205\tNNZ=1684\n",
      "[SparseLR] Epoch 49 (0.29s)\tAvg. loss=0.408758\tNNZ=1684\n",
      "[SparseLR] Training done (0.29s)\n",
      "============================================================\n",
      "[11] Testing lr = 1.00e-02, l1_penalty = 1.00e-03, l2_penalty = 1.00e-05\n",
      "============================================================\n",
      "[SparseLR] lr=0.01 l1=0.001 l2=1e-05\n",
      "[SparseLR] Building model\n",
      "[SparseLR] Training model\n",
      "[SparseLR] #examples=34  #epochs=50  batch size=34\n",
      "[SparseLR] Epoch 0 (0.44s)\tAvg. loss=0.673102\tNNZ=1684\n",
      "[SparseLR] Epoch 25 (0.50s)\tAvg. loss=0.390594\tNNZ=1684\n",
      "[SparseLR] Epoch 49 (0.55s)\tAvg. loss=0.375985\tNNZ=1684\n",
      "[SparseLR] Training done (0.55s)\n",
      "============================================================\n",
      "[12] Testing lr = 1.00e-03, l1_penalty = 1.00e-06, l2_penalty = 1.00e-05\n",
      "============================================================\n",
      "[SparseLR] lr=0.001 l1=1e-06 l2=1e-05\n",
      "[SparseLR] Building model\n",
      "[SparseLR] Training model\n",
      "[SparseLR] #examples=34  #epochs=50  batch size=34\n",
      "[SparseLR] Epoch 0 (0.22s)\tAvg. loss=0.678021\tNNZ=1684\n",
      "[SparseLR] Epoch 25 (0.28s)\tAvg. loss=0.508650\tNNZ=1684\n",
      "[SparseLR] Epoch 49 (0.34s)\tAvg. loss=0.470551\tNNZ=1684\n",
      "[SparseLR] Training done (0.34s)\n",
      "============================================================\n",
      "[13] Testing lr = 1.00e-06, l1_penalty = 1.00e-03, l2_penalty = 1.00e-05\n",
      "============================================================\n",
      "[SparseLR] lr=1e-06 l1=0.001 l2=1e-05\n",
      "[SparseLR] Building model\n",
      "[SparseLR] Training model\n",
      "[SparseLR] #examples=34  #epochs=50  batch size=34\n",
      "[SparseLR] Epoch 0 (0.22s)\tAvg. loss=0.670703\tNNZ=1684\n",
      "[SparseLR] Epoch 25 (0.29s)\tAvg. loss=0.670356\tNNZ=1684\n",
      "[SparseLR] Epoch 49 (0.35s)\tAvg. loss=0.670023\tNNZ=1684\n",
      "[SparseLR] Training done (0.35s)\n",
      "============================================================\n",
      "[14] Testing lr = 1.00e-03, l1_penalty = 1.00e-03, l2_penalty = 1.00e-04\n",
      "============================================================\n",
      "[SparseLR] lr=0.001 l1=0.001 l2=0.0001\n",
      "[SparseLR] Building model\n",
      "[SparseLR] Training model\n",
      "[SparseLR] #examples=34  #epochs=50  batch size=34\n",
      "[SparseLR] Epoch 0 (0.22s)\tAvg. loss=0.675677\tNNZ=1684\n",
      "[SparseLR] Epoch 25 (0.28s)\tAvg. loss=0.511287\tNNZ=1684\n",
      "[SparseLR] Epoch 49 (0.34s)\tAvg. loss=0.472552\tNNZ=1684\n",
      "[SparseLR] Training done (0.35s)\n",
      "============================================================\n",
      "[15] Testing lr = 1.00e-06, l1_penalty = 1.00e-05, l2_penalty = 1.00e-02\n",
      "============================================================\n",
      "[SparseLR] lr=1e-06 l1=1e-05 l2=0.01\n",
      "[SparseLR] Building model\n",
      "[SparseLR] Training model\n",
      "[SparseLR] #examples=34  #epochs=50  batch size=34\n",
      "[SparseLR] Epoch 0 (0.52s)\tAvg. loss=0.669225\tNNZ=1684\n",
      "[SparseLR] Epoch 25 (0.58s)\tAvg. loss=0.668864\tNNZ=1684\n",
      "[SparseLR] Epoch 49 (0.63s)\tAvg. loss=0.668519\tNNZ=1684\n",
      "[SparseLR] Training done (0.63s)\n",
      "============================================================\n",
      "[16] Testing lr = 1.00e-03, l1_penalty = 1.00e-06, l2_penalty = 1.00e-04\n",
      "============================================================\n",
      "[SparseLR] lr=0.001 l1=1e-06 l2=0.0001\n",
      "[SparseLR] Building model\n",
      "[SparseLR] Training model\n",
      "[SparseLR] #examples=34  #epochs=50  batch size=34\n",
      "[SparseLR] Epoch 0 (0.22s)\tAvg. loss=0.666736\tNNZ=1684\n",
      "[SparseLR] Epoch 25 (0.29s)\tAvg. loss=0.514441\tNNZ=1684\n",
      "[SparseLR] Epoch 49 (0.34s)\tAvg. loss=0.478174\tNNZ=1684\n",
      "[SparseLR] Training done (0.34s)\n",
      "============================================================\n",
      "[17] Testing lr = 1.00e-03, l1_penalty = 1.00e-05, l2_penalty = 1.00e-03\n",
      "============================================================\n",
      "[SparseLR] lr=0.001 l1=1e-05 l2=0.001\n",
      "[SparseLR] Building model\n",
      "[SparseLR] Training model\n",
      "[SparseLR] #examples=34  #epochs=50  batch size=34\n",
      "[SparseLR] Epoch 0 (0.24s)\tAvg. loss=0.672340\tNNZ=1684\n",
      "[SparseLR] Epoch 25 (0.29s)\tAvg. loss=0.496152\tNNZ=1684\n",
      "[SparseLR] Epoch 49 (0.35s)\tAvg. loss=0.454011\tNNZ=1684\n",
      "[SparseLR] Training done (0.35s)\n",
      "============================================================\n",
      "[18] Testing lr = 1.00e-04, l1_penalty = 1.00e-03, l2_penalty = 1.00e-05\n",
      "============================================================\n",
      "[SparseLR] lr=0.0001 l1=0.001 l2=1e-05\n",
      "[SparseLR] Building model\n",
      "[SparseLR] Training model\n",
      "[SparseLR] #examples=34  #epochs=50  batch size=34\n",
      "[SparseLR] Epoch 0 (0.24s)\tAvg. loss=0.676628\tNNZ=1684\n",
      "[SparseLR] Epoch 25 (0.30s)\tAvg. loss=0.642573\tNNZ=1684\n",
      "[SparseLR] Epoch 49 (0.35s)\tAvg. loss=0.615977\tNNZ=1684\n",
      "[SparseLR] Training done (0.35s)\n",
      "============================================================\n",
      "[19] Testing lr = 1.00e-04, l1_penalty = 1.00e-03, l2_penalty = 1.00e-05\n",
      "============================================================\n",
      "[SparseLR] lr=0.0001 l1=0.001 l2=1e-05\n",
      "[SparseLR] Building model\n",
      "[SparseLR] Training model\n",
      "[SparseLR] #examples=34  #epochs=50  batch size=34\n",
      "[SparseLR] Epoch 0 (0.25s)\tAvg. loss=0.674838\tNNZ=1684\n",
      "[SparseLR] Epoch 25 (0.31s)\tAvg. loss=0.641805\tNNZ=1684\n",
      "[SparseLR] Epoch 49 (0.36s)\tAvg. loss=0.616317\tNNZ=1684\n",
      "[SparseLR] Training done (0.36s)\n",
      "============================================================\n",
      "[20] Testing lr = 1.00e-02, l1_penalty = 1.00e-02, l2_penalty = 1.00e-02\n",
      "============================================================\n",
      "[SparseLR] lr=0.01 l1=0.01 l2=0.01\n",
      "[SparseLR] Building model\n",
      "[SparseLR] Training model\n",
      "[SparseLR] #examples=34  #epochs=50  batch size=34\n",
      "[SparseLR] Epoch 0 (0.26s)\tAvg. loss=0.685455\tNNZ=1684\n",
      "[SparseLR] Epoch 25 (0.31s)\tAvg. loss=0.441387\tNNZ=1684\n",
      "[SparseLR] Epoch 49 (0.37s)\tAvg. loss=0.428901\tNNZ=1684\n",
      "[SparseLR] Training done (0.37s)\n",
      "[SparseLR] Loaded model <SparseLR_0>\n",
      "========================================\n",
      "Scores (Un-adjusted)\n",
      "========================================\n",
      "Pos. class accuracy: 0.0\n",
      "Neg. class accuracy: 0.0\n",
      "Precision            0.0\n",
      "Recall               0.0\n",
      "F1                   0.0\n",
      "----------------------------------------\n",
      "TP: 0 | FP: 0 | TN: 0 | FN: 0\n",
      "========================================\n",
      "\n"
     ]
    }
   ],
   "source": [
    "sm.discriminative(model='logreg')"
   ]
  }
 ],
 "metadata": {
  "anaconda-cloud": {},
  "kernelspec": {
   "display_name": "Python 2",
   "language": "python",
   "name": "python2"
  },
  "language_info": {
   "codemirror_mode": {
    "name": "ipython",
    "version": 2
   },
   "file_extension": ".py",
   "mimetype": "text/x-python",
   "name": "python",
   "nbconvert_exporter": "python",
   "pygments_lexer": "ipython2",
   "version": "2.7.13"
  }
 },
 "nbformat": 4,
 "nbformat_minor": 1
}
