{
 "cells": [
  {
   "cell_type": "code",
   "execution_count": 1,
   "metadata": {
    "collapsed": false
   },
   "outputs": [],
   "source": [
    "import os\n",
    "\n",
    "os.environ['SNORKELDB'] = 'postgres:///scratch'\n",
    "\n",
    "from snorkel import SnorkelSession\n",
    "session = SnorkelSession()"
   ]
  },
  {
   "cell_type": "code",
   "execution_count": 2,
   "metadata": {
    "collapsed": false,
    "scrolled": false
   },
   "outputs": [],
   "source": [
    "from snorkel.semantic import CDRModel\n",
    "\n",
    "parallelism = 1\n",
    "seed = 0\n",
    "\n",
    "sm = CDRModel(session, parallelism=parallelism, seed=seed)"
   ]
  },
  {
   "cell_type": "code",
   "execution_count": 3,
   "metadata": {
    "collapsed": false
   },
   "outputs": [],
   "source": [
    "from snorkel.models import Document, Sentence, candidate_subclass\n",
    "\n",
    "ChemicalDisease = candidate_subclass('ChemicalDisease', ['chemical', 'disease'])"
   ]
  },
  {
   "cell_type": "code",
   "execution_count": 4,
   "metadata": {
    "collapsed": false,
    "scrolled": true
   },
   "outputs": [],
   "source": [
    "# sm.parse(max_docs=10)"
   ]
  },
  {
   "cell_type": "code",
   "execution_count": 5,
   "metadata": {
    "collapsed": false,
    "scrolled": false
   },
   "outputs": [],
   "source": [
    "# sm.extract(ChemicalDisease)"
   ]
  },
  {
   "cell_type": "code",
   "execution_count": 6,
   "metadata": {
    "collapsed": false,
    "scrolled": false
   },
   "outputs": [],
   "source": [
    "# sm.load_gold(ChemicalDisease)"
   ]
  },
  {
   "cell_type": "code",
   "execution_count": 7,
   "metadata": {
    "collapsed": false,
    "scrolled": true
   },
   "outputs": [],
   "source": [
    "# sm.featurize()"
   ]
  },
  {
   "cell_type": "code",
   "execution_count": 8,
   "metadata": {
    "collapsed": false
   },
   "outputs": [
    {
     "name": "stdout",
     "output_type": "stream",
     "text": [
      "Clearing existing...\n",
      "Running UDF...\n",
      "[========================================] 100%\n",
      "\n",
      "                            j  Coverage  Overlaps  Conflicts\n",
      "LF_c_cause_d                0  0.036364  0.036364   0.018182\n",
      "LF_c_d                      1  0.145455  0.145455   0.036364\n",
      "LF_c_induced_d              2  0.127273  0.127273   0.036364\n",
      "LF_c_treat_d                3  0.000000  0.000000   0.000000\n",
      "LF_c_treat_d_wide           4  0.000000  0.000000   0.000000\n",
      "LF_closer_chem              5  0.090909  0.090909   0.054545\n",
      "LF_closer_dis               6  0.036364  0.036364   0.036364\n",
      "LF_ctd_marker_c_d           7  0.145455  0.145455   0.036364\n",
      "LF_ctd_marker_induce        8  0.127273  0.127273   0.036364\n",
      "LF_ctd_therapy_treat        9  0.000000  0.000000   0.000000\n",
      "LF_ctd_unspecified_treat   10  0.000000  0.000000   0.000000\n",
      "LF_ctd_unspecified_induce  11  0.127273  0.127273   0.036364\n",
      "LF_d_following_c           12  0.000000  0.000000   0.000000\n",
      "LF_d_induced_by_c          13  0.000000  0.000000   0.000000\n",
      "LF_d_induced_by_c_tight    14  0.000000  0.000000   0.000000\n",
      "LF_d_treat_c               15  0.000000  0.000000   0.000000\n",
      "LF_develop_d_following_c   16  0.000000  0.000000   0.000000\n",
      "LF_far_c_d                 17  0.109091  0.109091   0.090909\n",
      "LF_far_d_c                 18  0.036364  0.036364   0.036364\n",
      "LF_improve_before_disease  19  0.000000  0.000000   0.000000\n",
      "LF_in_ctd_therapy          20  0.309091  0.272727   0.218182\n",
      "LF_in_ctd_marker           21  0.709091  0.509091   0.363636\n",
      "LF_in_patient_with         22  0.000000  0.000000   0.000000\n",
      "LF_induce                  23  0.000000  0.000000   0.000000\n",
      "LF_induce_name             24  0.200000  0.200000   0.090909\n",
      "LF_induced_other           25  0.000000  0.000000   0.000000\n",
      "LF_level                   26  0.036364  0.036364   0.018182\n",
      "LF_measure                 27  0.000000  0.000000   0.000000\n",
      "LF_neg_d                   28  0.036364  0.000000   0.000000\n",
      "LF_risk_d                  29  0.000000  0.000000   0.000000\n",
      "LF_treat_d                 30  0.054545  0.054545   0.000000\n",
      "LF_uncertain               31  0.000000  0.000000   0.000000\n",
      "LF_weak_assertions         32  0.163636  0.145455   0.127273\n"
     ]
    }
   ],
   "source": [
    "sm.label(lfs='python') #{'python', 'nl'}"
   ]
  },
  {
   "cell_type": "code",
   "execution_count": 9,
   "metadata": {
    "collapsed": true
   },
   "outputs": [],
   "source": [
    "# sm.classify(gen='factor', disc='lstm')"
   ]
  }
 ],
 "metadata": {
  "anaconda-cloud": {},
  "kernelspec": {
   "display_name": "Python 2",
   "language": "python",
   "name": "python2"
  },
  "language_info": {
   "codemirror_mode": {
    "name": "ipython",
    "version": 2
   },
   "file_extension": ".py",
   "mimetype": "text/x-python",
   "name": "python",
   "nbconvert_exporter": "python",
   "pygments_lexer": "ipython2",
   "version": "2.7.13"
  }
 },
 "nbformat": 4,
 "nbformat_minor": 1
}
