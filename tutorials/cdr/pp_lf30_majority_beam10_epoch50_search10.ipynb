{
 "cells": [
  {
   "cell_type": "code",
   "execution_count": 1,
   "metadata": {
    "collapsed": true
   },
   "outputs": [],
   "source": [
    "import sys, os\n",
    "sys.path.append(os.environ['SNORKELHOME'] + '/tutorials/cdr')"
   ]
  },
  {
   "cell_type": "code",
   "execution_count": 2,
   "metadata": {
    "collapsed": false,
    "scrolled": true
   },
   "outputs": [
    {
     "name": "stdout",
     "output_type": "stream",
     "text": [
      "Sqlite database snorkel_good4.db copied\n"
     ]
    }
   ],
   "source": [
    "import os\n",
    "\n",
    "db = 'snorkel_good4.db'\n",
    "\n",
    "if db:\n",
    "    if db.endswith('.db'):\n",
    "        os.system('cp {} snorkel.db'.format(db))\n",
    "        print(\"Sqlite database {} copied\".format(db))\n",
    "    else:\n",
    "        os.environ['SNORKELDB'] = 'postgres://localhost:5432/' + db\n",
    "        print(\"Postgres database {} connected\".format(db))\n",
    "else:\n",
    "    print(\"Using sqlite.db\".format(db))\n",
    "    \n",
    "from snorkel import SnorkelSession\n",
    "session = SnorkelSession()\n",
    "\n",
    "from snorkel.models import snorkel_postgres\n",
    "if not db.endswith('db') and not snorkel_postgres:\n",
    "    raise Exception(\"Connection to PostgreSQL failed\")"
   ]
  },
  {
   "cell_type": "code",
   "execution_count": 3,
   "metadata": {
    "collapsed": false,
    "scrolled": true
   },
   "outputs": [],
   "source": [
    "from snorkel.semantic import configuration\n",
    "\n",
    "config = configuration\n",
    "config['source'] = 'nl'\n",
    "config['parallelism'] = 1\n",
    "config['beam_width'] = 10\n",
    "config['paraphrases'] = True\n",
    "config['count_redundant_signatures'] = True\n",
    "config['count_uniform_labels'] = True\n",
    "config['majority_vote'] = True\n",
    "config['model_dep'] = False\n",
    "config['n_epochs'] = 50\n",
    "config['n_search'] = 10"
   ]
  },
  {
   "cell_type": "code",
   "execution_count": 4,
   "metadata": {
    "collapsed": false,
    "scrolled": true
   },
   "outputs": [],
   "source": [
    "from snorkel.models import candidate_subclass\n",
    "ChemicalDisease = candidate_subclass('ChemicalDisease', ['chemical', 'disease'])"
   ]
  },
  {
   "cell_type": "code",
   "execution_count": 5,
   "metadata": {
    "collapsed": false,
    "scrolled": false
   },
   "outputs": [],
   "source": [
    "from snorkel.semantic import CDRModel\n",
    "sm = CDRModel(session, ChemicalDisease, config)"
   ]
  },
  {
   "cell_type": "code",
   "execution_count": null,
   "metadata": {
    "collapsed": false,
    "scrolled": false
   },
   "outputs": [],
   "source": [
    "%time sm.parse()"
   ]
  },
  {
   "cell_type": "code",
   "execution_count": null,
   "metadata": {
    "collapsed": false,
    "scrolled": true
   },
   "outputs": [],
   "source": [
    "%time sm.extract()"
   ]
  },
  {
   "cell_type": "code",
   "execution_count": null,
   "metadata": {
    "collapsed": false,
    "scrolled": false
   },
   "outputs": [],
   "source": [
    "%time sm.load_gold()"
   ]
  },
  {
   "cell_type": "code",
   "execution_count": null,
   "metadata": {
    "collapsed": false,
    "scrolled": false
   },
   "outputs": [],
   "source": [
    "%time sm.featurize()"
   ]
  },
  {
   "cell_type": "code",
   "execution_count": 6,
   "metadata": {
    "collapsed": false,
    "scrolled": true
   },
   "outputs": [
    {
     "name": "stdout",
     "output_type": "stream",
     "text": [
      "Created grammar with 321 rules\n",
      "Generating LFs with beam_width=10, top_k=-1\n",
      "Keeping 17 correct LFs...\n",
      "Keeping 22 passing LFs...\n",
      "Discarding 18 failing LFs...\n",
      "Discarding 4 redundant LFs...\n",
      "Using 39 LFs\n",
      "CPU times: user 28.5 s, sys: 1.79 s, total: 30.3 s\n",
      "Wall time: 31.1 s\n"
     ]
    }
   ],
   "source": [
    "%time sm.generate_lfs()"
   ]
  },
  {
   "cell_type": "code",
   "execution_count": 7,
   "metadata": {
    "collapsed": false,
    "scrolled": false
   },
   "outputs": [
    {
     "name": "stdout",
     "output_type": "stream",
     "text": [
      "Clearing existing...\n",
      "Running UDF...\n",
      "[========================================] 100%\n",
      "\n",
      "Labeled split 0: (8272,39) sparse (nnz = 41389)\n",
      "============================================================\n",
      "LF Summary Statistics: 39 LFs applied to 8272 candidates\n",
      "------------------------------------------------------------\n",
      "Coverage (candidates w/ > 0 labels):\t\t100.00%\n",
      "Overlap (candidates w/ > 1 labels):\t\t96.55%\n",
      "Conflict (candidates w/ conflicting labels):\t76.43%\n",
      "Redundancy (labels per candidate (avg)):\t5.0\n",
      "============================================================\n",
      "Clearing existing...\n",
      "Running UDF...\n",
      "[========================================] 100%\n",
      "\n",
      "Labeled split 1: (888,39) sparse (nnz = 4287)\n",
      "============================================================\n",
      "LF Summary Statistics: 39 LFs applied to 888 candidates\n",
      "------------------------------------------------------------\n",
      "Coverage (candidates w/ > 0 labels):\t\t100.00%\n",
      "Overlap (candidates w/ > 1 labels):\t\t93.36%\n",
      "Conflict (candidates w/ conflicting labels):\t72.64%\n",
      "Redundancy (labels per candidate (avg)):\t4.8\n",
      "============================================================\n",
      "Counted 2 LFs with redundant signatures\n",
      "Counted 0 LFs with uniform labels\n",
      "CPU times: user 22min 5s, sys: 27.7 s, total: 22min 33s\n",
      "Wall time: 22min 25s\n"
     ]
    }
   ],
   "source": [
    "%time sm.label()"
   ]
  },
  {
   "cell_type": "code",
   "execution_count": 8,
   "metadata": {
    "collapsed": false,
    "scrolled": false
   },
   "outputs": [
    {
     "name": "stdout",
     "output_type": "stream",
     "text": [
      "Saved 8272 training marginals\n",
      "CPU times: user 7.43 s, sys: 316 ms, total: 7.75 s\n",
      "Wall time: 7.7 s\n"
     ]
    }
   ],
   "source": [
    "%time sm.supervise()"
   ]
  },
  {
   "cell_type": "code",
   "execution_count": 9,
   "metadata": {
    "collapsed": false,
    "scrolled": false
   },
   "outputs": [
    {
     "name": "stdout",
     "output_type": "stream",
     "text": [
      "Initialized RandomSearch search of size 10. Search space size = 100.\n",
      "\n",
      "Random Search:\n",
      "============================================================\n",
      "[0] Testing lr = 1.00e-05, l1_penalty = 1.00e-04, l2_penalty = 1.00e-06\n",
      "============================================================\n",
      "[SparseLR] lr=1e-05 l1=0.0001 l2=1e-06\n",
      "[SparseLR] Building model\n",
      "[SparseLR] Training model\n",
      "[SparseLR] #examples=2826  #epochs=50  batch size=100\n",
      "[SparseLR] Epoch 0 (2.14s)\tAvg. loss=0.690391\tNNZ=122840\n",
      "[SparseLR] Epoch 5 (12.93s)\tAvg. loss=0.683046\tNNZ=122840\n",
      "[SparseLR] Epoch 10 (23.67s)\tAvg. loss=0.675850\tNNZ=122840\n",
      "[SparseLR] Epoch 15 (34.55s)\tAvg. loss=0.668827\tNNZ=122840\n",
      "[SparseLR] Epoch 20 (45.32s)\tAvg. loss=0.661979\tNNZ=122840\n",
      "[SparseLR] Epoch 25 (56.15s)\tAvg. loss=0.655300\tNNZ=122840\n",
      "[SparseLR] Epoch 30 (66.99s)\tAvg. loss=0.648783\tNNZ=122840\n",
      "[SparseLR] Epoch 35 (77.83s)\tAvg. loss=0.642420\tNNZ=122840\n",
      "[SparseLR] Epoch 40 (88.48s)\tAvg. loss=0.636203\tNNZ=122840\n",
      "[SparseLR] Epoch 45 (99.44s)\tAvg. loss=0.630125\tNNZ=122840\n",
      "[SparseLR] Epoch 49 (108.05s)\tAvg. loss=0.625357\tNNZ=122840\n",
      "[SparseLR] Training done (108.05s)\n",
      "P: 0.528, R: 0.253, F1: 0.342\n",
      "[SparseLR] Model saved. To load, use name\n",
      "\t\tSparseLR_0\n",
      "============================================================\n",
      "[1] Testing lr = 1.00e-02, l1_penalty = 1.00e-02, l2_penalty = 1.00e-05\n",
      "============================================================\n",
      "[SparseLR] lr=0.01 l1=0.01 l2=1e-05\n",
      "[SparseLR] Building model\n",
      "[SparseLR] Training model\n",
      "[SparseLR] #examples=2826  #epochs=50  batch size=100\n",
      "[SparseLR] Epoch 0 (2.27s)\tAvg. loss=0.618025\tNNZ=122840\n",
      "[SparseLR] Epoch 5 (13.38s)\tAvg. loss=0.251573\tNNZ=122840\n",
      "[SparseLR] Epoch 10 (24.07s)\tAvg. loss=0.211788\tNNZ=122840\n",
      "[SparseLR] Epoch 15 (34.89s)\tAvg. loss=0.194171\tNNZ=122840\n",
      "[SparseLR] Epoch 20 (45.83s)\tAvg. loss=0.183673\tNNZ=122840\n",
      "[SparseLR] Epoch 25 (56.61s)\tAvg. loss=0.176982\tNNZ=122840\n",
      "[SparseLR] Epoch 30 (67.63s)\tAvg. loss=0.169551\tNNZ=122840\n",
      "[SparseLR] Epoch 35 (78.76s)\tAvg. loss=0.164907\tNNZ=122840\n",
      "[SparseLR] Epoch 40 (89.47s)\tAvg. loss=0.163282\tNNZ=122840\n",
      "[SparseLR] Epoch 45 (100.88s)\tAvg. loss=0.158729\tNNZ=122840\n",
      "[SparseLR] Epoch 49 (109.52s)\tAvg. loss=0.157788\tNNZ=122840\n",
      "[SparseLR] Training done (109.52s)\n",
      "P: 0.607, R: 0.307, F1: 0.408\n",
      "[SparseLR] Model saved. To load, use name\n",
      "\t\tSparseLR_1\n",
      "============================================================\n",
      "[2] Testing lr = 1.00e-04, l1_penalty = 1.00e-06, l2_penalty = 1.00e-02\n",
      "============================================================\n",
      "[SparseLR] lr=0.0001 l1=1e-06 l2=0.01\n",
      "[SparseLR] Building model\n",
      "[SparseLR] Training model\n",
      "[SparseLR] #examples=2826  #epochs=50  batch size=100\n",
      "[SparseLR] Epoch 0 (2.35s)\tAvg. loss=0.686052\tNNZ=122840\n",
      "[SparseLR] Epoch 5 (13.07s)\tAvg. loss=0.621313\tNNZ=122840\n",
      "[SparseLR] Epoch 10 (24.23s)\tAvg. loss=0.569756\tNNZ=122840\n",
      "[SparseLR] Epoch 15 (35.01s)\tAvg. loss=0.527045\tNNZ=122840\n",
      "[SparseLR] Epoch 20 (46.01s)\tAvg. loss=0.490679\tNNZ=122840\n",
      "[SparseLR] Epoch 25 (56.66s)\tAvg. loss=0.459110\tNNZ=122840\n",
      "[SparseLR] Epoch 30 (67.49s)\tAvg. loss=0.431322\tNNZ=122840\n",
      "[SparseLR] Epoch 35 (78.82s)\tAvg. loss=0.406603\tNNZ=122840\n",
      "[SparseLR] Epoch 40 (89.56s)\tAvg. loss=0.384431\tNNZ=122840\n",
      "[SparseLR] Epoch 45 (100.30s)\tAvg. loss=0.364408\tNNZ=122840\n",
      "[SparseLR] Epoch 49 (109.06s)\tAvg. loss=0.349725\tNNZ=122840\n",
      "[SparseLR] Training done (109.06s)\n",
      "P: 0.567, R: 0.358, F1: 0.439\n",
      "[SparseLR] Model saved. To load, use name\n",
      "\t\tSparseLR_2\n",
      "============================================================\n",
      "[3] Testing lr = 1.00e-05, l1_penalty = 1.00e-06, l2_penalty = 1.00e-03\n",
      "============================================================\n",
      "[SparseLR] lr=1e-05 l1=1e-06 l2=0.001\n",
      "[SparseLR] Building model\n",
      "[SparseLR] Training model\n",
      "[SparseLR] #examples=2826  #epochs=50  batch size=100\n",
      "[SparseLR] Epoch 0 (2.26s)\tAvg. loss=0.689881\tNNZ=122840\n",
      "[SparseLR] Epoch 5 (13.11s)\tAvg. loss=0.682718\tNNZ=122840\n",
      "[SparseLR] Epoch 10 (23.91s)\tAvg. loss=0.675701\tNNZ=122840\n",
      "[SparseLR] Epoch 15 (35.00s)\tAvg. loss=0.668840\tNNZ=122840\n",
      "[SparseLR] Epoch 20 (45.86s)\tAvg. loss=0.662137\tNNZ=122840\n",
      "[SparseLR] Epoch 25 (57.10s)\tAvg. loss=0.655586\tNNZ=122840\n",
      "[SparseLR] Epoch 30 (68.11s)\tAvg. loss=0.649182\tNNZ=122840\n",
      "[SparseLR] Epoch 35 (79.13s)\tAvg. loss=0.642918\tNNZ=122840\n",
      "[SparseLR] Epoch 40 (90.21s)\tAvg. loss=0.636788\tNNZ=122840\n",
      "[SparseLR] Epoch 45 (101.15s)\tAvg. loss=0.630785\tNNZ=122840\n",
      "[SparseLR] Epoch 49 (110.27s)\tAvg. loss=0.626071\tNNZ=122840\n",
      "[SparseLR] Training done (110.27s)\n",
      "P: 0.540, R: 0.250, F1: 0.342\n",
      "============================================================\n",
      "[4] Testing lr = 1.00e-02, l1_penalty = 1.00e-02, l2_penalty = 1.00e-06\n",
      "============================================================\n",
      "[SparseLR] lr=0.01 l1=0.01 l2=1e-06\n",
      "[SparseLR] Building model\n",
      "[SparseLR] Training model\n",
      "[SparseLR] #examples=2826  #epochs=50  batch size=100\n",
      "[SparseLR] Epoch 0 (2.28s)\tAvg. loss=0.608636\tNNZ=122840\n",
      "[SparseLR] Epoch 5 (12.78s)\tAvg. loss=0.241855\tNNZ=122840\n",
      "[SparseLR] Epoch 10 (23.51s)\tAvg. loss=0.202875\tNNZ=122840\n",
      "[SparseLR] Epoch 15 (34.44s)\tAvg. loss=0.185812\tNNZ=122840\n",
      "[SparseLR] Epoch 20 (45.94s)\tAvg. loss=0.174775\tNNZ=122840\n",
      "[SparseLR] Epoch 25 (56.85s)\tAvg. loss=0.165535\tNNZ=122840\n",
      "[SparseLR] Epoch 30 (67.82s)\tAvg. loss=0.161011\tNNZ=122840\n",
      "[SparseLR] Epoch 35 (78.53s)\tAvg. loss=0.156966\tNNZ=122840\n",
      "[SparseLR] Epoch 40 (89.40s)\tAvg. loss=0.153568\tNNZ=122840\n",
      "[SparseLR] Epoch 45 (100.94s)\tAvg. loss=0.151816\tNNZ=122840\n",
      "[SparseLR] Epoch 49 (109.55s)\tAvg. loss=0.149233\tNNZ=122840\n",
      "[SparseLR] Training done (109.55s)\n",
      "P: 0.578, R: 0.301, F1: 0.396\n",
      "============================================================\n",
      "[5] Testing lr = 1.00e-02, l1_penalty = 1.00e-04, l2_penalty = 1.00e-03\n",
      "============================================================\n",
      "[SparseLR] lr=0.01 l1=0.0001 l2=0.001\n",
      "[SparseLR] Building model\n",
      "[SparseLR] Training model\n",
      "[SparseLR] #examples=2826  #epochs=50  batch size=100\n",
      "[SparseLR] Epoch 0 (2.29s)\tAvg. loss=0.502411\tNNZ=122840\n",
      "[SparseLR] Epoch 5 (12.81s)\tAvg. loss=0.058828\tNNZ=122840\n",
      "[SparseLR] Epoch 10 (24.04s)\tAvg. loss=0.033584\tNNZ=122840\n",
      "[SparseLR] Epoch 15 (35.36s)\tAvg. loss=0.025701\tNNZ=122840\n",
      "[SparseLR] Epoch 20 (46.02s)\tAvg. loss=0.022169\tNNZ=122840\n",
      "[SparseLR] Epoch 25 (56.75s)\tAvg. loss=0.020198\tNNZ=122840\n",
      "[SparseLR] Epoch 30 (67.51s)\tAvg. loss=0.018918\tNNZ=122840\n",
      "[SparseLR] Epoch 35 (78.33s)\tAvg. loss=0.017994\tNNZ=122840\n",
      "[SparseLR] Epoch 40 (89.30s)\tAvg. loss=0.017269\tNNZ=122840\n",
      "[SparseLR] Epoch 45 (100.49s)\tAvg. loss=0.016673\tNNZ=122840\n",
      "[SparseLR] Epoch 49 (108.97s)\tAvg. loss=0.016262\tNNZ=122840\n",
      "[SparseLR] Training done (108.97s)\n",
      "P: 0.573, R: 0.318, F1: 0.409\n",
      "============================================================\n",
      "[6] Testing lr = 1.00e-02, l1_penalty = 1.00e-05, l2_penalty = 1.00e-06\n",
      "============================================================\n",
      "[SparseLR] lr=0.01 l1=1e-05 l2=1e-06\n",
      "[SparseLR] Building model\n",
      "[SparseLR] Training model\n",
      "[SparseLR] #examples=2826  #epochs=50  batch size=100\n",
      "[SparseLR] Epoch 0 (2.18s)\tAvg. loss=0.508230\tNNZ=122840\n",
      "[SparseLR] Epoch 5 (12.79s)\tAvg. loss=0.050412\tNNZ=122840\n",
      "[SparseLR] Epoch 10 (23.61s)\tAvg. loss=0.023257\tNNZ=122840\n",
      "[SparseLR] Epoch 15 (34.34s)\tAvg. loss=0.014021\tNNZ=122840\n",
      "[SparseLR] Epoch 20 (45.89s)\tAvg. loss=0.009688\tNNZ=122840\n",
      "[SparseLR] Epoch 25 (56.82s)\tAvg. loss=0.007211\tNNZ=122840\n",
      "[SparseLR] Epoch 30 (67.70s)\tAvg. loss=0.005682\tNNZ=122840\n",
      "[SparseLR] Epoch 35 (78.33s)\tAvg. loss=0.004672\tNNZ=122840\n",
      "[SparseLR] Epoch 40 (89.20s)\tAvg. loss=0.003972\tNNZ=122840\n",
      "[SparseLR] Epoch 45 (99.97s)\tAvg. loss=0.003460\tNNZ=122840\n",
      "[SparseLR] Epoch 49 (109.08s)\tAvg. loss=0.003141\tNNZ=122840\n",
      "[SparseLR] Training done (109.08s)\n",
      "P: 0.582, R: 0.361, F1: 0.446\n",
      "[SparseLR] Model saved. To load, use name\n",
      "\t\tSparseLR_6\n",
      "============================================================\n",
      "[7] Testing lr = 1.00e-02, l1_penalty = 1.00e-06, l2_penalty = 1.00e-04\n",
      "============================================================\n",
      "[SparseLR] lr=0.01 l1=1e-06 l2=0.0001\n",
      "[SparseLR] Building model\n",
      "[SparseLR] Training model\n",
      "[SparseLR] #examples=2826  #epochs=50  batch size=100\n",
      "[SparseLR] Epoch 0 (2.37s)\tAvg. loss=0.502780\tNNZ=122840\n",
      "[SparseLR] Epoch 5 (13.21s)\tAvg. loss=0.052077\tNNZ=122840\n",
      "[SparseLR] Epoch 10 (23.92s)\tAvg. loss=0.024087\tNNZ=122840\n",
      "[SparseLR] Epoch 15 (34.62s)\tAvg. loss=0.014789\tNNZ=122840\n",
      "[SparseLR] Epoch 20 (46.14s)\tAvg. loss=0.010502\tNNZ=122840\n",
      "[SparseLR] Epoch 25 (56.52s)\tAvg. loss=0.008154\tNNZ=122840\n",
      "[SparseLR] Epoch 30 (67.11s)\tAvg. loss=0.006724\tNNZ=122840\n",
      "[SparseLR] Epoch 35 (77.82s)\tAvg. loss=0.005788\tNNZ=122840\n",
      "[SparseLR] Epoch 40 (88.63s)\tAvg. loss=0.005142\tNNZ=122840\n",
      "[SparseLR] Epoch 45 (99.57s)\tAvg. loss=0.004679\tNNZ=122840\n",
      "[SparseLR] Epoch 49 (108.27s)\tAvg. loss=0.004396\tNNZ=122840\n",
      "[SparseLR] Training done (108.27s)\n",
      "P: 0.545, R: 0.324, F1: 0.407\n",
      "============================================================\n",
      "[8] Testing lr = 1.00e-04, l1_penalty = 1.00e-05, l2_penalty = 1.00e-03\n",
      "============================================================\n",
      "[SparseLR] lr=0.0001 l1=1e-05 l2=0.001\n",
      "[SparseLR] Building model\n",
      "[SparseLR] Training model\n",
      "[SparseLR] #examples=2826  #epochs=50  batch size=100\n",
      "[SparseLR] Epoch 0 (2.33s)\tAvg. loss=0.685933\tNNZ=122840\n",
      "[SparseLR] Epoch 5 (13.01s)\tAvg. loss=0.621755\tNNZ=122840\n",
      "[SparseLR] Epoch 10 (23.81s)\tAvg. loss=0.570227\tNNZ=122840\n",
      "[SparseLR] Epoch 15 (34.58s)\tAvg. loss=0.527450\tNNZ=122840\n",
      "[SparseLR] Epoch 20 (45.45s)\tAvg. loss=0.490955\tNNZ=122840\n",
      "[SparseLR] Epoch 25 (56.20s)\tAvg. loss=0.459208\tNNZ=122840\n",
      "[SparseLR] Epoch 30 (67.22s)\tAvg. loss=0.431199\tNNZ=122840\n",
      "[SparseLR] Epoch 35 (78.51s)\tAvg. loss=0.406225\tNNZ=122840\n",
      "[SparseLR] Epoch 40 (89.37s)\tAvg. loss=0.383773\tNNZ=122840\n",
      "[SparseLR] Epoch 45 (100.16s)\tAvg. loss=0.363449\tNNZ=122840\n",
      "[SparseLR] Epoch 49 (108.74s)\tAvg. loss=0.348513\tNNZ=122840\n",
      "[SparseLR] Training done (108.74s)\n",
      "P: 0.568, R: 0.351, F1: 0.434\n",
      "============================================================\n",
      "[9] Testing lr = 1.00e-02, l1_penalty = 1.00e-05, l2_penalty = 1.00e-06\n",
      "============================================================\n",
      "[SparseLR] lr=0.01 l1=1e-05 l2=1e-06\n",
      "[SparseLR] Building model\n",
      "[SparseLR] Training model\n",
      "[SparseLR] #examples=2826  #epochs=50  batch size=100\n",
      "[SparseLR] Epoch 0 (2.31s)\tAvg. loss=0.514172\tNNZ=122840\n",
      "[SparseLR] Epoch 5 (13.08s)\tAvg. loss=0.048512\tNNZ=122840\n",
      "[SparseLR] Epoch 10 (24.40s)\tAvg. loss=0.022449\tNNZ=122840\n",
      "[SparseLR] Epoch 15 (35.18s)\tAvg. loss=0.013894\tNNZ=122840\n",
      "[SparseLR] Epoch 20 (46.20s)\tAvg. loss=0.009908\tNNZ=122840\n",
      "[SparseLR] Epoch 25 (57.08s)\tAvg. loss=0.007678\tNNZ=122840\n",
      "[SparseLR] Epoch 30 (67.61s)\tAvg. loss=0.006284\tNNZ=122840\n",
      "[SparseLR] Epoch 35 (78.05s)\tAvg. loss=0.005344\tNNZ=122840\n",
      "[SparseLR] Epoch 40 (88.74s)\tAvg. loss=0.004674\tNNZ=122840\n",
      "[SparseLR] Epoch 45 (98.46s)\tAvg. loss=0.004178\tNNZ=122840\n",
      "[SparseLR] Epoch 49 (106.37s)\tAvg. loss=0.003866\tNNZ=122840\n",
      "[SparseLR] Training done (106.37s)\n",
      "P: 0.576, R: 0.345, F1: 0.431\n",
      "[SparseLR] Loaded model <SparseLR_6>\n",
      "        lr  l1_penalty  l2_penalty     Prec.      Rec.        F1\n",
      "6  0.01000    0.000010    0.000001  0.581522  0.361486  0.445833\n",
      "2  0.00010    0.000001    0.010000  0.566845  0.358108  0.438923\n",
      "8  0.00010    0.000010    0.001000  0.568306  0.351351  0.434238\n",
      "9  0.01000    0.000010    0.000001  0.576271  0.344595  0.431290\n",
      "5  0.01000    0.000100    0.001000  0.573171  0.317568  0.408696\n",
      "1  0.01000    0.010000    0.000010  0.606667  0.307432  0.408072\n",
      "7  0.01000    0.000001    0.000100  0.545455  0.324324  0.406780\n",
      "4  0.01000    0.010000    0.000001  0.577922  0.300676  0.395556\n",
      "0  0.00001    0.000100    0.000001  0.528169  0.253378  0.342466\n",
      "3  0.00001    0.000001    0.001000  0.540146  0.250000  0.341801\n",
      "\n",
      "Dev:\n",
      "========================================\n",
      "Scores (Un-adjusted)\n",
      "========================================\n",
      "Pos. class accuracy: 0.361\n",
      "Neg. class accuracy: 0.87\n",
      "Precision            0.582\n",
      "Recall               0.361\n",
      "F1                   0.446\n",
      "----------------------------------------\n",
      "TP: 107 | FP: 77 | TN: 515 | FN: 189\n",
      "========================================\n",
      "\n",
      "\n",
      "Calibration plot:\n"
     ]
    },
    {
     "name": "stderr",
     "output_type": "stream",
     "text": [
      "/lfs/raiders7/ssd/bradenjh/anaconda2/envs/snorkenv/lib/python2.7/site-packages/numpy/core/fromnumeric.py:2889: RuntimeWarning: Mean of empty slice.\n",
      "  out=out, **kwargs)\n",
      "/lfs/raiders7/ssd/bradenjh/anaconda2/envs/snorkenv/lib/python2.7/site-packages/numpy/core/_methods.py:80: RuntimeWarning: invalid value encountered in double_scalars\n",
      "  ret = ret.dtype.type(ret / rcount)\n"
     ]
    },
    {
     "data": {
      "image/png": "[encoded data removed]",
      "text/plain": [
       "<matplotlib.figure.Figure at 0x7f7f24e49810>"
      ]
     },
     "metadata": {},
     "output_type": "display_data"
    },
    {
     "name": "stdout",
     "output_type": "stream",
     "text": [
      "CPU times: user 27min 27s, sys: 42min 42s, total: 1h 10min 9s\n",
      "Wall time: 18min 40s\n"
     ]
    }
   ],
   "source": [
    "%time sm.classify()"
   ]
  },
  {
   "cell_type": "code",
   "execution_count": null,
   "metadata": {
    "collapsed": true
   },
   "outputs": [],
   "source": []
  }
 ],
 "metadata": {
  "anaconda-cloud": {},
  "kernelspec": {
   "display_name": "Python 2",
   "language": "python",
   "name": "python2"
  },
  "language_info": {
   "codemirror_mode": {
    "name": "ipython",
    "version": 2
   },
   "file_extension": ".py",
   "mimetype": "text/x-python",
   "name": "python",
   "nbconvert_exporter": "python",
   "pygments_lexer": "ipython2",
   "version": "2.7.13"
  }
 },
 "nbformat": 4,
 "nbformat_minor": 1
}
