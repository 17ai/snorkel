{
 "cells": [
  {
   "cell_type": "markdown",
   "metadata": {},
   "source": [
    "# Chemical-Disease Relation (CDR) Tutorial\n",
    "\n",
    "In this example, we'll be writing an application to extract *mentions of* **chemical-induced-disease relationships** from Pubmed abstracts, as per the [BioCreative CDR Challenge](http://www.biocreative.org/resources/corpora/biocreative-v-cdr-corpus/).  This tutorial will show off some of the more advanced features of Snorkel, so we'll assume you've followed the Intro tutorial."
   ]
  },
  {
   "cell_type": "markdown",
   "metadata": {},
   "source": [
    "Let's start by reloading from the last notebook."
   ]
  },
  {
   "cell_type": "code",
   "execution_count": 1,
   "metadata": {
    "collapsed": false
   },
   "outputs": [],
   "source": [
    "%load_ext autoreload\n",
    "%autoreload 2\n",
    "%matplotlib inline\n",
    "\n",
    "PARALLELISM = 5\n",
    "\n",
    "import os\n",
    "os.environ['SNORKELDB'] = 'postgres:///semparse_cdr'\n",
    "\n",
    "from snorkel import SnorkelSession\n",
    "session = SnorkelSession()"
   ]
  },
  {
   "cell_type": "code",
   "execution_count": 2,
   "metadata": {
    "collapsed": false
   },
   "outputs": [
    {
     "name": "stdout",
     "output_type": "stream",
     "text": [
      "Training set:\t8272 candidates\n",
      "Dev set:\t888 candidates\n",
      "Test set:\t4620 candidates\n"
     ]
    }
   ],
   "source": [
    "from snorkel.models import candidate_subclass\n",
    "\n",
    "ChemicalDisease = candidate_subclass('ChemicalDisease', ['chemical', 'disease'])\n",
    "\n",
    "train = session.query(ChemicalDisease).filter(ChemicalDisease.split == 0).all()\n",
    "dev = session.query(ChemicalDisease).filter(ChemicalDisease.split == 1).all()\n",
    "test = session.query(ChemicalDisease).filter(ChemicalDisease.split == 2).all()\n",
    "\n",
    "print 'Training set:\\t{0} candidates'.format(len(train))\n",
    "print 'Dev set:\\t{0} candidates'.format(len(dev))\n",
    "print 'Test set:\\t{0} candidates'.format(len(test))    "
   ]
  },
  {
   "cell_type": "code",
   "execution_count": 3,
   "metadata": {
    "collapsed": true
   },
   "outputs": [],
   "source": [
    "from snorkel.annotations import load_marginals\n",
    "train_marginals = load_marginals(session, split=0)"
   ]
  },
  {
   "cell_type": "markdown",
   "metadata": {},
   "source": [
    "# (NEW) Featurize"
   ]
  },
  {
   "cell_type": "code",
   "execution_count": 6,
   "metadata": {
    "collapsed": true
   },
   "outputs": [],
   "source": [
    "from snorkel.annotations import FeatureAnnotator\n",
    "featurizer = FeatureAnnotator()"
   ]
  },
  {
   "cell_type": "code",
   "execution_count": null,
   "metadata": {
    "collapsed": false
   },
   "outputs": [],
   "source": [
    "# %time F_train = featurizer.apply(split=0, parallelism=PARALLELISM)\n",
    "# F_train"
   ]
  },
  {
   "cell_type": "code",
   "execution_count": null,
   "metadata": {
    "collapsed": false
   },
   "outputs": [],
   "source": [
    "# %time F_dev  = featurizer.apply_existing(split=1, parallelism=PARALLELISM)\n",
    "# F_dev"
   ]
  },
  {
   "cell_type": "code",
   "execution_count": null,
   "metadata": {
    "collapsed": false
   },
   "outputs": [],
   "source": [
    "# %time F_test = featurizer.apply_existing(split=2, parallelism=PARALLELISM)\n",
    "# F_test"
   ]
  },
  {
   "cell_type": "code",
   "execution_count": 7,
   "metadata": {
    "collapsed": false
   },
   "outputs": [
    {
     "data": {
      "text/plain": [
       "<8272x122840 sparse matrix of type '<type 'numpy.float64'>'\n",
       "\twith 448906 stored elements in Compressed Sparse Row format>"
      ]
     },
     "execution_count": 7,
     "metadata": {},
     "output_type": "execute_result"
    }
   ],
   "source": [
    "F_train = featurizer.load_matrix(session, split=0)\n",
    "F_train"
   ]
  },
  {
   "cell_type": "code",
   "execution_count": 8,
   "metadata": {
    "collapsed": false
   },
   "outputs": [
    {
     "data": {
      "text/plain": [
       "<888x122840 sparse matrix of type '<type 'numpy.float64'>'\n",
       "\twith 27734 stored elements in Compressed Sparse Row format>"
      ]
     },
     "execution_count": 8,
     "metadata": {},
     "output_type": "execute_result"
    }
   ],
   "source": [
    "F_dev = featurizer.load_matrix(session, split=1)\n",
    "F_dev"
   ]
  },
  {
   "cell_type": "code",
   "execution_count": 9,
   "metadata": {
    "collapsed": false
   },
   "outputs": [
    {
     "data": {
      "text/plain": [
       "<4620x122840 sparse matrix of type '<type 'numpy.float64'>'\n",
       "\twith 138487 stored elements in Compressed Sparse Row format>"
      ]
     },
     "execution_count": 9,
     "metadata": {},
     "output_type": "execute_result"
    }
   ],
   "source": [
    "F_test = featurizer.load_matrix(session, split=2)\n",
    "F_test"
   ]
  },
  {
   "cell_type": "markdown",
   "metadata": {},
   "source": [
    "# Training Logistic Regression"
   ]
  },
  {
   "cell_type": "code",
   "execution_count": 10,
   "metadata": {
    "collapsed": true
   },
   "outputs": [],
   "source": [
    "from snorkel.annotations import load_gold_labels\n",
    "L_gold_train = load_gold_labels(session, annotator_name='gold', split=0)\n",
    "L_gold_dev = load_gold_labels(session, annotator_name='gold', split=1)\n",
    "L_gold_test = load_gold_labels(session, annotator_name='gold', split=2)"
   ]
  },
  {
   "cell_type": "code",
   "execution_count": 11,
   "metadata": {
    "collapsed": true
   },
   "outputs": [],
   "source": [
    "from snorkel.learning import SparseLogisticRegression\n",
    "disc_model = SparseLogisticRegression()"
   ]
  },
  {
   "cell_type": "code",
   "execution_count": 12,
   "metadata": {
    "collapsed": false
   },
   "outputs": [
    {
     "name": "stdout",
     "output_type": "stream",
     "text": [
      "Initialized RandomSearch search of size 20. Search space size = 125.\n"
     ]
    }
   ],
   "source": [
    "from snorkel.learning.utils import MentionScorer\n",
    "from snorkel.learning import RandomSearch, ListParameter, RangeParameter\n",
    "\n",
    "# Searching over learning rate\n",
    "rate_param = RangeParameter('lr', 1e-6, 1e-2, step=1, log_base=10)\n",
    "l1_param  = RangeParameter('l1_penalty', 1e-6, 1e-2, step=1, log_base=10)\n",
    "l2_param  = RangeParameter('l2_penalty', 1e-6, 1e-2, step=1, log_base=10)\n",
    "\n",
    "searcher = RandomSearch(session, disc_model, F_train, train_marginals, [rate_param, l1_param, l2_param], n=20)"
   ]
  },
  {
   "cell_type": "code",
   "execution_count": 13,
   "metadata": {
    "collapsed": false,
    "scrolled": false
   },
   "outputs": [
    {
     "name": "stdout",
     "output_type": "stream",
     "text": [
      "============================================================\n",
      "[1] Testing lr = 1.00e-02, l1_penalty = 1.00e-03, l2_penalty = 1.00e-06\n",
      "============================================================\n",
      "[SparseLR] lr=0.01 l1=0.001 l2=1e-06\n",
      "[SparseLR] Building model\n",
      "[SparseLR] Training model\n",
      "[SparseLR] #examples=5822  #epochs=50  batch size=100\n",
      "[SparseLR] Epoch 0 (0.55s)\tAvg. loss=0.883060\tNNZ=122809\n",
      "[SparseLR] Epoch 25 (12.48s)\tAvg. loss=-54.486484\tNNZ=122634\n",
      "[SparseLR] Epoch 49 (24.09s)\tAvg. loss=-106.742109\tNNZ=122400\n",
      "[SparseLR] Training done (24.09s)\n",
      "[SparseLR] Model saved. To load, use name\n",
      "\t\tSparseLR_0\n",
      "============================================================\n",
      "[2] Testing lr = 1.00e-03, l1_penalty = 1.00e-03, l2_penalty = 1.00e-04\n",
      "============================================================\n",
      "[SparseLR] lr=0.001 l1=0.001 l2=0.0001\n",
      "[SparseLR] Building model\n",
      "[SparseLR] Training model\n",
      "[SparseLR] #examples=5822  #epochs=50  batch size=100\n",
      "[SparseLR] Epoch 0 (0.55s)\tAvg. loss=0.669916\tNNZ=122834\n",
      "[SparseLR] Epoch 25 (12.58s)\tAvg. loss=-5.457271\tNNZ=122838\n",
      "[SparseLR] Epoch 49 (24.55s)\tAvg. loss=-10.798464\tNNZ=122825\n",
      "[SparseLR] Training done (24.55s)\n",
      "============================================================\n",
      "[3] Testing lr = 1.00e-03, l1_penalty = 1.00e-02, l2_penalty = 1.00e-06\n",
      "============================================================\n",
      "[SparseLR] lr=0.001 l1=0.01 l2=1e-06\n",
      "[SparseLR] Building model\n",
      "[SparseLR] Training model\n",
      "[SparseLR] #examples=5822  #epochs=50  batch size=100\n",
      "[SparseLR] Epoch 0 (0.71s)\tAvg. loss=0.665623\tNNZ=122763\n",
      "[SparseLR] Epoch 25 (12.53s)\tAvg. loss=-5.316998\tNNZ=122797\n",
      "[SparseLR] Epoch 49 (24.40s)\tAvg. loss=-10.505413\tNNZ=122623\n",
      "[SparseLR] Training done (24.40s)\n",
      "[SparseLR] Model saved. To load, use name\n",
      "\t\tSparseLR_2\n",
      "============================================================\n",
      "[4] Testing lr = 1.00e-06, l1_penalty = 1.00e-04, l2_penalty = 1.00e-05\n",
      "============================================================\n",
      "[SparseLR] lr=1e-06 l1=0.0001 l2=1e-05\n",
      "[SparseLR] Building model\n",
      "[SparseLR] Training model\n",
      "[SparseLR] #examples=5822  #epochs=50  batch size=100\n",
      "[SparseLR] Epoch 0 (0.54s)\tAvg. loss=0.696135\tNNZ=122840\n",
      "[SparseLR] Epoch 25 (12.37s)\tAvg. loss=0.682452\tNNZ=122840\n",
      "[SparseLR] Epoch 49 (24.43s)\tAvg. loss=0.670194\tNNZ=122840\n",
      "[SparseLR] Training done (24.43s)\n",
      "[SparseLR] Model saved. To load, use name\n",
      "\t\tSparseLR_3\n",
      "============================================================\n",
      "[5] Testing lr = 1.00e-06, l1_penalty = 1.00e-03, l2_penalty = 1.00e-05\n",
      "============================================================\n",
      "[SparseLR] lr=1e-06 l1=0.001 l2=1e-05\n",
      "[SparseLR] Building model\n",
      "[SparseLR] Training model\n",
      "[SparseLR] #examples=5822  #epochs=50  batch size=100\n",
      "[SparseLR] Epoch 0 (0.78s)\tAvg. loss=0.692208\tNNZ=122840\n",
      "[SparseLR] Epoch 25 (12.44s)\tAvg. loss=0.677444\tNNZ=122840\n",
      "[SparseLR] Epoch 49 (24.52s)\tAvg. loss=0.664363\tNNZ=122840\n",
      "[SparseLR] Training done (24.52s)\n",
      "[SparseLR] Model saved. To load, use name\n",
      "\t\tSparseLR_4\n",
      "============================================================\n",
      "[6] Testing lr = 1.00e-02, l1_penalty = 1.00e-02, l2_penalty = 1.00e-05\n",
      "============================================================\n",
      "[SparseLR] lr=0.01 l1=0.01 l2=1e-05\n",
      "[SparseLR] Building model\n",
      "[SparseLR] Training model\n",
      "[SparseLR] #examples=5822  #epochs=50  batch size=100\n",
      "[SparseLR] Epoch 0 (0.53s)\tAvg. loss=0.819064\tNNZ=122497\n",
      "[SparseLR] Epoch 25 (12.89s)\tAvg. loss=-56.723683\tNNZ=120432\n",
      "[SparseLR] Epoch 49 (24.86s)\tAvg. loss=-111.025468\tNNZ=118272\n",
      "[SparseLR] Training done (24.86s)\n",
      "============================================================\n",
      "[7] Testing lr = 1.00e-06, l1_penalty = 1.00e-05, l2_penalty = 1.00e-04\n",
      "============================================================\n",
      "[SparseLR] lr=1e-06 l1=1e-05 l2=0.0001\n",
      "[SparseLR] Building model\n",
      "[SparseLR] Training model\n",
      "[SparseLR] #examples=5822  #epochs=50  batch size=100\n",
      "[SparseLR] Epoch 0 (0.58s)\tAvg. loss=0.696422\tNNZ=122840\n",
      "[SparseLR] Epoch 25 (13.43s)\tAvg. loss=0.682242\tNNZ=122840\n",
      "[SparseLR] Epoch 49 (25.59s)\tAvg. loss=0.669648\tNNZ=122840\n",
      "[SparseLR] Training done (25.59s)\n",
      "============================================================\n",
      "[8] Testing lr = 1.00e-05, l1_penalty = 1.00e-02, l2_penalty = 1.00e-05\n",
      "============================================================\n",
      "[SparseLR] lr=1e-05 l1=0.01 l2=1e-05\n",
      "[SparseLR] Building model\n",
      "[SparseLR] Training model\n",
      "[SparseLR] #examples=5822  #epochs=50  batch size=100\n",
      "[SparseLR] Epoch 0 (0.56s)\tAvg. loss=0.687935\tNNZ=122840\n",
      "[SparseLR] Epoch 25 (12.90s)\tAvg. loss=0.578087\tNNZ=122839\n",
      "[SparseLR] Epoch 49 (24.48s)\tAvg. loss=0.489748\tNNZ=122838\n",
      "[SparseLR] Training done (24.48s)\n",
      "============================================================\n",
      "[9] Testing lr = 1.00e-05, l1_penalty = 1.00e-03, l2_penalty = 1.00e-04\n",
      "============================================================\n",
      "[SparseLR] lr=1e-05 l1=0.001 l2=0.0001\n",
      "[SparseLR] Building model\n",
      "[SparseLR] Training model\n",
      "[SparseLR] #examples=5822  #epochs=50  batch size=100\n",
      "[SparseLR] Epoch 0 (0.84s)\tAvg. loss=0.694278\tNNZ=122840\n",
      "[SparseLR] Epoch 25 (13.31s)\tAvg. loss=0.582953\tNNZ=122840\n",
      "[SparseLR] Epoch 49 (25.26s)\tAvg. loss=0.495461\tNNZ=122840\n",
      "[SparseLR] Training done (25.26s)\n",
      "============================================================\n",
      "[10] Testing lr = 1.00e-05, l1_penalty = 1.00e-03, l2_penalty = 1.00e-04\n",
      "============================================================\n",
      "[SparseLR] lr=1e-05 l1=0.001 l2=0.0001\n",
      "[SparseLR] Building model\n",
      "[SparseLR] Training model\n",
      "[SparseLR] #examples=5822  #epochs=50  batch size=100\n",
      "[SparseLR] Epoch 0 (0.54s)\tAvg. loss=0.686158\tNNZ=122840\n",
      "[SparseLR] Epoch 25 (12.75s)\tAvg. loss=0.579528\tNNZ=122839\n",
      "[SparseLR] Epoch 49 (24.41s)\tAvg. loss=0.493672\tNNZ=122840\n",
      "[SparseLR] Training done (24.41s)\n",
      "============================================================\n",
      "[11] Testing lr = 1.00e-04, l1_penalty = 1.00e-03, l2_penalty = 1.00e-06\n",
      "============================================================\n",
      "[SparseLR] lr=0.0001 l1=0.001 l2=1e-06\n",
      "[SparseLR] Building model\n",
      "[SparseLR] Training model\n",
      "[SparseLR] #examples=5822  #epochs=50  batch size=100\n",
      "[SparseLR] Epoch 0 (0.65s)\tAvg. loss=0.681491\tNNZ=122840\n",
      "[SparseLR] Epoch 25 (12.93s)\tAvg. loss=-0.140803\tNNZ=122840\n",
      "[SparseLR] Epoch 49 (24.69s)\tAvg. loss=-0.815252\tNNZ=122838\n",
      "[SparseLR] Training done (24.69s)\n",
      "============================================================\n",
      "[12] Testing lr = 1.00e-02, l1_penalty = 1.00e-02, l2_penalty = 1.00e-05\n",
      "============================================================\n",
      "[SparseLR] lr=0.01 l1=0.01 l2=1e-05\n",
      "[SparseLR] Building model\n",
      "[SparseLR] Training model\n",
      "[SparseLR] #examples=5822  #epochs=50  batch size=100\n",
      "[SparseLR] Epoch 0 (0.59s)\tAvg. loss=0.825388\tNNZ=122513\n",
      "[SparseLR] Epoch 25 (12.16s)\tAvg. loss=-54.304159\tNNZ=120466\n",
      "[SparseLR] Epoch 49 (23.94s)\tAvg. loss=-106.331338\tNNZ=118198\n",
      "[SparseLR] Training done (23.94s)\n",
      "============================================================\n",
      "[13] Testing lr = 1.00e-04, l1_penalty = 1.00e-06, l2_penalty = 1.00e-05\n",
      "============================================================\n",
      "[SparseLR] lr=0.0001 l1=1e-06 l2=1e-05\n",
      "[SparseLR] Building model\n",
      "[SparseLR] Training model\n",
      "[SparseLR] #examples=5822  #epochs=50  batch size=100\n",
      "[SparseLR] Epoch 0 (0.57s)\tAvg. loss=0.680908\tNNZ=122840\n",
      "[SparseLR] Epoch 25 (12.68s)\tAvg. loss=-0.127177\tNNZ=122840\n",
      "[SparseLR] Epoch 49 (24.79s)\tAvg. loss=-0.781887\tNNZ=122840\n",
      "[SparseLR] Training done (24.79s)\n",
      "============================================================\n",
      "[14] Testing lr = 1.00e-06, l1_penalty = 1.00e-04, l2_penalty = 1.00e-03\n",
      "============================================================\n",
      "[SparseLR] lr=1e-06 l1=0.0001 l2=0.001\n",
      "[SparseLR] Building model\n",
      "[SparseLR] Training model\n",
      "[SparseLR] #examples=5822  #epochs=50  batch size=100\n",
      "[SparseLR] Epoch 0 (0.63s)\tAvg. loss=0.697720\tNNZ=122840\n",
      "[SparseLR] Epoch 25 (12.76s)\tAvg. loss=0.683488\tNNZ=122840\n",
      "[SparseLR] Epoch 49 (25.02s)\tAvg. loss=0.670734\tNNZ=122840\n",
      "[SparseLR] Training done (25.02s)\n",
      "============================================================\n",
      "[15] Testing lr = 1.00e-04, l1_penalty = 1.00e-04, l2_penalty = 1.00e-06\n",
      "============================================================\n",
      "[SparseLR] lr=0.0001 l1=0.0001 l2=1e-06\n",
      "[SparseLR] Building model\n",
      "[SparseLR] Training model\n",
      "[SparseLR] #examples=5822  #epochs=50  batch size=100\n",
      "[SparseLR] Epoch 0 (0.61s)\tAvg. loss=0.690671\tNNZ=122840\n",
      "[SparseLR] Epoch 25 (12.82s)\tAvg. loss=-0.136865\tNNZ=122840\n",
      "[SparseLR] Epoch 49 (25.05s)\tAvg. loss=-0.804763\tNNZ=122840\n",
      "[SparseLR] Training done (25.05s)\n",
      "[SparseLR] Model saved. To load, use name\n",
      "\t\tSparseLR_14\n",
      "============================================================\n",
      "[16] Testing lr = 1.00e-04, l1_penalty = 1.00e-02, l2_penalty = 1.00e-02\n",
      "============================================================\n",
      "[SparseLR] lr=0.0001 l1=0.01 l2=0.01\n",
      "[SparseLR] Building model\n",
      "[SparseLR] Training model\n",
      "[SparseLR] #examples=5822  #epochs=50  batch size=100\n",
      "[SparseLR] Epoch 0 (0.60s)\tAvg. loss=0.681749\tNNZ=122830\n",
      "[SparseLR] Epoch 25 (12.44s)\tAvg. loss=-0.138177\tNNZ=122834\n",
      "[SparseLR] Epoch 49 (23.34s)\tAvg. loss=-0.800748\tNNZ=122836\n",
      "[SparseLR] Training done (23.34s)\n",
      "============================================================\n",
      "[17] Testing lr = 1.00e-05, l1_penalty = 1.00e-06, l2_penalty = 1.00e-04\n",
      "============================================================\n",
      "[SparseLR] lr=1e-05 l1=1e-06 l2=0.0001\n",
      "[SparseLR] Building model\n",
      "[SparseLR] Training model\n",
      "[SparseLR] #examples=5822  #epochs=50  batch size=100\n",
      "[SparseLR] Epoch 0 (0.60s)\tAvg. loss=0.690948\tNNZ=122840\n",
      "[SparseLR] Epoch 25 (12.76s)\tAvg. loss=0.580110\tNNZ=122840\n",
      "[SparseLR] Epoch 49 (24.63s)\tAvg. loss=0.494767\tNNZ=122840\n",
      "[SparseLR] Training done (24.63s)\n",
      "============================================================\n",
      "[18] Testing lr = 1.00e-06, l1_penalty = 1.00e-05, l2_penalty = 1.00e-02\n",
      "============================================================\n",
      "[SparseLR] lr=1e-06 l1=1e-05 l2=0.01\n",
      "[SparseLR] Building model\n",
      "[SparseLR] Training model\n",
      "[SparseLR] #examples=5822  #epochs=50  batch size=100\n",
      "[SparseLR] Epoch 0 (0.51s)\tAvg. loss=0.692061\tNNZ=122840\n",
      "[SparseLR] Epoch 25 (12.19s)\tAvg. loss=0.678224\tNNZ=122840\n",
      "[SparseLR] Epoch 49 (23.76s)\tAvg. loss=0.665743\tNNZ=122840\n",
      "[SparseLR] Training done (23.76s)\n",
      "[SparseLR] Model saved. To load, use name\n",
      "\t\tSparseLR_17\n",
      "============================================================\n",
      "[19] Testing lr = 1.00e-04, l1_penalty = 1.00e-06, l2_penalty = 1.00e-04\n",
      "============================================================\n",
      "[SparseLR] lr=0.0001 l1=1e-06 l2=0.0001\n",
      "[SparseLR] Building model\n",
      "[SparseLR] Training model\n",
      "[SparseLR] #examples=5822  #epochs=50  batch size=100\n",
      "[SparseLR] Epoch 0 (0.69s)\tAvg. loss=0.686343\tNNZ=122840\n",
      "[SparseLR] Epoch 25 (11.65s)\tAvg. loss=-0.138137\tNNZ=122840\n",
      "[SparseLR] Epoch 49 (22.96s)\tAvg. loss=-0.809350\tNNZ=122840\n",
      "[SparseLR] Training done (22.96s)\n",
      "============================================================\n",
      "[20] Testing lr = 1.00e-04, l1_penalty = 1.00e-02, l2_penalty = 1.00e-02\n",
      "============================================================\n",
      "[SparseLR] lr=0.0001 l1=0.01 l2=0.01\n",
      "[SparseLR] Building model\n",
      "[SparseLR] Training model\n",
      "[SparseLR] #examples=5822  #epochs=50  batch size=100\n",
      "[SparseLR] Epoch 0 (0.55s)\tAvg. loss=0.685776\tNNZ=122833\n",
      "[SparseLR] Epoch 25 (12.43s)\tAvg. loss=-0.153154\tNNZ=122833\n",
      "[SparseLR] Epoch 49 (24.14s)\tAvg. loss=-0.838089\tNNZ=122837\n",
      "[SparseLR] Training done (24.14s)\n",
      "[SparseLR] Loaded model <SparseLR_17>\n"
     ]
    },
    {
     "data": {
      "text/html": [
       "<div>\n",
       "<table border=\"1\" class=\"dataframe\">\n",
       "  <thead>\n",
       "    <tr style=\"text-align: right;\">\n",
       "      <th></th>\n",
       "      <th>lr</th>\n",
       "      <th>l1_penalty</th>\n",
       "      <th>l2_penalty</th>\n",
       "      <th>Prec.</th>\n",
       "      <th>Rec.</th>\n",
       "      <th>F1</th>\n",
       "    </tr>\n",
       "  </thead>\n",
       "  <tbody>\n",
       "    <tr>\n",
       "      <th>17</th>\n",
       "      <td>0.000001</td>\n",
       "      <td>0.000010</td>\n",
       "      <td>0.010000</td>\n",
       "      <td>0.341981</td>\n",
       "      <td>0.979730</td>\n",
       "      <td>0.506993</td>\n",
       "    </tr>\n",
       "    <tr>\n",
       "      <th>14</th>\n",
       "      <td>0.000100</td>\n",
       "      <td>0.000100</td>\n",
       "      <td>0.000001</td>\n",
       "      <td>0.359375</td>\n",
       "      <td>0.854730</td>\n",
       "      <td>0.506000</td>\n",
       "    </tr>\n",
       "    <tr>\n",
       "      <th>4</th>\n",
       "      <td>0.000001</td>\n",
       "      <td>0.001000</td>\n",
       "      <td>0.000010</td>\n",
       "      <td>0.339513</td>\n",
       "      <td>0.989865</td>\n",
       "      <td>0.505608</td>\n",
       "    </tr>\n",
       "    <tr>\n",
       "      <th>19</th>\n",
       "      <td>0.000100</td>\n",
       "      <td>0.010000</td>\n",
       "      <td>0.010000</td>\n",
       "      <td>0.355153</td>\n",
       "      <td>0.861486</td>\n",
       "      <td>0.502959</td>\n",
       "    </tr>\n",
       "    <tr>\n",
       "      <th>7</th>\n",
       "      <td>0.000010</td>\n",
       "      <td>0.010000</td>\n",
       "      <td>0.000010</td>\n",
       "      <td>0.334842</td>\n",
       "      <td>1.000000</td>\n",
       "      <td>0.501695</td>\n",
       "    </tr>\n",
       "    <tr>\n",
       "      <th>16</th>\n",
       "      <td>0.000010</td>\n",
       "      <td>0.000001</td>\n",
       "      <td>0.000100</td>\n",
       "      <td>0.334463</td>\n",
       "      <td>1.000000</td>\n",
       "      <td>0.501270</td>\n",
       "    </tr>\n",
       "    <tr>\n",
       "      <th>8</th>\n",
       "      <td>0.000010</td>\n",
       "      <td>0.001000</td>\n",
       "      <td>0.000100</td>\n",
       "      <td>0.334463</td>\n",
       "      <td>1.000000</td>\n",
       "      <td>0.501270</td>\n",
       "    </tr>\n",
       "    <tr>\n",
       "      <th>12</th>\n",
       "      <td>0.000100</td>\n",
       "      <td>0.000001</td>\n",
       "      <td>0.000010</td>\n",
       "      <td>0.351573</td>\n",
       "      <td>0.868243</td>\n",
       "      <td>0.500487</td>\n",
       "    </tr>\n",
       "    <tr>\n",
       "      <th>9</th>\n",
       "      <td>0.000010</td>\n",
       "      <td>0.001000</td>\n",
       "      <td>0.000100</td>\n",
       "      <td>0.333333</td>\n",
       "      <td>1.000000</td>\n",
       "      <td>0.500000</td>\n",
       "    </tr>\n",
       "    <tr>\n",
       "      <th>10</th>\n",
       "      <td>0.000100</td>\n",
       "      <td>0.001000</td>\n",
       "      <td>0.000001</td>\n",
       "      <td>0.351801</td>\n",
       "      <td>0.858108</td>\n",
       "      <td>0.499018</td>\n",
       "    </tr>\n",
       "    <tr>\n",
       "      <th>18</th>\n",
       "      <td>0.000100</td>\n",
       "      <td>0.000001</td>\n",
       "      <td>0.000100</td>\n",
       "      <td>0.354108</td>\n",
       "      <td>0.844595</td>\n",
       "      <td>0.499002</td>\n",
       "    </tr>\n",
       "    <tr>\n",
       "      <th>15</th>\n",
       "      <td>0.000100</td>\n",
       "      <td>0.010000</td>\n",
       "      <td>0.010000</td>\n",
       "      <td>0.347130</td>\n",
       "      <td>0.878378</td>\n",
       "      <td>0.497608</td>\n",
       "    </tr>\n",
       "    <tr>\n",
       "      <th>13</th>\n",
       "      <td>0.000001</td>\n",
       "      <td>0.000100</td>\n",
       "      <td>0.001000</td>\n",
       "      <td>0.337349</td>\n",
       "      <td>0.945946</td>\n",
       "      <td>0.497336</td>\n",
       "    </tr>\n",
       "    <tr>\n",
       "      <th>3</th>\n",
       "      <td>0.000001</td>\n",
       "      <td>0.000100</td>\n",
       "      <td>0.000010</td>\n",
       "      <td>0.334507</td>\n",
       "      <td>0.962838</td>\n",
       "      <td>0.496516</td>\n",
       "    </tr>\n",
       "    <tr>\n",
       "      <th>6</th>\n",
       "      <td>0.000001</td>\n",
       "      <td>0.000010</td>\n",
       "      <td>0.000100</td>\n",
       "      <td>0.335308</td>\n",
       "      <td>0.956081</td>\n",
       "      <td>0.496491</td>\n",
       "    </tr>\n",
       "    <tr>\n",
       "      <th>2</th>\n",
       "      <td>0.001000</td>\n",
       "      <td>0.010000</td>\n",
       "      <td>0.000001</td>\n",
       "      <td>0.353941</td>\n",
       "      <td>0.773649</td>\n",
       "      <td>0.485684</td>\n",
       "    </tr>\n",
       "    <tr>\n",
       "      <th>0</th>\n",
       "      <td>0.010000</td>\n",
       "      <td>0.001000</td>\n",
       "      <td>0.000001</td>\n",
       "      <td>0.345081</td>\n",
       "      <td>0.793919</td>\n",
       "      <td>0.481064</td>\n",
       "    </tr>\n",
       "    <tr>\n",
       "      <th>5</th>\n",
       "      <td>0.010000</td>\n",
       "      <td>0.010000</td>\n",
       "      <td>0.000010</td>\n",
       "      <td>0.353130</td>\n",
       "      <td>0.743243</td>\n",
       "      <td>0.478781</td>\n",
       "    </tr>\n",
       "    <tr>\n",
       "      <th>1</th>\n",
       "      <td>0.001000</td>\n",
       "      <td>0.001000</td>\n",
       "      <td>0.000100</td>\n",
       "      <td>0.344828</td>\n",
       "      <td>0.777027</td>\n",
       "      <td>0.477674</td>\n",
       "    </tr>\n",
       "    <tr>\n",
       "      <th>11</th>\n",
       "      <td>0.010000</td>\n",
       "      <td>0.010000</td>\n",
       "      <td>0.000010</td>\n",
       "      <td>0.346037</td>\n",
       "      <td>0.766892</td>\n",
       "      <td>0.476891</td>\n",
       "    </tr>\n",
       "  </tbody>\n",
       "</table>\n",
       "</div>"
      ],
      "text/plain": [
       "          lr  l1_penalty  l2_penalty     Prec.      Rec.        F1\n",
       "17  0.000001    0.000010    0.010000  0.341981  0.979730  0.506993\n",
       "14  0.000100    0.000100    0.000001  0.359375  0.854730  0.506000\n",
       "4   0.000001    0.001000    0.000010  0.339513  0.989865  0.505608\n",
       "19  0.000100    0.010000    0.010000  0.355153  0.861486  0.502959\n",
       "7   0.000010    0.010000    0.000010  0.334842  1.000000  0.501695\n",
       "16  0.000010    0.000001    0.000100  0.334463  1.000000  0.501270\n",
       "8   0.000010    0.001000    0.000100  0.334463  1.000000  0.501270\n",
       "12  0.000100    0.000001    0.000010  0.351573  0.868243  0.500487\n",
       "9   0.000010    0.001000    0.000100  0.333333  1.000000  0.500000\n",
       "10  0.000100    0.001000    0.000001  0.351801  0.858108  0.499018\n",
       "18  0.000100    0.000001    0.000100  0.354108  0.844595  0.499002\n",
       "15  0.000100    0.010000    0.010000  0.347130  0.878378  0.497608\n",
       "13  0.000001    0.000100    0.001000  0.337349  0.945946  0.497336\n",
       "3   0.000001    0.000100    0.000010  0.334507  0.962838  0.496516\n",
       "6   0.000001    0.000010    0.000100  0.335308  0.956081  0.496491\n",
       "2   0.001000    0.010000    0.000001  0.353941  0.773649  0.485684\n",
       "0   0.010000    0.001000    0.000001  0.345081  0.793919  0.481064\n",
       "5   0.010000    0.010000    0.000010  0.353130  0.743243  0.478781\n",
       "1   0.001000    0.001000    0.000100  0.344828  0.777027  0.477674\n",
       "11  0.010000    0.010000    0.000010  0.346037  0.766892  0.476891"
      ]
     },
     "execution_count": 13,
     "metadata": {},
     "output_type": "execute_result"
    }
   ],
   "source": [
    "searcher.fit(F_dev, L_gold_dev, n_epochs=50, rebalance=True, print_freq=25)"
   ]
  },
  {
   "cell_type": "code",
   "execution_count": 14,
   "metadata": {
    "collapsed": false
   },
   "outputs": [
    {
     "name": "stdout",
     "output_type": "stream",
     "text": [
      "========================================\n",
      "Scores (Un-adjusted)\n",
      "========================================\n",
      "Pos. class accuracy: 0.98\n",
      "Neg. class accuracy: 0.0574\n",
      "Precision            0.342\n",
      "Recall               0.98\n",
      "F1                   0.507\n",
      "----------------------------------------\n",
      "TP: 290 | FP: 558 | TN: 34 | FN: 6\n",
      "========================================\n",
      "\n"
     ]
    }
   ],
   "source": [
    "TP, FP, TN, FN = disc_model.score(session, F_dev, L_gold_dev)"
   ]
  },
  {
   "cell_type": "code",
   "execution_count": 15,
   "metadata": {
    "collapsed": false
   },
   "outputs": [
    {
     "name": "stdout",
     "output_type": "stream",
     "text": [
      "========================================\n",
      "Scores (Un-adjusted)\n",
      "========================================\n",
      "Pos. class accuracy: 0.969\n",
      "Neg. class accuracy: 0.0347\n",
      "Precision            0.327\n",
      "Recall               0.969\n",
      "F1                   0.488\n",
      "----------------------------------------\n",
      "TP: 1458 | FP: 3007 | TN: 108 | FN: 47\n",
      "========================================\n",
      "\n"
     ]
    }
   ],
   "source": [
    "_, _, _, _ = disc_model.score(session, F_test, L_gold_test)"
   ]
  },
  {
   "cell_type": "markdown",
   "metadata": {},
   "source": [
    "# Part V: Training an LSTM\n",
    "In the intro tutorial, we automatically featurized the candidates and trained a linear model over these features. Here, we'll train a more complicated model for relation extraction: an LSTM network. You can read more about LSTMs [here](https://en.wikipedia.org/wiki/Long_short-term_memory) or [here](http://colah.github.io/posts/2015-08-Understanding-LSTMs/). An LSTM is a type of recurrent neural network and automatically generates a numerical representation for the candidate based on the sentence text, so no need for featurizing explicitly as in the intro tutorial. LSTMs take longer to train, and Snorkel doesn't currently support hyperparameter searches for them. We'll train a single model here, but feel free to try out other parameter sets. Just make sure to use the development set - and not the test set - for model selection."
   ]
  },
  {
   "cell_type": "code",
   "execution_count": null,
   "metadata": {
    "collapsed": false
   },
   "outputs": [],
   "source": [
    "from snorkel.contrib.learning import reLSTM\n",
    "\n",
    "lstm = reLSTM()\n",
    "%time lstm.train(\n",
    "    train, train_marginals, lr=0.005, dim=200, n_epochs=30,\n",
    "    dropout_rate=0.5, rebalance=0.25, print_freq=5\n",
    ")"
   ]
  },
  {
   "cell_type": "markdown",
   "metadata": {},
   "source": [
    "### Scoring on the test set\n",
    "\n",
    "Finally, we'll evaluate our performance on the blind test set of 500 documents. We'll load labels similar to how we did for the development set, and use the `score` function of our extraction model to see how we did."
   ]
  },
  {
   "cell_type": "code",
   "execution_count": null,
   "metadata": {
    "collapsed": false
   },
   "outputs": [],
   "source": [
    "from load_external_annotations import load_external_labels\n",
    "load_external_labels(session, ChemicalDisease, split=2, annotator='gold')"
   ]
  },
  {
   "cell_type": "code",
   "execution_count": null,
   "metadata": {
    "collapsed": false
   },
   "outputs": [],
   "source": [
    "from snorkel.annotations import load_gold_labels\n",
    "L_gold_test = load_gold_labels(session, annotator_name='gold', split=2)\n",
    "L_gold_test"
   ]
  },
  {
   "cell_type": "code",
   "execution_count": null,
   "metadata": {
    "collapsed": false
   },
   "outputs": [],
   "source": [
    "%time _, _, _, _ = lstm.score(session, test, L_gold_test)"
   ]
  },
  {
   "cell_type": "code",
   "execution_count": null,
   "metadata": {
    "collapsed": true
   },
   "outputs": [],
   "source": []
  }
 ],
 "metadata": {
  "anaconda-cloud": {},
  "kernelspec": {
   "display_name": "Python [default]",
   "language": "python",
   "name": "python2"
  },
  "language_info": {
   "codemirror_mode": {
    "name": "ipython",
    "version": 2
   },
   "file_extension": ".py",
   "mimetype": "text/x-python",
   "name": "python",
   "nbconvert_exporter": "python",
   "pygments_lexer": "ipython2",
   "version": "2.7.13"
  }
 },
 "nbformat": 4,
 "nbformat_minor": 0
}
