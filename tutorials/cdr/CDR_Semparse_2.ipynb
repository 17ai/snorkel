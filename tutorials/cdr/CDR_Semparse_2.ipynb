{
 "cells": [
  {
   "cell_type": "markdown",
   "metadata": {},
   "source": [
    "# Chemical-Disease Relation (CDR) Tutorial\n",
    "\n",
    "In this example, we'll be writing an application to extract *mentions of* **chemical-induced-disease relationships** from Pubmed abstracts, as per the [BioCreative CDR Challenge](http://www.biocreative.org/resources/corpora/biocreative-v-cdr-corpus/).  This tutorial will show off some of the more advanced features of Snorkel, so we'll assume you've followed the Intro tutorial."
   ]
  },
  {
   "cell_type": "markdown",
   "metadata": {},
   "source": [
    "Let's start by reloading from the last notebook."
   ]
  },
  {
   "cell_type": "code",
   "execution_count": 1,
   "metadata": {
    "collapsed": false
   },
   "outputs": [],
   "source": [
    "%load_ext autoreload\n",
    "%autoreload 2\n",
    "%matplotlib inline\n",
    "\n",
    "import os\n",
    "os.environ['SNORKELDB'] = 'postgres:///semparse_cdr'\n",
    "\n",
    "from snorkel import SnorkelSession\n",
    "session = SnorkelSession()"
   ]
  },
  {
   "cell_type": "code",
   "execution_count": 2,
   "metadata": {
    "collapsed": true
   },
   "outputs": [],
   "source": [
    "from snorkel.models import candidate_subclass\n",
    "\n",
    "ChemicalDisease = candidate_subclass('ChemicalDisease', ['chemical', 'disease'])\n",
    "\n",
    "train_cands = session.query(ChemicalDisease).filter(ChemicalDisease.split == 0).all()\n",
    "dev_cands = session.query(ChemicalDisease).filter(ChemicalDisease.split == 1).all()"
   ]
  },
  {
   "cell_type": "markdown",
   "metadata": {},
   "source": [
    "# Part III: Writing LFs\n",
    "\n",
    "This tutorial features some more advanced LFs than the intro tutorial, with more focus on distant supervision and dependencies between LFs."
   ]
  },
  {
   "cell_type": "markdown",
   "metadata": {},
   "source": [
    "### Distant supervision approaches"
   ]
  },
  {
   "cell_type": "markdown",
   "metadata": {},
   "source": [
    "We'll use the [Comparative Toxicogenomics Database](http://ctdbase.org/) (CTD) for distant supervision. The CTD lists chemical-condition entity pairs under three categories: therapy, marker, and unspecified. Therapy means the chemical treats the condition, marker means the chemical is typically present with the condition, and unspecified is...unspecified. We can write LFs based on these categories."
   ]
  },
  {
   "cell_type": "code",
   "execution_count": 3,
   "metadata": {
    "collapsed": true
   },
   "outputs": [],
   "source": [
    "import bz2\n",
    "import cPickle\n",
    "\n",
    "with bz2.BZ2File('data/ctd.pkl.bz2', 'rb') as ctd_f:\n",
    "    ctd_unspecified, ctd_therapy, ctd_marker = cPickle.load(ctd_f)"
   ]
  },
  {
   "cell_type": "code",
   "execution_count": 4,
   "metadata": {
    "collapsed": false
   },
   "outputs": [],
   "source": [
    "def cand_in_ctd_unspecified(c):\n",
    "    return 1 if c.get_cids() in ctd_unspecified else 0\n",
    "\n",
    "def cand_in_ctd_therapy(c):\n",
    "    return 1 if c.get_cids() in ctd_therapy else 0\n",
    "\n",
    "def cand_in_ctd_marker(c):\n",
    "    return 1 if c.get_cids() in ctd_marker else 0"
   ]
  },
  {
   "cell_type": "code",
   "execution_count": 5,
   "metadata": {
    "collapsed": true
   },
   "outputs": [],
   "source": [
    "def LF_in_ctd_unspecified(c):\n",
    "    return -1 * cand_in_ctd_unspecified(c)\n",
    "\n",
    "def LF_in_ctd_therapy(c):\n",
    "    return -1 * cand_in_ctd_therapy(c)\n",
    "\n",
    "def LF_in_ctd_marker(c):\n",
    "    return cand_in_ctd_marker(c)"
   ]
  },
  {
   "cell_type": "markdown",
   "metadata": {},
   "source": [
    "### Text pattern approaches\n",
    "\n",
    "Now we'll use some LF helpers to create LFs based on indicative text patterns. We came up with these rules by using the viewer to examine training candidates and noting frequent patterns."
   ]
  },
  {
   "cell_type": "code",
   "execution_count": 6,
   "metadata": {
    "collapsed": false
   },
   "outputs": [],
   "source": [
    "import re\n",
    "from snorkel.lf_helpers import (\n",
    "    get_tagged_text,\n",
    "    rule_regex_search_tagged_text,\n",
    "    rule_regex_search_btw_AB,\n",
    "    rule_regex_search_btw_BA,\n",
    "    rule_regex_search_before_A,\n",
    "    rule_regex_search_before_B,\n",
    ")\n",
    "\n",
    "# List to parenthetical\n",
    "def ltp(x):\n",
    "    return '(' + '|'.join(x) + ')'\n",
    "\n",
    "def LF_induce(c):\n",
    "    return 1 if re.search(r'{{A}}.{0,20}induc.{0,20}{{B}}', get_tagged_text(c), flags=re.I) else 0\n",
    "\n",
    "causal_past = ['induced', 'caused', 'due']\n",
    "def LF_d_induced_by_c(c):\n",
    "    return rule_regex_search_btw_BA(c, '.{0,50}' + ltp(causal_past) + '.{0,9}(by|to).{0,50}', 1)\n",
    "def LF_d_induced_by_c_tight(c):\n",
    "    return rule_regex_search_btw_BA(c, '.{0,50}' + ltp(causal_past) + ' (by|to) ', 1)\n",
    "\n",
    "def LF_induce_name(c):\n",
    "    return 1 if 'induc' in c.chemical.get_span().lower() else 0     \n",
    "\n",
    "causal = ['cause[sd]?', 'induce[sd]?', 'associated with']\n",
    "def LF_c_cause_d(c):\n",
    "    return 1 if (\n",
    "        re.search(r'{{A}}.{0,50} ' + ltp(causal) + '.{0,50}{{B}}', get_tagged_text(c), re.I)\n",
    "        and not re.search('{{A}}.{0,50}(not|no).{0,20}' + ltp(causal) + '.{0,50}{{B}}', get_tagged_text(c), re.I)\n",
    "    ) else 0\n",
    "\n",
    "treat = ['treat', 'effective', 'prevent', 'resistant', 'slow', 'promise', 'therap']\n",
    "def LF_d_treat_c(c):\n",
    "    return rule_regex_search_btw_BA(c, '.{0,50}' + ltp(treat) + '.{0,50}', -1)\n",
    "def LF_c_treat_d(c):\n",
    "    return rule_regex_search_btw_AB(c, '.{0,50}' + ltp(treat) + '.{0,50}', -1)\n",
    "def LF_treat_d(c):\n",
    "    return rule_regex_search_before_B(c, ltp(treat) + '.{0,50}', -1)\n",
    "def LF_c_treat_d_wide(c):\n",
    "    return rule_regex_search_btw_AB(c, '.{0,200}' + ltp(treat) + '.{0,200}', -1)\n",
    "\n",
    "def LF_c_d(c):\n",
    "    return 1 if ('{{A}} {{B}}' in get_tagged_text(c)) else 0\n",
    "\n",
    "def LF_c_induced_d(c):\n",
    "    return 1 if (\n",
    "        ('{{A}} {{B}}' in get_tagged_text(c)) and \n",
    "        (('-induc' in c[0].get_span().lower()) or ('-assoc' in c[0].get_span().lower()))\n",
    "        ) else 0\n",
    "\n",
    "def LF_improve_before_disease(c):\n",
    "    return rule_regex_search_before_B(c, 'improv.*', -1)\n",
    "\n",
    "pat_terms = ['in a patient with ', 'in patients with']\n",
    "def LF_in_patient_with(c):\n",
    "    return -1 if re.search(ltp(pat_terms) + '{{B}}', get_tagged_text(c), flags=re.I) else 0\n",
    "\n",
    "uncertain = ['combin', 'possible', 'unlikely']\n",
    "def LF_uncertain(c):\n",
    "    return rule_regex_search_before_A(c, ltp(uncertain) + '.*', -1)\n",
    "\n",
    "def LF_induced_other(c):\n",
    "    return rule_regex_search_tagged_text(c, '{{A}}.{20,1000}-induced {{B}}', -1)\n",
    "\n",
    "def LF_far_c_d(c):\n",
    "    return rule_regex_search_btw_AB(c, '.{100,5000}', -1)\n",
    "\n",
    "def LF_far_d_c(c):\n",
    "    return rule_regex_search_btw_BA(c, '.{100,5000}', -1)\n",
    "\n",
    "def LF_risk_d(c):\n",
    "    return rule_regex_search_before_B(c, 'risk of ', 1)\n",
    "\n",
    "def LF_develop_d_following_c(c):\n",
    "    return 1 if re.search(r'develop.{0,25}{{B}}.{0,25}following.{0,25}{{A}}', get_tagged_text(c), flags=re.I) else 0\n",
    "\n",
    "procedure, following = ['inject', 'administrat'], ['following']\n",
    "def LF_d_following_c(c):\n",
    "    return 1 if re.search('{{B}}.{0,50}' + ltp(following) + '.{0,20}{{A}}.{0,50}' + ltp(procedure), get_tagged_text(c), flags=re.I) else 0\n",
    "\n",
    "def LF_measure(c):\n",
    "    return -1 if re.search('measur.{0,75}{{A}}', get_tagged_text(c), flags=re.I) else 0\n",
    "\n",
    "def LF_level(c):\n",
    "    return -1 if re.search('{{A}}.{0,25} level', get_tagged_text(c), flags=re.I) else 0\n",
    "\n",
    "def LF_neg_d(c):\n",
    "    return -1 if re.search('(none|not|no) .{0,25}{{B}}', get_tagged_text(c), flags=re.I) else 0\n",
    "\n",
    "WEAK_PHRASES = ['none', 'although', 'was carried out', 'was conducted',\n",
    "                'seems', 'suggests', 'risk', 'implicated',\n",
    "               'the aim', 'to (investigate|assess|study)']\n",
    "\n",
    "WEAK_RGX = r'|'.join(WEAK_PHRASES)\n",
    "\n",
    "def LF_weak_assertions(c):\n",
    "    return -1 if re.search(WEAK_RGX, get_tagged_text(c), flags=re.I) else 0"
   ]
  },
  {
   "cell_type": "markdown",
   "metadata": {},
   "source": [
    "### Composite LFs\n",
    "\n",
    "The following LFs take some of the strongest distant supervision and text pattern LFs, and combine them to form more specific LFs. These LFs introduce some obvious dependencies within the LF set, which we will model later."
   ]
  },
  {
   "cell_type": "code",
   "execution_count": 7,
   "metadata": {
    "collapsed": true
   },
   "outputs": [],
   "source": [
    "def LF_ctd_marker_c_d(c):\n",
    "    return LF_c_d(c) * cand_in_ctd_marker(c)\n",
    "\n",
    "def LF_ctd_marker_induce(c):\n",
    "    return (LF_c_induced_d(c) or LF_d_induced_by_c_tight(c)) * cand_in_ctd_marker(c)\n",
    "\n",
    "def LF_ctd_therapy_treat(c):\n",
    "    return LF_c_treat_d_wide(c) * cand_in_ctd_therapy(c)\n",
    "\n",
    "def LF_ctd_unspecified_treat(c):\n",
    "    return LF_c_treat_d_wide(c) * cand_in_ctd_unspecified(c)\n",
    "\n",
    "def LF_ctd_unspecified_induce(c):\n",
    "    return (LF_c_induced_d(c) or LF_d_induced_by_c_tight(c)) * cand_in_ctd_unspecified(c)"
   ]
  },
  {
   "cell_type": "markdown",
   "metadata": {},
   "source": [
    "### Rules based on context hierarchy\n",
    "\n",
    "These last two rules will make use of the context hierarchy. The first checks if there is a chemical mention much closer to the candidate's disease mention than the candidate's chemical mention. The second does the analog for diseases."
   ]
  },
  {
   "cell_type": "code",
   "execution_count": 8,
   "metadata": {
    "collapsed": true
   },
   "outputs": [],
   "source": [
    "def LF_closer_chem(c):\n",
    "    # Get distance between chemical and disease\n",
    "    chem_start, chem_end = c.chemical.get_word_start(), c.chemical.get_word_end()\n",
    "    dis_start, dis_end = c.disease.get_word_start(), c.disease.get_word_end()\n",
    "    if dis_start < chem_start:\n",
    "        dist = chem_start - dis_end\n",
    "    else:\n",
    "        dist = dis_start - chem_end\n",
    "    # Try to find chemical closer than @dist/2 in either direction\n",
    "    sent = c.get_parent()\n",
    "    closest_other_chem = float('inf')\n",
    "    for i in range(dis_end, min(len(sent.words), dis_end + dist / 2)):\n",
    "        et, cid = sent.entity_types[i], sent.entity_cids[i]\n",
    "        if et == 'Chemical' and cid != sent.entity_cids[chem_start]:\n",
    "            return -1\n",
    "    for i in range(max(0, dis_start - dist / 2), dis_start):\n",
    "        et, cid = sent.entity_types[i], sent.entity_cids[i]\n",
    "        if et == 'Chemical' and cid != sent.entity_cids[chem_start]:\n",
    "            return -1\n",
    "    return 0\n",
    "\n",
    "def LF_closer_dis(c):\n",
    "    # Get distance between chemical and disease\n",
    "    chem_start, chem_end = c.chemical.get_word_start(), c.chemical.get_word_end()\n",
    "    dis_start, dis_end = c.disease.get_word_start(), c.disease.get_word_end()\n",
    "    if dis_start < chem_start:\n",
    "        dist = chem_start - dis_end\n",
    "    else:\n",
    "        dist = dis_start - chem_end\n",
    "    # Try to find chemical disease than @dist/8 in either direction\n",
    "    sent = c.get_parent()\n",
    "    for i in range(chem_end, min(len(sent.words), chem_end + dist / 8)):\n",
    "        et, cid = sent.entity_types[i], sent.entity_cids[i]\n",
    "        if et == 'Disease' and cid != sent.entity_cids[dis_start]:\n",
    "            return -1\n",
    "    for i in range(max(0, chem_start - dist / 8), chem_start):\n",
    "        et, cid = sent.entity_types[i], sent.entity_cids[i]\n",
    "        if et == 'Disease' and cid != sent.entity_cids[dis_start]:\n",
    "            return -1\n",
    "    return 0"
   ]
  },
  {
   "cell_type": "markdown",
   "metadata": {},
   "source": [
    "### Running the LFs on the training set"
   ]
  },
  {
   "cell_type": "code",
   "execution_count": 9,
   "metadata": {
    "collapsed": false
   },
   "outputs": [],
   "source": [
    "LFs = [\n",
    "    LF_c_cause_d,\n",
    "    LF_c_d,\n",
    "    LF_c_induced_d,\n",
    "    LF_c_treat_d,\n",
    "    LF_c_treat_d_wide,\n",
    "    LF_closer_chem,\n",
    "    LF_closer_dis,\n",
    "    LF_ctd_marker_c_d,\n",
    "    LF_ctd_marker_induce,\n",
    "    LF_ctd_therapy_treat,\n",
    "    LF_ctd_unspecified_treat,\n",
    "    LF_ctd_unspecified_induce,\n",
    "    LF_d_following_c,\n",
    "    LF_d_induced_by_c,\n",
    "    LF_d_induced_by_c_tight,\n",
    "    LF_d_treat_c,\n",
    "    LF_develop_d_following_c,\n",
    "    LF_far_c_d,\n",
    "    LF_far_d_c,\n",
    "    LF_improve_before_disease,\n",
    "    LF_in_ctd_unspecified,\n",
    "    LF_in_ctd_therapy,\n",
    "    LF_in_ctd_marker,\n",
    "    LF_in_patient_with,\n",
    "    LF_induce,\n",
    "    LF_induce_name,\n",
    "    LF_induced_other,\n",
    "    LF_level,\n",
    "    LF_measure,\n",
    "    LF_neg_d,\n",
    "    LF_risk_d,\n",
    "    LF_treat_d,\n",
    "    LF_uncertain,\n",
    "    LF_weak_assertions,\n",
    "]"
   ]
  },
  {
   "cell_type": "markdown",
   "metadata": {},
   "source": [
    "## Parse LFs - START"
   ]
  },
  {
   "cell_type": "code",
   "execution_count": 10,
   "metadata": {
    "collapsed": true
   },
   "outputs": [],
   "source": [
    "import bz2\n",
    "import cPickle\n",
    "if 'ctd_unspecified' not in globals():\n",
    "    with bz2.BZ2File('data/ctd.pkl.bz2', 'rb') as ctd_f:\n",
    "        ctd_unspecified, ctd_therapy, ctd_marker = cPickle.load(ctd_f)\n",
    "\n",
    "user_lists = {\n",
    "    'uncertain': ['combin', 'possible', 'unlikely'],\n",
    "    'causal': ['causes', 'caused', 'induce', 'induces', 'induced', 'associated with'],\n",
    "    'treat': ['treat', 'effective', 'prevent', 'resistant', 'slow', 'promise', 'therap'],\n",
    "    'procedure': ['inject', 'administrat'],\n",
    "    'patient': ['in a patient with', 'in patients with'],\n",
    "    'weak': ['none', 'although', 'was carried out', 'was conducted', 'seems', \n",
    "             'suggests', 'risk', 'implicated', 'the aim', 'to investigate',\n",
    "             'to assess', 'to study'],\n",
    "    'ctd_unspecified': ctd_unspecified,\n",
    "    'ctd_therapy': ctd_therapy,\n",
    "    'ctd_marker': ctd_marker,\n",
    "}    \n",
    "\n",
    "candidate_class = ChemicalDisease"
   ]
  },
  {
   "cell_type": "code",
   "execution_count": 11,
   "metadata": {
    "collapsed": false
   },
   "outputs": [],
   "source": [
    "from semparse_examples import get_examples\n",
    "\n",
    "examples = get_examples('semparse_cdr', train_cands)"
   ]
  },
  {
   "cell_type": "code",
   "execution_count": 12,
   "metadata": {
    "collapsed": false
   },
   "outputs": [
    {
     "name": "stdout",
     "output_type": "stream",
     "text": [
      "Created grammar with 272 rules\n",
      "CPU times: user 2.67 ms, sys: 10.9 ms, total: 13.6 ms\n",
      "Wall time: 16.6 ms\n"
     ]
    }
   ],
   "source": [
    "from snorkel.semantic import SemanticParser\n",
    "\n",
    "%time sp = SemanticParser(candidate_class, user_lists, absorb=False)"
   ]
  },
  {
   "cell_type": "code",
   "execution_count": 13,
   "metadata": {
    "collapsed": false,
    "scrolled": true
   },
   "outputs": [],
   "source": [
    "# %time LFs = sp.evaluate(examples,\\\n",
    "#                             show_everything=False,\\\n",
    "#                             show_explanation=False,\\\n",
    "#                             show_candidate=False,\\\n",
    "#                             show_sentence=False,\\\n",
    "#                             show_parse=False,\\\n",
    "#                             show_semantics=False,\\\n",
    "#                             return_LFs=True,\\\n",
    "#                             only=[])"
   ]
  },
  {
   "cell_type": "markdown",
   "metadata": {},
   "source": [
    "## Parse LFs - STOP"
   ]
  },
  {
   "cell_type": "code",
   "execution_count": 14,
   "metadata": {
    "collapsed": false
   },
   "outputs": [],
   "source": [
    "from snorkel.annotations import LabelAnnotator\n",
    "labeler = LabelAnnotator(f=LFs)"
   ]
  },
  {
   "cell_type": "code",
   "execution_count": 15,
   "metadata": {
    "collapsed": false
   },
   "outputs": [
    {
     "name": "stdout",
     "output_type": "stream",
     "text": [
      "Clearing existing...\n",
      "Running UDF...\n",
      "CPU times: user 15.6 s, sys: 2.98 s, total: 18.6 s\n",
      "Wall time: 30.8 s\n"
     ]
    },
    {
     "data": {
      "text/plain": [
       "<8272x34 sparse matrix of type '<type 'numpy.float64'>'\n",
       "\twith 25562 stored elements in Compressed Sparse Row format>"
      ]
     },
     "execution_count": 15,
     "metadata": {},
     "output_type": "execute_result"
    }
   ],
   "source": [
    "%time L_train = labeler.apply(split=0, parallelism=6)\n",
    "L_train"
   ]
  },
  {
   "cell_type": "code",
   "execution_count": 16,
   "metadata": {
    "collapsed": false
   },
   "outputs": [
    {
     "data": {
      "text/html": [
       "<div>\n",
       "<table border=\"1\" class=\"dataframe\">\n",
       "  <thead>\n",
       "    <tr style=\"text-align: right;\">\n",
       "      <th></th>\n",
       "      <th>j</th>\n",
       "      <th>Coverage</th>\n",
       "      <th>Overlaps</th>\n",
       "      <th>Conflicts</th>\n",
       "    </tr>\n",
       "  </thead>\n",
       "  <tbody>\n",
       "    <tr>\n",
       "      <th>LF_c_cause_d</th>\n",
       "      <td>0</td>\n",
       "      <td>0.032519</td>\n",
       "      <td>0.030222</td>\n",
       "      <td>0.024782</td>\n",
       "    </tr>\n",
       "    <tr>\n",
       "      <th>LF_c_d</th>\n",
       "      <td>1</td>\n",
       "      <td>0.092602</td>\n",
       "      <td>0.089821</td>\n",
       "      <td>0.074347</td>\n",
       "    </tr>\n",
       "    <tr>\n",
       "      <th>LF_c_induced_d</th>\n",
       "      <td>2</td>\n",
       "      <td>0.070358</td>\n",
       "      <td>0.070358</td>\n",
       "      <td>0.058027</td>\n",
       "    </tr>\n",
       "    <tr>\n",
       "      <th>LF_c_treat_d</th>\n",
       "      <td>3</td>\n",
       "      <td>0.045938</td>\n",
       "      <td>0.045938</td>\n",
       "      <td>0.019221</td>\n",
       "    </tr>\n",
       "    <tr>\n",
       "      <th>LF_c_treat_d_wide</th>\n",
       "      <td>4</td>\n",
       "      <td>0.085832</td>\n",
       "      <td>0.084985</td>\n",
       "      <td>0.037355</td>\n",
       "    </tr>\n",
       "    <tr>\n",
       "      <th>LF_closer_chem</th>\n",
       "      <td>5</td>\n",
       "      <td>0.193303</td>\n",
       "      <td>0.183752</td>\n",
       "      <td>0.099613</td>\n",
       "    </tr>\n",
       "    <tr>\n",
       "      <th>LF_closer_dis</th>\n",
       "      <td>6</td>\n",
       "      <td>0.018133</td>\n",
       "      <td>0.017529</td>\n",
       "      <td>0.012935</td>\n",
       "    </tr>\n",
       "    <tr>\n",
       "      <th>LF_ctd_marker_c_d</th>\n",
       "      <td>7</td>\n",
       "      <td>0.085348</td>\n",
       "      <td>0.085348</td>\n",
       "      <td>0.071446</td>\n",
       "    </tr>\n",
       "    <tr>\n",
       "      <th>LF_ctd_marker_induce</th>\n",
       "      <td>8</td>\n",
       "      <td>0.084260</td>\n",
       "      <td>0.084260</td>\n",
       "      <td>0.070237</td>\n",
       "    </tr>\n",
       "    <tr>\n",
       "      <th>LF_ctd_therapy_treat</th>\n",
       "      <td>9</td>\n",
       "      <td>0.046301</td>\n",
       "      <td>0.046301</td>\n",
       "      <td>0.017771</td>\n",
       "    </tr>\n",
       "    <tr>\n",
       "      <th>LF_ctd_unspecified_treat</th>\n",
       "      <td>10</td>\n",
       "      <td>0.054884</td>\n",
       "      <td>0.054884</td>\n",
       "      <td>0.027079</td>\n",
       "    </tr>\n",
       "    <tr>\n",
       "      <th>LF_ctd_unspecified_induce</th>\n",
       "      <td>11</td>\n",
       "      <td>0.068424</td>\n",
       "      <td>0.068424</td>\n",
       "      <td>0.068424</td>\n",
       "    </tr>\n",
       "    <tr>\n",
       "      <th>LF_d_following_c</th>\n",
       "      <td>12</td>\n",
       "      <td>0.000484</td>\n",
       "      <td>0.000484</td>\n",
       "      <td>0.000121</td>\n",
       "    </tr>\n",
       "    <tr>\n",
       "      <th>LF_d_induced_by_c</th>\n",
       "      <td>13</td>\n",
       "      <td>0.037234</td>\n",
       "      <td>0.035542</td>\n",
       "      <td>0.029014</td>\n",
       "    </tr>\n",
       "    <tr>\n",
       "      <th>LF_d_induced_by_c_tight</th>\n",
       "      <td>14</td>\n",
       "      <td>0.017892</td>\n",
       "      <td>0.017892</td>\n",
       "      <td>0.013902</td>\n",
       "    </tr>\n",
       "    <tr>\n",
       "      <th>LF_d_treat_c</th>\n",
       "      <td>15</td>\n",
       "      <td>0.028288</td>\n",
       "      <td>0.025750</td>\n",
       "      <td>0.015474</td>\n",
       "    </tr>\n",
       "    <tr>\n",
       "      <th>LF_develop_d_following_c</th>\n",
       "      <td>16</td>\n",
       "      <td>0.000846</td>\n",
       "      <td>0.000846</td>\n",
       "      <td>0.000604</td>\n",
       "    </tr>\n",
       "    <tr>\n",
       "      <th>LF_far_c_d</th>\n",
       "      <td>17</td>\n",
       "      <td>0.106746</td>\n",
       "      <td>0.102877</td>\n",
       "      <td>0.053675</td>\n",
       "    </tr>\n",
       "    <tr>\n",
       "      <th>LF_far_d_c</th>\n",
       "      <td>18</td>\n",
       "      <td>0.079425</td>\n",
       "      <td>0.074105</td>\n",
       "      <td>0.043641</td>\n",
       "    </tr>\n",
       "    <tr>\n",
       "      <th>LF_improve_before_disease</th>\n",
       "      <td>19</td>\n",
       "      <td>0.001572</td>\n",
       "      <td>0.001451</td>\n",
       "      <td>0.000725</td>\n",
       "    </tr>\n",
       "    <tr>\n",
       "      <th>LF_in_ctd_unspecified</th>\n",
       "      <td>20</td>\n",
       "      <td>0.666707</td>\n",
       "      <td>0.626451</td>\n",
       "      <td>0.475218</td>\n",
       "    </tr>\n",
       "    <tr>\n",
       "      <th>LF_in_ctd_therapy</th>\n",
       "      <td>21</td>\n",
       "      <td>0.296905</td>\n",
       "      <td>0.285058</td>\n",
       "      <td>0.174565</td>\n",
       "    </tr>\n",
       "    <tr>\n",
       "      <th>LF_in_ctd_marker</th>\n",
       "      <td>22</td>\n",
       "      <td>0.610977</td>\n",
       "      <td>0.553796</td>\n",
       "      <td>0.525145</td>\n",
       "    </tr>\n",
       "    <tr>\n",
       "      <th>LF_in_patient_with</th>\n",
       "      <td>23</td>\n",
       "      <td>0.001572</td>\n",
       "      <td>0.001209</td>\n",
       "      <td>0.000725</td>\n",
       "    </tr>\n",
       "    <tr>\n",
       "      <th>LF_induce</th>\n",
       "      <td>24</td>\n",
       "      <td>0.020672</td>\n",
       "      <td>0.020309</td>\n",
       "      <td>0.018133</td>\n",
       "    </tr>\n",
       "    <tr>\n",
       "      <th>LF_induce_name</th>\n",
       "      <td>25</td>\n",
       "      <td>0.119923</td>\n",
       "      <td>0.116779</td>\n",
       "      <td>0.102273</td>\n",
       "    </tr>\n",
       "    <tr>\n",
       "      <th>LF_induced_other</th>\n",
       "      <td>26</td>\n",
       "      <td>0.041465</td>\n",
       "      <td>0.040982</td>\n",
       "      <td>0.019584</td>\n",
       "    </tr>\n",
       "    <tr>\n",
       "      <th>LF_level</th>\n",
       "      <td>27</td>\n",
       "      <td>0.007253</td>\n",
       "      <td>0.006407</td>\n",
       "      <td>0.003022</td>\n",
       "    </tr>\n",
       "    <tr>\n",
       "      <th>LF_measure</th>\n",
       "      <td>28</td>\n",
       "      <td>0.003627</td>\n",
       "      <td>0.003143</td>\n",
       "      <td>0.002660</td>\n",
       "    </tr>\n",
       "    <tr>\n",
       "      <th>LF_neg_d</th>\n",
       "      <td>29</td>\n",
       "      <td>0.018133</td>\n",
       "      <td>0.016441</td>\n",
       "      <td>0.011485</td>\n",
       "    </tr>\n",
       "    <tr>\n",
       "      <th>LF_risk_d</th>\n",
       "      <td>30</td>\n",
       "      <td>0.004836</td>\n",
       "      <td>0.004836</td>\n",
       "      <td>0.004836</td>\n",
       "    </tr>\n",
       "    <tr>\n",
       "      <th>LF_treat_d</th>\n",
       "      <td>31</td>\n",
       "      <td>0.021518</td>\n",
       "      <td>0.020672</td>\n",
       "      <td>0.011122</td>\n",
       "    </tr>\n",
       "    <tr>\n",
       "      <th>LF_uncertain</th>\n",
       "      <td>32</td>\n",
       "      <td>0.018133</td>\n",
       "      <td>0.017408</td>\n",
       "      <td>0.007858</td>\n",
       "    </tr>\n",
       "    <tr>\n",
       "      <th>LF_weak_assertions</th>\n",
       "      <td>33</td>\n",
       "      <td>0.108075</td>\n",
       "      <td>0.100097</td>\n",
       "      <td>0.066248</td>\n",
       "    </tr>\n",
       "  </tbody>\n",
       "</table>\n",
       "</div>"
      ],
      "text/plain": [
       "                            j  Coverage  Overlaps  Conflicts\n",
       "LF_c_cause_d                0  0.032519  0.030222   0.024782\n",
       "LF_c_d                      1  0.092602  0.089821   0.074347\n",
       "LF_c_induced_d              2  0.070358  0.070358   0.058027\n",
       "LF_c_treat_d                3  0.045938  0.045938   0.019221\n",
       "LF_c_treat_d_wide           4  0.085832  0.084985   0.037355\n",
       "LF_closer_chem              5  0.193303  0.183752   0.099613\n",
       "LF_closer_dis               6  0.018133  0.017529   0.012935\n",
       "LF_ctd_marker_c_d           7  0.085348  0.085348   0.071446\n",
       "LF_ctd_marker_induce        8  0.084260  0.084260   0.070237\n",
       "LF_ctd_therapy_treat        9  0.046301  0.046301   0.017771\n",
       "LF_ctd_unspecified_treat   10  0.054884  0.054884   0.027079\n",
       "LF_ctd_unspecified_induce  11  0.068424  0.068424   0.068424\n",
       "LF_d_following_c           12  0.000484  0.000484   0.000121\n",
       "LF_d_induced_by_c          13  0.037234  0.035542   0.029014\n",
       "LF_d_induced_by_c_tight    14  0.017892  0.017892   0.013902\n",
       "LF_d_treat_c               15  0.028288  0.025750   0.015474\n",
       "LF_develop_d_following_c   16  0.000846  0.000846   0.000604\n",
       "LF_far_c_d                 17  0.106746  0.102877   0.053675\n",
       "LF_far_d_c                 18  0.079425  0.074105   0.043641\n",
       "LF_improve_before_disease  19  0.001572  0.001451   0.000725\n",
       "LF_in_ctd_unspecified      20  0.666707  0.626451   0.475218\n",
       "LF_in_ctd_therapy          21  0.296905  0.285058   0.174565\n",
       "LF_in_ctd_marker           22  0.610977  0.553796   0.525145\n",
       "LF_in_patient_with         23  0.001572  0.001209   0.000725\n",
       "LF_induce                  24  0.020672  0.020309   0.018133\n",
       "LF_induce_name             25  0.119923  0.116779   0.102273\n",
       "LF_induced_other           26  0.041465  0.040982   0.019584\n",
       "LF_level                   27  0.007253  0.006407   0.003022\n",
       "LF_measure                 28  0.003627  0.003143   0.002660\n",
       "LF_neg_d                   29  0.018133  0.016441   0.011485\n",
       "LF_risk_d                  30  0.004836  0.004836   0.004836\n",
       "LF_treat_d                 31  0.021518  0.020672   0.011122\n",
       "LF_uncertain               32  0.018133  0.017408   0.007858\n",
       "LF_weak_assertions         33  0.108075  0.100097   0.066248"
      ]
     },
     "execution_count": 16,
     "metadata": {},
     "output_type": "execute_result"
    }
   ],
   "source": [
    "L_train.lf_stats(session)"
   ]
  },
  {
   "cell_type": "markdown",
   "metadata": {},
   "source": [
    "# Part IV: Training the generative model\n",
    "\n",
    "As mentioned above, we want to include the dependencies between our LFs when training the generative model. Snorkel makes it easy to do this! `DependencySelector` runs a fast structure learning algorithm over the matrix of LF outputs to identify a set of likely dependencies. We can see that these match up with our prior knowledge. For example, it identified a \"reinforcing\" dependency between `LF_c_induced_d` and `LF_ctd_marker_induce`. Recall that we constructed the latter using the former."
   ]
  },
  {
   "cell_type": "code",
   "execution_count": 17,
   "metadata": {
    "collapsed": false
   },
   "outputs": [
    {
     "data": {
      "text/plain": [
       "{(1, 7, 2),\n",
       " (2, 1, 2),\n",
       " (2, 8, 2),\n",
       " (4, 10, 2),\n",
       " (7, 1, 2),\n",
       " (8, 11, 2),\n",
       " (10, 4, 2),\n",
       " (11, 8, 2)}"
      ]
     },
     "execution_count": 17,
     "metadata": {},
     "output_type": "execute_result"
    }
   ],
   "source": [
    "from snorkel.learning.structure import DependencySelector\n",
    "ds = DependencySelector()\n",
    "deps = ds.select(L_train, threshold=1.0/3.0)\n",
    "deps"
   ]
  },
  {
   "cell_type": "markdown",
   "metadata": {},
   "source": [
    "Now we'll train the generative model, using the `deps` argument to account for the learned dependencies. We'll also model LF propensity here, unlike the intro tutorial. In addition to learning the accuracies of the LFs, this also learns their likelihood of labeling an example."
   ]
  },
  {
   "cell_type": "code",
   "execution_count": 18,
   "metadata": {
    "collapsed": false
   },
   "outputs": [],
   "source": [
    "from snorkel.learning import GenerativeModel\n",
    "\n",
    "gen_model = GenerativeModel(lf_propensity=True)\n",
    "gen_model.train(\n",
    "    L_train, deps=deps, epochs=20, decay=0.95, step_size=0.1/L_train.shape[0], init_acc=2.0, reg_param=0.0\n",
    ")"
   ]
  },
  {
   "cell_type": "code",
   "execution_count": 19,
   "metadata": {
    "collapsed": true
   },
   "outputs": [],
   "source": [
    "train_marginals = gen_model.marginals(L_train)"
   ]
  },
  {
   "cell_type": "code",
   "execution_count": 20,
   "metadata": {
    "collapsed": false
   },
   "outputs": [
    {
     "data": {
      "image/png": "[encoded data removed]",
      "text/plain": [
       "<matplotlib.figure.Figure at 0x1423e7810>"
      ]
     },
     "metadata": {},
     "output_type": "display_data"
    }
   ],
   "source": [
    "import matplotlib.pyplot as plt\n",
    "plt.hist(train_marginals, bins=20)\n",
    "plt.show()"
   ]
  },
  {
   "cell_type": "code",
   "execution_count": 21,
   "metadata": {
    "collapsed": false
   },
   "outputs": [
    {
     "data": {
      "text/plain": [
       "array([ 0.64156388,  0.68810071,  0.69025293,  0.65973969,  0.68592749,\n",
       "        0.69678508,  0.63988091,  0.70240652,  0.70826045,  0.66279821,\n",
       "        0.69187587,  0.68839251,  0.64109235,  0.64341195,  0.64657806,\n",
       "        0.65241841,  0.65069672,  0.6752585 ,  0.66484681,  0.64410367,\n",
       "        0.7501519 ,  0.70618226,  0.5801438 ,  0.64060628,  0.64465424,\n",
       "        0.65037923,  0.65331527,  0.64875563,  0.64204401,  0.65150989,\n",
       "        0.63975652,  0.63904695,  0.64374633,  0.67708066])"
      ]
     },
     "execution_count": 21,
     "metadata": {},
     "output_type": "execute_result"
    }
   ],
   "source": [
    "gen_model.weights.lf_accuracy()"
   ]
  },
  {
   "cell_type": "code",
   "execution_count": 22,
   "metadata": {
    "collapsed": false
   },
   "outputs": [
    {
     "name": "stdout",
     "output_type": "stream",
     "text": [
      "Saved 8272 training marginals\n"
     ]
    }
   ],
   "source": [
    "from snorkel.annotations import save_marginals\n",
    "save_marginals(session, L_train, train_marginals)"
   ]
  },
  {
   "cell_type": "markdown",
   "metadata": {},
   "source": [
    "### Checking performance against development set labels\n",
    "\n",
    "Finally, we'll run the labeler on the development set, load in some external labels, then evaluate the LF performance. The external labels are applied via a small script for convenience. It maps the document-level relation annotations found in the CDR file to mention-level labels. Note that these will not be perfect, although they are pretty good. If we wanted to keep iterating, we could use `snorkel.lf_helpers.test_LF` against the dev set, or look at some false positive and false negative candidates."
   ]
  },
  {
   "cell_type": "code",
   "execution_count": 23,
   "metadata": {
    "collapsed": false
   },
   "outputs": [
    {
     "name": "stdout",
     "output_type": "stream",
     "text": [
      "AnnotatorLabels created: 0\n"
     ]
    }
   ],
   "source": [
    "from load_external_annotations import load_external_labels\n",
    "load_external_labels(session, ChemicalDisease, split=1, annotator='gold')"
   ]
  },
  {
   "cell_type": "code",
   "execution_count": 24,
   "metadata": {
    "collapsed": false
   },
   "outputs": [
    {
     "data": {
      "text/plain": [
       "<888x1 sparse matrix of type '<type 'numpy.float64'>'\n",
       "\twith 888 stored elements in Compressed Sparse Row format>"
      ]
     },
     "execution_count": 24,
     "metadata": {},
     "output_type": "execute_result"
    }
   ],
   "source": [
    "from snorkel.annotations import load_gold_labels\n",
    "%time L_gold_dev = load_gold_labels(session, annotator_name='gold', split=1)\n",
    "L_gold_dev"
   ]
  },
  {
   "cell_type": "code",
   "execution_count": 25,
   "metadata": {
    "collapsed": false
   },
   "outputs": [
    {
     "name": "stdout",
     "output_type": "stream",
     "text": [
      "Clearing existing...\n",
      "Running UDF...\n"
     ]
    }
   ],
   "source": [
    "%time L_dev = labeler.apply(split=1, parallelism=6)"
   ]
  },
  {
   "cell_type": "code",
   "execution_count": 26,
   "metadata": {
    "collapsed": false,
    "scrolled": false
   },
   "outputs": [
    {
     "name": "stderr",
     "output_type": "stream",
     "text": [
      "/Users/bradenjh/repos/snorkel/snorkel/annotations.py:80: RuntimeWarning: invalid value encountered in divide\n",
      "  ac = (tp+tn).astype(float) / (tp+tn+fp+fn)\n"
     ]
    },
    {
     "data": {
      "text/html": [
       "<div>\n",
       "<table border=\"1\" class=\"dataframe\">\n",
       "  <thead>\n",
       "    <tr style=\"text-align: right;\">\n",
       "      <th></th>\n",
       "      <th>j</th>\n",
       "      <th>Coverage</th>\n",
       "      <th>Overlaps</th>\n",
       "      <th>Conflicts</th>\n",
       "      <th>TP</th>\n",
       "      <th>FP</th>\n",
       "      <th>FN</th>\n",
       "      <th>TN</th>\n",
       "      <th>Empirical Acc.</th>\n",
       "      <th>Learned Acc.</th>\n",
       "    </tr>\n",
       "  </thead>\n",
       "  <tbody>\n",
       "    <tr>\n",
       "      <th>LF_c_cause_d</th>\n",
       "      <td>0</td>\n",
       "      <td>0.036036</td>\n",
       "      <td>0.036036</td>\n",
       "      <td>0.022523</td>\n",
       "      <td>22</td>\n",
       "      <td>10</td>\n",
       "      <td>0</td>\n",
       "      <td>0</td>\n",
       "      <td>0.687500</td>\n",
       "      <td>0.641564</td>\n",
       "    </tr>\n",
       "    <tr>\n",
       "      <th>LF_c_d</th>\n",
       "      <td>1</td>\n",
       "      <td>0.082207</td>\n",
       "      <td>0.082207</td>\n",
       "      <td>0.067568</td>\n",
       "      <td>47</td>\n",
       "      <td>26</td>\n",
       "      <td>0</td>\n",
       "      <td>0</td>\n",
       "      <td>0.643836</td>\n",
       "      <td>0.688101</td>\n",
       "    </tr>\n",
       "    <tr>\n",
       "      <th>LF_c_induced_d</th>\n",
       "      <td>2</td>\n",
       "      <td>0.059685</td>\n",
       "      <td>0.059685</td>\n",
       "      <td>0.050676</td>\n",
       "      <td>36</td>\n",
       "      <td>17</td>\n",
       "      <td>0</td>\n",
       "      <td>0</td>\n",
       "      <td>0.679245</td>\n",
       "      <td>0.690253</td>\n",
       "    </tr>\n",
       "    <tr>\n",
       "      <th>LF_c_treat_d</th>\n",
       "      <td>3</td>\n",
       "      <td>0.031532</td>\n",
       "      <td>0.031532</td>\n",
       "      <td>0.018018</td>\n",
       "      <td>0</td>\n",
       "      <td>0</td>\n",
       "      <td>9</td>\n",
       "      <td>19</td>\n",
       "      <td>0.678571</td>\n",
       "      <td>0.659740</td>\n",
       "    </tr>\n",
       "    <tr>\n",
       "      <th>LF_c_treat_d_wide</th>\n",
       "      <td>4</td>\n",
       "      <td>0.076577</td>\n",
       "      <td>0.075450</td>\n",
       "      <td>0.042793</td>\n",
       "      <td>0</td>\n",
       "      <td>0</td>\n",
       "      <td>17</td>\n",
       "      <td>51</td>\n",
       "      <td>0.750000</td>\n",
       "      <td>0.685927</td>\n",
       "    </tr>\n",
       "    <tr>\n",
       "      <th>LF_closer_chem</th>\n",
       "      <td>5</td>\n",
       "      <td>0.218468</td>\n",
       "      <td>0.206081</td>\n",
       "      <td>0.128378</td>\n",
       "      <td>0</td>\n",
       "      <td>0</td>\n",
       "      <td>57</td>\n",
       "      <td>137</td>\n",
       "      <td>0.706186</td>\n",
       "      <td>0.696785</td>\n",
       "    </tr>\n",
       "    <tr>\n",
       "      <th>LF_closer_dis</th>\n",
       "      <td>6</td>\n",
       "      <td>0.011261</td>\n",
       "      <td>0.011261</td>\n",
       "      <td>0.006757</td>\n",
       "      <td>0</td>\n",
       "      <td>0</td>\n",
       "      <td>2</td>\n",
       "      <td>8</td>\n",
       "      <td>0.800000</td>\n",
       "      <td>0.639881</td>\n",
       "    </tr>\n",
       "    <tr>\n",
       "      <th>LF_ctd_marker_c_d</th>\n",
       "      <td>7</td>\n",
       "      <td>0.072072</td>\n",
       "      <td>0.072072</td>\n",
       "      <td>0.059685</td>\n",
       "      <td>47</td>\n",
       "      <td>17</td>\n",
       "      <td>0</td>\n",
       "      <td>0</td>\n",
       "      <td>0.734375</td>\n",
       "      <td>0.702407</td>\n",
       "    </tr>\n",
       "    <tr>\n",
       "      <th>LF_ctd_marker_induce</th>\n",
       "      <td>8</td>\n",
       "      <td>0.067568</td>\n",
       "      <td>0.067568</td>\n",
       "      <td>0.059685</td>\n",
       "      <td>45</td>\n",
       "      <td>15</td>\n",
       "      <td>0</td>\n",
       "      <td>0</td>\n",
       "      <td>0.750000</td>\n",
       "      <td>0.708260</td>\n",
       "    </tr>\n",
       "    <tr>\n",
       "      <th>LF_ctd_therapy_treat</th>\n",
       "      <td>9</td>\n",
       "      <td>0.041667</td>\n",
       "      <td>0.041667</td>\n",
       "      <td>0.028153</td>\n",
       "      <td>0</td>\n",
       "      <td>0</td>\n",
       "      <td>8</td>\n",
       "      <td>29</td>\n",
       "      <td>0.783784</td>\n",
       "      <td>0.662798</td>\n",
       "    </tr>\n",
       "    <tr>\n",
       "      <th>LF_ctd_unspecified_treat</th>\n",
       "      <td>10</td>\n",
       "      <td>0.057432</td>\n",
       "      <td>0.057432</td>\n",
       "      <td>0.033784</td>\n",
       "      <td>0</td>\n",
       "      <td>0</td>\n",
       "      <td>16</td>\n",
       "      <td>35</td>\n",
       "      <td>0.686275</td>\n",
       "      <td>0.691876</td>\n",
       "    </tr>\n",
       "    <tr>\n",
       "      <th>LF_ctd_unspecified_induce</th>\n",
       "      <td>11</td>\n",
       "      <td>0.061937</td>\n",
       "      <td>0.061937</td>\n",
       "      <td>0.061937</td>\n",
       "      <td>39</td>\n",
       "      <td>16</td>\n",
       "      <td>0</td>\n",
       "      <td>0</td>\n",
       "      <td>0.709091</td>\n",
       "      <td>0.688393</td>\n",
       "    </tr>\n",
       "    <tr>\n",
       "      <th>LF_d_following_c</th>\n",
       "      <td>12</td>\n",
       "      <td>0.000000</td>\n",
       "      <td>0.000000</td>\n",
       "      <td>0.000000</td>\n",
       "      <td>0</td>\n",
       "      <td>0</td>\n",
       "      <td>0</td>\n",
       "      <td>0</td>\n",
       "      <td>NaN</td>\n",
       "      <td>0.641092</td>\n",
       "    </tr>\n",
       "    <tr>\n",
       "      <th>LF_d_induced_by_c</th>\n",
       "      <td>13</td>\n",
       "      <td>0.033784</td>\n",
       "      <td>0.033784</td>\n",
       "      <td>0.027027</td>\n",
       "      <td>21</td>\n",
       "      <td>9</td>\n",
       "      <td>0</td>\n",
       "      <td>0</td>\n",
       "      <td>0.700000</td>\n",
       "      <td>0.643412</td>\n",
       "    </tr>\n",
       "    <tr>\n",
       "      <th>LF_d_induced_by_c_tight</th>\n",
       "      <td>14</td>\n",
       "      <td>0.015766</td>\n",
       "      <td>0.015766</td>\n",
       "      <td>0.013514</td>\n",
       "      <td>9</td>\n",
       "      <td>5</td>\n",
       "      <td>0</td>\n",
       "      <td>0</td>\n",
       "      <td>0.642857</td>\n",
       "      <td>0.646578</td>\n",
       "    </tr>\n",
       "    <tr>\n",
       "      <th>LF_d_treat_c</th>\n",
       "      <td>15</td>\n",
       "      <td>0.045045</td>\n",
       "      <td>0.037162</td>\n",
       "      <td>0.027027</td>\n",
       "      <td>0</td>\n",
       "      <td>0</td>\n",
       "      <td>16</td>\n",
       "      <td>24</td>\n",
       "      <td>0.600000</td>\n",
       "      <td>0.652418</td>\n",
       "    </tr>\n",
       "    <tr>\n",
       "      <th>LF_develop_d_following_c</th>\n",
       "      <td>16</td>\n",
       "      <td>0.000000</td>\n",
       "      <td>0.000000</td>\n",
       "      <td>0.000000</td>\n",
       "      <td>0</td>\n",
       "      <td>0</td>\n",
       "      <td>0</td>\n",
       "      <td>0</td>\n",
       "      <td>NaN</td>\n",
       "      <td>0.650697</td>\n",
       "    </tr>\n",
       "    <tr>\n",
       "      <th>LF_far_c_d</th>\n",
       "      <td>17</td>\n",
       "      <td>0.147523</td>\n",
       "      <td>0.139640</td>\n",
       "      <td>0.084459</td>\n",
       "      <td>0</td>\n",
       "      <td>0</td>\n",
       "      <td>28</td>\n",
       "      <td>103</td>\n",
       "      <td>0.786260</td>\n",
       "      <td>0.675259</td>\n",
       "    </tr>\n",
       "    <tr>\n",
       "      <th>LF_far_d_c</th>\n",
       "      <td>18</td>\n",
       "      <td>0.077703</td>\n",
       "      <td>0.073198</td>\n",
       "      <td>0.046171</td>\n",
       "      <td>0</td>\n",
       "      <td>0</td>\n",
       "      <td>26</td>\n",
       "      <td>43</td>\n",
       "      <td>0.623188</td>\n",
       "      <td>0.664847</td>\n",
       "    </tr>\n",
       "    <tr>\n",
       "      <th>LF_improve_before_disease</th>\n",
       "      <td>19</td>\n",
       "      <td>0.007883</td>\n",
       "      <td>0.007883</td>\n",
       "      <td>0.004505</td>\n",
       "      <td>0</td>\n",
       "      <td>0</td>\n",
       "      <td>1</td>\n",
       "      <td>6</td>\n",
       "      <td>0.857143</td>\n",
       "      <td>0.644104</td>\n",
       "    </tr>\n",
       "    <tr>\n",
       "      <th>LF_in_ctd_unspecified</th>\n",
       "      <td>20</td>\n",
       "      <td>0.643018</td>\n",
       "      <td>0.606982</td>\n",
       "      <td>0.453829</td>\n",
       "      <td>0</td>\n",
       "      <td>0</td>\n",
       "      <td>220</td>\n",
       "      <td>351</td>\n",
       "      <td>0.614711</td>\n",
       "      <td>0.750152</td>\n",
       "    </tr>\n",
       "    <tr>\n",
       "      <th>LF_in_ctd_therapy</th>\n",
       "      <td>21</td>\n",
       "      <td>0.316441</td>\n",
       "      <td>0.309685</td>\n",
       "      <td>0.209459</td>\n",
       "      <td>0</td>\n",
       "      <td>0</td>\n",
       "      <td>93</td>\n",
       "      <td>188</td>\n",
       "      <td>0.669039</td>\n",
       "      <td>0.706182</td>\n",
       "    </tr>\n",
       "    <tr>\n",
       "      <th>LF_in_ctd_marker</th>\n",
       "      <td>22</td>\n",
       "      <td>0.599099</td>\n",
       "      <td>0.556306</td>\n",
       "      <td>0.521396</td>\n",
       "      <td>294</td>\n",
       "      <td>238</td>\n",
       "      <td>0</td>\n",
       "      <td>0</td>\n",
       "      <td>0.552632</td>\n",
       "      <td>0.580144</td>\n",
       "    </tr>\n",
       "    <tr>\n",
       "      <th>LF_in_patient_with</th>\n",
       "      <td>23</td>\n",
       "      <td>0.000000</td>\n",
       "      <td>0.000000</td>\n",
       "      <td>0.000000</td>\n",
       "      <td>0</td>\n",
       "      <td>0</td>\n",
       "      <td>0</td>\n",
       "      <td>0</td>\n",
       "      <td>NaN</td>\n",
       "      <td>0.640606</td>\n",
       "    </tr>\n",
       "    <tr>\n",
       "      <th>LF_induce</th>\n",
       "      <td>24</td>\n",
       "      <td>0.027027</td>\n",
       "      <td>0.027027</td>\n",
       "      <td>0.021396</td>\n",
       "      <td>16</td>\n",
       "      <td>8</td>\n",
       "      <td>0</td>\n",
       "      <td>0</td>\n",
       "      <td>0.666667</td>\n",
       "      <td>0.644654</td>\n",
       "    </tr>\n",
       "    <tr>\n",
       "      <th>LF_induce_name</th>\n",
       "      <td>25</td>\n",
       "      <td>0.091216</td>\n",
       "      <td>0.088964</td>\n",
       "      <td>0.077703</td>\n",
       "      <td>48</td>\n",
       "      <td>33</td>\n",
       "      <td>0</td>\n",
       "      <td>0</td>\n",
       "      <td>0.592593</td>\n",
       "      <td>0.650379</td>\n",
       "    </tr>\n",
       "    <tr>\n",
       "      <th>LF_induced_other</th>\n",
       "      <td>26</td>\n",
       "      <td>0.034910</td>\n",
       "      <td>0.034910</td>\n",
       "      <td>0.016892</td>\n",
       "      <td>0</td>\n",
       "      <td>0</td>\n",
       "      <td>9</td>\n",
       "      <td>22</td>\n",
       "      <td>0.709677</td>\n",
       "      <td>0.653315</td>\n",
       "    </tr>\n",
       "    <tr>\n",
       "      <th>LF_level</th>\n",
       "      <td>27</td>\n",
       "      <td>0.020270</td>\n",
       "      <td>0.016892</td>\n",
       "      <td>0.011261</td>\n",
       "      <td>0</td>\n",
       "      <td>0</td>\n",
       "      <td>6</td>\n",
       "      <td>12</td>\n",
       "      <td>0.666667</td>\n",
       "      <td>0.648756</td>\n",
       "    </tr>\n",
       "    <tr>\n",
       "      <th>LF_measure</th>\n",
       "      <td>28</td>\n",
       "      <td>0.002252</td>\n",
       "      <td>0.002252</td>\n",
       "      <td>0.001126</td>\n",
       "      <td>0</td>\n",
       "      <td>0</td>\n",
       "      <td>0</td>\n",
       "      <td>2</td>\n",
       "      <td>1.000000</td>\n",
       "      <td>0.642044</td>\n",
       "    </tr>\n",
       "    <tr>\n",
       "      <th>LF_neg_d</th>\n",
       "      <td>29</td>\n",
       "      <td>0.010135</td>\n",
       "      <td>0.009009</td>\n",
       "      <td>0.004505</td>\n",
       "      <td>0</td>\n",
       "      <td>0</td>\n",
       "      <td>2</td>\n",
       "      <td>7</td>\n",
       "      <td>0.777778</td>\n",
       "      <td>0.651510</td>\n",
       "    </tr>\n",
       "    <tr>\n",
       "      <th>LF_risk_d</th>\n",
       "      <td>30</td>\n",
       "      <td>0.001126</td>\n",
       "      <td>0.001126</td>\n",
       "      <td>0.001126</td>\n",
       "      <td>1</td>\n",
       "      <td>0</td>\n",
       "      <td>0</td>\n",
       "      <td>0</td>\n",
       "      <td>1.000000</td>\n",
       "      <td>0.639757</td>\n",
       "    </tr>\n",
       "    <tr>\n",
       "      <th>LF_treat_d</th>\n",
       "      <td>31</td>\n",
       "      <td>0.013514</td>\n",
       "      <td>0.013514</td>\n",
       "      <td>0.003378</td>\n",
       "      <td>0</td>\n",
       "      <td>0</td>\n",
       "      <td>1</td>\n",
       "      <td>11</td>\n",
       "      <td>0.916667</td>\n",
       "      <td>0.639047</td>\n",
       "    </tr>\n",
       "    <tr>\n",
       "      <th>LF_uncertain</th>\n",
       "      <td>32</td>\n",
       "      <td>0.027027</td>\n",
       "      <td>0.025901</td>\n",
       "      <td>0.014640</td>\n",
       "      <td>0</td>\n",
       "      <td>0</td>\n",
       "      <td>2</td>\n",
       "      <td>22</td>\n",
       "      <td>0.916667</td>\n",
       "      <td>0.643746</td>\n",
       "    </tr>\n",
       "    <tr>\n",
       "      <th>LF_weak_assertions</th>\n",
       "      <td>33</td>\n",
       "      <td>0.129505</td>\n",
       "      <td>0.121622</td>\n",
       "      <td>0.068694</td>\n",
       "      <td>0</td>\n",
       "      <td>0</td>\n",
       "      <td>34</td>\n",
       "      <td>81</td>\n",
       "      <td>0.704348</td>\n",
       "      <td>0.677081</td>\n",
       "    </tr>\n",
       "  </tbody>\n",
       "</table>\n",
       "</div>"
      ],
      "text/plain": [
       "                            j  Coverage  Overlaps  Conflicts   TP   FP   FN  \\\n",
       "LF_c_cause_d                0  0.036036  0.036036   0.022523   22   10    0   \n",
       "LF_c_d                      1  0.082207  0.082207   0.067568   47   26    0   \n",
       "LF_c_induced_d              2  0.059685  0.059685   0.050676   36   17    0   \n",
       "LF_c_treat_d                3  0.031532  0.031532   0.018018    0    0    9   \n",
       "LF_c_treat_d_wide           4  0.076577  0.075450   0.042793    0    0   17   \n",
       "LF_closer_chem              5  0.218468  0.206081   0.128378    0    0   57   \n",
       "LF_closer_dis               6  0.011261  0.011261   0.006757    0    0    2   \n",
       "LF_ctd_marker_c_d           7  0.072072  0.072072   0.059685   47   17    0   \n",
       "LF_ctd_marker_induce        8  0.067568  0.067568   0.059685   45   15    0   \n",
       "LF_ctd_therapy_treat        9  0.041667  0.041667   0.028153    0    0    8   \n",
       "LF_ctd_unspecified_treat   10  0.057432  0.057432   0.033784    0    0   16   \n",
       "LF_ctd_unspecified_induce  11  0.061937  0.061937   0.061937   39   16    0   \n",
       "LF_d_following_c           12  0.000000  0.000000   0.000000    0    0    0   \n",
       "LF_d_induced_by_c          13  0.033784  0.033784   0.027027   21    9    0   \n",
       "LF_d_induced_by_c_tight    14  0.015766  0.015766   0.013514    9    5    0   \n",
       "LF_d_treat_c               15  0.045045  0.037162   0.027027    0    0   16   \n",
       "LF_develop_d_following_c   16  0.000000  0.000000   0.000000    0    0    0   \n",
       "LF_far_c_d                 17  0.147523  0.139640   0.084459    0    0   28   \n",
       "LF_far_d_c                 18  0.077703  0.073198   0.046171    0    0   26   \n",
       "LF_improve_before_disease  19  0.007883  0.007883   0.004505    0    0    1   \n",
       "LF_in_ctd_unspecified      20  0.643018  0.606982   0.453829    0    0  220   \n",
       "LF_in_ctd_therapy          21  0.316441  0.309685   0.209459    0    0   93   \n",
       "LF_in_ctd_marker           22  0.599099  0.556306   0.521396  294  238    0   \n",
       "LF_in_patient_with         23  0.000000  0.000000   0.000000    0    0    0   \n",
       "LF_induce                  24  0.027027  0.027027   0.021396   16    8    0   \n",
       "LF_induce_name             25  0.091216  0.088964   0.077703   48   33    0   \n",
       "LF_induced_other           26  0.034910  0.034910   0.016892    0    0    9   \n",
       "LF_level                   27  0.020270  0.016892   0.011261    0    0    6   \n",
       "LF_measure                 28  0.002252  0.002252   0.001126    0    0    0   \n",
       "LF_neg_d                   29  0.010135  0.009009   0.004505    0    0    2   \n",
       "LF_risk_d                  30  0.001126  0.001126   0.001126    1    0    0   \n",
       "LF_treat_d                 31  0.013514  0.013514   0.003378    0    0    1   \n",
       "LF_uncertain               32  0.027027  0.025901   0.014640    0    0    2   \n",
       "LF_weak_assertions         33  0.129505  0.121622   0.068694    0    0   34   \n",
       "\n",
       "                            TN  Empirical Acc.  Learned Acc.  \n",
       "LF_c_cause_d                 0        0.687500      0.641564  \n",
       "LF_c_d                       0        0.643836      0.688101  \n",
       "LF_c_induced_d               0        0.679245      0.690253  \n",
       "LF_c_treat_d                19        0.678571      0.659740  \n",
       "LF_c_treat_d_wide           51        0.750000      0.685927  \n",
       "LF_closer_chem             137        0.706186      0.696785  \n",
       "LF_closer_dis                8        0.800000      0.639881  \n",
       "LF_ctd_marker_c_d            0        0.734375      0.702407  \n",
       "LF_ctd_marker_induce         0        0.750000      0.708260  \n",
       "LF_ctd_therapy_treat        29        0.783784      0.662798  \n",
       "LF_ctd_unspecified_treat    35        0.686275      0.691876  \n",
       "LF_ctd_unspecified_induce    0        0.709091      0.688393  \n",
       "LF_d_following_c             0             NaN      0.641092  \n",
       "LF_d_induced_by_c            0        0.700000      0.643412  \n",
       "LF_d_induced_by_c_tight      0        0.642857      0.646578  \n",
       "LF_d_treat_c                24        0.600000      0.652418  \n",
       "LF_develop_d_following_c     0             NaN      0.650697  \n",
       "LF_far_c_d                 103        0.786260      0.675259  \n",
       "LF_far_d_c                  43        0.623188      0.664847  \n",
       "LF_improve_before_disease    6        0.857143      0.644104  \n",
       "LF_in_ctd_unspecified      351        0.614711      0.750152  \n",
       "LF_in_ctd_therapy          188        0.669039      0.706182  \n",
       "LF_in_ctd_marker             0        0.552632      0.580144  \n",
       "LF_in_patient_with           0             NaN      0.640606  \n",
       "LF_induce                    0        0.666667      0.644654  \n",
       "LF_induce_name               0        0.592593      0.650379  \n",
       "LF_induced_other            22        0.709677      0.653315  \n",
       "LF_level                    12        0.666667      0.648756  \n",
       "LF_measure                   2        1.000000      0.642044  \n",
       "LF_neg_d                     7        0.777778      0.651510  \n",
       "LF_risk_d                    0        1.000000      0.639757  \n",
       "LF_treat_d                  11        0.916667      0.639047  \n",
       "LF_uncertain                22        0.916667      0.643746  \n",
       "LF_weak_assertions          81        0.704348      0.677081  "
      ]
     },
     "execution_count": 26,
     "metadata": {},
     "output_type": "execute_result"
    }
   ],
   "source": [
    "L_dev.lf_stats(session, L_gold_dev, gen_model.weights.lf_accuracy())"
   ]
  },
  {
   "cell_type": "raw",
   "metadata": {},
   "source": [
    "j\tCoverage\tOverlaps\tConflicts\tTP\tFP\tFN\tTN\tEmpirical Acc.\tLearned Acc.\n",
    "LF_c_cause_d\t0\t0.036036\t0.036036\t0.022523\t22\t10\t0\t0\t0.687500\t0.639869\n",
    "LF_c_d\t1\t0.082207\t0.082207\t0.067568\t47\t26\t0\t0\t0.643836\t0.690921\n",
    "LF_c_induced_d\t2\t0.059685\t0.059685\t0.050676\t36\t17\t0\t0\t0.679245\t0.679044\n",
    "LF_c_treat_d\t3\t0.031532\t0.031532\t0.018018\t0\t0\t9\t19\t0.678571\t0.660182\n",
    "LF_c_treat_d_wide\t4\t0.076577\t0.075450\t0.042793\t0\t0\t17\t51\t0.750000\t0.686133\n",
    "LF_closer_chem\t5\t0.218468\t0.206081\t0.128378\t0\t0\t57\t137\t0.706186\t0.696721\n",
    "LF_closer_dis\t6\t0.011261\t0.011261\t0.006757\t0\t0\t2\t8\t0.800000\t0.640088\n",
    "LF_ctd_marker_c_d\t7\t0.072072\t0.072072\t0.059685\t47\t17\t0\t0\t0.734375\t0.702527\n",
    "LF_ctd_marker_induce\t8\t0.067568\t0.067568\t0.059685\t45\t15\t0\t0\t0.750000\t0.703809\n",
    "LF_ctd_therapy_treat\t9\t0.041667\t0.041667\t0.028153\t0\t0\t8\t29\t0.783784\t0.663631\n",
    "LF_ctd_unspecified_treat\t10\t0.057432\t0.057432\t0.033784\t0\t0\t16\t35\t0.686275\t0.692676\n",
    "LF_ctd_unspecified_induce\t11\t0.061937\t0.061937\t0.061937\t39\t16\t0\t0\t0.709091\t0.688183\n",
    "LF_d_following_c\t12\t0.000000\t0.000000\t0.000000\t0\t0\t0\t0\tNaN\t0.640566\n",
    "LF_d_induced_by_c\t13\t0.033784\t0.033784\t0.027027\t21\t9\t0\t0\t0.700000\t0.642991\n",
    "LF_d_induced_by_c_tight\t14\t0.015766\t0.015766\t0.013514\t9\t5\t0\t0\t0.642857\t0.646058\n",
    "LF_d_treat_c\t15\t0.045045\t0.037162\t0.027027\t0\t0\t16\t24\t0.600000\t0.652533\n",
    "LF_develop_d_following_c\t16\t0.000000\t0.000000\t0.000000\t0\t0\t0\t0\tNaN\t0.650890\n",
    "LF_far_c_d\t17\t0.147523\t0.139640\t0.084459\t0\t0\t28\t103\t0.786260\t0.674855\n",
    "LF_far_d_c\t18\t0.077703\t0.073198\t0.046171\t0\t0\t26\t43\t0.623188\t0.664981\n",
    "LF_improve_before_disease\t19\t0.007883\t0.007883\t0.004505\t0\t0\t1\t6\t0.857143\t0.643991\n",
    "LF_in_ctd_unspecified\t20\t0.643018\t0.606982\t0.453829\t0\t0\t220\t351\t0.614711\t0.750984LF_in_ctd_therapy\t21\t0.316441\t0.309685\t0.209459\t0\t0\t93\t188\t0.669039\t0.706089\n",
    "LF_in_ctd_marker\t22\t0.599099\t0.556306\t0.521396\t294\t238\t0\t0\t0.552632\t0.578328\n",
    "LF_in_patient_with\t23\t0.000000\t0.000000\t0.000000\t0\t0\t0\t0\tNaN\t0.640027\n",
    "LF_induce\t24\t0.027027\t0.027027\t0.021396\t16\t8\t0\t0\t0.666667\t0.644161\n",
    "LF_induce_name\t25\t0.091216\t0.088964\t0.077703\t48\t33\t0\t0\t0.592593\t0.649166\n",
    "LF_induced_other\t26\t0.034910\t0.034910\t0.016892\t0\t0\t9\t22\t0.709677\t0.654898\n",
    "LF_level\t27\t0.020270\t0.016892\t0.011261\t0\t0\t6\t12\t0.666667\t0.648242\n",
    "LF_measure\t28\t0.002252\t0.002252\t0.001126\t0\t0\t0\t2\t1.000000\t0.641871\n",
    "LF_neg_d\t29\t0.010135\t0.009009\t0.004505\t0\t0\t2\t7\t0.777778\t0.652061\n",
    "LF_risk_d\t30\t0.001126\t0.001126\t0.001126\t1\t0\t0\t0\t1.000000\t0.640296\n",
    "LF_treat_d\t31\t0.013514\t0.013514\t0.003378\t0\t0\t1\t11\t0.916667\t0.639236\n",
    "LF_uncertain\t32\t0.027027\t0.025901\t0.014640\t0\t0\t2\t22\t0.916667\t0.644270\n",
    "LF_weak_assertions\t33\t0.129505\t0.121622\t0.068694\t0\t0\t34\t81\t0.704348\t0.676496"
   ]
  },
  {
   "cell_type": "markdown",
   "metadata": {},
   "source": [
    "# Majority Vote"
   ]
  },
  {
   "cell_type": "code",
   "execution_count": 27,
   "metadata": {
    "collapsed": false
   },
   "outputs": [],
   "source": [
    "# L_train"
   ]
  },
  {
   "cell_type": "code",
   "execution_count": 28,
   "metadata": {
    "collapsed": false
   },
   "outputs": [],
   "source": [
    "# import numpy as np\n",
    "# train_marginals = np.asarray(np.sum(L_train, axis=1)).reshape(-1)\n",
    "# train_marginals.shape"
   ]
  },
  {
   "cell_type": "code",
   "execution_count": 29,
   "metadata": {
    "collapsed": false
   },
   "outputs": [],
   "source": [
    "# from snorkel.annotations import save_marginals\n",
    "# save_marginals(session, L_train, train_marginals)"
   ]
  },
  {
   "cell_type": "markdown",
   "metadata": {},
   "source": [
    "# Finding Examples"
   ]
  },
  {
   "cell_type": "code",
   "execution_count": 30,
   "metadata": {
    "collapsed": false
   },
   "outputs": [],
   "source": [
    "# print len(train_cands)"
   ]
  },
  {
   "cell_type": "code",
   "execution_count": 31,
   "metadata": {
    "collapsed": false,
    "scrolled": true
   },
   "outputs": [],
   "source": [
    "# used = set()\n",
    "# for lf in LFs:\n",
    "#     found = False\n",
    "#     while not found:\n",
    "#         for c in train_cands:\n",
    "#             if lf(c) != 0 and c not in used:\n",
    "#                 print(\"Example(\")\n",
    "#                 print(\"\\texplanation={},\".format(lf.__name__))\n",
    "#                 print(\"\\tcandidate={},\".format(hash(c)))\n",
    "#                 print(\"\\tdenotation={}\".format(lf(c)))\n",
    "#                 used.add(c)\n",
    "#                 found = True\n",
    "#                 break\n",
    "#         if not found:\n",
    "#             print(\"No candidate found for {}\".format(lf.__name__))\n",
    "#             found = True"
   ]
  },
  {
   "cell_type": "code",
   "execution_count": null,
   "metadata": {
    "collapsed": true
   },
   "outputs": [],
   "source": []
  }
 ],
 "metadata": {
  "anaconda-cloud": {},
  "kernelspec": {
   "display_name": "Python 2",
   "language": "python",
   "name": "python2"
  },
  "language_info": {
   "codemirror_mode": {
    "name": "ipython",
    "version": 2
   },
   "file_extension": ".py",
   "mimetype": "text/x-python",
   "name": "python",
   "nbconvert_exporter": "python",
   "pygments_lexer": "ipython2",
   "version": "2.7.13"
  }
 },
 "nbformat": 4,
 "nbformat_minor": 0
}
