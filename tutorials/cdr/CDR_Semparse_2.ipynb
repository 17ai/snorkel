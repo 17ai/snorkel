{
 "cells": [
  {
   "cell_type": "markdown",
   "metadata": {},
   "source": [
    "# Chemical-Disease Relation (CDR) Tutorial\n",
    "\n",
    "In this example, we'll be writing an application to extract *mentions of* **chemical-induced-disease relationships** from Pubmed abstracts, as per the [BioCreative CDR Challenge](http://www.biocreative.org/resources/corpora/biocreative-v-cdr-corpus/).  This tutorial will show off some of the more advanced features of Snorkel, so we'll assume you've followed the Intro tutorial."
   ]
  },
  {
   "cell_type": "markdown",
   "metadata": {},
   "source": [
    "Let's start by reloading from the last notebook."
   ]
  },
  {
   "cell_type": "code",
   "execution_count": 1,
   "metadata": {
    "collapsed": false
   },
   "outputs": [],
   "source": [
    "%load_ext autoreload\n",
    "%autoreload 2\n",
    "%matplotlib inline\n",
    "\n",
    "import os\n",
    "os.environ['SNORKELDB'] = 'postgres://localhost:5432/semparse_cdr'\n",
    "\n",
    "from snorkel import SnorkelSession\n",
    "session = SnorkelSession()"
   ]
  },
  {
   "cell_type": "code",
   "execution_count": 2,
   "metadata": {
    "collapsed": true
   },
   "outputs": [],
   "source": [
    "from snorkel.models import candidate_subclass\n",
    "\n",
    "ChemicalDisease = candidate_subclass('ChemicalDisease', ['chemical', 'disease'])\n",
    "\n",
    "train_cands = session.query(ChemicalDisease).filter(ChemicalDisease.split == 0).all()\n",
    "dev_cands = session.query(ChemicalDisease).filter(ChemicalDisease.split == 1).all()"
   ]
  },
  {
   "cell_type": "markdown",
   "metadata": {},
   "source": [
    "# Part III: Writing LFs\n",
    "\n",
    "This tutorial features some more advanced LFs than the intro tutorial, with more focus on distant supervision and dependencies between LFs."
   ]
  },
  {
   "cell_type": "markdown",
   "metadata": {},
   "source": [
    "### Distant supervision approaches"
   ]
  },
  {
   "cell_type": "markdown",
   "metadata": {},
   "source": [
    "We'll use the [Comparative Toxicogenomics Database](http://ctdbase.org/) (CTD) for distant supervision. The CTD lists chemical-condition entity pairs under three categories: therapy, marker, and unspecified. Therapy means the chemical treats the condition, marker means the chemical is typically present with the condition, and unspecified is...unspecified. We can write LFs based on these categories."
   ]
  },
  {
   "cell_type": "code",
   "execution_count": 3,
   "metadata": {
    "collapsed": true
   },
   "outputs": [],
   "source": [
    "import bz2\n",
    "import cPickle\n",
    "\n",
    "with bz2.BZ2File('data/ctd.pkl.bz2', 'rb') as ctd_f:\n",
    "    ctd_unspecified, ctd_therapy, ctd_marker = cPickle.load(ctd_f)"
   ]
  },
  {
   "cell_type": "code",
   "execution_count": 4,
   "metadata": {
    "collapsed": false
   },
   "outputs": [],
   "source": [
    "def cand_in_ctd_unspecified(c):\n",
    "    return 1 if c.get_cids() in ctd_unspecified else 0\n",
    "\n",
    "def cand_in_ctd_therapy(c):\n",
    "    return 1 if c.get_cids() in ctd_therapy else 0\n",
    "\n",
    "def cand_in_ctd_marker(c):\n",
    "    return 1 if c.get_cids() in ctd_marker else 0"
   ]
  },
  {
   "cell_type": "code",
   "execution_count": 5,
   "metadata": {
    "collapsed": true
   },
   "outputs": [],
   "source": [
    "def LF_in_ctd_unspecified(c):\n",
    "    return -1 * cand_in_ctd_unspecified(c)\n",
    "\n",
    "def LF_in_ctd_therapy(c):\n",
    "    return -1 * cand_in_ctd_therapy(c)\n",
    "\n",
    "def LF_in_ctd_marker(c):\n",
    "    return cand_in_ctd_marker(c)"
   ]
  },
  {
   "cell_type": "markdown",
   "metadata": {},
   "source": [
    "### Text pattern approaches\n",
    "\n",
    "Now we'll use some LF helpers to create LFs based on indicative text patterns. We came up with these rules by using the viewer to examine training candidates and noting frequent patterns."
   ]
  },
  {
   "cell_type": "code",
   "execution_count": 6,
   "metadata": {
    "collapsed": false
   },
   "outputs": [],
   "source": [
    "import re\n",
    "from snorkel.lf_helpers import (\n",
    "    get_tagged_text,\n",
    "    rule_regex_search_tagged_text,\n",
    "    rule_regex_search_btw_AB,\n",
    "    rule_regex_search_btw_BA,\n",
    "    rule_regex_search_before_A,\n",
    "    rule_regex_search_before_B,\n",
    ")\n",
    "\n",
    "# List to parenthetical\n",
    "def ltp(x):\n",
    "    return '(' + '|'.join(x) + ')'\n",
    "\n",
    "def LF_induce(c):\n",
    "    return 1 if re.search(r'{{A}}.{0,20}induc.{0,20}{{B}}', get_tagged_text(c), flags=re.I) else 0\n",
    "\n",
    "causal_past = ['induced', 'caused', 'due']\n",
    "def LF_d_induced_by_c(c):\n",
    "    return rule_regex_search_btw_BA(c, '.{0,50}' + ltp(causal_past) + '.{0,9}(by|to).{0,50}', 1)\n",
    "def LF_d_induced_by_c_tight(c):\n",
    "    return rule_regex_search_btw_BA(c, '.{0,50}' + ltp(causal_past) + ' (by|to) ', 1)\n",
    "\n",
    "def LF_induce_name(c):\n",
    "    return 1 if 'induc' in c.chemical.get_span().lower() else 0     \n",
    "\n",
    "causal = ['cause[sd]?', 'induce[sd]?', 'associated with']\n",
    "def LF_c_cause_d(c):\n",
    "    return 1 if (\n",
    "        re.search(r'{{A}}.{0,50} ' + ltp(causal) + '.{0,50}{{B}}', get_tagged_text(c), re.I)\n",
    "        and not re.search('{{A}}.{0,50}(not|no).{0,20}' + ltp(causal) + '.{0,50}{{B}}', get_tagged_text(c), re.I)\n",
    "    ) else 0\n",
    "\n",
    "treat = ['treat', 'effective', 'prevent', 'resistant', 'slow', 'promise', 'therap']\n",
    "def LF_d_treat_c(c):\n",
    "    return rule_regex_search_btw_BA(c, '.{0,50}' + ltp(treat) + '.{0,50}', -1)\n",
    "def LF_c_treat_d(c):\n",
    "    return rule_regex_search_btw_AB(c, '.{0,50}' + ltp(treat) + '.{0,50}', -1)\n",
    "def LF_treat_d(c):\n",
    "    return rule_regex_search_before_B(c, ltp(treat) + '.{0,50}', -1)\n",
    "def LF_c_treat_d_wide(c):\n",
    "    return rule_regex_search_btw_AB(c, '.{0,200}' + ltp(treat) + '.{0,200}', -1)\n",
    "\n",
    "def LF_c_d(c):\n",
    "    return 1 if ('{{A}} {{B}}' in get_tagged_text(c)) else 0\n",
    "\n",
    "def LF_c_induced_d(c):\n",
    "    return 1 if (\n",
    "        ('{{A}} {{B}}' in get_tagged_text(c)) and \n",
    "        (('-induc' in c[0].get_span().lower()) or ('-assoc' in c[0].get_span().lower()))\n",
    "        ) else 0\n",
    "\n",
    "def LF_improve_before_disease(c):\n",
    "    return rule_regex_search_before_B(c, 'improv.*', -1)\n",
    "\n",
    "pat_terms = ['in a patient with ', 'in patients with']\n",
    "def LF_in_patient_with(c):\n",
    "    return -1 if re.search(ltp(pat_terms) + '{{B}}', get_tagged_text(c), flags=re.I) else 0\n",
    "\n",
    "uncertain = ['combin', 'possible', 'unlikely']\n",
    "def LF_uncertain(c):\n",
    "    return rule_regex_search_before_A(c, ltp(uncertain) + '.*', -1)\n",
    "\n",
    "def LF_induced_other(c):\n",
    "    return rule_regex_search_tagged_text(c, '{{A}}.{20,1000}-induced {{B}}', -1)\n",
    "\n",
    "def LF_far_c_d(c):\n",
    "    return rule_regex_search_btw_AB(c, '.{100,5000}', -1)\n",
    "\n",
    "def LF_far_d_c(c):\n",
    "    return rule_regex_search_btw_BA(c, '.{100,5000}', -1)\n",
    "\n",
    "def LF_risk_d(c):\n",
    "    return rule_regex_search_before_B(c, 'risk of ', 1)\n",
    "\n",
    "def LF_develop_d_following_c(c):\n",
    "    return 1 if re.search(r'develop.{0,25}{{B}}.{0,25}following.{0,25}{{A}}', get_tagged_text(c), flags=re.I) else 0\n",
    "\n",
    "procedure, following = ['inject', 'administrat'], ['following']\n",
    "def LF_d_following_c(c):\n",
    "    return 1 if re.search('{{B}}.{0,50}' + ltp(following) + '.{0,20}{{A}}.{0,50}' + ltp(procedure), get_tagged_text(c), flags=re.I) else 0\n",
    "\n",
    "def LF_measure(c):\n",
    "    return -1 if re.search('measur.{0,75}{{A}}', get_tagged_text(c), flags=re.I) else 0\n",
    "\n",
    "def LF_level(c):\n",
    "    return -1 if re.search('{{A}}.{0,25} level', get_tagged_text(c), flags=re.I) else 0\n",
    "\n",
    "def LF_neg_d(c):\n",
    "    return -1 if re.search('(none|not|no) .{0,25}{{B}}', get_tagged_text(c), flags=re.I) else 0\n",
    "\n",
    "WEAK_PHRASES = ['none', 'although', 'was carried out', 'was conducted',\n",
    "                'seems', 'suggests', 'risk', 'implicated',\n",
    "               'the aim', 'to (investigate|assess|study)']\n",
    "\n",
    "WEAK_RGX = r'|'.join(WEAK_PHRASES)\n",
    "\n",
    "def LF_weak_assertions(c):\n",
    "    return -1 if re.search(WEAK_RGX, get_tagged_text(c), flags=re.I) else 0"
   ]
  },
  {
   "cell_type": "markdown",
   "metadata": {},
   "source": [
    "### Composite LFs\n",
    "\n",
    "The following LFs take some of the strongest distant supervision and text pattern LFs, and combine them to form more specific LFs. These LFs introduce some obvious dependencies within the LF set, which we will model later."
   ]
  },
  {
   "cell_type": "code",
   "execution_count": 7,
   "metadata": {
    "collapsed": true
   },
   "outputs": [],
   "source": [
    "def LF_ctd_marker_c_d(c):\n",
    "    return LF_c_d(c) * cand_in_ctd_marker(c)\n",
    "\n",
    "def LF_ctd_marker_induce(c):\n",
    "    return (LF_c_induced_d(c) or LF_d_induced_by_c_tight(c)) * cand_in_ctd_marker(c)\n",
    "\n",
    "def LF_ctd_therapy_treat(c):\n",
    "    return LF_c_treat_d_wide(c) * cand_in_ctd_therapy(c)\n",
    "\n",
    "def LF_ctd_unspecified_treat(c):\n",
    "    return LF_c_treat_d_wide(c) * cand_in_ctd_unspecified(c)\n",
    "\n",
    "def LF_ctd_unspecified_induce(c):\n",
    "    return (LF_c_induced_d(c) or LF_d_induced_by_c_tight(c)) * cand_in_ctd_unspecified(c)"
   ]
  },
  {
   "cell_type": "markdown",
   "metadata": {},
   "source": [
    "### Rules based on context hierarchy\n",
    "\n",
    "These last two rules will make use of the context hierarchy. The first checks if there is a chemical mention much closer to the candidate's disease mention than the candidate's chemical mention. The second does the analog for diseases."
   ]
  },
  {
   "cell_type": "code",
   "execution_count": 8,
   "metadata": {
    "collapsed": true
   },
   "outputs": [],
   "source": [
    "def LF_closer_chem(c):\n",
    "    # Get distance between chemical and disease\n",
    "    chem_start, chem_end = c.chemical.get_word_start(), c.chemical.get_word_end()\n",
    "    dis_start, dis_end = c.disease.get_word_start(), c.disease.get_word_end()\n",
    "    if dis_start < chem_start:\n",
    "        dist = chem_start - dis_end\n",
    "    else:\n",
    "        dist = dis_start - chem_end\n",
    "    # Try to find chemical closer than @dist/2 in either direction\n",
    "    sent = c.get_parent()\n",
    "    closest_other_chem = float('inf')\n",
    "    for i in range(dis_end, min(len(sent.words), dis_end + dist / 2)):\n",
    "        et, cid = sent.entity_types[i], sent.entity_cids[i]\n",
    "        if et == 'Chemical' and cid != sent.entity_cids[chem_start]:\n",
    "            return -1\n",
    "    for i in range(max(0, dis_start - dist / 2), dis_start):\n",
    "        et, cid = sent.entity_types[i], sent.entity_cids[i]\n",
    "        if et == 'Chemical' and cid != sent.entity_cids[chem_start]:\n",
    "            return -1\n",
    "    return 0\n",
    "\n",
    "def LF_closer_dis(c):\n",
    "    # Get distance between chemical and disease\n",
    "    chem_start, chem_end = c.chemical.get_word_start(), c.chemical.get_word_end()\n",
    "    dis_start, dis_end = c.disease.get_word_start(), c.disease.get_word_end()\n",
    "    if dis_start < chem_start:\n",
    "        dist = chem_start - dis_end\n",
    "    else:\n",
    "        dist = dis_start - chem_end\n",
    "    # Try to find chemical disease than @dist/8 in either direction\n",
    "    sent = c.get_parent()\n",
    "    for i in range(chem_end, min(len(sent.words), chem_end + dist / 8)):\n",
    "        et, cid = sent.entity_types[i], sent.entity_cids[i]\n",
    "        if et == 'Disease' and cid != sent.entity_cids[dis_start]:\n",
    "            return -1\n",
    "    for i in range(max(0, chem_start - dist / 8), chem_start):\n",
    "        et, cid = sent.entity_types[i], sent.entity_cids[i]\n",
    "        if et == 'Disease' and cid != sent.entity_cids[dis_start]:\n",
    "            return -1\n",
    "    return 0"
   ]
  },
  {
   "cell_type": "markdown",
   "metadata": {},
   "source": [
    "### Running the LFs on the training set"
   ]
  },
  {
   "cell_type": "code",
   "execution_count": 9,
   "metadata": {
    "collapsed": false
   },
   "outputs": [],
   "source": [
    "LFs = [\n",
    "    LF_c_cause_d,\n",
    "    LF_c_d,\n",
    "    LF_c_induced_d,\n",
    "    LF_c_treat_d,\n",
    "    LF_c_treat_d_wide,\n",
    "    LF_closer_chem,\n",
    "    LF_closer_dis,\n",
    "    LF_ctd_marker_c_d,\n",
    "    LF_ctd_marker_induce,\n",
    "    LF_ctd_therapy_treat,\n",
    "    LF_ctd_unspecified_treat,\n",
    "    LF_ctd_unspecified_induce,\n",
    "    LF_d_following_c,\n",
    "    LF_d_induced_by_c,\n",
    "    LF_d_induced_by_c_tight,\n",
    "    LF_d_treat_c,\n",
    "    LF_develop_d_following_c,\n",
    "    LF_far_c_d,\n",
    "    LF_far_d_c,\n",
    "    LF_improve_before_disease,\n",
    "    LF_in_ctd_unspecified,\n",
    "    LF_in_ctd_therapy,\n",
    "    LF_in_ctd_marker,\n",
    "    LF_in_patient_with,\n",
    "    LF_induce,\n",
    "    LF_induce_name,\n",
    "    LF_induced_other,\n",
    "    LF_level,\n",
    "    LF_measure,\n",
    "    LF_neg_d,\n",
    "    LF_risk_d,\n",
    "    LF_treat_d,\n",
    "    LF_uncertain,\n",
    "    LF_weak_assertions,\n",
    "]"
   ]
  },
  {
   "cell_type": "markdown",
   "metadata": {},
   "source": [
    "## Parse LFs - START"
   ]
  },
  {
   "cell_type": "code",
   "execution_count": 10,
   "metadata": {
    "collapsed": true
   },
   "outputs": [],
   "source": [
    "import bz2\n",
    "import cPickle\n",
    "if 'ctd_unspecified' not in globals():\n",
    "    with bz2.BZ2File('data/ctd.pkl.bz2', 'rb') as ctd_f:\n",
    "        ctd_unspecified, ctd_therapy, ctd_marker = cPickle.load(ctd_f)\n",
    "\n",
    "user_lists = {\n",
    "    'uncertain': ['combin', 'possible', 'unlikely'],\n",
    "    'causal': ['causes', 'caused', 'induce', 'induces', 'induced', 'associated with'],\n",
    "    'treat': ['treat', 'effective', 'prevent', 'resistant', 'slow', 'promise', 'therap'],\n",
    "    'procedure': ['inject', 'administrat'],\n",
    "    'patient': ['in a patient with', 'in patients with'],\n",
    "    'weak': ['none', 'although', 'was carried out', 'was conducted', 'seems', \n",
    "             'suggests', 'risk', 'implicated', 'the aim', 'to investigate',\n",
    "             'to assess', 'to study'],\n",
    "    'ctd_unspecified': ctd_unspecified,\n",
    "    'ctd_therapy': ctd_therapy,\n",
    "    'ctd_marker': ctd_marker,\n",
    "}    \n",
    "\n",
    "candidate_class = ChemicalDisease"
   ]
  },
  {
   "cell_type": "code",
   "execution_count": 12,
   "metadata": {
    "collapsed": false
   },
   "outputs": [],
   "source": [
    "from semparse_examples import get_examples\n",
    "\n",
    "examples = get_examples('semparse_cdr', train_cands)"
   ]
  },
  {
   "cell_type": "code",
   "execution_count": 13,
   "metadata": {
    "collapsed": false
   },
   "outputs": [
    {
     "name": "stdout",
     "output_type": "stream",
     "text": [
      "Created grammar with 297 rules\n",
      "CPU times: user 2.89 ms, sys: 9.15 ms, total: 12 ms\n",
      "Wall time: 16.8 ms\n"
     ]
    }
   ],
   "source": [
    "from snorkel.semantic import SemanticParser\n",
    "\n",
    "%time sp = SemanticParser(candidate_class, user_lists, absorb=False)"
   ]
  },
  {
   "cell_type": "code",
   "execution_count": 14,
   "metadata": {
    "collapsed": false,
    "scrolled": true
   },
   "outputs": [
    {
     "name": "stdout",
     "output_type": "stream",
     "text": [
      "CPU times: user 349 ms, sys: 14.8 ms, total: 364 ms\n",
      "Wall time: 643 ms\n"
     ]
    }
   ],
   "source": [
    "%time results = sp.evaluate(examples,\\\n",
    "                            show_everything=False,\\\n",
    "                            show_explanation=False,\\\n",
    "                            show_candidate=False,\\\n",
    "                            show_sentence=False,\\\n",
    "                            show_parse=False,\\\n",
    "                            show_passing=False,\\\n",
    "                            show_correct=False,\\\n",
    "                            pseudo_python=False,\\\n",
    "                            only=[])"
   ]
  },
  {
   "cell_type": "code",
   "execution_count": 15,
   "metadata": {
    "collapsed": false
   },
   "outputs": [
    {
     "name": "stdout",
     "output_type": "stream",
     "text": [
      "34\n"
     ]
    }
   ],
   "source": [
    "(correct, passing, failing, redundant, erroring, unknown) = sp.LFs\n",
    "LFs = correct\n",
    "LFs = LFs[:5] + [LF_closer_chem, LF_closer_dis] + LFs[5:]\n",
    "print(len(LFs))"
   ]
  },
  {
   "cell_type": "code",
   "execution_count": 16,
   "metadata": {
    "collapsed": false
   },
   "outputs": [
    {
     "name": "stdout",
     "output_type": "stream",
     "text": [
      "<function LF_c_cause_d_0 at 0x147ba6050>\n"
     ]
    }
   ],
   "source": [
    "# lf = LFs[0]\n",
    "# print(lf)"
   ]
  },
  {
   "cell_type": "code",
   "execution_count": 17,
   "metadata": {
    "collapsed": false,
    "scrolled": true
   },
   "outputs": [
    {
     "name": "stdout",
     "output_type": "stream",
     "text": [
      "========================================\n",
      "Scores (Un-adjusted)\n",
      "========================================\n",
      "Pos. class accuracy: 1.0\n",
      "Neg. class accuracy: 0.0\n",
      "Precision            0.564\n",
      "Recall               1.0\n",
      "F1                   0.721\n",
      "----------------------------------------\n",
      "TP: 62 | FP: 48 | TN: 0 | FN: 0\n",
      "========================================\n",
      "\n"
     ]
    }
   ],
   "source": [
    "# from snorkel.lf_helpers import test_LF\n",
    "\n",
    "# tp, fp, tn, fn = test_LF(session, lf, split=1, annotator_name='gold')"
   ]
  },
  {
   "cell_type": "markdown",
   "metadata": {},
   "source": [
    "## Parse LFs - STOP"
   ]
  },
  {
   "cell_type": "code",
   "execution_count": 18,
   "metadata": {
    "collapsed": false
   },
   "outputs": [],
   "source": [
    "from snorkel.annotations import LabelAnnotator\n",
    "labeler = LabelAnnotator(f=LFs)"
   ]
  },
  {
   "cell_type": "code",
   "execution_count": 19,
   "metadata": {
    "collapsed": false
   },
   "outputs": [
    {
     "name": "stdout",
     "output_type": "stream",
     "text": [
      "Clearing existing...\n",
      "Running UDF...\n",
      "CPU times: user 19.4 s, sys: 3.49 s, total: 22.9 s\n",
      "Wall time: 1min 53s\n"
     ]
    },
    {
     "data": {
      "text/plain": [
       "<8272x34 sparse matrix of type '<type 'numpy.float64'>'\n",
       "\twith 29496 stored elements in Compressed Sparse Row format>"
      ]
     },
     "execution_count": 19,
     "metadata": {},
     "output_type": "execute_result"
    }
   ],
   "source": [
    "%time L_train = labeler.apply(split=0, parallelism=6)\n",
    "L_train"
   ]
  },
  {
   "cell_type": "code",
   "execution_count": 20,
   "metadata": {
    "collapsed": false,
    "scrolled": true
   },
   "outputs": [
    {
     "data": {
      "text/html": [
       "<div>\n",
       "<table border=\"1\" class=\"dataframe\">\n",
       "  <thead>\n",
       "    <tr style=\"text-align: right;\">\n",
       "      <th></th>\n",
       "      <th>j</th>\n",
       "      <th>Coverage</th>\n",
       "      <th>Overlaps</th>\n",
       "      <th>Conflicts</th>\n",
       "    </tr>\n",
       "  </thead>\n",
       "  <tbody>\n",
       "    <tr>\n",
       "      <th>LF_c_cause_d_0</th>\n",
       "      <td>0</td>\n",
       "      <td>0.127780</td>\n",
       "      <td>0.125121</td>\n",
       "      <td>0.113878</td>\n",
       "    </tr>\n",
       "    <tr>\n",
       "      <th>LF_c_d_0</th>\n",
       "      <td>1</td>\n",
       "      <td>0.099130</td>\n",
       "      <td>0.096470</td>\n",
       "      <td>0.081601</td>\n",
       "    </tr>\n",
       "    <tr>\n",
       "      <th>LF_c_induced_d_0</th>\n",
       "      <td>2</td>\n",
       "      <td>0.075073</td>\n",
       "      <td>0.075073</td>\n",
       "      <td>0.063104</td>\n",
       "    </tr>\n",
       "    <tr>\n",
       "      <th>LF_c_treat_d_0</th>\n",
       "      <td>3</td>\n",
       "      <td>0.060324</td>\n",
       "      <td>0.060324</td>\n",
       "      <td>0.030222</td>\n",
       "    </tr>\n",
       "    <tr>\n",
       "      <th>LF_c_treat_d_wide_0</th>\n",
       "      <td>4</td>\n",
       "      <td>0.091030</td>\n",
       "      <td>0.090546</td>\n",
       "      <td>0.050169</td>\n",
       "    </tr>\n",
       "    <tr>\n",
       "      <th>LF_closer_chem</th>\n",
       "      <td>5</td>\n",
       "      <td>0.193303</td>\n",
       "      <td>0.185324</td>\n",
       "      <td>0.135759</td>\n",
       "    </tr>\n",
       "    <tr>\n",
       "      <th>LF_closer_dis</th>\n",
       "      <td>6</td>\n",
       "      <td>0.018133</td>\n",
       "      <td>0.017529</td>\n",
       "      <td>0.014869</td>\n",
       "    </tr>\n",
       "    <tr>\n",
       "      <th>LF_ctd_marker_c_d_0</th>\n",
       "      <td>7</td>\n",
       "      <td>0.091634</td>\n",
       "      <td>0.091634</td>\n",
       "      <td>0.078337</td>\n",
       "    </tr>\n",
       "    <tr>\n",
       "      <th>LF_ctd_marker_induce_0</th>\n",
       "      <td>8</td>\n",
       "      <td>0.114845</td>\n",
       "      <td>0.114845</td>\n",
       "      <td>0.100701</td>\n",
       "    </tr>\n",
       "    <tr>\n",
       "      <th>LF_ctd_therapy_treat_0</th>\n",
       "      <td>9</td>\n",
       "      <td>0.047872</td>\n",
       "      <td>0.047872</td>\n",
       "      <td>0.022727</td>\n",
       "    </tr>\n",
       "    <tr>\n",
       "      <th>LF_ctd_unspecified_treat_0</th>\n",
       "      <td>10</td>\n",
       "      <td>0.056697</td>\n",
       "      <td>0.056697</td>\n",
       "      <td>0.032882</td>\n",
       "    </tr>\n",
       "    <tr>\n",
       "      <th>LF_ctd_unspecified_induce_0</th>\n",
       "      <td>11</td>\n",
       "      <td>0.097195</td>\n",
       "      <td>0.097195</td>\n",
       "      <td>0.097195</td>\n",
       "    </tr>\n",
       "    <tr>\n",
       "      <th>LF_d_following_c_0</th>\n",
       "      <td>12</td>\n",
       "      <td>0.003143</td>\n",
       "      <td>0.003143</td>\n",
       "      <td>0.002780</td>\n",
       "    </tr>\n",
       "    <tr>\n",
       "      <th>LF_d_induced_by_c_0</th>\n",
       "      <td>13</td>\n",
       "      <td>0.058027</td>\n",
       "      <td>0.057664</td>\n",
       "      <td>0.052708</td>\n",
       "    </tr>\n",
       "    <tr>\n",
       "      <th>LF_d_induced_by_c_tight_0</th>\n",
       "      <td>14</td>\n",
       "      <td>0.022727</td>\n",
       "      <td>0.022727</td>\n",
       "      <td>0.019826</td>\n",
       "    </tr>\n",
       "    <tr>\n",
       "      <th>LF_d_treat_c_0</th>\n",
       "      <td>15</td>\n",
       "      <td>0.042070</td>\n",
       "      <td>0.039047</td>\n",
       "      <td>0.024299</td>\n",
       "    </tr>\n",
       "    <tr>\n",
       "      <th>LF_develop_d_following_c_0</th>\n",
       "      <td>16</td>\n",
       "      <td>0.002539</td>\n",
       "      <td>0.002418</td>\n",
       "      <td>0.002176</td>\n",
       "    </tr>\n",
       "    <tr>\n",
       "      <th>LF_far_c_d_0</th>\n",
       "      <td>17</td>\n",
       "      <td>0.117747</td>\n",
       "      <td>0.115450</td>\n",
       "      <td>0.081721</td>\n",
       "    </tr>\n",
       "    <tr>\n",
       "      <th>LF_far_d_c_0</th>\n",
       "      <td>18</td>\n",
       "      <td>0.091151</td>\n",
       "      <td>0.086557</td>\n",
       "      <td>0.060566</td>\n",
       "    </tr>\n",
       "    <tr>\n",
       "      <th>LF_improve_before_disease_0</th>\n",
       "      <td>19</td>\n",
       "      <td>0.008946</td>\n",
       "      <td>0.008221</td>\n",
       "      <td>0.005924</td>\n",
       "    </tr>\n",
       "    <tr>\n",
       "      <th>LF_in_ctd_unspecified_0</th>\n",
       "      <td>20</td>\n",
       "      <td>0.666707</td>\n",
       "      <td>0.628506</td>\n",
       "      <td>0.505198</td>\n",
       "    </tr>\n",
       "    <tr>\n",
       "      <th>LF_in_ctd_therapy_0</th>\n",
       "      <td>21</td>\n",
       "      <td>0.296905</td>\n",
       "      <td>0.284816</td>\n",
       "      <td>0.193544</td>\n",
       "    </tr>\n",
       "    <tr>\n",
       "      <th>LF_in_ctd_marker_0</th>\n",
       "      <td>22</td>\n",
       "      <td>0.610977</td>\n",
       "      <td>0.560445</td>\n",
       "      <td>0.531069</td>\n",
       "    </tr>\n",
       "    <tr>\n",
       "      <th>LF_in_patient_with_0</th>\n",
       "      <td>23</td>\n",
       "      <td>0.013781</td>\n",
       "      <td>0.012452</td>\n",
       "      <td>0.005924</td>\n",
       "    </tr>\n",
       "    <tr>\n",
       "      <th>LF_induce_0</th>\n",
       "      <td>24</td>\n",
       "      <td>0.142166</td>\n",
       "      <td>0.141683</td>\n",
       "      <td>0.140474</td>\n",
       "    </tr>\n",
       "    <tr>\n",
       "      <th>LF_induce_name_0</th>\n",
       "      <td>25</td>\n",
       "      <td>0.119802</td>\n",
       "      <td>0.117263</td>\n",
       "      <td>0.102998</td>\n",
       "    </tr>\n",
       "    <tr>\n",
       "      <th>LF_induced_other_0</th>\n",
       "      <td>26</td>\n",
       "      <td>0.128022</td>\n",
       "      <td>0.128022</td>\n",
       "      <td>0.128022</td>\n",
       "    </tr>\n",
       "    <tr>\n",
       "      <th>LF_level_0</th>\n",
       "      <td>27</td>\n",
       "      <td>0.005077</td>\n",
       "      <td>0.004715</td>\n",
       "      <td>0.002660</td>\n",
       "    </tr>\n",
       "    <tr>\n",
       "      <th>LF_measure_0</th>\n",
       "      <td>28</td>\n",
       "      <td>0.007374</td>\n",
       "      <td>0.006286</td>\n",
       "      <td>0.003506</td>\n",
       "    </tr>\n",
       "    <tr>\n",
       "      <th>LF_neg_d_0</th>\n",
       "      <td>29</td>\n",
       "      <td>0.018617</td>\n",
       "      <td>0.017045</td>\n",
       "      <td>0.012210</td>\n",
       "    </tr>\n",
       "    <tr>\n",
       "      <th>LF_risk_d_0</th>\n",
       "      <td>30</td>\n",
       "      <td>0.014990</td>\n",
       "      <td>0.014990</td>\n",
       "      <td>0.014990</td>\n",
       "    </tr>\n",
       "    <tr>\n",
       "      <th>LF_treat_d_0</th>\n",
       "      <td>31</td>\n",
       "      <td>0.017529</td>\n",
       "      <td>0.017408</td>\n",
       "      <td>0.010034</td>\n",
       "    </tr>\n",
       "    <tr>\n",
       "      <th>LF_uncertain_0</th>\n",
       "      <td>32</td>\n",
       "      <td>0.031190</td>\n",
       "      <td>0.030222</td>\n",
       "      <td>0.017650</td>\n",
       "    </tr>\n",
       "    <tr>\n",
       "      <th>LF_weak_assertions_0</th>\n",
       "      <td>33</td>\n",
       "      <td>0.073259</td>\n",
       "      <td>0.069632</td>\n",
       "      <td>0.054038</td>\n",
       "    </tr>\n",
       "  </tbody>\n",
       "</table>\n",
       "</div>"
      ],
      "text/plain": [
       "                              j  Coverage  Overlaps  Conflicts\n",
       "LF_c_cause_d_0                0  0.127780  0.125121   0.113878\n",
       "LF_c_d_0                      1  0.099130  0.096470   0.081601\n",
       "LF_c_induced_d_0              2  0.075073  0.075073   0.063104\n",
       "LF_c_treat_d_0                3  0.060324  0.060324   0.030222\n",
       "LF_c_treat_d_wide_0           4  0.091030  0.090546   0.050169\n",
       "LF_closer_chem                5  0.193303  0.185324   0.135759\n",
       "LF_closer_dis                 6  0.018133  0.017529   0.014869\n",
       "LF_ctd_marker_c_d_0           7  0.091634  0.091634   0.078337\n",
       "LF_ctd_marker_induce_0        8  0.114845  0.114845   0.100701\n",
       "LF_ctd_therapy_treat_0        9  0.047872  0.047872   0.022727\n",
       "LF_ctd_unspecified_treat_0   10  0.056697  0.056697   0.032882\n",
       "LF_ctd_unspecified_induce_0  11  0.097195  0.097195   0.097195\n",
       "LF_d_following_c_0           12  0.003143  0.003143   0.002780\n",
       "LF_d_induced_by_c_0          13  0.058027  0.057664   0.052708\n",
       "LF_d_induced_by_c_tight_0    14  0.022727  0.022727   0.019826\n",
       "LF_d_treat_c_0               15  0.042070  0.039047   0.024299\n",
       "LF_develop_d_following_c_0   16  0.002539  0.002418   0.002176\n",
       "LF_far_c_d_0                 17  0.117747  0.115450   0.081721\n",
       "LF_far_d_c_0                 18  0.091151  0.086557   0.060566\n",
       "LF_improve_before_disease_0  19  0.008946  0.008221   0.005924\n",
       "LF_in_ctd_unspecified_0      20  0.666707  0.628506   0.505198\n",
       "LF_in_ctd_therapy_0          21  0.296905  0.284816   0.193544\n",
       "LF_in_ctd_marker_0           22  0.610977  0.560445   0.531069\n",
       "LF_in_patient_with_0         23  0.013781  0.012452   0.005924\n",
       "LF_induce_0                  24  0.142166  0.141683   0.140474\n",
       "LF_induce_name_0             25  0.119802  0.117263   0.102998\n",
       "LF_induced_other_0           26  0.128022  0.128022   0.128022\n",
       "LF_level_0                   27  0.005077  0.004715   0.002660\n",
       "LF_measure_0                 28  0.007374  0.006286   0.003506\n",
       "LF_neg_d_0                   29  0.018617  0.017045   0.012210\n",
       "LF_risk_d_0                  30  0.014990  0.014990   0.014990\n",
       "LF_treat_d_0                 31  0.017529  0.017408   0.010034\n",
       "LF_uncertain_0               32  0.031190  0.030222   0.017650\n",
       "LF_weak_assertions_0         33  0.073259  0.069632   0.054038"
      ]
     },
     "execution_count": 20,
     "metadata": {},
     "output_type": "execute_result"
    }
   ],
   "source": [
    "L_train.lf_stats(session)"
   ]
  },
  {
   "cell_type": "markdown",
   "metadata": {},
   "source": [
    "# Part IV: Training the generative model\n",
    "\n",
    "As mentioned above, we want to include the dependencies between our LFs when training the generative model. Snorkel makes it easy to do this! `DependencySelector` runs a fast structure learning algorithm over the matrix of LF outputs to identify a set of likely dependencies. We can see that these match up with our prior knowledge. For example, it identified a \"reinforcing\" dependency between `LF_c_induced_d` and `LF_ctd_marker_induce`. Recall that we constructed the latter using the former."
   ]
  },
  {
   "cell_type": "code",
   "execution_count": 21,
   "metadata": {
    "collapsed": false
   },
   "outputs": [],
   "source": [
    "# from snorkel.learning.structure import DependencySelector\n",
    "# ds = DependencySelector()\n",
    "# deps = ds.select(L_train, threshold=1.0/3.0)\n",
    "# deps\n",
    "deps = ()"
   ]
  },
  {
   "cell_type": "markdown",
   "metadata": {},
   "source": [
    "Now we'll train the generative model, using the `deps` argument to account for the learned dependencies. We'll also model LF propensity here, unlike the intro tutorial. In addition to learning the accuracies of the LFs, this also learns their likelihood of labeling an example."
   ]
  },
  {
   "cell_type": "code",
   "execution_count": 22,
   "metadata": {
    "collapsed": false
   },
   "outputs": [
    {
     "name": "stdout",
     "output_type": "stream",
     "text": [
      "CPU times: user 32.8 s, sys: 209 ms, total: 33 s\n",
      "Wall time: 33 s\n"
     ]
    }
   ],
   "source": [
    "%%time\n",
    "\n",
    "from snorkel.learning import GenerativeModel\n",
    "\n",
    "gen_model = GenerativeModel(lf_propensity=True)\n",
    "gen_model.train(\n",
    "    L_train, deps=deps, epochs=20, decay=0.95, step_size=0.1/L_train.shape[0], \n",
    "    init_acc=2.0, reg_param=0.0\n",
    ")"
   ]
  },
  {
   "cell_type": "code",
   "execution_count": 23,
   "metadata": {
    "collapsed": true
   },
   "outputs": [],
   "source": [
    "train_marginals = gen_model.marginals(L_train)"
   ]
  },
  {
   "cell_type": "code",
   "execution_count": 24,
   "metadata": {
    "collapsed": false
   },
   "outputs": [
    {
     "data": {
      "image/png": "[encoded data removed]",
      "text/plain": [
       "<matplotlib.figure.Figure at 0x14940df50>"
      ]
     },
     "metadata": {},
     "output_type": "display_data"
    }
   ],
   "source": [
    "import matplotlib.pyplot as plt\n",
    "plt.hist(train_marginals, bins=20)\n",
    "plt.show()"
   ]
  },
  {
   "cell_type": "code",
   "execution_count": 25,
   "metadata": {
    "collapsed": false
   },
   "outputs": [
    {
     "data": {
      "text/plain": [
       "array([ 0.64632962,  0.66372786,  0.65853369,  0.66394466,  0.66396941,\n",
       "        0.68720206,  0.63947057,  0.68040197,  0.68850283,  0.66323551,\n",
       "        0.66530459,  0.66720142,  0.64007957,  0.64998586,  0.64696196,\n",
       "        0.65490857,  0.65030488,  0.67363973,  0.66023078,  0.64615381,\n",
       "        0.72677843,  0.69858488,  0.61173863,  0.64285928,  0.62759159,\n",
       "        0.65377299,  0.64876585,  0.64664256,  0.64341639,  0.65185003,\n",
       "        0.63828575,  0.63881788,  0.64713675,  0.66562394])"
      ]
     },
     "execution_count": 25,
     "metadata": {},
     "output_type": "execute_result"
    }
   ],
   "source": [
    "gen_model.weights.lf_accuracy()"
   ]
  },
  {
   "cell_type": "code",
   "execution_count": 26,
   "metadata": {
    "collapsed": false
   },
   "outputs": [
    {
     "name": "stdout",
     "output_type": "stream",
     "text": [
      "Saved 8272 training marginals\n"
     ]
    }
   ],
   "source": [
    "from snorkel.annotations import save_marginals\n",
    "save_marginals(session, L_train, train_marginals)"
   ]
  },
  {
   "cell_type": "markdown",
   "metadata": {},
   "source": [
    "### Checking performance against development set labels\n",
    "\n",
    "Finally, we'll run the labeler on the development set, load in some external labels, then evaluate the LF performance. The external labels are applied via a small script for convenience. It maps the document-level relation annotations found in the CDR file to mention-level labels. Note that these will not be perfect, although they are pretty good. If we wanted to keep iterating, we could use `snorkel.lf_helpers.test_LF` against the dev set, or look at some false positive and false negative candidates."
   ]
  },
  {
   "cell_type": "code",
   "execution_count": 27,
   "metadata": {
    "collapsed": false
   },
   "outputs": [
    {
     "name": "stdout",
     "output_type": "stream",
     "text": [
      "AnnotatorLabels created: 0\n"
     ]
    }
   ],
   "source": [
    "from load_external_annotations import load_external_labels\n",
    "load_external_labels(session, ChemicalDisease, split=1, annotator='gold')"
   ]
  },
  {
   "cell_type": "code",
   "execution_count": 28,
   "metadata": {
    "collapsed": false
   },
   "outputs": [
    {
     "name": "stdout",
     "output_type": "stream",
     "text": [
      "CPU times: user 21.1 ms, sys: 1.54 ms, total: 22.7 ms\n",
      "Wall time: 24.4 ms\n"
     ]
    },
    {
     "data": {
      "text/plain": [
       "<888x1 sparse matrix of type '<type 'numpy.float64'>'\n",
       "\twith 888 stored elements in Compressed Sparse Row format>"
      ]
     },
     "execution_count": 28,
     "metadata": {},
     "output_type": "execute_result"
    }
   ],
   "source": [
    "from snorkel.annotations import load_gold_labels\n",
    "%time L_gold_dev = load_gold_labels(session, annotator_name='gold', split=1)\n",
    "L_gold_dev"
   ]
  },
  {
   "cell_type": "code",
   "execution_count": 29,
   "metadata": {
    "collapsed": false
   },
   "outputs": [
    {
     "name": "stdout",
     "output_type": "stream",
     "text": [
      "Clearing existing...\n",
      "Running UDF...\n",
      "CPU times: user 1.88 s, sys: 345 ms, total: 2.22 s\n",
      "Wall time: 14.6 s\n"
     ]
    }
   ],
   "source": [
    "%time L_dev = labeler.apply(split=1, parallelism=6)"
   ]
  },
  {
   "cell_type": "code",
   "execution_count": 1,
   "metadata": {
    "collapsed": false,
    "scrolled": false
   },
   "outputs": [
    {
     "ename": "NameError",
     "evalue": "name 'L_dev' is not defined",
     "output_type": "error",
     "traceback": [
      "\u001b[0;31m---------------------------------------------------------------------------\u001b[0m",
      "\u001b[0;31mNameError\u001b[0m                                 Traceback (most recent call last)",
      "\u001b[0;32m<ipython-input-1-880a540a1b8a>\u001b[0m in \u001b[0;36m<module>\u001b[0;34m()\u001b[0m\n\u001b[0;32m----> 1\u001b[0;31m \u001b[0;32mprint\u001b[0m\u001b[0;34m(\u001b[0m\u001b[0mL_dev\u001b[0m\u001b[0;34m.\u001b[0m\u001b[0mlf_stats\u001b[0m\u001b[0;34m(\u001b[0m\u001b[0msession\u001b[0m\u001b[0;34m,\u001b[0m \u001b[0mL_gold_dev\u001b[0m\u001b[0;34m,\u001b[0m \u001b[0mgen_model\u001b[0m\u001b[0;34m.\u001b[0m\u001b[0mweights\u001b[0m\u001b[0;34m.\u001b[0m\u001b[0mlf_accuracy\u001b[0m\u001b[0;34m(\u001b[0m\u001b[0;34m)\u001b[0m\u001b[0;34m)\u001b[0m\u001b[0;34m)\u001b[0m\u001b[0;34m\u001b[0m\u001b[0m\n\u001b[0m",
      "\u001b[0;31mNameError\u001b[0m: name 'L_dev' is not defined"
     ]
    }
   ],
   "source": [
    "L_dev.lf_stats(session, L_gold_dev, gen_model.weights.lf_accuracy())"
   ]
  },
  {
   "cell_type": "markdown",
   "metadata": {},
   "source": [
    "# Majority Vote"
   ]
  },
  {
   "cell_type": "code",
   "execution_count": 31,
   "metadata": {
    "collapsed": false
   },
   "outputs": [],
   "source": [
    "# L_train"
   ]
  },
  {
   "cell_type": "code",
   "execution_count": 32,
   "metadata": {
    "collapsed": false
   },
   "outputs": [],
   "source": [
    "# import numpy as np\n",
    "# train_marginals = np.asarray(np.sum(L_train, axis=1)).reshape(-1)\n",
    "# train_marginals.shape"
   ]
  },
  {
   "cell_type": "code",
   "execution_count": 33,
   "metadata": {
    "collapsed": false
   },
   "outputs": [],
   "source": [
    "# from snorkel.annotations import save_marginals\n",
    "# save_marginals(session, L_train, train_marginals)"
   ]
  },
  {
   "cell_type": "markdown",
   "metadata": {},
   "source": [
    "# Finding Examples"
   ]
  },
  {
   "cell_type": "code",
   "execution_count": 34,
   "metadata": {
    "collapsed": false
   },
   "outputs": [],
   "source": [
    "# print len(train_cands)"
   ]
  },
  {
   "cell_type": "code",
   "execution_count": 35,
   "metadata": {
    "collapsed": false,
    "scrolled": true
   },
   "outputs": [],
   "source": [
    "# used = set()\n",
    "# for lf in LFs:\n",
    "#     found = False\n",
    "#     while not found:\n",
    "#         for c in train_cands:\n",
    "#             if lf(c) != 0 and c not in used:\n",
    "#                 print(\"Example(\")\n",
    "#                 print(\"\\texplanation={},\".format(lf.__name__))\n",
    "#                 print(\"\\tcandidate={},\".format(hash(c)))\n",
    "#                 print(\"\\tdenotation={}\".format(lf(c)))\n",
    "#                 used.add(c)\n",
    "#                 found = True\n",
    "#                 break\n",
    "#         if not found:\n",
    "#             print(\"No candidate found for {}\".format(lf.__name__))\n",
    "#             found = True"
   ]
  },
  {
   "cell_type": "code",
   "execution_count": null,
   "metadata": {
    "collapsed": true
   },
   "outputs": [],
   "source": []
  }
 ],
 "metadata": {
  "anaconda-cloud": {},
  "kernelspec": {
   "display_name": "Python 2",
   "language": "python",
   "name": "python2"
  },
  "language_info": {
   "codemirror_mode": {
    "name": "ipython",
    "version": 2
   },
   "file_extension": ".py",
   "mimetype": "text/x-python",
   "name": "python",
   "nbconvert_exporter": "python",
   "pygments_lexer": "ipython2",
   "version": "2.7.13"
  }
 },
 "nbformat": 4,
 "nbformat_minor": 0
}
