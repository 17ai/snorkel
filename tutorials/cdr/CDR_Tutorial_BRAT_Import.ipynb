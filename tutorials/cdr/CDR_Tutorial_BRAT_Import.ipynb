{
 "cells": [
  {
   "cell_type": "markdown",
   "metadata": {},
   "source": [
    "# BRAT Rapid Annotation Tool\n",
    "## Importing BRAT Applications"
   ]
  },
  {
   "cell_type": "code",
   "execution_count": 1,
   "metadata": {
    "collapsed": false
   },
   "outputs": [],
   "source": [
    "import os\n",
    "os.environ['SNORKELDB'] = 'sqlite:///brat-import.db'\n",
    "\n",
    "from snorkel import SnorkelSession\n",
    "from snorkel.contrib.brat import *\n",
    "from snorkel.parser import StanfordCoreNLPServer\n",
    "from snorkel.models import Candidate, Document, candidate_subclass, GoldLabel\n",
    "\n",
    "session = SnorkelSession()"
   ]
  },
  {
   "cell_type": "code",
   "execution_count": 2,
   "metadata": {
    "collapsed": false
   },
   "outputs": [],
   "source": [
    "corenlp_server = StanfordCoreNLPServer(version='3.6.0', split_newline=False, num_threads=1)"
   ]
  },
  {
   "cell_type": "code",
   "execution_count": 3,
   "metadata": {
    "collapsed": true
   },
   "outputs": [],
   "source": [
    "brat = Brat(session)"
   ]
  },
  {
   "cell_type": "code",
   "execution_count": 4,
   "metadata": {
    "collapsed": false
   },
   "outputs": [
    {
     "name": "stdout",
     "output_type": "stream",
     "text": [
      "Clearing existing...\n",
      "Running UDF...\n",
      "CREATED TYPE Entity(Protein,[protein])\n",
      "CREATED TYPE Entity(Entity,[entity])\n",
      "CREATED TYPE Relation(Equiv,['protein1', 'protein2'])\n",
      "CREATED TYPE Relation(ProteinComponent,['entity', 'protein'])\n",
      "CREATED TYPE Relation(SubunitComplex,['entity', 'protein'])\n",
      "CREATED TYPE Relation(EntityNesting,['entity', 'protein'])\n",
      "Table 'entity_nesting' is already defined for this MetaData instance.  Specify 'extend_existing=True' to redefine options and columns on an existing Table object.\n"
     ]
    }
   ],
   "source": [
    "input_dir = \"data/BioNLP-ST_2011_REL/\"\n",
    "brat.import_project(input_dir, annotations_only=False, annotator_name='brat', num_threads=1, parser=corenlp_server)"
   ]
  },
  {
   "cell_type": "code",
   "execution_count": 5,
   "metadata": {
    "collapsed": false
   },
   "outputs": [
    {
     "name": "stdout",
     "output_type": "stream",
     "text": [
      "252\n",
      "Protein.type Protein(Span(\"AhR\", sentence=109, chars=[0,2], words=[0,0]))\n",
      "Protein.type Protein(Span(\"AhR\", sentence=111, chars=[37,39], words=[6,6]))\n",
      "Protein.type Protein(Span(\"AhR\", sentence=108, chars=[30,32], words=[5,5]))\n",
      "Protein.type Protein(Span(\"P450IA1\", sentence=108, chars=[121,127], words=[20,20]))\n",
      "Protein.type Protein(Span(\"TCDD receptor\", sentence=106, chars=[65,77], words=[12,13]))\n",
      "Protein.type Protein(Span(\"Ah receptor\", sentence=107, chars=[154,164], words=[26,27]))\n",
      "Protein.type Protein(Span(\"TCDD receptor\", sentence=105, chars=[27,39], words=[5,6]))\n",
      "\n",
      "4\n",
      "SubunitComplex.type SubunitComplex(Span(\"NF-kappa B\", sentence=125, chars=[43,52], words=[7,8]), Span(\"p50\", sentence=125, chars=[89,91], words=[19,19]))\n",
      "SubunitComplex.type SubunitComplex(Span(\"NF-kappa B\", sentence=125, chars=[43,52], words=[7,8]), Span(\"p65\", sentence=125, chars=[73,75], words=[13,13]))\n",
      "SubunitComplex.type SubunitComplex(Span(\"NF-kappa B\", sentence=125, chars=[43,52], words=[7,8]), Span(\"c-Rel\", sentence=125, chars=[66,70], words=[11,11]))\n",
      "SubunitComplex.type SubunitComplex(Span(\"complex\", sentence=174, chars=[121,127], words=[18,18]), Span(\"26S proteasome\", sentence=174, chars=[106,119], words=[16,17]))\n",
      "\n",
      "40\n",
      "ProteinComponent.type ProteinComponent(Span(\"promoter\", sentence=53, chars=[160,167], words=[29,29]), Span(\"MBP\", sentence=53, chars=[156,158], words=[28,28]))\n",
      "ProteinComponent.type ProteinComponent(Span(\"GATA-binding site\", sentence=46, chars=[151,167], words=[23,24]), Span(\"MBP\", sentence=46, chars=[176,178], words=[27,27]))\n",
      "ProteinComponent.type ProteinComponent(Span(\"promoter\", sentence=49, chars=[137,144], words=[23,23]), Span(\"MBP\", sentence=49, chars=[133,135], words=[22,22]))\n",
      "ProteinComponent.type ProteinComponent(Span(\"promoter\", sentence=50, chars=[138,145], words=[25,25]), Span(\"MBP\", sentence=50, chars=[134,136], words=[24,24]))\n",
      "ProteinComponent.type ProteinComponent(Span(\"C/EBP (CCAAT/enhancer-binding protein) consensus binding site\", sentence=46, chars=[57,117], words=[9,16]), Span(\"MBP\", sentence=46, chars=[176,178], words=[27,27]))\n",
      "ProteinComponent.type ProteinComponent(Span(\"promoter\", sentence=48, chars=[162,169], words=[28,28]), Span(\"MBP\", sentence=48, chars=[158,160], words=[27,27]))\n",
      "ProteinComponent.type ProteinComponent(Span(\"C/EBP (CCAAT/enhancer-binding protein) consensus binding site\", sentence=46, chars=[57,117], words=[9,16]), Span(\"MBP\", sentence=46, chars=[24,26], words=[4,4]))\n",
      "\n",
      "200\n",
      "Entity.type Entity(Span(\"C/EBP (CCAAT/enhancer-binding protein) consensus binding site\", sentence=46, chars=[57,117], words=[9,16]))\n",
      "Entity.type Entity(Span(\"GATA-binding site\", sentence=46, chars=[151,167], words=[23,24]))\n",
      "Entity.type Entity(Span(\"eosinophil gene\", sentence=43, chars=[149,163], words=[20,21]))\n",
      "Entity.type Entity(Span(\"promoter region\", sentence=46, chars=[28,42], words=[5,6]))\n",
      "Entity.type Entity(Span(\"promoter\", sentence=43, chars=[101,108], words=[13,13]))\n",
      "Entity.type Entity(Span(\"eosinophil-specific granule protein gene\", sentence=54, chars=[119,158], words=[17,20]))\n",
      "Entity.type Entity(Span(\"promoter\", sentence=54, chars=[104,111], words=[14,14]))\n",
      "\n",
      "0\n",
      "\n",
      "0\n",
      "\n"
     ]
    }
   ],
   "source": [
    "# each entity/relation type is assigned to a different split\n",
    "for i in range(0,6):\n",
    "    candidates = session.query(Candidate).filter(Candidate.split == i).all()\n",
    "    print len(candidates)\n",
    "    for i,c in enumerate(candidates):\n",
    "        print type(c).type, c\n",
    "        if i > 5:\n",
    "            break\n",
    "    print\n",
    "    \n",
    "# ProteinComponent relations\n",
    "candidates = session.query(Candidate).filter(Candidate.split == 2).all()"
   ]
  },
  {
   "cell_type": "code",
   "execution_count": null,
   "metadata": {
    "collapsed": false
   },
   "outputs": [],
   "source": [
    "from snorkel.viewer import SentenceNgramViewer\n",
    "\n",
    "sv = SentenceNgramViewer(candidates, session=session, n_per_page=1, height=225,\n",
    "                         annotator_name='brat')\n",
    "sv"
   ]
  },
  {
   "cell_type": "code",
   "execution_count": null,
   "metadata": {
    "collapsed": true
   },
   "outputs": [],
   "source": []
  }
 ],
 "metadata": {
  "kernelspec": {
   "display_name": "Python 2",
   "language": "python",
   "name": "python2"
  },
  "language_info": {
   "codemirror_mode": {
    "name": "ipython",
    "version": 2
   },
   "file_extension": ".py",
   "mimetype": "text/x-python",
   "name": "python",
   "nbconvert_exporter": "python",
   "pygments_lexer": "ipython2",
   "version": "2.7.13"
  },
  "widgets": {
   "state": {
    "49c7503e7852402bb2adcff6db4e29fc": {
     "views": [
      {
       "cell_index": 13
      }
     ]
    }
   },
   "version": "1.2.0"
  }
 },
 "nbformat": 4,
 "nbformat_minor": 2
}
