{
 "cells": [
  {
   "cell_type": "code",
   "execution_count": null,
   "metadata": {
    "collapsed": true
   },
   "outputs": [],
   "source": [
    "# import sys, os\n",
    "# sys.path.append(os.environ['SNORKELHOME'] + '/tutorials/cdr')"
   ]
  },
  {
   "cell_type": "code",
   "execution_count": 1,
   "metadata": {
    "collapsed": false,
    "scrolled": true
   },
   "outputs": [
    {
     "name": "stdout",
     "output_type": "stream",
     "text": [
      "Sqlite database snorkel_good4.db copied\n"
     ]
    }
   ],
   "source": [
    "import os\n",
    "\n",
    "db = 'snorkel_good4.db'\n",
    "\n",
    "if db:\n",
    "    if db.endswith('.db'):\n",
    "        os.system('cp {} snorkel.db'.format(db))\n",
    "        print(\"Sqlite database {} copied\".format(db))\n",
    "    else:\n",
    "        os.environ['SNORKELDB'] = 'postgres://localhost:5432/' + db\n",
    "        print(\"Postgres database {} connected\".format(db))\n",
    "else:\n",
    "    print(\"Using sqlite.db\".format(db))\n",
    "    \n",
    "from snorkel import SnorkelSession\n",
    "session = SnorkelSession()\n",
    "\n",
    "from snorkel.models import snorkel_postgres\n",
    "if not db.endswith('db') and not snorkel_postgres:\n",
    "    raise Exception(\"Connection to PostgreSQL failed\")"
   ]
  },
  {
   "cell_type": "code",
   "execution_count": 2,
   "metadata": {
    "collapsed": false,
    "scrolled": true
   },
   "outputs": [],
   "source": [
    "from snorkel.semantic import configuration\n",
    "\n",
    "config = configuration\n",
    "config['source'] = 'py'\n",
    "config['parallelism'] = 1\n",
    "config['beam_width'] = 10\n",
    "config['paraphrases'] = False\n",
    "config['filter_redundant_signatures'] = True\n",
    "config['filter_uniform_labels'] = True\n",
    "config['majority_vote'] = True\n",
    "config['model_dep'] = False\n",
    "config['n_epochs'] = 50\n",
    "config['n_search'] = 10"
   ]
  },
  {
   "cell_type": "code",
   "execution_count": 3,
   "metadata": {
    "collapsed": false,
    "scrolled": true
   },
   "outputs": [],
   "source": [
    "from snorkel.models import candidate_subclass\n",
    "ChemicalDisease = candidate_subclass('ChemicalDisease', ['chemical', 'disease'])"
   ]
  },
  {
   "cell_type": "code",
   "execution_count": 4,
   "metadata": {
    "collapsed": false,
    "scrolled": false
   },
   "outputs": [],
   "source": [
    "from snorkel.semantic import CDRModel\n",
    "sm = CDRModel(session, ChemicalDisease, config)"
   ]
  },
  {
   "cell_type": "code",
   "execution_count": null,
   "metadata": {
    "collapsed": false,
    "scrolled": false
   },
   "outputs": [],
   "source": [
    "%time sm.parse()"
   ]
  },
  {
   "cell_type": "code",
   "execution_count": null,
   "metadata": {
    "collapsed": false,
    "scrolled": true
   },
   "outputs": [],
   "source": [
    "%time sm.extract()"
   ]
  },
  {
   "cell_type": "code",
   "execution_count": null,
   "metadata": {
    "collapsed": false,
    "scrolled": false
   },
   "outputs": [],
   "source": [
    "%time sm.load_gold()"
   ]
  },
  {
   "cell_type": "code",
   "execution_count": null,
   "metadata": {
    "collapsed": false,
    "scrolled": false
   },
   "outputs": [],
   "source": [
    "%time sm.featurize()"
   ]
  },
  {
   "cell_type": "code",
   "execution_count": 5,
   "metadata": {
    "collapsed": false,
    "scrolled": true
   },
   "outputs": [
    {
     "name": "stdout",
     "output_type": "stream",
     "text": [
      "WARNING: you are removing two of the original LFs\n",
      "Using 30 LFs\n",
      "CPU times: user 17.4 s, sys: 296 ms, total: 17.7 s\n",
      "Wall time: 17.7 s\n"
     ]
    }
   ],
   "source": [
    "%time sm.generate_lfs()"
   ]
  },
  {
   "cell_type": "code",
   "execution_count": 6,
   "metadata": {
    "collapsed": false,
    "scrolled": false
   },
   "outputs": [
    {
     "name": "stdout",
     "output_type": "stream",
     "text": [
      "Clearing existing...\n",
      "Running UDF...\n",
      "[========================================] 100%\n",
      "\n",
      "Labeled split 0: (8272,30) sparse (nnz = 22537)\n",
      "============================================================\n",
      "LF Summary Statistics: 30 LFs applied to 8272 candidates\n",
      "------------------------------------------------------------\n",
      "Coverage (candidates w/ > 0 labels):\t\t94.09%\n",
      "Overlap (candidates w/ > 1 labels):\t\t76.32%\n",
      "Conflict (candidates w/ conflicting labels):\t54.58%\n",
      "Redundancy (labels per candidate (avg)):\t2.7\n",
      "============================================================\n",
      "Clearing existing...\n",
      "Running UDF...\n",
      "[========================================] 100%\n",
      "\n",
      "Labeled split 1: (888,30) sparse (nnz = 2398)\n",
      "============================================================\n",
      "LF Summary Statistics: 30 LFs applied to 888 candidates\n",
      "------------------------------------------------------------\n",
      "Coverage (candidates w/ > 0 labels):\t\t90.43%\n",
      "Overlap (candidates w/ > 1 labels):\t\t75.00%\n",
      "Conflict (candidates w/ conflicting labels):\t53.15%\n",
      "Redundancy (labels per candidate (avg)):\t2.7\n",
      "============================================================\n",
      "CPU times: user 54.2 s, sys: 337 ms, total: 54.5 s\n",
      "Wall time: 54.4 s\n"
     ]
    }
   ],
   "source": [
    "%time sm.label()"
   ]
  },
  {
   "cell_type": "code",
   "execution_count": 7,
   "metadata": {
    "collapsed": false,
    "scrolled": false
   },
   "outputs": [
    {
     "name": "stdout",
     "output_type": "stream",
     "text": [
      "Saved 8272 training marginals\n",
      "CPU times: user 5.01 s, sys: 116 ms, total: 5.12 s\n",
      "Wall time: 5.13 s\n"
     ]
    }
   ],
   "source": [
    "%time sm.supervise()"
   ]
  },
  {
   "cell_type": "code",
   "execution_count": 5,
   "metadata": {
    "collapsed": false,
    "scrolled": false
   },
   "outputs": [
    {
     "name": "stdout",
     "output_type": "stream",
     "text": [
      "Initialized RandomSearch search of size 10. Search space size = 100.\n",
      "\n",
      "Random Search:\n",
      "============================================================\n",
      "[0] Testing lr = 1.00e-05, l1_penalty = 1.00e-04, l2_penalty = 1.00e-06\n",
      "============================================================\n",
      "[SparseLR] lr=1e-05 l1=0.0001 l2=1e-06\n",
      "[SparseLR] Building model\n",
      "[SparseLR] Training model\n",
      "[SparseLR] #examples=7020  #epochs=50  batch size=100\n",
      "[SparseLR] Epoch 0 (1.94s)\tAvg. loss=0.691511\tNNZ=122840\n",
      "[SparseLR] Epoch 5 (11.10s)\tAvg. loss=0.681090\tNNZ=122840\n",
      "[SparseLR] Epoch 10 (20.73s)\tAvg. loss=0.671647\tNNZ=122840\n",
      "[SparseLR] Epoch 15 (30.60s)\tAvg. loss=0.663085\tNNZ=122840\n",
      "[SparseLR] Epoch 20 (40.01s)\tAvg. loss=0.655240\tNNZ=122840\n",
      "[SparseLR] Epoch 25 (49.62s)\tAvg. loss=0.647981\tNNZ=122840\n",
      "[SparseLR] Epoch 30 (59.10s)\tAvg. loss=0.641209\tNNZ=122840\n",
      "[SparseLR] Epoch 35 (68.63s)\tAvg. loss=0.634849\tNNZ=122840\n",
      "[SparseLR] Epoch 40 (78.12s)\tAvg. loss=0.628842\tNNZ=122840\n",
      "[SparseLR] Epoch 45 (87.76s)\tAvg. loss=0.623144\tNNZ=122840\n",
      "[SparseLR] Epoch 49 (95.47s)\tAvg. loss=0.618783\tNNZ=122840\n",
      "[SparseLR] Training done (95.47s)\n",
      "P: 0.470, R: 0.503, F1: 0.486\n",
      "[SparseLR] Model saved. To load, use name\n",
      "\t\tSparseLR_0\n",
      "============================================================\n",
      "[1] Testing lr = 1.00e-02, l1_penalty = 1.00e-02, l2_penalty = 1.00e-05\n",
      "============================================================\n",
      "[SparseLR] lr=0.01 l1=0.01 l2=1e-05\n",
      "[SparseLR] Building model\n",
      "[SparseLR] Training model\n",
      "[SparseLR] #examples=7020  #epochs=50  batch size=100\n",
      "[SparseLR] Epoch 0 (2.23s)\tAvg. loss=0.700862\tNNZ=122840\n",
      "[SparseLR] Epoch 5 (11.73s)\tAvg. loss=0.627131\tNNZ=122840\n",
      "[SparseLR] Epoch 10 (21.28s)\tAvg. loss=0.619370\tNNZ=122840\n",
      "[SparseLR] Epoch 15 (30.78s)\tAvg. loss=0.617917\tNNZ=122840\n",
      "[SparseLR] Epoch 20 (40.58s)\tAvg. loss=0.615574\tNNZ=122840\n",
      "[SparseLR] Epoch 25 (50.14s)\tAvg. loss=0.615911\tNNZ=122840\n",
      "[SparseLR] Epoch 30 (59.52s)\tAvg. loss=0.615943\tNNZ=122840\n",
      "[SparseLR] Epoch 35 (69.05s)\tAvg. loss=0.615254\tNNZ=122840\n",
      "[SparseLR] Epoch 40 (78.73s)\tAvg. loss=0.615630\tNNZ=122840\n",
      "[SparseLR] Epoch 45 (88.34s)\tAvg. loss=0.615583\tNNZ=122840\n",
      "[SparseLR] Epoch 49 (96.23s)\tAvg. loss=0.615611\tNNZ=122840\n",
      "[SparseLR] Training done (96.23s)\n",
      "P: 0.432, R: 0.662, F1: 0.523\n",
      "[SparseLR] Model saved. To load, use name\n",
      "\t\tSparseLR_1\n",
      "============================================================\n",
      "[2] Testing lr = 1.00e-04, l1_penalty = 1.00e-06, l2_penalty = 1.00e-02\n",
      "============================================================\n",
      "[SparseLR] lr=0.0001 l1=1e-06 l2=0.01\n",
      "[SparseLR] Building model\n",
      "[SparseLR] Training model\n",
      "[SparseLR] #examples=7020  #epochs=50  batch size=100\n",
      "[SparseLR] Epoch 0 (2.00s)\tAvg. loss=0.684423\tNNZ=122840\n",
      "[SparseLR] Epoch 5 (11.66s)\tAvg. loss=0.616632\tNNZ=122840\n",
      "[SparseLR] Epoch 10 (21.21s)\tAvg. loss=0.576536\tNNZ=122840\n",
      "[SparseLR] Epoch 15 (31.17s)\tAvg. loss=0.548126\tNNZ=122840\n",
      "[SparseLR] Epoch 20 (40.51s)\tAvg. loss=0.526696\tNNZ=122840\n",
      "[SparseLR] Epoch 25 (50.35s)\tAvg. loss=0.509894\tNNZ=122840\n",
      "[SparseLR] Epoch 30 (59.84s)\tAvg. loss=0.496347\tNNZ=122840\n",
      "[SparseLR] Epoch 35 (69.58s)\tAvg. loss=0.485190\tNNZ=122840\n",
      "[SparseLR] Epoch 40 (79.33s)\tAvg. loss=0.475850\tNNZ=122840\n",
      "[SparseLR] Epoch 45 (88.72s)\tAvg. loss=0.467931\tNNZ=122840\n",
      "[SparseLR] Epoch 49 (96.26s)\tAvg. loss=0.462425\tNNZ=122840\n",
      "[SparseLR] Training done (96.26s)\n",
      "P: 0.439, R: 0.645, F1: 0.523\n",
      "============================================================\n",
      "[3] Testing lr = 1.00e-05, l1_penalty = 1.00e-06, l2_penalty = 1.00e-03\n",
      "============================================================\n",
      "[SparseLR] lr=1e-05 l1=1e-06 l2=0.001\n",
      "[SparseLR] Building model\n",
      "[SparseLR] Training model\n",
      "[SparseLR] #examples=7020  #epochs=50  batch size=100\n",
      "[SparseLR] Epoch 0 (2.00s)\tAvg. loss=0.690556\tNNZ=122840\n",
      "[SparseLR] Epoch 5 (12.03s)\tAvg. loss=0.680219\tNNZ=122840\n",
      "[SparseLR] Epoch 10 (22.11s)\tAvg. loss=0.670827\tNNZ=122840\n",
      "[SparseLR] Epoch 15 (32.32s)\tAvg. loss=0.662296\tNNZ=122840\n",
      "[SparseLR] Epoch 20 (42.01s)\tAvg. loss=0.654465\tNNZ=122840\n",
      "[SparseLR] Epoch 25 (51.84s)\tAvg. loss=0.647209\tNNZ=122840\n",
      "[SparseLR] Epoch 30 (61.70s)\tAvg. loss=0.640433\tNNZ=122840\n",
      "[SparseLR] Epoch 35 (71.88s)\tAvg. loss=0.634063\tNNZ=122840\n",
      "[SparseLR] Epoch 40 (81.39s)\tAvg. loss=0.628042\tNNZ=122840\n",
      "[SparseLR] Epoch 45 (91.05s)\tAvg. loss=0.622327\tNNZ=122840\n",
      "[SparseLR] Epoch 49 (98.86s)\tAvg. loss=0.617950\tNNZ=122840\n",
      "[SparseLR] Training done (98.86s)\n",
      "P: 0.471, R: 0.493, F1: 0.482\n",
      "============================================================\n",
      "[4] Testing lr = 1.00e-02, l1_penalty = 1.00e-02, l2_penalty = 1.00e-06\n",
      "============================================================\n",
      "[SparseLR] lr=0.01 l1=0.01 l2=1e-06\n",
      "[SparseLR] Building model\n",
      "[SparseLR] Training model\n",
      "[SparseLR] #examples=7020  #epochs=50  batch size=100\n",
      "[SparseLR] Epoch 0 (2.08s)\tAvg. loss=0.702841\tNNZ=122840\n",
      "[SparseLR] Epoch 5 (11.80s)\tAvg. loss=0.629413\tNNZ=122840\n",
      "[SparseLR] Epoch 10 (21.61s)\tAvg. loss=0.622133\tNNZ=122840\n",
      "[SparseLR] Epoch 15 (31.22s)\tAvg. loss=0.620298\tNNZ=122840\n",
      "[SparseLR] Epoch 20 (41.10s)\tAvg. loss=0.618897\tNNZ=122840\n",
      "[SparseLR] Epoch 25 (50.93s)\tAvg. loss=0.619081\tNNZ=122840\n",
      "[SparseLR] Epoch 30 (60.71s)\tAvg. loss=0.618266\tNNZ=122840\n",
      "[SparseLR] Epoch 35 (70.30s)\tAvg. loss=0.618515\tNNZ=122840\n",
      "[SparseLR] Epoch 40 (80.07s)\tAvg. loss=0.618609\tNNZ=122840\n",
      "[SparseLR] Epoch 45 (89.93s)\tAvg. loss=0.618109\tNNZ=122840\n",
      "[SparseLR] Epoch 49 (97.85s)\tAvg. loss=0.618309\tNNZ=122840\n",
      "[SparseLR] Training done (97.85s)\n",
      "P: 0.448, R: 0.642, F1: 0.528\n",
      "[SparseLR] Model saved. To load, use name\n",
      "\t\tSparseLR_4\n",
      "============================================================\n",
      "[5] Testing lr = 1.00e-02, l1_penalty = 1.00e-04, l2_penalty = 1.00e-03\n",
      "============================================================\n",
      "[SparseLR] lr=0.01 l1=0.0001 l2=0.001\n",
      "[SparseLR] Building model\n",
      "[SparseLR] Training model\n",
      "[SparseLR] #examples=7020  #epochs=50  batch size=100\n",
      "[SparseLR] Epoch 0 (2.12s)\tAvg. loss=0.588207\tNNZ=122840\n",
      "[SparseLR] Epoch 5 (11.91s)\tAvg. loss=0.473561\tNNZ=122840\n",
      "[SparseLR] Epoch 10 (21.70s)\tAvg. loss=0.503115\tNNZ=122840\n",
      "[SparseLR] Epoch 15 (31.65s)\tAvg. loss=0.527209\tNNZ=122840\n",
      "[SparseLR] Epoch 20 (41.24s)\tAvg. loss=0.497637\tNNZ=122840\n",
      "[SparseLR] Epoch 25 (51.19s)\tAvg. loss=0.498015\tNNZ=122840\n",
      "[SparseLR] Epoch 30 (60.76s)\tAvg. loss=0.500203\tNNZ=122840\n",
      "[SparseLR] Epoch 35 (70.40s)\tAvg. loss=0.507567\tNNZ=122840\n",
      "[SparseLR] Epoch 40 (80.00s)\tAvg. loss=0.500051\tNNZ=122840\n",
      "[SparseLR] Epoch 45 (89.65s)\tAvg. loss=0.496708\tNNZ=122840\n",
      "[SparseLR] Epoch 49 (97.56s)\tAvg. loss=0.498483\tNNZ=122840\n",
      "[SparseLR] Training done (97.56s)\n",
      "P: 0.487, R: 0.588, F1: 0.533\n",
      "[SparseLR] Model saved. To load, use name\n",
      "\t\tSparseLR_5\n",
      "============================================================\n",
      "[6] Testing lr = 1.00e-02, l1_penalty = 1.00e-05, l2_penalty = 1.00e-06\n",
      "============================================================\n",
      "[SparseLR] lr=0.01 l1=1e-05 l2=1e-06\n",
      "[SparseLR] Building model\n",
      "[SparseLR] Training model\n",
      "[SparseLR] #examples=7020  #epochs=50  batch size=100\n",
      "[SparseLR] Epoch 0 (1.98s)\tAvg. loss=0.592554\tNNZ=122840\n",
      "[SparseLR] Epoch 5 (11.33s)\tAvg. loss=0.466458\tNNZ=122840\n",
      "[SparseLR] Epoch 10 (20.65s)\tAvg. loss=0.480045\tNNZ=122840\n",
      "[SparseLR] Epoch 15 (30.38s)\tAvg. loss=0.523678\tNNZ=122840\n",
      "[SparseLR] Epoch 20 (39.88s)\tAvg. loss=0.524018\tNNZ=122840\n",
      "[SparseLR] Epoch 25 (49.29s)\tAvg. loss=0.479264\tNNZ=122840\n",
      "[SparseLR] Epoch 30 (58.49s)\tAvg. loss=0.471739\tNNZ=122840\n",
      "[SparseLR] Epoch 35 (67.75s)\tAvg. loss=0.489018\tNNZ=122840\n",
      "[SparseLR] Epoch 40 (77.15s)\tAvg. loss=0.508079\tNNZ=122840\n",
      "[SparseLR] Epoch 45 (86.44s)\tAvg. loss=0.519931\tNNZ=122840\n",
      "[SparseLR] Epoch 49 (94.08s)\tAvg. loss=0.502212\tNNZ=122840\n",
      "[SparseLR] Training done (94.08s)\n",
      "P: 0.477, R: 0.595, F1: 0.529\n",
      "============================================================\n",
      "[7] Testing lr = 1.00e-02, l1_penalty = 1.00e-06, l2_penalty = 1.00e-04\n",
      "============================================================\n",
      "[SparseLR] lr=0.01 l1=1e-06 l2=0.0001\n",
      "[SparseLR] Building model\n",
      "[SparseLR] Training model\n",
      "[SparseLR] #examples=7020  #epochs=50  batch size=100\n",
      "[SparseLR] Epoch 0 (2.02s)\tAvg. loss=0.583951\tNNZ=122840\n",
      "[SparseLR] Epoch 5 (11.30s)\tAvg. loss=0.466761\tNNZ=122840\n",
      "[SparseLR] Epoch 10 (20.89s)\tAvg. loss=0.487475\tNNZ=122840\n",
      "[SparseLR] Epoch 15 (30.24s)\tAvg. loss=0.521905\tNNZ=122840\n",
      "[SparseLR] Epoch 20 (39.86s)\tAvg. loss=0.493688\tNNZ=122840\n",
      "[SparseLR] Epoch 25 (49.42s)\tAvg. loss=0.484556\tNNZ=122840\n",
      "[SparseLR] Epoch 30 (58.90s)\tAvg. loss=0.507306\tNNZ=122840\n",
      "[SparseLR] Epoch 35 (68.62s)\tAvg. loss=0.515217\tNNZ=122840\n",
      "[SparseLR] Epoch 40 (78.54s)\tAvg. loss=0.488569\tNNZ=122840\n",
      "[SparseLR] Epoch 45 (87.81s)\tAvg. loss=0.493059\tNNZ=122840\n",
      "[SparseLR] Epoch 49 (95.44s)\tAvg. loss=0.499269\tNNZ=122840\n",
      "[SparseLR] Training done (95.44s)\n",
      "P: 0.510, R: 0.510, F1: 0.510\n",
      "============================================================\n",
      "[8] Testing lr = 1.00e-04, l1_penalty = 1.00e-05, l2_penalty = 1.00e-03\n",
      "============================================================\n",
      "[SparseLR] lr=0.0001 l1=1e-05 l2=0.001\n",
      "[SparseLR] Building model\n",
      "[SparseLR] Training model\n",
      "[SparseLR] #examples=7020  #epochs=50  batch size=100\n",
      "[SparseLR] Epoch 0 (2.07s)\tAvg. loss=0.684019\tNNZ=122840\n",
      "[SparseLR] Epoch 5 (11.68s)\tAvg. loss=0.616594\tNNZ=122840\n",
      "[SparseLR] Epoch 10 (21.64s)\tAvg. loss=0.576421\tNNZ=122840\n",
      "[SparseLR] Epoch 15 (31.24s)\tAvg. loss=0.547640\tNNZ=122840\n",
      "[SparseLR] Epoch 20 (40.89s)\tAvg. loss=0.525666\tNNZ=122840\n",
      "[SparseLR] Epoch 25 (50.53s)\tAvg. loss=0.508222\tNNZ=122840\n",
      "[SparseLR] Epoch 30 (59.94s)\tAvg. loss=0.493973\tNNZ=122840\n",
      "[SparseLR] Epoch 35 (69.60s)\tAvg. loss=0.482080\tNNZ=122840\n",
      "[SparseLR] Epoch 40 (79.20s)\tAvg. loss=0.471985\tNNZ=122840\n",
      "[SparseLR] Epoch 45 (88.92s)\tAvg. loss=0.463306\tNNZ=122840\n",
      "[SparseLR] Epoch 49 (96.41s)\tAvg. loss=0.457193\tNNZ=122840\n",
      "[SparseLR] Training done (96.41s)\n",
      "P: 0.445, R: 0.649, F1: 0.528\n",
      "============================================================\n",
      "[9] Testing lr = 1.00e-02, l1_penalty = 1.00e-05, l2_penalty = 1.00e-06\n",
      "============================================================\n",
      "[SparseLR] lr=0.01 l1=1e-05 l2=1e-06\n",
      "[SparseLR] Building model\n",
      "[SparseLR] Training model\n",
      "[SparseLR] #examples=7020  #epochs=50  batch size=100\n",
      "[SparseLR] Epoch 0 (2.27s)\tAvg. loss=0.585532\tNNZ=122840\n",
      "[SparseLR] Epoch 5 (11.82s)\tAvg. loss=0.459880\tNNZ=122840\n",
      "[SparseLR] Epoch 10 (21.28s)\tAvg. loss=0.489146\tNNZ=122840\n",
      "[SparseLR] Epoch 15 (30.62s)\tAvg. loss=0.534944\tNNZ=122840\n",
      "[SparseLR] Epoch 20 (40.24s)\tAvg. loss=0.492411\tNNZ=122840\n",
      "[SparseLR] Epoch 25 (49.84s)\tAvg. loss=0.480459\tNNZ=122840\n",
      "[SparseLR] Epoch 30 (59.48s)\tAvg. loss=0.493069\tNNZ=122840\n",
      "[SparseLR] Epoch 35 (69.16s)\tAvg. loss=0.502749\tNNZ=122840\n",
      "[SparseLR] Epoch 40 (78.98s)\tAvg. loss=0.499227\tNNZ=122840\n",
      "[SparseLR] Epoch 45 (88.52s)\tAvg. loss=0.490923\tNNZ=122840\n",
      "[SparseLR] Epoch 49 (96.08s)\tAvg. loss=0.488447\tNNZ=122840\n",
      "[SparseLR] Training done (96.08s)\n",
      "P: 0.478, R: 0.547, F1: 0.510\n",
      "[SparseLR] Loaded model <SparseLR_5>\n",
      "        lr  l1_penalty  l2_penalty     Prec.      Rec.        F1\n",
      "5  0.01000    0.000100    0.001000  0.487395  0.587838  0.532925\n",
      "6  0.01000    0.000010    0.000001  0.476965  0.594595  0.529323\n",
      "8  0.00010    0.000010    0.001000  0.445476  0.648649  0.528198\n",
      "4  0.01000    0.010000    0.000001  0.448113  0.641892  0.527778\n",
      "1  0.01000    0.010000    0.000010  0.431718  0.662162  0.522667\n",
      "2  0.00010    0.000001    0.010000  0.439080  0.645270  0.522572\n",
      "9  0.01000    0.000010    0.000001  0.477876  0.547297  0.510236\n",
      "7  0.01000    0.000001    0.000100  0.510135  0.510135  0.510135\n",
      "0  0.00001    0.000100    0.000001  0.470032  0.503378  0.486134\n",
      "3  0.00001    0.000001    0.001000  0.470968  0.493243  0.481848\n",
      "\n",
      "Dev:\n",
      "========================================\n",
      "Scores (Un-adjusted)\n",
      "========================================\n",
      "Pos. class accuracy: 0.588\n",
      "Neg. class accuracy: 0.691\n",
      "Precision            0.487\n",
      "Recall               0.588\n",
      "F1                   0.533\n",
      "----------------------------------------\n",
      "TP: 174 | FP: 183 | TN: 409 | FN: 122\n",
      "========================================\n",
      "\n",
      "\n",
      "Calibration plot:\n"
     ]
    },
    {
     "name": "stderr",
     "output_type": "stream",
     "text": [
      "/Users/bradenjh/anaconda/envs/snorkel/lib/python2.7/site-packages/numpy/core/fromnumeric.py:2889: RuntimeWarning: Mean of empty slice.\n",
      "  out=out, **kwargs)\n",
      "/Users/bradenjh/anaconda/envs/snorkel/lib/python2.7/site-packages/numpy/core/_methods.py:80: RuntimeWarning: invalid value encountered in double_scalars\n",
      "  ret = ret.dtype.type(ret / rcount)\n"
     ]
    },
    {
     "data": {
      "image/png": "[encoded data removed]",
      "text/plain": [
       "<matplotlib.figure.Figure at 0x11ce56c90>"
      ]
     },
     "metadata": {},
     "output_type": "display_data"
    },
    {
     "name": "stdout",
     "output_type": "stream",
     "text": [
      "CPU times: user 21min 7s, sys: 2min 5s, total: 23min 12s\n",
      "Wall time: 16min 30s\n"
     ]
    }
   ],
   "source": [
    "%time sm.classify()"
   ]
  },
  {
   "cell_type": "code",
   "execution_count": 6,
   "metadata": {
    "collapsed": true
   },
   "outputs": [],
   "source": [
    "from snorkel.annotations import load_gold_labels, load_marginals\n",
    "\n",
    "TRAIN = 0\n",
    "DEV = 1\n",
    "TEST = 2\n",
    "\n",
    "L_gold_dev = load_gold_labels(sm.session, annotator_name='gold', split=DEV)\n",
    "L_gold_test = load_gold_labels(sm.session, annotator_name='gold', split=TEST)\n",
    "\n",
    "featurizer = sm.featurizer\n",
    "F_dev =  featurizer.load_matrix(sm.session, split=DEV)\n",
    "F_test =  featurizer.load_matrix(sm.session, split=TEST)\n",
    "\n",
    "train_marginals = load_marginals(sm.session, split=TRAIN)"
   ]
  },
  {
   "cell_type": "code",
   "execution_count": 7,
   "metadata": {
    "collapsed": false
   },
   "outputs": [
    {
     "name": "stdout",
     "output_type": "stream",
     "text": [
      "========================================\n",
      "Scores (Un-adjusted)\n",
      "========================================\n",
      "Pos. class accuracy: 0.588\n",
      "Neg. class accuracy: 0.691\n",
      "Precision            0.487\n",
      "Recall               0.588\n",
      "F1                   0.533\n",
      "----------------------------------------\n",
      "TP: 174 | FP: 183 | TN: 409 | FN: 122\n",
      "========================================\n",
      "\n",
      "\n",
      "Calibration plot:\n"
     ]
    },
    {
     "data": {
      "image/png": "[encoded data removed]",
      "text/plain": [
       "<matplotlib.figure.Figure at 0x124813d10>"
      ]
     },
     "metadata": {},
     "output_type": "display_data"
    },
    {
     "name": "stdout",
     "output_type": "stream",
     "text": [
      "========================================\n",
      "Scores (Un-adjusted)\n",
      "========================================\n",
      "Pos. class accuracy: 0.626\n",
      "Neg. class accuracy: 0.669\n",
      "Precision            0.477\n",
      "Recall               0.626\n",
      "F1                   0.542\n",
      "----------------------------------------\n",
      "TP: 942 | FP: 1032 | TN: 2083 | FN: 563\n",
      "========================================\n",
      "\n",
      "\n",
      "Calibration plot:\n"
     ]
    },
    {
     "data": {
      "image/png": "[encoded data removed]",
      "text/plain": [
       "<matplotlib.figure.Figure at 0x11e7c0e50>"
      ]
     },
     "metadata": {},
     "output_type": "display_data"
    }
   ],
   "source": [
    "TP, FP, TN, FN = sm.model.score(sm.session, F_dev, L_gold_dev, train_marginals=train_marginals)\n",
    "\n",
    "_, _, _, _ = sm.model.score(sm.session, F_test, L_gold_test, train_marginals=train_marginals)"
   ]
  },
  {
   "cell_type": "code",
   "execution_count": null,
   "metadata": {
    "collapsed": true
   },
   "outputs": [],
   "source": []
  }
 ],
 "metadata": {
  "anaconda-cloud": {},
  "kernelspec": {
   "display_name": "Python 2",
   "language": "python",
   "name": "python2"
  },
  "language_info": {
   "codemirror_mode": {
    "name": "ipython",
    "version": 2
   },
   "file_extension": ".py",
   "mimetype": "text/x-python",
   "name": "python",
   "nbconvert_exporter": "python",
   "pygments_lexer": "ipython2",
   "version": "2.7.13"
  }
 },
 "nbformat": 4,
 "nbformat_minor": 1
}
